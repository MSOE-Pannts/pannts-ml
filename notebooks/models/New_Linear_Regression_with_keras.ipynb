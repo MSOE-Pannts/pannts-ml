{
 "cells": [
  {
   "cell_type": "code",
   "execution_count": 224,
   "metadata": {},
   "outputs": [],
   "source": [
    "import pandas as pd\n",
    "import tensorflow as tf\n",
    "import keras as ks\n",
    "import numpy as np\n",
    "import seaborn as sns\n",
    "from keras.layers import Dense, Dropout, Conv2D, Flatten, Activation\n",
    "from keras.models import Sequential\n",
    "\n",
    "from sklearn.linear_model import SGDRegressor\n",
    "from sklearn.metrics import mean_squared_error\n",
    "from sklearn.model_selection import train_test_split\n",
    "from sklearn.preprocessing import StandardScaler\n",
    "from sklearn.impute import SimpleImputer\n",
    "\n",
    "import matplotlib.pylab as plt"
   ]
  },
  {
   "cell_type": "code",
   "execution_count": 225,
   "metadata": {},
   "outputs": [
    {
     "data": {
      "text/html": [
       "<div>\n",
       "<style scoped>\n",
       "    .dataframe tbody tr th:only-of-type {\n",
       "        vertical-align: middle;\n",
       "    }\n",
       "\n",
       "    .dataframe tbody tr th {\n",
       "        vertical-align: top;\n",
       "    }\n",
       "\n",
       "    .dataframe thead th {\n",
       "        text-align: right;\n",
       "    }\n",
       "</style>\n",
       "<table border=\"1\" class=\"dataframe\">\n",
       "  <thead>\n",
       "    <tr style=\"text-align: right;\">\n",
       "      <th></th>\n",
       "      <th>date (mm.dd.yyyy)</th>\n",
       "      <th>Depth [m]</th>\n",
       "      <th>T [deg C]</th>\n",
       "      <th>DO [%]</th>\n",
       "      <th>SPC [micro S/cm]</th>\n",
       "      <th>NH4 [mg/l]</th>\n",
       "      <th>NO3 [mg/l]</th>\n",
       "      <th>PO4 [mg/l]</th>\n",
       "      <th>Chl tot [micro g/l]</th>\n",
       "      <th>Chl cyano [micro g/l]</th>\n",
       "      <th>Chl green Al. [micro g/l]</th>\n",
       "      <th>turb [FTU]</th>\n",
       "      <th>Secci Depth [m]</th>\n",
       "      <th>pH</th>\n",
       "    </tr>\n",
       "  </thead>\n",
       "  <tbody>\n",
       "    <tr>\n",
       "      <th>0</th>\n",
       "      <td>6/1/2016</td>\n",
       "      <td>0.0</td>\n",
       "      <td>20.8</td>\n",
       "      <td>127.3</td>\n",
       "      <td>748</td>\n",
       "      <td>0.877326755</td>\n",
       "      <td>0.162558848</td>\n",
       "      <td>0.012251796</td>\n",
       "      <td>39.8</td>\n",
       "      <td>3.2</td>\n",
       "      <td>36.6</td>\n",
       "      <td>5.1</td>\n",
       "      <td>0.8</td>\n",
       "      <td>8.63</td>\n",
       "    </tr>\n",
       "    <tr>\n",
       "      <th>1</th>\n",
       "      <td>6/1/2016</td>\n",
       "      <td>0.5</td>\n",
       "      <td>20.8</td>\n",
       "      <td>127.0</td>\n",
       "      <td>748</td>\n",
       "      <td>-</td>\n",
       "      <td>-</td>\n",
       "      <td>-</td>\n",
       "      <td>55.4</td>\n",
       "      <td>3.7</td>\n",
       "      <td>51.7</td>\n",
       "      <td>4.8</td>\n",
       "      <td>-</td>\n",
       "      <td>8.65</td>\n",
       "    </tr>\n",
       "    <tr>\n",
       "      <th>2</th>\n",
       "      <td>6/1/2016</td>\n",
       "      <td>1.0</td>\n",
       "      <td>20.4</td>\n",
       "      <td>131.4</td>\n",
       "      <td>756</td>\n",
       "      <td>-</td>\n",
       "      <td>-</td>\n",
       "      <td>-</td>\n",
       "      <td>45.6</td>\n",
       "      <td>3.0</td>\n",
       "      <td>42.6</td>\n",
       "      <td>4.9</td>\n",
       "      <td>-</td>\n",
       "      <td>8.66</td>\n",
       "    </tr>\n",
       "    <tr>\n",
       "      <th>3</th>\n",
       "      <td>6/1/2016</td>\n",
       "      <td>2.0</td>\n",
       "      <td>18.0</td>\n",
       "      <td>85.4</td>\n",
       "      <td>775</td>\n",
       "      <td>-</td>\n",
       "      <td>-</td>\n",
       "      <td>-</td>\n",
       "      <td>41.0</td>\n",
       "      <td>3.9</td>\n",
       "      <td>37.1</td>\n",
       "      <td>5.0</td>\n",
       "      <td>-</td>\n",
       "      <td>8.25</td>\n",
       "    </tr>\n",
       "    <tr>\n",
       "      <th>4</th>\n",
       "      <td>6/1/2016</td>\n",
       "      <td>3.0</td>\n",
       "      <td>15.8</td>\n",
       "      <td>4.0</td>\n",
       "      <td>786</td>\n",
       "      <td>1.050011213</td>\n",
       "      <td>0.270562171</td>\n",
       "      <td>0.031263202</td>\n",
       "      <td>54.6</td>\n",
       "      <td>5.8</td>\n",
       "      <td>48.8</td>\n",
       "      <td>5.8</td>\n",
       "      <td>-</td>\n",
       "      <td>7.89</td>\n",
       "    </tr>\n",
       "  </tbody>\n",
       "</table>\n",
       "</div>"
      ],
      "text/plain": [
       "  date (mm.dd.yyyy)  Depth [m]  T [deg C]  DO [%]  SPC [micro S/cm]  \\\n",
       "0          6/1/2016        0.0       20.8   127.3               748   \n",
       "1          6/1/2016        0.5       20.8   127.0               748   \n",
       "2          6/1/2016        1.0       20.4   131.4               756   \n",
       "3          6/1/2016        2.0       18.0    85.4               775   \n",
       "4          6/1/2016        3.0       15.8     4.0               786   \n",
       "\n",
       "    NH4 [mg/l]   NO3 [mg/l]   PO4 [mg/l]  Chl tot [micro g/l]  \\\n",
       "0  0.877326755  0.162558848  0.012251796                 39.8   \n",
       "1            -            -            -                 55.4   \n",
       "2            -            -            -                 45.6   \n",
       "3            -            -            -                 41.0   \n",
       "4  1.050011213  0.270562171  0.031263202                 54.6   \n",
       "\n",
       "   Chl cyano [micro g/l]  Chl green Al. [micro g/l]  turb [FTU]  \\\n",
       "0                    3.2                       36.6         5.1   \n",
       "1                    3.7                       51.7         4.8   \n",
       "2                    3.0                       42.6         4.9   \n",
       "3                    3.9                       37.1         5.0   \n",
       "4                    5.8                       48.8         5.8   \n",
       "\n",
       "  Secci Depth [m]    pH  \n",
       "0             0.8  8.63  \n",
       "1               -  8.65  \n",
       "2               -  8.66  \n",
       "3               -  8.25  \n",
       "4               -  7.89  "
      ]
     },
     "execution_count": 225,
     "metadata": {},
     "output_type": "execute_result"
    }
   ],
   "source": [
    "dataset = pd.read_csv('../../data/cleaned/site1_malin.csv')\n",
    "dataset.head()"
   ]
  },
  {
   "cell_type": "code",
   "execution_count": 226,
   "metadata": {},
   "outputs": [
    {
     "data": {
      "text/html": [
       "<div>\n",
       "<style scoped>\n",
       "    .dataframe tbody tr th:only-of-type {\n",
       "        vertical-align: middle;\n",
       "    }\n",
       "\n",
       "    .dataframe tbody tr th {\n",
       "        vertical-align: top;\n",
       "    }\n",
       "\n",
       "    .dataframe thead th {\n",
       "        text-align: right;\n",
       "    }\n",
       "</style>\n",
       "<table border=\"1\" class=\"dataframe\">\n",
       "  <thead>\n",
       "    <tr style=\"text-align: right;\">\n",
       "      <th></th>\n",
       "      <th>date (mm.dd.yyyy)</th>\n",
       "      <th>Depth [m]</th>\n",
       "      <th>T [deg C]</th>\n",
       "      <th>DO [%]</th>\n",
       "      <th>SPC [micro S/cm]</th>\n",
       "      <th>Chl tot [micro g/l]</th>\n",
       "      <th>Chl cyano [micro g/l]</th>\n",
       "      <th>Chl green Al. [micro g/l]</th>\n",
       "      <th>turb [FTU]</th>\n",
       "      <th>pH</th>\n",
       "    </tr>\n",
       "  </thead>\n",
       "  <tbody>\n",
       "    <tr>\n",
       "      <th>0</th>\n",
       "      <td>6/1/2016</td>\n",
       "      <td>0.0</td>\n",
       "      <td>20.8</td>\n",
       "      <td>127.3</td>\n",
       "      <td>748</td>\n",
       "      <td>39.8</td>\n",
       "      <td>3.2</td>\n",
       "      <td>36.6</td>\n",
       "      <td>5.1</td>\n",
       "      <td>8.63</td>\n",
       "    </tr>\n",
       "    <tr>\n",
       "      <th>1</th>\n",
       "      <td>6/1/2016</td>\n",
       "      <td>0.5</td>\n",
       "      <td>20.8</td>\n",
       "      <td>127.0</td>\n",
       "      <td>748</td>\n",
       "      <td>55.4</td>\n",
       "      <td>3.7</td>\n",
       "      <td>51.7</td>\n",
       "      <td>4.8</td>\n",
       "      <td>8.65</td>\n",
       "    </tr>\n",
       "    <tr>\n",
       "      <th>2</th>\n",
       "      <td>6/1/2016</td>\n",
       "      <td>1.0</td>\n",
       "      <td>20.4</td>\n",
       "      <td>131.4</td>\n",
       "      <td>756</td>\n",
       "      <td>45.6</td>\n",
       "      <td>3.0</td>\n",
       "      <td>42.6</td>\n",
       "      <td>4.9</td>\n",
       "      <td>8.66</td>\n",
       "    </tr>\n",
       "    <tr>\n",
       "      <th>3</th>\n",
       "      <td>6/1/2016</td>\n",
       "      <td>2.0</td>\n",
       "      <td>18.0</td>\n",
       "      <td>85.4</td>\n",
       "      <td>775</td>\n",
       "      <td>41.0</td>\n",
       "      <td>3.9</td>\n",
       "      <td>37.1</td>\n",
       "      <td>5.0</td>\n",
       "      <td>8.25</td>\n",
       "    </tr>\n",
       "    <tr>\n",
       "      <th>4</th>\n",
       "      <td>6/1/2016</td>\n",
       "      <td>3.0</td>\n",
       "      <td>15.8</td>\n",
       "      <td>4.0</td>\n",
       "      <td>786</td>\n",
       "      <td>54.6</td>\n",
       "      <td>5.8</td>\n",
       "      <td>48.8</td>\n",
       "      <td>5.8</td>\n",
       "      <td>7.89</td>\n",
       "    </tr>\n",
       "  </tbody>\n",
       "</table>\n",
       "</div>"
      ],
      "text/plain": [
       "  date (mm.dd.yyyy)  Depth [m]  T [deg C]  DO [%]  SPC [micro S/cm]  \\\n",
       "0          6/1/2016        0.0       20.8   127.3               748   \n",
       "1          6/1/2016        0.5       20.8   127.0               748   \n",
       "2          6/1/2016        1.0       20.4   131.4               756   \n",
       "3          6/1/2016        2.0       18.0    85.4               775   \n",
       "4          6/1/2016        3.0       15.8     4.0               786   \n",
       "\n",
       "   Chl tot [micro g/l]  Chl cyano [micro g/l]  Chl green Al. [micro g/l]  \\\n",
       "0                 39.8                    3.2                       36.6   \n",
       "1                 55.4                    3.7                       51.7   \n",
       "2                 45.6                    3.0                       42.6   \n",
       "3                 41.0                    3.9                       37.1   \n",
       "4                 54.6                    5.8                       48.8   \n",
       "\n",
       "   turb [FTU]    pH  \n",
       "0         5.1  8.63  \n",
       "1         4.8  8.65  \n",
       "2         4.9  8.66  \n",
       "3         5.0  8.25  \n",
       "4         5.8  7.89  "
      ]
     },
     "execution_count": 226,
     "metadata": {},
     "output_type": "execute_result"
    }
   ],
   "source": [
    "df = dataset.drop(columns=['NH4 [mg/l]', 'NO3 [mg/l]', 'PO4 [mg/l]', 'Secci Depth [m]'])\n",
    "df.head()"
   ]
  },
  {
   "cell_type": "code",
   "execution_count": 227,
   "metadata": {},
   "outputs": [
    {
     "data": {
      "text/plain": [
       "date (mm.dd.yyyy)             object\n",
       "Depth [m]                    float64\n",
       "T [deg C]                    float64\n",
       "DO [%]                       float64\n",
       "SPC [micro S/cm]               int64\n",
       "Chl tot [micro g/l]          float64\n",
       "Chl cyano [micro g/l]        float64\n",
       "Chl green Al. [micro g/l]    float64\n",
       "turb [FTU]                   float64\n",
       "pH                           float64\n",
       "dtype: object"
      ]
     },
     "execution_count": 227,
     "metadata": {},
     "output_type": "execute_result"
    }
   ],
   "source": [
    "df.dtypes"
   ]
  },
  {
   "cell_type": "code",
   "execution_count": 228,
   "metadata": {},
   "outputs": [
    {
     "data": {
      "text/plain": [
       "<matplotlib.axes._subplots.AxesSubplot at 0x7fd1829e4e10>"
      ]
     },
     "execution_count": 228,
     "metadata": {},
     "output_type": "execute_result"
    },
    {
     "data": {
      "image/png": "[encoded data removed]",
      "text/plain": [
       "<matplotlib.figure.Figure at 0x7fd182a408d0>"
      ]
     },
     "metadata": {
      "needs_background": "light"
     },
     "output_type": "display_data"
    }
   ],
   "source": [
    "sns.regplot(x=df['T [deg C]'], y=df['Chl cyano [micro g/l]'], fit_reg=False)"
   ]
  },
  {
   "cell_type": "code",
   "execution_count": 229,
   "metadata": {},
   "outputs": [
    {
     "data": {
      "text/plain": [
       "<matplotlib.axes._subplots.AxesSubplot at 0x7fd182116208>"
      ]
     },
     "execution_count": 229,
     "metadata": {},
     "output_type": "execute_result"
    },
    {
     "data": {
      "image/png": "[encoded data removed]",
      "text/plain": [
       "<matplotlib.figure.Figure at 0x7fd181f32a90>"
      ]
     },
     "metadata": {
      "needs_background": "light"
     },
     "output_type": "display_data"
    }
   ],
   "source": [
    "sns.regplot(x=df['DO [%]'], y=df['Chl cyano [micro g/l]'], fit_reg=False)"
   ]
  },
  {
   "cell_type": "code",
   "execution_count": 230,
   "metadata": {},
   "outputs": [
    {
     "data": {
      "text/plain": [
       "<matplotlib.axes._subplots.AxesSubplot at 0x7fd1829207b8>"
      ]
     },
     "execution_count": 230,
     "metadata": {},
     "output_type": "execute_result"
    },
    {
     "data": {
      "image/png": "[encoded data removed]",
      "text/plain": [
       "<matplotlib.figure.Figure at 0x7fd1829f96a0>"
      ]
     },
     "metadata": {
      "needs_background": "light"
     },
     "output_type": "display_data"
    }
   ],
   "source": [
    "sns.regplot(x=df['SPC [micro S/cm]'], y=df['Chl cyano [micro g/l]'], fit_reg=False)"
   ]
  },
  {
   "cell_type": "code",
   "execution_count": 231,
   "metadata": {},
   "outputs": [
    {
     "data": {
      "text/plain": [
       "<matplotlib.axes._subplots.AxesSubplot at 0x7fd1825370b8>"
      ]
     },
     "execution_count": 231,
     "metadata": {},
     "output_type": "execute_result"
    },
    {
     "data": {
      "image/png": "[encoded data removed]",
      "text/plain": [
       "<matplotlib.figure.Figure at 0x7fd182c24198>"
      ]
     },
     "metadata": {
      "needs_background": "light"
     },
     "output_type": "display_data"
    }
   ],
   "source": [
    "sns.regplot(x=df['Chl tot [micro g/l]'], y=df['Chl cyano [micro g/l]'], fit_reg=False)"
   ]
  },
  {
   "cell_type": "code",
   "execution_count": 232,
   "metadata": {},
   "outputs": [
    {
     "data": {
      "text/plain": [
       "<matplotlib.axes._subplots.AxesSubplot at 0x7fd182a86240>"
      ]
     },
     "execution_count": 232,
     "metadata": {},
     "output_type": "execute_result"
    },
    {
     "data": {
      "image/png": "[encoded data removed]",
      "text/plain": [
       "<matplotlib.figure.Figure at 0x7fd181eac6a0>"
      ]
     },
     "metadata": {
      "needs_background": "light"
     },
     "output_type": "display_data"
    }
   ],
   "source": [
    "sns.regplot(x=df['turb [FTU]'], y=df['Chl cyano [micro g/l]'], fit_reg=False)"
   ]
  },
  {
   "cell_type": "code",
   "execution_count": 233,
   "metadata": {},
   "outputs": [
    {
     "data": {
      "text/plain": [
       "<matplotlib.axes._subplots.AxesSubplot at 0x7fd181e3b7b8>"
      ]
     },
     "execution_count": 233,
     "metadata": {},
     "output_type": "execute_result"
    },
    {
     "data": {
      "image/png": "[encoded data removed]",
      "text/plain": [
       "<matplotlib.figure.Figure at 0x7fd181d9a780>"
      ]
     },
     "metadata": {
      "needs_background": "light"
     },
     "output_type": "display_data"
    }
   ],
   "source": [
    "sns.regplot(x=df['pH'], y=df['Chl cyano [micro g/l]'], fit_reg=False)"
   ]
  },
  {
   "cell_type": "code",
   "execution_count": 234,
   "metadata": {},
   "outputs": [
    {
     "name": "stdout",
     "output_type": "stream",
     "text": [
      "110 82 28\n"
     ]
    }
   ],
   "source": [
    "df_train, df_test = train_test_split(df)\n",
    "print(df.shape[0], df_train.shape[0], df_test.shape[0])"
   ]
  },
  {
   "cell_type": "code",
   "execution_count": 235,
   "metadata": {},
   "outputs": [],
   "source": [
    "y_train = df_train['Chl cyano [micro g/l]'].values\n",
    "y_test = df_test['Chl cyano [micro g/l]'].values"
   ]
  },
  {
   "cell_type": "code",
   "execution_count": 236,
   "metadata": {},
   "outputs": [],
   "source": [
    "columns = ['Depth [m]', 'T [deg C]', 'DO [%]',\n",
    "       'SPC [micro S/cm]', 'Chl tot [micro g/l]',\n",
    "       'Chl green Al. [micro g/l]', 'turb [FTU]', 'pH']"
   ]
  },
  {
   "cell_type": "markdown",
   "metadata": {},
   "source": [
    "### Null Model"
   ]
  },
  {
   "cell_type": "code",
   "execution_count": 237,
   "metadata": {},
   "outputs": [
    {
     "name": "stdout",
     "output_type": "stream",
     "text": [
      "Null Model MSE: 154.263443605\n",
      "Null Model RMSE: 12.4202835557\n"
     ]
    }
   ],
   "source": [
    "zeros_train = np.zeros(df_train.shape)\n",
    "zeros_test = np.zeros(df_test.shape)\n",
    "null_model = SGDRegressor(max_iter=3000)\n",
    "null_model.fit(zeros_train, y_train)\n",
    "predict_chl_test = null_model.predict(zeros_test)\n",
    "null_mse = mean_squared_error(y_test, predict_chl_test)\n",
    "null_rmse = np.sqrt(null_mse)\n",
    "\n",
    "print(\"Null Model MSE:\", null_mse)\n",
    "print(\"Null Model RMSE:\", null_rmse)"
   ]
  },
  {
   "cell_type": "code",
   "execution_count": 238,
   "metadata": {},
   "outputs": [
    {
     "name": "stderr",
     "output_type": "stream",
     "text": [
      "/home/naomi/anaconda3/lib/python3.6/site-packages/sklearn/utils/deprecation.py:58: DeprecationWarning: Class Imputer is deprecated; Imputer was deprecated in version 0.20 and will be removed in 0.22. Import impute.SimpleImputer from sklearn instead.\n",
      "  warnings.warn(msg, category=DeprecationWarning)\n",
      "/home/naomi/anaconda3/lib/python3.6/site-packages/sklearn/utils/deprecation.py:58: DeprecationWarning: Class Imputer is deprecated; Imputer was deprecated in version 0.20 and will be removed in 0.22. Import impute.SimpleImputer from sklearn instead.\n",
      "  warnings.warn(msg, category=DeprecationWarning)\n"
     ]
    },
    {
     "name": "stdout",
     "output_type": "stream",
     "text": [
      "\n",
      "Depth [m] Model MSE: 155.614848318\n",
      "Depth [m] Model RMSE: 12.4745680614\n",
      "\n",
      "T [deg C] Model MSE: 81.5284517966\n",
      "T [deg C] Model RMSE: 9.0293107044\n",
      "\n",
      "DO [%] Model MSE: 139.835937815\n",
      "DO [%] Model RMSE: 11.8252246412\n"
     ]
    },
    {
     "name": "stderr",
     "output_type": "stream",
     "text": [
      "/home/naomi/anaconda3/lib/python3.6/site-packages/sklearn/utils/deprecation.py:58: DeprecationWarning: Class Imputer is deprecated; Imputer was deprecated in version 0.20 and will be removed in 0.22. Import impute.SimpleImputer from sklearn instead.\n",
      "  warnings.warn(msg, category=DeprecationWarning)\n",
      "/home/naomi/anaconda3/lib/python3.6/site-packages/sklearn/utils/deprecation.py:58: DeprecationWarning: Class Imputer is deprecated; Imputer was deprecated in version 0.20 and will be removed in 0.22. Import impute.SimpleImputer from sklearn instead.\n",
      "  warnings.warn(msg, category=DeprecationWarning)\n"
     ]
    },
    {
     "name": "stdout",
     "output_type": "stream",
     "text": [
      "\n",
      "SPC [micro S/cm] Model MSE: 138.347405088\n",
      "SPC [micro S/cm] Model RMSE: 11.7621173727\n",
      "\n",
      "Chl tot [micro g/l] Model MSE: 64.2399054772\n",
      "Chl tot [micro g/l] Model RMSE: 8.01498006718\n"
     ]
    },
    {
     "name": "stderr",
     "output_type": "stream",
     "text": [
      "/home/naomi/anaconda3/lib/python3.6/site-packages/sklearn/utils/deprecation.py:58: DeprecationWarning: Class Imputer is deprecated; Imputer was deprecated in version 0.20 and will be removed in 0.22. Import impute.SimpleImputer from sklearn instead.\n",
      "  warnings.warn(msg, category=DeprecationWarning)\n",
      "/home/naomi/anaconda3/lib/python3.6/site-packages/sklearn/utils/deprecation.py:58: DeprecationWarning: Class Imputer is deprecated; Imputer was deprecated in version 0.20 and will be removed in 0.22. Import impute.SimpleImputer from sklearn instead.\n",
      "  warnings.warn(msg, category=DeprecationWarning)\n"
     ]
    },
    {
     "name": "stdout",
     "output_type": "stream",
     "text": [
      "\n",
      "Chl green Al. [micro g/l] Model MSE: 156.033562969\n",
      "Chl green Al. [micro g/l] Model RMSE: 12.4913395186\n"
     ]
    },
    {
     "name": "stderr",
     "output_type": "stream",
     "text": [
      "/home/naomi/anaconda3/lib/python3.6/site-packages/sklearn/utils/deprecation.py:58: DeprecationWarning: Class Imputer is deprecated; Imputer was deprecated in version 0.20 and will be removed in 0.22. Import impute.SimpleImputer from sklearn instead.\n",
      "  warnings.warn(msg, category=DeprecationWarning)\n"
     ]
    },
    {
     "name": "stdout",
     "output_type": "stream",
     "text": [
      "\n",
      "turb [FTU] Model MSE: 145.371053168\n",
      "turb [FTU] Model RMSE: 12.0569918789\n"
     ]
    },
    {
     "name": "stderr",
     "output_type": "stream",
     "text": [
      "/home/naomi/anaconda3/lib/python3.6/site-packages/sklearn/utils/deprecation.py:58: DeprecationWarning: Class Imputer is deprecated; Imputer was deprecated in version 0.20 and will be removed in 0.22. Import impute.SimpleImputer from sklearn instead.\n",
      "  warnings.warn(msg, category=DeprecationWarning)\n"
     ]
    },
    {
     "name": "stdout",
     "output_type": "stream",
     "text": [
      "\n",
      "pH Model MSE: 102.616801604\n",
      "pH Model RMSE: 10.1299951433\n"
     ]
    }
   ],
   "source": [
    "for column in columns:\n",
    "    x_train = df_train[[column]].values\n",
    "    x_test = df_test[[column]].values\n",
    "    \n",
    "#     Use an imputer to replace any null values with 0 so that they are still counted\n",
    "    imputer = Imputer(missing_values=0)\n",
    "    x_train_imputed = imputer.fit_transform(x_train)\n",
    "    x_test_imputed = imputer.transform(x_test)\n",
    "    \n",
    "#     Use a scaler to normalize the data\n",
    "    scaler = StandardScaler()\n",
    "    x_train_scaled = scaler.fit_transform(x_train_imputed)\n",
    "    x_test_scaled = scaler.transform(x_test_imputed)\n",
    "    \n",
    "    lr = SGDRegressor(max_iter=5000)\n",
    "    lr.fit(x_train_scaled.reshape(-1, 1), y_train)\n",
    "    predict_chl_test = lr.predict(x_test_scaled.reshape(-1, 1))\n",
    "    lr_mse = mean_squared_error(y_test, predict_chl_test)\n",
    "    lr_rmse = np.sqrt(lr_mse)\n",
    "    \n",
    "    print()\n",
    "    print(column + \" Model MSE:\", lr_mse)\n",
    "    print(column + \" Model RMSE:\", lr_rmse)"
   ]
  },
  {
   "cell_type": "code",
   "execution_count": 239,
   "metadata": {},
   "outputs": [],
   "source": [
    "sorted_columns = ['T [deg C]', 'pH', 'SPC [micro S/cm]', 'DO [%]', 'turb [FTU]', 'Depth [m]']\n",
    "all_sorted_columns = ['T [deg C]', 'pH', 'Chl tot [micro g/l]', 'SPC [micro S/cm]', 'DO [%]', 'turb [FTU]', 'Depth [m]', 'Chl green Al. [micro g/l]']"
   ]
  },
  {
   "cell_type": "code",
   "execution_count": 240,
   "metadata": {},
   "outputs": [
    {
     "name": "stdout",
     "output_type": "stream",
     "text": [
      "Null Model MSE: 154.263443605\n",
      "Null Model RMSE: 12.4202835557\n",
      "Base Model MSE: 154.263443605\n",
      "Base Model RMSE: 12.4202835557\n",
      "\n"
     ]
    },
    {
     "name": "stderr",
     "output_type": "stream",
     "text": [
      "/home/naomi/anaconda3/lib/python3.6/site-packages/sklearn/utils/deprecation.py:58: DeprecationWarning: Class Imputer is deprecated; Imputer was deprecated in version 0.20 and will be removed in 0.22. Import impute.SimpleImputer from sklearn instead.\n",
      "  warnings.warn(msg, category=DeprecationWarning)\n"
     ]
    },
    {
     "name": "stdout",
     "output_type": "stream",
     "text": [
      "\n",
      "['T [deg C]'] Model MSE: 81.5825005557\n",
      "['T [deg C]'] Model RMSE: 9.03230317005\n",
      "Updating base model\n",
      "\n",
      "Base Model MSE: 81.5825005557\n",
      "Base Model RMSE: 9.03230317005\n",
      "\n"
     ]
    },
    {
     "name": "stderr",
     "output_type": "stream",
     "text": [
      "/home/naomi/anaconda3/lib/python3.6/site-packages/sklearn/utils/deprecation.py:58: DeprecationWarning: Class Imputer is deprecated; Imputer was deprecated in version 0.20 and will be removed in 0.22. Import impute.SimpleImputer from sklearn instead.\n",
      "  warnings.warn(msg, category=DeprecationWarning)\n"
     ]
    },
    {
     "name": "stdout",
     "output_type": "stream",
     "text": [
      "\n",
      "['T [deg C]', 'pH'] Model MSE: 81.4309277112\n",
      "['T [deg C]', 'pH'] Model RMSE: 9.02390867148\n",
      "Updating base model\n",
      "\n",
      "Base Model MSE: 81.4309277112\n",
      "Base Model RMSE: 9.02390867148\n",
      "\n"
     ]
    },
    {
     "name": "stderr",
     "output_type": "stream",
     "text": [
      "/home/naomi/anaconda3/lib/python3.6/site-packages/sklearn/utils/deprecation.py:58: DeprecationWarning: Class Imputer is deprecated; Imputer was deprecated in version 0.20 and will be removed in 0.22. Import impute.SimpleImputer from sklearn instead.\n",
      "  warnings.warn(msg, category=DeprecationWarning)\n"
     ]
    },
    {
     "name": "stdout",
     "output_type": "stream",
     "text": [
      "\n",
      "['T [deg C]', 'pH', 'SPC [micro S/cm]'] Model MSE: 82.705498789\n",
      "['T [deg C]', 'pH', 'SPC [micro S/cm]'] Model RMSE: 9.09425636262\n",
      "\n",
      "Base Model MSE: 81.4309277112\n",
      "Base Model RMSE: 9.02390867148\n",
      "\n"
     ]
    },
    {
     "name": "stderr",
     "output_type": "stream",
     "text": [
      "/home/naomi/anaconda3/lib/python3.6/site-packages/sklearn/utils/deprecation.py:58: DeprecationWarning: Class Imputer is deprecated; Imputer was deprecated in version 0.20 and will be removed in 0.22. Import impute.SimpleImputer from sklearn instead.\n",
      "  warnings.warn(msg, category=DeprecationWarning)\n"
     ]
    },
    {
     "name": "stdout",
     "output_type": "stream",
     "text": [
      "\n",
      "['T [deg C]', 'pH', 'DO [%]'] Model MSE: 81.3942660009\n",
      "['T [deg C]', 'pH', 'DO [%]'] Model RMSE: 9.02187707747\n",
      "Updating base model\n",
      "\n",
      "Base Model MSE: 81.3942660009\n",
      "Base Model RMSE: 9.02187707747\n",
      "\n"
     ]
    },
    {
     "name": "stderr",
     "output_type": "stream",
     "text": [
      "/home/naomi/anaconda3/lib/python3.6/site-packages/sklearn/utils/deprecation.py:58: DeprecationWarning: Class Imputer is deprecated; Imputer was deprecated in version 0.20 and will be removed in 0.22. Import impute.SimpleImputer from sklearn instead.\n",
      "  warnings.warn(msg, category=DeprecationWarning)\n"
     ]
    },
    {
     "name": "stdout",
     "output_type": "stream",
     "text": [
      "\n",
      "['T [deg C]', 'pH', 'DO [%]', 'turb [FTU]'] Model MSE: 85.6229901945\n",
      "['T [deg C]', 'pH', 'DO [%]', 'turb [FTU]'] Model RMSE: 9.25326916255\n",
      "\n",
      "Base Model MSE: 81.3942660009\n",
      "Base Model RMSE: 9.02187707747\n",
      "\n",
      "\n",
      "['T [deg C]', 'pH', 'DO [%]', 'Depth [m]'] Model MSE: 74.2937751076\n",
      "['T [deg C]', 'pH', 'DO [%]', 'Depth [m]'] Model RMSE: 8.61938368491\n",
      "Updating base model\n",
      "\n"
     ]
    },
    {
     "name": "stderr",
     "output_type": "stream",
     "text": [
      "/home/naomi/anaconda3/lib/python3.6/site-packages/sklearn/utils/deprecation.py:58: DeprecationWarning: Class Imputer is deprecated; Imputer was deprecated in version 0.20 and will be removed in 0.22. Import impute.SimpleImputer from sklearn instead.\n",
      "  warnings.warn(msg, category=DeprecationWarning)\n"
     ]
    }
   ],
   "source": [
    "base_model_columns = []\n",
    "base_model = null_model\n",
    "base_rmse = null_rmse\n",
    "base_mse = null_mse\n",
    "\n",
    "print(\"Null Model MSE:\", null_mse)\n",
    "print(\"Null Model RMSE:\", null_rmse)\n",
    "\n",
    "for column in sorted_columns:\n",
    "    print(\"Base Model MSE:\", base_mse)\n",
    "    print(\"Base Model RMSE:\", base_rmse)\n",
    "    print()\n",
    "    \n",
    "    trial_columns = base_model_columns[:]\n",
    "    trial_columns.append(column)\n",
    "    \n",
    "    x_train = df_train[trial_columns].values\n",
    "    x_test = df_test[trial_columns].values\n",
    "    \n",
    "    imputer = Imputer(missing_values=0)\n",
    "    x_train_imputed = imputer.fit_transform(x_train)\n",
    "    x_test_imputed = imputer.transform(x_test)\n",
    "    \n",
    "    scaler = StandardScaler()\n",
    "    x_train_scaled = scaler.fit_transform(x_train_imputed)\n",
    "    x_test_scaled = scaler.transform(x_test_imputed)\n",
    "    \n",
    "    trial_lr = SGDRegressor(max_iter=5000)\n",
    "    trial_lr.fit(x_train_scaled, y_train)\n",
    "    predict_chl_test = trial_lr.predict(x_test_scaled)\n",
    "    trial_mse = mean_squared_error(y_test, predict_chl_test)\n",
    "    trial_rmse = np.sqrt(trial_mse)\n",
    "    \n",
    "    print()\n",
    "    print(str(trial_columns) + \" Model MSE:\", trial_mse)\n",
    "    print(str(trial_columns) + \" Model RMSE:\", trial_rmse)\n",
    "    \n",
    "    if trial_rmse < base_rmse:\n",
    "        print(\"Updating base model\")\n",
    "        base_rmse = trial_rmse\n",
    "        base_mse = trial_mse\n",
    "        base_model = trial_lr\n",
    "        base_model_columns = trial_columns\n",
    "    print()"
   ]
  },
  {
   "cell_type": "code",
   "execution_count": 241,
   "metadata": {},
   "outputs": [
    {
     "data": {
      "text/plain": [
       "(0, 48.236553278731236)"
      ]
     },
     "execution_count": 241,
     "metadata": {},
     "output_type": "execute_result"
    },
    {
     "data": {
      "image/png": "[encoded data removed]",
      "text/plain": [
       "<matplotlib.figure.Figure at 0x7fd181e34630>"
      ]
     },
     "metadata": {
      "needs_background": "light"
     },
     "output_type": "display_data"
    }
   ],
   "source": [
    "plt.scatter(y_test, predict_chl_test)\n",
    "maximum = max(max(y_test), max(predict_chl_test))\n",
    "plt.plot([0, maximum], [0, maximum])\n",
    "plt.xlabel(\"True Chl\", fontsize=16)\n",
    "plt.ylabel(\"Predicted Chl\", fontsize=16)\n",
    "plt.xlim([0, max(y_test)])\n",
    "plt.ylim([0, max(predict_chl_test)])"
   ]
  },
  {
   "cell_type": "code",
   "execution_count": null,
   "metadata": {},
   "outputs": [],
   "source": []
  }
 ],
 "metadata": {
  "kernelspec": {
   "display_name": "Python 3",
   "language": "python",
   "name": "python3"
  },
  "language_info": {
   "codemirror_mode": {
    "name": "ipython",
    "version": 3
   },
   "file_extension": ".py",
   "mimetype": "text/x-python",
   "name": "python",
   "nbconvert_exporter": "python",
   "pygments_lexer": "ipython3",
   "version": "3.6.0"
  }
 },
 "nbformat": 4,
 "nbformat_minor": 2
}
