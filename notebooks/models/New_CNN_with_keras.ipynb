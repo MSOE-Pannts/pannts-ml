{
 "cells": [
  {
   "cell_type": "code",
   "execution_count": 1,
   "metadata": {},
   "outputs": [
    {
     "name": "stderr",
     "output_type": "stream",
     "text": [
      "C:\\Users\\mcneelypj\\AppData\\Local\\Continuum\\anaconda3\\lib\\site-packages\\h5py\\__init__.py:36: FutureWarning: Conversion of the second argument of issubdtype from `float` to `np.floating` is deprecated. In future, it will be treated as `np.float64 == np.dtype(float).type`.\n",
      "  from ._conv import register_converters as _register_converters\n",
      "Using TensorFlow backend.\n"
     ]
    }
   ],
   "source": [
    "import pandas as pd\n",
    "import tensorflow as tf\n",
    "import keras as ks\n",
    "import numpy as np\n",
    "from keras.layers import Dense, Dropout, Conv2D, Flatten, Activation,MaxPooling2D\n",
    "from keras.models import Sequential\n",
    "import matplotlib.pylab as plt"
   ]
  },
  {
   "cell_type": "code",
   "execution_count": 23,
   "metadata": {},
   "outputs": [],
   "source": [
    "# Create new variables to be used in Keras and the CNN\n",
    "\n",
    "# number of items to use for training\n",
    "BATCH_SIZE = 5 \n",
    "\n",
    "# Number of identifying classes \n",
    "#   WE have two, Bloom and no bloom 1/0\n",
    "NUM_CLASSES = 2 \n",
    "\n",
    "# number of times to repeat process\n",
    "EPOCHS = 100"
   ]
  },
  {
   "cell_type": "code",
   "execution_count": 3,
   "metadata": {},
   "outputs": [
    {
     "data": {
      "text/html": [
       "<div>\n",
       "<style scoped>\n",
       "    .dataframe tbody tr th:only-of-type {\n",
       "        vertical-align: middle;\n",
       "    }\n",
       "\n",
       "    .dataframe tbody tr th {\n",
       "        vertical-align: top;\n",
       "    }\n",
       "\n",
       "    .dataframe thead th {\n",
       "        text-align: right;\n",
       "    }\n",
       "</style>\n",
       "<table border=\"1\" class=\"dataframe\">\n",
       "  <thead>\n",
       "    <tr style=\"text-align: right;\">\n",
       "      <th></th>\n",
       "      <th>date (mm.dd.yyyy)</th>\n",
       "      <th>Depth [m]</th>\n",
       "      <th>T [deg C]</th>\n",
       "      <th>DO [%]</th>\n",
       "      <th>SPC [micro S/cm]</th>\n",
       "      <th>NH4 [mg/l]</th>\n",
       "      <th>NO3 [mg/l]</th>\n",
       "      <th>PO4 [mg/l]</th>\n",
       "      <th>Chl tot [micro g/l]</th>\n",
       "      <th>Chl cyano [micro g/l]</th>\n",
       "      <th>Chl green Al. [micro g/l]</th>\n",
       "      <th>turb [FTU]</th>\n",
       "      <th>Secci Depth [m]</th>\n",
       "      <th>pH</th>\n",
       "    </tr>\n",
       "  </thead>\n",
       "  <tbody>\n",
       "    <tr>\n",
       "      <th>0</th>\n",
       "      <td>6/1/2016</td>\n",
       "      <td>0.0</td>\n",
       "      <td>20.8</td>\n",
       "      <td>127.3</td>\n",
       "      <td>748</td>\n",
       "      <td>0.877326755</td>\n",
       "      <td>0.162558848</td>\n",
       "      <td>0.012251796</td>\n",
       "      <td>39.8</td>\n",
       "      <td>3.2</td>\n",
       "      <td>36.6</td>\n",
       "      <td>5.1</td>\n",
       "      <td>0.8</td>\n",
       "      <td>8.63</td>\n",
       "    </tr>\n",
       "    <tr>\n",
       "      <th>1</th>\n",
       "      <td>6/1/2016</td>\n",
       "      <td>0.5</td>\n",
       "      <td>20.8</td>\n",
       "      <td>127.0</td>\n",
       "      <td>748</td>\n",
       "      <td>-</td>\n",
       "      <td>-</td>\n",
       "      <td>-</td>\n",
       "      <td>55.4</td>\n",
       "      <td>3.7</td>\n",
       "      <td>51.7</td>\n",
       "      <td>4.8</td>\n",
       "      <td>-</td>\n",
       "      <td>8.65</td>\n",
       "    </tr>\n",
       "    <tr>\n",
       "      <th>2</th>\n",
       "      <td>6/1/2016</td>\n",
       "      <td>1.0</td>\n",
       "      <td>20.4</td>\n",
       "      <td>131.4</td>\n",
       "      <td>756</td>\n",
       "      <td>-</td>\n",
       "      <td>-</td>\n",
       "      <td>-</td>\n",
       "      <td>45.6</td>\n",
       "      <td>3.0</td>\n",
       "      <td>42.6</td>\n",
       "      <td>4.9</td>\n",
       "      <td>-</td>\n",
       "      <td>8.66</td>\n",
       "    </tr>\n",
       "    <tr>\n",
       "      <th>3</th>\n",
       "      <td>6/1/2016</td>\n",
       "      <td>2.0</td>\n",
       "      <td>18.0</td>\n",
       "      <td>85.4</td>\n",
       "      <td>775</td>\n",
       "      <td>-</td>\n",
       "      <td>-</td>\n",
       "      <td>-</td>\n",
       "      <td>41.0</td>\n",
       "      <td>3.9</td>\n",
       "      <td>37.1</td>\n",
       "      <td>5.0</td>\n",
       "      <td>-</td>\n",
       "      <td>8.25</td>\n",
       "    </tr>\n",
       "    <tr>\n",
       "      <th>4</th>\n",
       "      <td>6/1/2016</td>\n",
       "      <td>3.0</td>\n",
       "      <td>15.8</td>\n",
       "      <td>4.0</td>\n",
       "      <td>786</td>\n",
       "      <td>1.050011213</td>\n",
       "      <td>0.270562171</td>\n",
       "      <td>0.031263202</td>\n",
       "      <td>54.6</td>\n",
       "      <td>5.8</td>\n",
       "      <td>48.8</td>\n",
       "      <td>5.8</td>\n",
       "      <td>-</td>\n",
       "      <td>7.89</td>\n",
       "    </tr>\n",
       "  </tbody>\n",
       "</table>\n",
       "</div>"
      ],
      "text/plain": [
       "  date (mm.dd.yyyy)  Depth [m]  T [deg C]  DO [%]  SPC [micro S/cm]  \\\n",
       "0          6/1/2016        0.0       20.8   127.3               748   \n",
       "1          6/1/2016        0.5       20.8   127.0               748   \n",
       "2          6/1/2016        1.0       20.4   131.4               756   \n",
       "3          6/1/2016        2.0       18.0    85.4               775   \n",
       "4          6/1/2016        3.0       15.8     4.0               786   \n",
       "\n",
       "    NH4 [mg/l]   NO3 [mg/l]   PO4 [mg/l]  Chl tot [micro g/l]  \\\n",
       "0  0.877326755  0.162558848  0.012251796                 39.8   \n",
       "1            -            -            -                 55.4   \n",
       "2            -            -            -                 45.6   \n",
       "3            -            -            -                 41.0   \n",
       "4  1.050011213  0.270562171  0.031263202                 54.6   \n",
       "\n",
       "   Chl cyano [micro g/l]  Chl green Al. [micro g/l]  turb [FTU]  \\\n",
       "0                    3.2                       36.6         5.1   \n",
       "1                    3.7                       51.7         4.8   \n",
       "2                    3.0                       42.6         4.9   \n",
       "3                    3.9                       37.1         5.0   \n",
       "4                    5.8                       48.8         5.8   \n",
       "\n",
       "  Secci Depth [m]    pH  \n",
       "0             0.8  8.63  \n",
       "1               -  8.65  \n",
       "2               -  8.66  \n",
       "3               -  8.25  \n",
       "4               -  7.89  "
      ]
     },
     "execution_count": 3,
     "metadata": {},
     "output_type": "execute_result"
    }
   ],
   "source": [
    "\n",
    "# Load the data\n",
    "df = pd.read_csv('../../data/cleaned/site1_malin.csv')\n",
    "df.head()"
   ]
  },
  {
   "cell_type": "code",
   "execution_count": 4,
   "metadata": {},
   "outputs": [
    {
     "data": {
      "text/html": [
       "<div>\n",
       "<style scoped>\n",
       "    .dataframe tbody tr th:only-of-type {\n",
       "        vertical-align: middle;\n",
       "    }\n",
       "\n",
       "    .dataframe tbody tr th {\n",
       "        vertical-align: top;\n",
       "    }\n",
       "\n",
       "    .dataframe thead th {\n",
       "        text-align: right;\n",
       "    }\n",
       "</style>\n",
       "<table border=\"1\" class=\"dataframe\">\n",
       "  <thead>\n",
       "    <tr style=\"text-align: right;\">\n",
       "      <th></th>\n",
       "      <th>date (mm.dd.yyyy)</th>\n",
       "      <th>Depth [m]</th>\n",
       "      <th>T [deg C]</th>\n",
       "      <th>DO [%]</th>\n",
       "      <th>SPC [micro S/cm]</th>\n",
       "      <th>Chl tot [micro g/l]</th>\n",
       "      <th>Chl green Al. [micro g/l]</th>\n",
       "      <th>turb [FTU]</th>\n",
       "      <th>pH</th>\n",
       "      <th>bloom</th>\n",
       "    </tr>\n",
       "  </thead>\n",
       "  <tbody>\n",
       "    <tr>\n",
       "      <th>0</th>\n",
       "      <td>6/1/2016</td>\n",
       "      <td>0.0</td>\n",
       "      <td>20.8</td>\n",
       "      <td>127.3</td>\n",
       "      <td>748</td>\n",
       "      <td>39.8</td>\n",
       "      <td>36.6</td>\n",
       "      <td>5.1</td>\n",
       "      <td>8.63</td>\n",
       "      <td>0</td>\n",
       "    </tr>\n",
       "    <tr>\n",
       "      <th>1</th>\n",
       "      <td>6/1/2016</td>\n",
       "      <td>0.5</td>\n",
       "      <td>20.8</td>\n",
       "      <td>127.0</td>\n",
       "      <td>748</td>\n",
       "      <td>55.4</td>\n",
       "      <td>51.7</td>\n",
       "      <td>4.8</td>\n",
       "      <td>8.65</td>\n",
       "      <td>0</td>\n",
       "    </tr>\n",
       "    <tr>\n",
       "      <th>2</th>\n",
       "      <td>6/1/2016</td>\n",
       "      <td>1.0</td>\n",
       "      <td>20.4</td>\n",
       "      <td>131.4</td>\n",
       "      <td>756</td>\n",
       "      <td>45.6</td>\n",
       "      <td>42.6</td>\n",
       "      <td>4.9</td>\n",
       "      <td>8.66</td>\n",
       "      <td>0</td>\n",
       "    </tr>\n",
       "    <tr>\n",
       "      <th>3</th>\n",
       "      <td>6/1/2016</td>\n",
       "      <td>2.0</td>\n",
       "      <td>18.0</td>\n",
       "      <td>85.4</td>\n",
       "      <td>775</td>\n",
       "      <td>41.0</td>\n",
       "      <td>37.1</td>\n",
       "      <td>5.0</td>\n",
       "      <td>8.25</td>\n",
       "      <td>0</td>\n",
       "    </tr>\n",
       "    <tr>\n",
       "      <th>4</th>\n",
       "      <td>6/1/2016</td>\n",
       "      <td>3.0</td>\n",
       "      <td>15.8</td>\n",
       "      <td>4.0</td>\n",
       "      <td>786</td>\n",
       "      <td>54.6</td>\n",
       "      <td>48.8</td>\n",
       "      <td>5.8</td>\n",
       "      <td>7.89</td>\n",
       "      <td>0</td>\n",
       "    </tr>\n",
       "  </tbody>\n",
       "</table>\n",
       "</div>"
      ],
      "text/plain": [
       "  date (mm.dd.yyyy)  Depth [m]  T [deg C]  DO [%]  SPC [micro S/cm]  \\\n",
       "0          6/1/2016        0.0       20.8   127.3               748   \n",
       "1          6/1/2016        0.5       20.8   127.0               748   \n",
       "2          6/1/2016        1.0       20.4   131.4               756   \n",
       "3          6/1/2016        2.0       18.0    85.4               775   \n",
       "4          6/1/2016        3.0       15.8     4.0               786   \n",
       "\n",
       "   Chl tot [micro g/l]  Chl green Al. [micro g/l]  turb [FTU]    pH  bloom  \n",
       "0                 39.8                       36.6         5.1  8.63      0  \n",
       "1                 55.4                       51.7         4.8  8.65      0  \n",
       "2                 45.6                       42.6         4.9  8.66      0  \n",
       "3                 41.0                       37.1         5.0  8.25      0  \n",
       "4                 54.6                       48.8         5.8  7.89      0  "
      ]
     },
     "execution_count": 4,
     "metadata": {},
     "output_type": "execute_result"
    }
   ],
   "source": [
    "target = df['Chl cyano [micro g/l]'].apply(lambda x : 1 if x > 20 else 0)\n",
    "dataset = df.drop(columns=['NH4 [mg/l]', 'NO3 [mg/l]', 'PO4 [mg/l]', 'Secci Depth [m]','Chl cyano [micro g/l]'])\n",
    "dataset['bloom'] = target\n",
    "dataset.head(5)"
   ]
  },
  {
   "cell_type": "code",
   "execution_count": 5,
   "metadata": {},
   "outputs": [
    {
     "data": {
      "text/plain": [
       "date (mm.dd.yyyy)            float64\n",
       "Depth [m]                    float64\n",
       "T [deg C]                    float64\n",
       "DO [%]                       float64\n",
       "SPC [micro S/cm]               int64\n",
       "Chl tot [micro g/l]          float64\n",
       "Chl green Al. [micro g/l]    float64\n",
       "turb [FTU]                   float64\n",
       "pH                           float64\n",
       "bloom                          int64\n",
       "dtype: object"
      ]
     },
     "execution_count": 5,
     "metadata": {},
     "output_type": "execute_result"
    }
   ],
   "source": [
    "from datetime import datetime\n",
    "\n",
    "dataset['date (mm.dd.yyyy)'] = pd.to_datetime(dataset['date (mm.dd.yyyy)'])\n",
    "\n",
    "#converts the date object to a numerical representation of that object\n",
    "dataset['date (mm.dd.yyyy)'] = (dataset['date (mm.dd.yyyy)'] - dataset['date (mm.dd.yyyy)'].min()) / np.timedelta64(1,'D')\n",
    "dataset.dtypes"
   ]
  },
  {
   "cell_type": "code",
   "execution_count": 6,
   "metadata": {},
   "outputs": [
    {
     "name": "stderr",
     "output_type": "stream",
     "text": [
      "C:\\Users\\mcneelypj\\AppData\\Local\\Continuum\\anaconda3\\lib\\site-packages\\sklearn\\preprocessing\\data.py:323: DataConversionWarning: Data with input dtype int64, float64 were all converted to float64 by MinMaxScaler.\n",
      "  return self.partial_fit(X, y)\n"
     ]
    },
    {
     "data": {
      "text/html": [
       "<div>\n",
       "<style scoped>\n",
       "    .dataframe tbody tr th:only-of-type {\n",
       "        vertical-align: middle;\n",
       "    }\n",
       "\n",
       "    .dataframe tbody tr th {\n",
       "        vertical-align: top;\n",
       "    }\n",
       "\n",
       "    .dataframe thead th {\n",
       "        text-align: right;\n",
       "    }\n",
       "</style>\n",
       "<table border=\"1\" class=\"dataframe\">\n",
       "  <thead>\n",
       "    <tr style=\"text-align: right;\">\n",
       "      <th></th>\n",
       "      <th>date (mm.dd.yyyy)</th>\n",
       "      <th>Depth [m]</th>\n",
       "      <th>T [deg C]</th>\n",
       "      <th>DO [%]</th>\n",
       "      <th>SPC [micro S/cm]</th>\n",
       "      <th>Chl tot [micro g/l]</th>\n",
       "      <th>Chl green Al. [micro g/l]</th>\n",
       "      <th>turb [FTU]</th>\n",
       "      <th>pH</th>\n",
       "      <th>bloom</th>\n",
       "    </tr>\n",
       "  </thead>\n",
       "  <tbody>\n",
       "    <tr>\n",
       "      <th>count</th>\n",
       "      <td>110.000000</td>\n",
       "      <td>110.000000</td>\n",
       "      <td>110.000000</td>\n",
       "      <td>110.000000</td>\n",
       "      <td>110.000000</td>\n",
       "      <td>110.000000</td>\n",
       "      <td>110.000000</td>\n",
       "      <td>110.000000</td>\n",
       "      <td>110.000000</td>\n",
       "      <td>110.000000</td>\n",
       "    </tr>\n",
       "    <tr>\n",
       "      <th>mean</th>\n",
       "      <td>0.500000</td>\n",
       "      <td>0.433333</td>\n",
       "      <td>0.630545</td>\n",
       "      <td>0.577551</td>\n",
       "      <td>0.402597</td>\n",
       "      <td>0.332460</td>\n",
       "      <td>0.260335</td>\n",
       "      <td>0.137371</td>\n",
       "      <td>0.483394</td>\n",
       "      <td>0.300000</td>\n",
       "    </tr>\n",
       "    <tr>\n",
       "      <th>std</th>\n",
       "      <td>0.303492</td>\n",
       "      <td>0.360654</td>\n",
       "      <td>0.249957</td>\n",
       "      <td>0.205032</td>\n",
       "      <td>0.206691</td>\n",
       "      <td>0.190768</td>\n",
       "      <td>0.212422</td>\n",
       "      <td>0.176529</td>\n",
       "      <td>0.211168</td>\n",
       "      <td>0.460355</td>\n",
       "    </tr>\n",
       "    <tr>\n",
       "      <th>min</th>\n",
       "      <td>0.000000</td>\n",
       "      <td>0.000000</td>\n",
       "      <td>0.000000</td>\n",
       "      <td>0.000000</td>\n",
       "      <td>0.000000</td>\n",
       "      <td>0.000000</td>\n",
       "      <td>0.000000</td>\n",
       "      <td>0.000000</td>\n",
       "      <td>0.000000</td>\n",
       "      <td>0.000000</td>\n",
       "    </tr>\n",
       "    <tr>\n",
       "      <th>25%</th>\n",
       "      <td>0.238095</td>\n",
       "      <td>0.166667</td>\n",
       "      <td>0.556667</td>\n",
       "      <td>0.526077</td>\n",
       "      <td>0.219780</td>\n",
       "      <td>0.219836</td>\n",
       "      <td>0.107899</td>\n",
       "      <td>0.034502</td>\n",
       "      <td>0.316667</td>\n",
       "      <td>0.000000</td>\n",
       "    </tr>\n",
       "    <tr>\n",
       "      <th>50%</th>\n",
       "      <td>0.500000</td>\n",
       "      <td>0.333333</td>\n",
       "      <td>0.713333</td>\n",
       "      <td>0.590703</td>\n",
       "      <td>0.357143</td>\n",
       "      <td>0.279141</td>\n",
       "      <td>0.192182</td>\n",
       "      <td>0.059955</td>\n",
       "      <td>0.460000</td>\n",
       "      <td>0.000000</td>\n",
       "    </tr>\n",
       "    <tr>\n",
       "      <th>75%</th>\n",
       "      <td>0.761905</td>\n",
       "      <td>0.666667</td>\n",
       "      <td>0.771667</td>\n",
       "      <td>0.670068</td>\n",
       "      <td>0.571429</td>\n",
       "      <td>0.374233</td>\n",
       "      <td>0.333062</td>\n",
       "      <td>0.160633</td>\n",
       "      <td>0.680000</td>\n",
       "      <td>1.000000</td>\n",
       "    </tr>\n",
       "    <tr>\n",
       "      <th>max</th>\n",
       "      <td>1.000000</td>\n",
       "      <td>1.000000</td>\n",
       "      <td>1.000000</td>\n",
       "      <td>1.000000</td>\n",
       "      <td>1.000000</td>\n",
       "      <td>1.000000</td>\n",
       "      <td>1.000000</td>\n",
       "      <td>1.000000</td>\n",
       "      <td>1.000000</td>\n",
       "      <td>1.000000</td>\n",
       "    </tr>\n",
       "  </tbody>\n",
       "</table>\n",
       "</div>"
      ],
      "text/plain": [
       "       date (mm.dd.yyyy)   Depth [m]   T [deg C]      DO [%]  \\\n",
       "count         110.000000  110.000000  110.000000  110.000000   \n",
       "mean            0.500000    0.433333    0.630545    0.577551   \n",
       "std             0.303492    0.360654    0.249957    0.205032   \n",
       "min             0.000000    0.000000    0.000000    0.000000   \n",
       "25%             0.238095    0.166667    0.556667    0.526077   \n",
       "50%             0.500000    0.333333    0.713333    0.590703   \n",
       "75%             0.761905    0.666667    0.771667    0.670068   \n",
       "max             1.000000    1.000000    1.000000    1.000000   \n",
       "\n",
       "       SPC [micro S/cm]   Chl tot [micro g/l]  Chl green Al. [micro g/l]  \\\n",
       "count         110.000000           110.000000                 110.000000   \n",
       "mean            0.402597             0.332460                   0.260335   \n",
       "std             0.206691             0.190768                   0.212422   \n",
       "min             0.000000             0.000000                   0.000000   \n",
       "25%             0.219780             0.219836                   0.107899   \n",
       "50%             0.357143             0.279141                   0.192182   \n",
       "75%             0.571429             0.374233                   0.333062   \n",
       "max             1.000000             1.000000                   1.000000   \n",
       "\n",
       "       turb [FTU]         pH        bloom  \n",
       "count  110.000000  110.000000  110.000000  \n",
       "mean     0.137371    0.483394    0.300000  \n",
       "std      0.176529    0.211168    0.460355  \n",
       "min      0.000000    0.000000    0.000000  \n",
       "25%      0.034502    0.316667    0.000000  \n",
       "50%      0.059955    0.460000    0.000000  \n",
       "75%      0.160633    0.680000    1.000000  \n",
       "max      1.000000    1.000000    1.000000  "
      ]
     },
     "execution_count": 6,
     "metadata": {},
     "output_type": "execute_result"
    }
   ],
   "source": [
    "# lets try to normalize this now....\n",
    "from sklearn.preprocessing import MinMaxScaler\n",
    "dataset_columns = ['date (mm.dd.yyyy)','Depth [m]','T [deg C]', 'DO [%]','SPC [micro S/cm] ',\n",
    "'Chl tot [micro g/l]','Chl green Al. [micro g/l]', 'turb [FTU]','pH ','bloom']\n",
    "scaler = MinMaxScaler()\n",
    "ds_scaled = scaler.fit_transform(dataset)\n",
    "dataset = pd.DataFrame(ds_scaled,columns=dataset_columns)\n",
    "dataset.describe()\n"
   ]
  },
  {
   "cell_type": "markdown",
   "metadata": {},
   "source": [
    "# Functions to take a moving window of the data of 10 time stamps"
   ]
  },
  {
   "cell_type": "code",
   "execution_count": 7,
   "metadata": {},
   "outputs": [],
   "source": [
    "'''\n",
    "determines the window size for the daata set\n",
    "@param dataset - The dataset to get windows for\n",
    "@param window_size - the size of the window  \n",
    "@param shift - the amout to shift the window\n",
    "'''\n",
    "def windows(dataset, window_size, shift):\n",
    "    start = 0\n",
    "    while start+window_size < dataset.shape[0]: \n",
    "        yield (int(start), int(start+window_size))\n",
    "        # shift the window five blocks of time\n",
    "        start += shift\n",
    "        if start % 5 == 0:\n",
    "            print('Window Segmentation {0:.2f}% done'.format(((start+window_size) / dataset.shape[0]) * 100 ))\n",
    "\n",
    "\n",
    "'''\n",
    "\n",
    "Segments the dataset based on the parameters that are passed in.\n",
    "@param dataset - the dataset to segment into window\n",
    "@param columns - the array of columns from the dataset to be looked at\n",
    "@param window_size - the size of the window you would like to be looked at. Defualt is 10\n",
    "\n",
    "'''\n",
    "def segment_dataset(dataset, columns, target, window_size=10):    \n",
    "    print('WINDOW SIZE',window_size)\n",
    "    print('NUMBER OF COULUMNS',len(columns))\n",
    "    segments = np.empty((0, window_size, len(columns)))\n",
    "    labels = np.empty((0))\n",
    "    count = 0\n",
    "    for (start, end) in windows(dataset, window_size, 1):\n",
    "        count+=1\n",
    "        values = dataset[columns][start:end]\n",
    "        if(values.shape[0] == window_size):\n",
    "            segments = np.vstack([segments, np.stack([values])])\n",
    "            # Takes the larger of the two variables if there are more than one. \n",
    "            # This makes it more likly to predict a bloom. Can be changed to iloc[0] to\n",
    "            # be less likly to predict a bloom (more 0s in the label array)\n",
    "            \n",
    "            labels = np.append(labels, dataset[target][start:end].mode().iloc[-1])\n",
    "        else:\n",
    "            print(\"No more Windows available... Exiting\")\n",
    "            break\n",
    "    return (segments, labels)"
   ]
  },
  {
   "cell_type": "code",
   "execution_count": 8,
   "metadata": {},
   "outputs": [
    {
     "name": "stdout",
     "output_type": "stream",
     "text": [
      "WINDOW SIZE 9\n",
      "NUMBER OF COULUMNS 9\n",
      "Window Segmentation 12.73% done\n",
      "Window Segmentation 17.27% done\n",
      "Window Segmentation 21.82% done\n",
      "Window Segmentation 26.36% done\n",
      "Window Segmentation 30.91% done\n",
      "Window Segmentation 35.45% done\n",
      "Window Segmentation 40.00% done\n",
      "Window Segmentation 44.55% done\n",
      "Window Segmentation 49.09% done\n",
      "Window Segmentation 53.64% done\n",
      "Window Segmentation 58.18% done\n",
      "Window Segmentation 62.73% done\n",
      "Window Segmentation 67.27% done\n",
      "Window Segmentation 71.82% done\n",
      "Window Segmentation 76.36% done\n",
      "Window Segmentation 80.91% done\n",
      "Window Segmentation 85.45% done\n",
      "Window Segmentation 90.00% done\n",
      "Window Segmentation 94.55% done\n",
      "Window Segmentation 99.09% done\n",
      "done\n"
     ]
    }
   ],
   "source": [
    "feature_columns = dataset_columns[:-1]\n",
    "(segments, labels) = segment_dataset(dataset, feature_columns, 'bloom', 9)\n",
    "print('done')"
   ]
  },
  {
   "cell_type": "code",
   "execution_count": 9,
   "metadata": {},
   "outputs": [
    {
     "data": {
      "text/plain": [
       "(101, 9, 9)"
      ]
     },
     "execution_count": 9,
     "metadata": {},
     "output_type": "execute_result"
    }
   ],
   "source": [
    "segments.shape"
   ]
  },
  {
   "cell_type": "code",
   "execution_count": 10,
   "metadata": {},
   "outputs": [
    {
     "data": {
      "text/plain": [
       "(101,)"
      ]
     },
     "execution_count": 10,
     "metadata": {},
     "output_type": "execute_result"
    }
   ],
   "source": [
    "labels.shape"
   ]
  },
  {
   "cell_type": "code",
   "execution_count": 11,
   "metadata": {},
   "outputs": [
    {
     "data": {
      "text/plain": [
       "array([0., 0., 0., 0., 0., 0., 0., 0., 0., 0., 0., 0., 0., 0., 0., 0., 0.,\n",
       "       0., 0., 0., 0., 0., 0., 0., 0., 0., 0., 0., 0., 0., 0., 0., 0., 0.,\n",
       "       0., 0., 0., 1., 1., 1., 1., 1., 1., 1., 1., 1., 1., 0., 0., 0., 0.,\n",
       "       0., 0., 0., 0., 0., 0., 0., 0., 0., 0., 0., 0., 0., 0., 0., 0., 0.,\n",
       "       0., 0., 0., 0., 0., 0., 0., 0., 0., 0., 0., 0., 0., 0., 0., 0., 0.,\n",
       "       0., 0., 1., 1., 1., 1., 1., 1., 1., 1., 1., 1., 1., 1., 1., 1.])"
      ]
     },
     "execution_count": 11,
     "metadata": {},
     "output_type": "execute_result"
    }
   ],
   "source": [
    "labels"
   ]
  },
  {
   "cell_type": "markdown",
   "metadata": {},
   "source": [
    "# Shaping the data to be used in the model."
   ]
  },
  {
   "cell_type": "code",
   "execution_count": 12,
   "metadata": {},
   "outputs": [
    {
     "data": {
      "text/plain": [
       "(101, 9, 9, 1)"
      ]
     },
     "execution_count": 12,
     "metadata": {},
     "output_type": "execute_result"
    }
   ],
   "source": [
    "segments = segments.reshape(len(segments),9,9,1)\n",
    "segments.shape"
   ]
  },
  {
   "cell_type": "code",
   "execution_count": 13,
   "metadata": {},
   "outputs": [
    {
     "data": {
      "image/png": "[encoded data removed]",
      "text/plain": [
       "<Figure size 360x2880 with 101 Axes>"
      ]
     },
     "metadata": {},
     "output_type": "display_data"
    }
   ],
   "source": [
    "#what the heck does this look like now?\n",
    "X = 5\n",
    "y = 40\n",
    "plt.figure(figsize=(X,y))\n",
    "columns = 10\n",
    "for x in range(0, segments.shape[0]):\n",
    "    plt.subplot(len(segments) / columns + 1, columns, x + 1)\n",
    "    plt.imshow(segments[x][0]*255,cmap='gray')\n",
    "#plt.imshow(segments[0][0] * 255, cmap='gray')"
   ]
  },
  {
   "cell_type": "code",
   "execution_count": 14,
   "metadata": {},
   "outputs": [
    {
     "data": {
      "text/plain": [
       "(101,)"
      ]
     },
     "execution_count": 14,
     "metadata": {},
     "output_type": "execute_result"
    }
   ],
   "source": [
    "labels.shape"
   ]
  },
  {
   "cell_type": "code",
   "execution_count": 15,
   "metadata": {},
   "outputs": [
    {
     "data": {
      "text/plain": [
       "(101, 1)"
      ]
     },
     "execution_count": 15,
     "metadata": {},
     "output_type": "execute_result"
    }
   ],
   "source": [
    "labels = labels.reshape(labels.shape[0],1)\n",
    "labels.shape"
   ]
  },
  {
   "cell_type": "markdown",
   "metadata": {},
   "source": [
    "# Breaking apart training and test data"
   ]
  },
  {
   "cell_type": "code",
   "execution_count": 16,
   "metadata": {},
   "outputs": [],
   "source": [
    "from sklearn.model_selection import train_test_split\n",
    "\n",
    "x_train, x_test, y_train, y_test = train_test_split(segments, labels, test_size=0.1, random_state=42)"
   ]
  },
  {
   "cell_type": "code",
   "execution_count": 17,
   "metadata": {},
   "outputs": [
    {
     "name": "stdout",
     "output_type": "stream",
     "text": [
      "x_train shape: (90, 9, 9, 1)\n",
      "x_test shape: (11, 9, 9, 1)\n",
      "y_train shape: (90, 1)\n",
      "y_test shape: (11, 1)\n"
     ]
    }
   ],
   "source": [
    "print(\"x_train shape:\",x_train.shape)\n",
    "print(\"x_test shape:\",x_test.shape)\n",
    "print(\"y_train shape:\",y_train.shape)\n",
    "print(\"y_test shape:\",y_test.shape)"
   ]
  },
  {
   "cell_type": "code",
   "execution_count": 18,
   "metadata": {},
   "outputs": [
    {
     "data": {
      "text/plain": [
       "(9, 9, 1)"
      ]
     },
     "execution_count": 18,
     "metadata": {},
     "output_type": "execute_result"
    }
   ],
   "source": [
    "y_train_mod = ks.utils.to_categorical(y_train, NUM_CLASSES)\n",
    "y_test_mod = ks.utils.to_categorical(y_test, NUM_CLASSES)\n",
    "input_shape= (9,9,1)\n",
    "input_shape"
   ]
  },
  {
   "cell_type": "markdown",
   "metadata": {},
   "source": [
    "# Come on, let's create the model already!"
   ]
  },
  {
   "cell_type": "code",
   "execution_count": 19,
   "metadata": {},
   "outputs": [],
   "source": [
    "#Gets the precision of the different metrics\n",
    "\n",
    "from keras import backend as K\n",
    "\n",
    "def precision(y_true, y_pred):\n",
    "    '''\n",
    "     Calculates the precision, a metric for multi-label classification of\n",
    "     how many selected items are relevant.\n",
    "    '''\n",
    "    true_positives = K.sum(K.round(K.clip(y_true * y_pred, 0, 1)))\n",
    "    predicted_positives = K.sum(K.round(K.clip(y_pred, 0, 1)))\n",
    "    precision = true_positives / (predicted_positives + K.epsilon())\n",
    "    return precision\n",
    "\n",
    "def recall(y_true, y_pred):\n",
    "    \"\"\"\n",
    "     Recall metric.\n",
    "     Only computes a batch-wise average of recall.\n",
    "     Computes the recall, a metric for multi-label classification of\n",
    "     how many relevant items are selected.\n",
    "    \"\"\"\n",
    "    true_positives = K.sum(K.round(K.clip(y_true * y_pred, 0, 1)))\n",
    "    possible_positives = K.sum(K.round(K.clip(y_true, 0, 1)))\n",
    "    recall = true_positives / (possible_positives + K.epsilon())\n",
    "    return recall\n",
    "\n",
    "\n",
    "model = Sequential()\n",
    "model.add(Conv2D(36, (5,5), input_shape=input_shape, activation='relu'))\n",
    "model.add(Conv2D(18, (3,3), activation='relu'))\n",
    "model.add(Conv2D(9, (2,2), activation='relu'))\n",
    "model.add(MaxPooling2D(pool_size=(2, 2)))\n",
    "model.add(Dropout(0.2))\n",
    "model.add(Flatten())\n",
    "model.add(Dense(64))\n",
    "model.add(Dense(32))\n",
    "model.add(Dense(NUM_CLASSES, activation='softmax'))\n",
    "\n",
    "model.compile(loss=ks.losses.categorical_crossentropy,\n",
    "              optimizer=ks.optimizers.Adam(lr=0.01),\n",
    "              metrics=[precision, recall])"
   ]
  },
  {
   "cell_type": "code",
   "execution_count": 20,
   "metadata": {},
   "outputs": [
    {
     "name": "stdout",
     "output_type": "stream",
     "text": [
      "_________________________________________________________________\n",
      "Layer (type)                 Output Shape              Param #   \n",
      "=================================================================\n",
      "conv2d_1 (Conv2D)            (None, 5, 5, 36)          936       \n",
      "_________________________________________________________________\n",
      "conv2d_2 (Conv2D)            (None, 3, 3, 18)          5850      \n",
      "_________________________________________________________________\n",
      "conv2d_3 (Conv2D)            (None, 2, 2, 9)           657       \n",
      "_________________________________________________________________\n",
      "max_pooling2d_1 (MaxPooling2 (None, 1, 1, 9)           0         \n",
      "_________________________________________________________________\n",
      "dropout_1 (Dropout)          (None, 1, 1, 9)           0         \n",
      "_________________________________________________________________\n",
      "flatten_1 (Flatten)          (None, 9)                 0         \n",
      "_________________________________________________________________\n",
      "dense_1 (Dense)              (None, 64)                640       \n",
      "_________________________________________________________________\n",
      "dense_2 (Dense)              (None, 32)                2080      \n",
      "_________________________________________________________________\n",
      "dense_3 (Dense)              (None, 2)                 66        \n",
      "=================================================================\n",
      "Total params: 10,229\n",
      "Trainable params: 10,229\n",
      "Non-trainable params: 0\n",
      "_________________________________________________________________\n"
     ]
    }
   ],
   "source": [
    "model.summary()"
   ]
  },
  {
   "cell_type": "code",
   "execution_count": 24,
   "metadata": {},
   "outputs": [
    {
     "name": "stdout",
     "output_type": "stream",
     "text": [
      "Epoch 1/100\n",
      "90/90 [==============================] - 0s 402us/step - loss: 0.0083 - precision: 1.0000 - recall: 1.0000\n",
      "Epoch 2/100\n",
      "90/90 [==============================] - 0s 424us/step - loss: 0.0062 - precision: 1.0000 - recall: 1.0000\n",
      "Epoch 3/100\n",
      "90/90 [==============================] - 0s 413us/step - loss: 0.0174 - precision: 0.9889 - recall: 0.9889\n",
      "Epoch 4/100\n",
      "90/90 [==============================] - 0s 413us/step - loss: 0.0098 - precision: 1.0000 - recall: 1.0000\n",
      "Epoch 5/100\n",
      "90/90 [==============================] - 0s 424us/step - loss: 0.0190 - precision: 0.9889 - recall: 0.9889\n",
      "Epoch 6/100\n",
      "90/90 [==============================] - 0s 402us/step - loss: 0.0095 - precision: 1.0000 - recall: 1.0000\n",
      "Epoch 7/100\n",
      "90/90 [==============================] - 0s 413us/step - loss: 0.0234 - precision: 0.9889 - recall: 0.9889\n",
      "Epoch 8/100\n",
      "90/90 [==============================] - 0s 458us/step - loss: 0.0034 - precision: 1.0000 - recall: 1.0000\n",
      "Epoch 9/100\n",
      "90/90 [==============================] - 0s 391us/step - loss: 0.0031 - precision: 1.0000 - recall: 1.0000\n",
      "Epoch 10/100\n",
      "90/90 [==============================] - 0s 424us/step - loss: 0.0024 - precision: 1.0000 - recall: 1.0000\n",
      "Epoch 11/100\n",
      "90/90 [==============================] - 0s 391us/step - loss: 0.0046 - precision: 1.0000 - recall: 1.0000\n",
      "Epoch 12/100\n",
      "90/90 [==============================] - 0s 424us/step - loss: 0.0319 - precision: 0.9889 - recall: 0.9889\n",
      "Epoch 13/100\n",
      "90/90 [==============================] - 0s 413us/step - loss: 0.0041 - precision: 1.0000 - recall: 1.0000\n",
      "Epoch 14/100\n",
      "90/90 [==============================] - 0s 402us/step - loss: 0.0506 - precision: 0.9778 - recall: 0.9778\n",
      "Epoch 15/100\n",
      "90/90 [==============================] - 0s 435us/step - loss: 0.0273 - precision: 0.9667 - recall: 0.9667\n",
      "Epoch 16/100\n",
      "90/90 [==============================] - 0s 380us/step - loss: 0.0333 - precision: 0.9556 - recall: 0.9556\n",
      "Epoch 17/100\n",
      "90/90 [==============================] - 0s 402us/step - loss: 0.0090 - precision: 0.9889 - recall: 0.9889\n",
      "Epoch 18/100\n",
      "90/90 [==============================] - 0s 424us/step - loss: 0.0303 - precision: 0.9889 - recall: 0.9889\n",
      "Epoch 19/100\n",
      "90/90 [==============================] - 0s 458us/step - loss: 0.0185 - precision: 1.0000 - recall: 1.0000\n",
      "Epoch 20/100\n",
      "90/90 [==============================] - 0s 391us/step - loss: 0.0050 - precision: 1.0000 - recall: 1.0000\n",
      "Epoch 21/100\n",
      "90/90 [==============================] - 0s 447us/step - loss: 0.0023 - precision: 1.0000 - recall: 1.0000\n",
      "Epoch 22/100\n",
      "90/90 [==============================] - 0s 458us/step - loss: 0.0020 - precision: 1.0000 - recall: 1.0000\n",
      "Epoch 23/100\n",
      "90/90 [==============================] - 0s 413us/step - loss: 4.3366e-04 - precision: 1.0000 - recall: 1.0000\n",
      "Epoch 24/100\n",
      "90/90 [==============================] - 0s 436us/step - loss: 0.0907 - precision: 0.9778 - recall: 0.9778\n",
      "Epoch 25/100\n",
      "90/90 [==============================] - 0s 413us/step - loss: 0.0216 - precision: 0.9889 - recall: 0.9889\n",
      "Epoch 26/100\n",
      "90/90 [==============================] - 0s 413us/step - loss: 0.0402 - precision: 0.9778 - recall: 0.9778\n",
      "Epoch 27/100\n",
      "90/90 [==============================] - 0s 424us/step - loss: 0.0176 - precision: 1.0000 - recall: 1.0000\n",
      "Epoch 28/100\n",
      "90/90 [==============================] - 0s 480us/step - loss: 0.0087 - precision: 1.0000 - recall: 1.0000\n",
      "Epoch 29/100\n",
      "90/90 [==============================] - 0s 458us/step - loss: 0.0019 - precision: 1.0000 - recall: 1.0000\n",
      "Epoch 30/100\n",
      "90/90 [==============================] - 0s 413us/step - loss: 0.0024 - precision: 1.0000 - recall: 1.0000\n",
      "Epoch 31/100\n",
      "90/90 [==============================] - 0s 391us/step - loss: 0.0337 - precision: 0.9889 - recall: 0.9889\n",
      "Epoch 32/100\n",
      "90/90 [==============================] - 0s 491us/step - loss: 0.0089 - precision: 1.0000 - recall: 1.0000\n",
      "Epoch 33/100\n",
      "90/90 [==============================] - 0s 469us/step - loss: 0.0057 - precision: 1.0000 - recall: 1.0000\n",
      "Epoch 34/100\n",
      "90/90 [==============================] - 0s 480us/step - loss: 0.0058 - precision: 1.0000 - recall: 1.0000\n",
      "Epoch 35/100\n",
      "90/90 [==============================] - 0s 436us/step - loss: 0.1806 - precision: 0.9889 - recall: 0.9889\n",
      "Epoch 36/100\n",
      "90/90 [==============================] - 0s 458us/step - loss: 2.0148 - precision: 0.8111 - recall: 0.8111\n",
      "Epoch 37/100\n",
      "90/90 [==============================] - 0s 413us/step - loss: 7.5942 - precision: 0.5222 - recall: 0.5222\n",
      "Epoch 38/100\n",
      "90/90 [==============================] - 0s 469us/step - loss: 12.3572 - precision: 0.2333 - recall: 0.2333\n",
      "Epoch 39/100\n",
      "90/90 [==============================] - 0s 424us/step - loss: 12.3572 - precision: 0.2333 - recall: 0.2333  \n",
      "Epoch 40/100\n",
      "90/90 [==============================] - 0s 436us/step - loss: 12.3572 - precision: 0.2333 - recall: 0.2333  \n",
      "Epoch 41/100\n",
      "90/90 [==============================] - 0s 480us/step - loss: 12.3572 - precision: 0.2333 - recall: 0.2333  \n",
      "Epoch 42/100\n",
      "90/90 [==============================] - 0s 480us/step - loss: 12.3572 - precision: 0.2333 - recall: 0.2333\n",
      "Epoch 43/100\n",
      "90/90 [==============================] - 0s 458us/step - loss: 12.3572 - precision: 0.2333 - recall: 0.2333\n",
      "Epoch 44/100\n",
      "90/90 [==============================] - 0s 491us/step - loss: 12.3572 - precision: 0.2333 - recall: 0.2333\n",
      "Epoch 45/100\n",
      "90/90 [==============================] - 0s 458us/step - loss: 12.3572 - precision: 0.2333 - recall: 0.2333\n",
      "Epoch 46/100\n",
      "90/90 [==============================] - 0s 503us/step - loss: 12.3572 - precision: 0.2333 - recall: 0.2333  \n",
      "Epoch 47/100\n",
      "90/90 [==============================] - 0s 458us/step - loss: 12.3572 - precision: 0.2333 - recall: 0.2333\n",
      "Epoch 48/100\n",
      "90/90 [==============================] - 0s 447us/step - loss: 12.3572 - precision: 0.2333 - recall: 0.2333\n",
      "Epoch 49/100\n",
      "90/90 [==============================] - 0s 469us/step - loss: 12.3572 - precision: 0.2333 - recall: 0.2333\n",
      "Epoch 50/100\n",
      "90/90 [==============================] - 0s 413us/step - loss: 12.3572 - precision: 0.2333 - recall: 0.2333\n",
      "Epoch 51/100\n",
      "90/90 [==============================] - 0s 413us/step - loss: 12.3572 - precision: 0.2333 - recall: 0.2333  \n",
      "Epoch 52/100\n",
      "90/90 [==============================] - 0s 424us/step - loss: 12.3572 - precision: 0.2333 - recall: 0.2333\n",
      "Epoch 53/100\n",
      "90/90 [==============================] - 0s 424us/step - loss: 12.3572 - precision: 0.2333 - recall: 0.2333  \n",
      "Epoch 54/100\n",
      "90/90 [==============================] - 0s 402us/step - loss: 12.3572 - precision: 0.2333 - recall: 0.2333\n",
      "Epoch 55/100\n",
      "90/90 [==============================] - 0s 536us/step - loss: 12.3572 - precision: 0.2333 - recall: 0.2333\n",
      "Epoch 56/100\n",
      "90/90 [==============================] - 0s 469us/step - loss: 12.3572 - precision: 0.2333 - recall: 0.2333\n",
      "Epoch 57/100\n",
      "90/90 [==============================] - 0s 413us/step - loss: 12.3572 - precision: 0.2333 - recall: 0.2333\n",
      "Epoch 58/100\n",
      "90/90 [==============================] - 0s 402us/step - loss: 12.3572 - precision: 0.2333 - recall: 0.2333  \n",
      "Epoch 59/100\n",
      "90/90 [==============================] - 0s 447us/step - loss: 12.3572 - precision: 0.2333 - recall: 0.2333\n",
      "Epoch 60/100\n",
      "90/90 [==============================] - 0s 413us/step - loss: 12.3572 - precision: 0.2333 - recall: 0.2333\n",
      "Epoch 61/100\n",
      "90/90 [==============================] - 0s 458us/step - loss: 12.3572 - precision: 0.2333 - recall: 0.2333  \n",
      "Epoch 62/100\n",
      "90/90 [==============================] - 0s 413us/step - loss: 12.3572 - precision: 0.2333 - recall: 0.2333  \n",
      "Epoch 63/100\n",
      "90/90 [==============================] - 0s 402us/step - loss: 12.3572 - precision: 0.2333 - recall: 0.2333  \n",
      "Epoch 64/100\n",
      "90/90 [==============================] - 0s 447us/step - loss: 12.3572 - precision: 0.2333 - recall: 0.2333  \n",
      "Epoch 65/100\n",
      "90/90 [==============================] - 0s 380us/step - loss: 12.3572 - precision: 0.2333 - recall: 0.2333\n",
      "Epoch 66/100\n",
      "90/90 [==============================] - 0s 413us/step - loss: 12.3572 - precision: 0.2333 - recall: 0.2333\n",
      "Epoch 67/100\n",
      "90/90 [==============================] - 0s 380us/step - loss: 12.3572 - precision: 0.2333 - recall: 0.2333  \n",
      "Epoch 68/100\n"
     ]
    },
    {
     "name": "stdout",
     "output_type": "stream",
     "text": [
      "90/90 [==============================] - 0s 391us/step - loss: 12.3572 - precision: 0.2333 - recall: 0.2333  \n",
      "Epoch 69/100\n",
      "90/90 [==============================] - 0s 469us/step - loss: 12.3572 - precision: 0.2333 - recall: 0.2333  \n",
      "Epoch 70/100\n",
      "90/90 [==============================] - 0s 413us/step - loss: 12.3572 - precision: 0.2333 - recall: 0.2333\n",
      "Epoch 71/100\n",
      "90/90 [==============================] - 0s 369us/step - loss: 12.3572 - precision: 0.2333 - recall: 0.2333  \n",
      "Epoch 72/100\n",
      "90/90 [==============================] - 0s 369us/step - loss: 12.3572 - precision: 0.2333 - recall: 0.2333\n",
      "Epoch 73/100\n",
      "90/90 [==============================] - 0s 369us/step - loss: 12.3572 - precision: 0.2333 - recall: 0.2333\n",
      "Epoch 74/100\n",
      "90/90 [==============================] - 0s 391us/step - loss: 12.3572 - precision: 0.2333 - recall: 0.2333\n",
      "Epoch 75/100\n",
      "90/90 [==============================] - 0s 447us/step - loss: 12.3572 - precision: 0.2333 - recall: 0.2333  \n",
      "Epoch 76/100\n",
      "90/90 [==============================] - 0s 402us/step - loss: 12.3572 - precision: 0.2333 - recall: 0.2333\n",
      "Epoch 77/100\n",
      "90/90 [==============================] - 0s 413us/step - loss: 12.3572 - precision: 0.2333 - recall: 0.2333\n",
      "Epoch 78/100\n",
      "90/90 [==============================] - 0s 402us/step - loss: 12.3572 - precision: 0.2333 - recall: 0.2333  \n",
      "Epoch 79/100\n",
      "90/90 [==============================] - 0s 413us/step - loss: 12.3572 - precision: 0.2333 - recall: 0.2333\n",
      "Epoch 80/100\n",
      "90/90 [==============================] - 0s 413us/step - loss: 12.3572 - precision: 0.2333 - recall: 0.2333  \n",
      "Epoch 81/100\n",
      "90/90 [==============================] - 0s 424us/step - loss: 12.3572 - precision: 0.2333 - recall: 0.2333\n",
      "Epoch 82/100\n",
      "90/90 [==============================] - 0s 447us/step - loss: 12.3572 - precision: 0.2333 - recall: 0.2333  \n",
      "Epoch 83/100\n",
      "90/90 [==============================] - 0s 391us/step - loss: 12.3572 - precision: 0.2333 - recall: 0.2333\n",
      "Epoch 84/100\n",
      "90/90 [==============================] - 0s 380us/step - loss: 12.3572 - precision: 0.2333 - recall: 0.2333  \n",
      "Epoch 85/100\n",
      "90/90 [==============================] - 0s 380us/step - loss: 12.3572 - precision: 0.2333 - recall: 0.2333\n",
      "Epoch 86/100\n",
      "90/90 [==============================] - 0s 391us/step - loss: 12.3572 - precision: 0.2333 - recall: 0.2333  \n",
      "Epoch 87/100\n",
      "90/90 [==============================] - 0s 380us/step - loss: 12.3572 - precision: 0.2333 - recall: 0.2333\n",
      "Epoch 88/100\n",
      "90/90 [==============================] - 0s 402us/step - loss: 12.3572 - precision: 0.2333 - recall: 0.2333\n",
      "Epoch 89/100\n",
      "90/90 [==============================] - 0s 424us/step - loss: 12.3572 - precision: 0.2333 - recall: 0.2333\n",
      "Epoch 90/100\n",
      "90/90 [==============================] - 0s 391us/step - loss: 12.3572 - precision: 0.2333 - recall: 0.2333\n",
      "Epoch 91/100\n",
      "90/90 [==============================] - 0s 424us/step - loss: 12.3572 - precision: 0.2333 - recall: 0.2333\n",
      "Epoch 92/100\n",
      "90/90 [==============================] - 0s 436us/step - loss: 12.3572 - precision: 0.2333 - recall: 0.2333  \n",
      "Epoch 93/100\n",
      "90/90 [==============================] - 0s 402us/step - loss: 12.3572 - precision: 0.2333 - recall: 0.2333\n",
      "Epoch 94/100\n",
      "90/90 [==============================] - 0s 413us/step - loss: 12.3572 - precision: 0.2333 - recall: 0.2333  \n",
      "Epoch 95/100\n",
      "90/90 [==============================] - 0s 436us/step - loss: 12.3572 - precision: 0.2333 - recall: 0.2333\n",
      "Epoch 96/100\n",
      "90/90 [==============================] - 0s 413us/step - loss: 12.3572 - precision: 0.2333 - recall: 0.2333\n",
      "Epoch 97/100\n",
      "90/90 [==============================] - 0s 402us/step - loss: 12.3572 - precision: 0.2333 - recall: 0.2333\n",
      "Epoch 98/100\n",
      "90/90 [==============================] - 0s 424us/step - loss: 12.3572 - precision: 0.2333 - recall: 0.2333\n",
      "Epoch 99/100\n",
      "90/90 [==============================] - 0s 424us/step - loss: 12.3572 - precision: 0.2333 - recall: 0.2333\n",
      "Epoch 100/100\n",
      "90/90 [==============================] - 0s 402us/step - loss: 12.3572 - precision: 0.2333 - recall: 0.2333\n"
     ]
    },
    {
     "data": {
      "text/plain": [
       "<keras.callbacks.History at 0x2084c83b7b8>"
      ]
     },
     "execution_count": 24,
     "metadata": {},
     "output_type": "execute_result"
    }
   ],
   "source": [
    "model.fit(x=x_train, y=y_train_mod, batch_size=BATCH_SIZE, epochs=EPOCHS)"
   ]
  },
  {
   "cell_type": "code",
   "execution_count": 22,
   "metadata": {},
   "outputs": [
    {
     "name": "stdout",
     "output_type": "stream",
     "text": [
      "Loss: 0.006623395373915425 \r\n",
      "Test Precision: 1.0\n"
     ]
    }
   ],
   "source": [
    "# What is our score?\n",
    "score = model.evaluate(x_train, y_train_mod,verbose=0)\n",
    "predictions = model.predict(x_test)\n",
    "print('Loss:',score[0],'\\r\\nTest Precision:',score[1])"
   ]
  }
 ],
 "metadata": {
  "kernelspec": {
   "display_name": "Python 3",
   "language": "python",
   "name": "python3"
  },
  "language_info": {
   "codemirror_mode": {
    "name": "ipython",
    "version": 3
   },
   "file_extension": ".py",
   "mimetype": "text/x-python",
   "name": "python",
   "nbconvert_exporter": "python",
   "pygments_lexer": "ipython3",
   "version": "3.6.5"
  }
 },
 "nbformat": 4,
 "nbformat_minor": 2
}
