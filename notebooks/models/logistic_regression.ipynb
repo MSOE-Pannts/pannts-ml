{
 "cells": [
  {
   "cell_type": "markdown",
   "metadata": {},
   "source": [
    "# Logistic Regression Model"
   ]
  },
  {
   "cell_type": "markdown",
   "metadata": {},
   "source": [
    "## Data Import And Cleaning"
   ]
  },
  {
   "cell_type": "code",
   "execution_count": 1,
   "metadata": {},
   "outputs": [
    {
     "name": "stderr",
     "output_type": "stream",
     "text": [
      "C:\\Users\\mccomackjp\\AppData\\Local\\Continuum\\anaconda3\\lib\\site-packages\\h5py\\__init__.py:36: FutureWarning: Conversion of the second argument of issubdtype from `float` to `np.floating` is deprecated. In future, it will be treated as `np.float64 == np.dtype(float).type`.\n",
      "  from ._conv import register_converters as _register_converters\n",
      "Using TensorFlow backend.\n"
     ]
    }
   ],
   "source": [
    "import pandas as pd\n",
    "import seaborn as sns\n",
    "import matplotlib.pyplot as plt\n",
    "import numpy as np\n",
    "from sklearn.impute import SimpleImputer\n",
    "from sklearn.preprocessing import StandardScaler\n",
    "from sklearn.preprocessing import LabelEncoder\n",
    "from sklearn.linear_model import SGDClassifier\n",
    "from sklearn.ensemble import RandomForestClassifier\n",
    "from sklearn.metrics import recall_score, precision_score, confusion_matrix\n",
    "from sklearn.metrics import roc_curve, auc\n",
    "import scripts.logistic_regression_functions as lrf\n",
    "import scripts.helper_functions as hf"
   ]
  },
  {
   "cell_type": "code",
   "execution_count": 2,
   "metadata": {},
   "outputs": [],
   "source": [
    "train_files = ['../../data/cleaned/utah_2017_vineyard.csv', \n",
    "               '../../data/cleaned/utah_2017_marina.csv',\n",
    "               '../../data/cleaned/utah_2017_bird.csv']\n",
    "\n",
    "test_files = ['../../data/cleaned/utah_2018_vineyard.csv', \n",
    "               '../../data/cleaned/utah_2018_marina.csv',\n",
    "               '../../data/cleaned/utah_2018_bird.csv']\n",
    "\n",
    "drop_columns = ['Chlorophyll ug/L', 'Chlorophyll RFU', 'Wiper Pos V',\n",
    "                'Cable Pwr V', 'Battery V', 'Chlorophyll (ug/L)', 'FDOM RFU']\n",
    "x_columns = ['Temp C', 'Sp Cond (uS/cm)', 'pH (mV)', 'pH', 'Turbidity (NTU)',\n",
    "            'ODOSat%', 'ODO (mg/L)']\n",
    "\n",
    "target_column = 'BGA-Phycocyanin RFU'\n",
    "\n",
    "# TODO Create average off of minor bloom\n",
    "RFU_THRESHOLD = 1.2\n",
    "train_index = 1\n",
    "test_index = 1"
   ]
  },
  {
   "cell_type": "code",
   "execution_count": 3,
   "metadata": {},
   "outputs": [
    {
     "data": {
      "text/html": [
       "<div>\n",
       "<style scoped>\n",
       "    .dataframe tbody tr th:only-of-type {\n",
       "        vertical-align: middle;\n",
       "    }\n",
       "\n",
       "    .dataframe tbody tr th {\n",
       "        vertical-align: top;\n",
       "    }\n",
       "\n",
       "    .dataframe thead th {\n",
       "        text-align: right;\n",
       "    }\n",
       "</style>\n",
       "<table border=\"1\" class=\"dataframe\">\n",
       "  <thead>\n",
       "    <tr style=\"text-align: right;\">\n",
       "      <th></th>\n",
       "      <th>Date (mm.dd.yyyy)</th>\n",
       "      <th>Time 24hr</th>\n",
       "      <th>Temp C</th>\n",
       "      <th>Sp Cond (uS/cm)</th>\n",
       "      <th>pH (mV)</th>\n",
       "      <th>pH</th>\n",
       "      <th>Turbidity (NTU)</th>\n",
       "      <th>ODOSat%</th>\n",
       "      <th>ODO (mg/L)</th>\n",
       "      <th>BGA-Phycocyanin RFU</th>\n",
       "    </tr>\n",
       "  </thead>\n",
       "  <tbody>\n",
       "    <tr>\n",
       "      <th>0</th>\n",
       "      <td>5/5/2017</td>\n",
       "      <td>0:00</td>\n",
       "      <td>15.75</td>\n",
       "      <td>1806</td>\n",
       "      <td>-104.7</td>\n",
       "      <td>8.33</td>\n",
       "      <td>6.41</td>\n",
       "      <td>90.0</td>\n",
       "      <td>8.88</td>\n",
       "      <td>0.2</td>\n",
       "    </tr>\n",
       "    <tr>\n",
       "      <th>1</th>\n",
       "      <td>5/5/2017</td>\n",
       "      <td>0:15</td>\n",
       "      <td>15.74</td>\n",
       "      <td>1808</td>\n",
       "      <td>-104.6</td>\n",
       "      <td>8.33</td>\n",
       "      <td>2.36</td>\n",
       "      <td>89.8</td>\n",
       "      <td>8.87</td>\n",
       "      <td>0.2</td>\n",
       "    </tr>\n",
       "    <tr>\n",
       "      <th>2</th>\n",
       "      <td>5/5/2017</td>\n",
       "      <td>0:30</td>\n",
       "      <td>15.69</td>\n",
       "      <td>1810</td>\n",
       "      <td>-104.5</td>\n",
       "      <td>8.33</td>\n",
       "      <td>7.16</td>\n",
       "      <td>89.6</td>\n",
       "      <td>8.85</td>\n",
       "      <td>0.2</td>\n",
       "    </tr>\n",
       "    <tr>\n",
       "      <th>3</th>\n",
       "      <td>5/5/2017</td>\n",
       "      <td>0:45</td>\n",
       "      <td>15.65</td>\n",
       "      <td>1814</td>\n",
       "      <td>-104.5</td>\n",
       "      <td>8.33</td>\n",
       "      <td>4.96</td>\n",
       "      <td>89.6</td>\n",
       "      <td>8.86</td>\n",
       "      <td>0.3</td>\n",
       "    </tr>\n",
       "    <tr>\n",
       "      <th>4</th>\n",
       "      <td>5/5/2017</td>\n",
       "      <td>1:00</td>\n",
       "      <td>15.63</td>\n",
       "      <td>1821</td>\n",
       "      <td>-104.5</td>\n",
       "      <td>8.33</td>\n",
       "      <td>6.72</td>\n",
       "      <td>89.5</td>\n",
       "      <td>8.86</td>\n",
       "      <td>0.3</td>\n",
       "    </tr>\n",
       "  </tbody>\n",
       "</table>\n",
       "</div>"
      ],
      "text/plain": [
       "  Date (mm.dd.yyyy) Time 24hr  Temp C  Sp Cond (uS/cm)  pH (mV)    pH  \\\n",
       "0          5/5/2017      0:00   15.75             1806   -104.7  8.33   \n",
       "1          5/5/2017      0:15   15.74             1808   -104.6  8.33   \n",
       "2          5/5/2017      0:30   15.69             1810   -104.5  8.33   \n",
       "3          5/5/2017      0:45   15.65             1814   -104.5  8.33   \n",
       "4          5/5/2017      1:00   15.63             1821   -104.5  8.33   \n",
       "\n",
       "   Turbidity (NTU)  ODOSat%  ODO (mg/L)  BGA-Phycocyanin RFU  \n",
       "0             6.41     90.0        8.88                  0.2  \n",
       "1             2.36     89.8        8.87                  0.2  \n",
       "2             7.16     89.6        8.85                  0.2  \n",
       "3             4.96     89.6        8.86                  0.3  \n",
       "4             6.72     89.5        8.86                  0.3  "
      ]
     },
     "execution_count": 3,
     "metadata": {},
     "output_type": "execute_result"
    }
   ],
   "source": [
    "# Load the data\n",
    "train_dfs = lrf.import_df_data(train_files, drop_columns)\n",
    "test_dfs = lrf.import_df_data(test_files, drop_columns)\n",
    "\n",
    "train_dfs[train_index].head()"
   ]
  },
  {
   "cell_type": "code",
   "execution_count": 4,
   "metadata": {},
   "outputs": [
    {
     "data": {
      "text/html": [
       "<div>\n",
       "<style scoped>\n",
       "    .dataframe tbody tr th:only-of-type {\n",
       "        vertical-align: middle;\n",
       "    }\n",
       "\n",
       "    .dataframe tbody tr th {\n",
       "        vertical-align: top;\n",
       "    }\n",
       "\n",
       "    .dataframe thead th {\n",
       "        text-align: right;\n",
       "    }\n",
       "</style>\n",
       "<table border=\"1\" class=\"dataframe\">\n",
       "  <thead>\n",
       "    <tr style=\"text-align: right;\">\n",
       "      <th></th>\n",
       "      <th>Time America/Boise UTC-06:00</th>\n",
       "      <th>Temp C</th>\n",
       "      <th>Sp Cond (uS/cm)</th>\n",
       "      <th>pH (mV)</th>\n",
       "      <th>pH</th>\n",
       "      <th>Turbidity (NTU)</th>\n",
       "      <th>ODOSat%</th>\n",
       "      <th>ODO (mg/L)</th>\n",
       "      <th>BGA-Phycocyanin RFU</th>\n",
       "    </tr>\n",
       "  </thead>\n",
       "  <tbody>\n",
       "    <tr>\n",
       "      <th>0</th>\n",
       "      <td>4/11/2018 10:30</td>\n",
       "      <td>11.88</td>\n",
       "      <td>1782</td>\n",
       "      <td>-146.1</td>\n",
       "      <td>8.20</td>\n",
       "      <td>42.49</td>\n",
       "      <td>89.1</td>\n",
       "      <td>9.58</td>\n",
       "      <td>0.6</td>\n",
       "    </tr>\n",
       "    <tr>\n",
       "      <th>1</th>\n",
       "      <td>4/11/2018 10:45</td>\n",
       "      <td>11.78</td>\n",
       "      <td>1783</td>\n",
       "      <td>-143.7</td>\n",
       "      <td>8.15</td>\n",
       "      <td>42.89</td>\n",
       "      <td>87.4</td>\n",
       "      <td>9.42</td>\n",
       "      <td>0.6</td>\n",
       "    </tr>\n",
       "    <tr>\n",
       "      <th>2</th>\n",
       "      <td>4/11/2018 11:00</td>\n",
       "      <td>11.79</td>\n",
       "      <td>1784</td>\n",
       "      <td>-144.3</td>\n",
       "      <td>8.17</td>\n",
       "      <td>41.24</td>\n",
       "      <td>89.0</td>\n",
       "      <td>9.58</td>\n",
       "      <td>0.7</td>\n",
       "    </tr>\n",
       "    <tr>\n",
       "      <th>3</th>\n",
       "      <td>4/11/2018 11:15</td>\n",
       "      <td>11.66</td>\n",
       "      <td>1783</td>\n",
       "      <td>-143.1</td>\n",
       "      <td>8.14</td>\n",
       "      <td>42.65</td>\n",
       "      <td>87.1</td>\n",
       "      <td>9.41</td>\n",
       "      <td>0.7</td>\n",
       "    </tr>\n",
       "    <tr>\n",
       "      <th>4</th>\n",
       "      <td>4/11/2018 11:30</td>\n",
       "      <td>11.68</td>\n",
       "      <td>1784</td>\n",
       "      <td>-143.5</td>\n",
       "      <td>8.15</td>\n",
       "      <td>42.06</td>\n",
       "      <td>87.5</td>\n",
       "      <td>9.45</td>\n",
       "      <td>0.7</td>\n",
       "    </tr>\n",
       "  </tbody>\n",
       "</table>\n",
       "</div>"
      ],
      "text/plain": [
       "  Time America/Boise UTC-06:00  Temp C  Sp Cond (uS/cm)  pH (mV)    pH  \\\n",
       "0              4/11/2018 10:30   11.88             1782   -146.1  8.20   \n",
       "1              4/11/2018 10:45   11.78             1783   -143.7  8.15   \n",
       "2              4/11/2018 11:00   11.79             1784   -144.3  8.17   \n",
       "3              4/11/2018 11:15   11.66             1783   -143.1  8.14   \n",
       "4              4/11/2018 11:30   11.68             1784   -143.5  8.15   \n",
       "\n",
       "   Turbidity (NTU)  ODOSat%  ODO (mg/L)  BGA-Phycocyanin RFU  \n",
       "0            42.49     89.1        9.58                  0.6  \n",
       "1            42.89     87.4        9.42                  0.6  \n",
       "2            41.24     89.0        9.58                  0.7  \n",
       "3            42.65     87.1        9.41                  0.7  \n",
       "4            42.06     87.5        9.45                  0.7  "
      ]
     },
     "execution_count": 4,
     "metadata": {},
     "output_type": "execute_result"
    }
   ],
   "source": [
    "test_dfs[test_index].head()"
   ]
  },
  {
   "cell_type": "code",
   "execution_count": 5,
   "metadata": {},
   "outputs": [
    {
     "data": {
      "text/html": [
       "<div>\n",
       "<style scoped>\n",
       "    .dataframe tbody tr th:only-of-type {\n",
       "        vertical-align: middle;\n",
       "    }\n",
       "\n",
       "    .dataframe tbody tr th {\n",
       "        vertical-align: top;\n",
       "    }\n",
       "\n",
       "    .dataframe thead th {\n",
       "        text-align: right;\n",
       "    }\n",
       "</style>\n",
       "<table border=\"1\" class=\"dataframe\">\n",
       "  <thead>\n",
       "    <tr style=\"text-align: right;\">\n",
       "      <th></th>\n",
       "      <th>Temp C</th>\n",
       "      <th>Sp Cond (uS/cm)</th>\n",
       "      <th>pH (mV)</th>\n",
       "      <th>pH</th>\n",
       "      <th>Turbidity (NTU)</th>\n",
       "      <th>ODOSat%</th>\n",
       "      <th>ODO (mg/L)</th>\n",
       "      <th>BGA-Phycocyanin RFU</th>\n",
       "    </tr>\n",
       "  </thead>\n",
       "  <tbody>\n",
       "    <tr>\n",
       "      <th>count</th>\n",
       "      <td>17851.000000</td>\n",
       "      <td>17851.000000</td>\n",
       "      <td>17851.000000</td>\n",
       "      <td>17851.000000</td>\n",
       "      <td>17282.000000</td>\n",
       "      <td>17851.000000</td>\n",
       "      <td>17851.000000</td>\n",
       "      <td>17851.000000</td>\n",
       "    </tr>\n",
       "    <tr>\n",
       "      <th>mean</th>\n",
       "      <td>19.084273</td>\n",
       "      <td>1865.934177</td>\n",
       "      <td>-119.627987</td>\n",
       "      <td>8.578680</td>\n",
       "      <td>64.962507</td>\n",
       "      <td>86.837617</td>\n",
       "      <td>8.051712</td>\n",
       "      <td>0.944709</td>\n",
       "    </tr>\n",
       "    <tr>\n",
       "      <th>std</th>\n",
       "      <td>5.620165</td>\n",
       "      <td>214.930180</td>\n",
       "      <td>8.060376</td>\n",
       "      <td>0.136279</td>\n",
       "      <td>52.098506</td>\n",
       "      <td>17.599854</td>\n",
       "      <td>1.539109</td>\n",
       "      <td>0.873847</td>\n",
       "    </tr>\n",
       "    <tr>\n",
       "      <th>min</th>\n",
       "      <td>8.580000</td>\n",
       "      <td>1.000000</td>\n",
       "      <td>-151.100000</td>\n",
       "      <td>7.890000</td>\n",
       "      <td>1.540000</td>\n",
       "      <td>37.200000</td>\n",
       "      <td>3.000000</td>\n",
       "      <td>-0.300000</td>\n",
       "    </tr>\n",
       "    <tr>\n",
       "      <th>25%</th>\n",
       "      <td>13.850000</td>\n",
       "      <td>1780.000000</td>\n",
       "      <td>-124.400000</td>\n",
       "      <td>8.460000</td>\n",
       "      <td>21.057500</td>\n",
       "      <td>79.000000</td>\n",
       "      <td>7.100000</td>\n",
       "      <td>0.500000</td>\n",
       "    </tr>\n",
       "    <tr>\n",
       "      <th>50%</th>\n",
       "      <td>21.110000</td>\n",
       "      <td>1909.000000</td>\n",
       "      <td>-119.200000</td>\n",
       "      <td>8.600000</td>\n",
       "      <td>58.655000</td>\n",
       "      <td>83.100000</td>\n",
       "      <td>8.160000</td>\n",
       "      <td>0.700000</td>\n",
       "    </tr>\n",
       "    <tr>\n",
       "      <th>75%</th>\n",
       "      <td>23.820000</td>\n",
       "      <td>2029.000000</td>\n",
       "      <td>-113.900000</td>\n",
       "      <td>8.670000</td>\n",
       "      <td>87.990000</td>\n",
       "      <td>90.400000</td>\n",
       "      <td>9.090000</td>\n",
       "      <td>1.100000</td>\n",
       "    </tr>\n",
       "    <tr>\n",
       "      <th>max</th>\n",
       "      <td>28.750000</td>\n",
       "      <td>2139.000000</td>\n",
       "      <td>-81.200000</td>\n",
       "      <td>9.080000</td>\n",
       "      <td>418.960000</td>\n",
       "      <td>221.400000</td>\n",
       "      <td>17.540000</td>\n",
       "      <td>13.700000</td>\n",
       "    </tr>\n",
       "  </tbody>\n",
       "</table>\n",
       "</div>"
      ],
      "text/plain": [
       "             Temp C  Sp Cond (uS/cm)       pH (mV)            pH  \\\n",
       "count  17851.000000     17851.000000  17851.000000  17851.000000   \n",
       "mean      19.084273      1865.934177   -119.627987      8.578680   \n",
       "std        5.620165       214.930180      8.060376      0.136279   \n",
       "min        8.580000         1.000000   -151.100000      7.890000   \n",
       "25%       13.850000      1780.000000   -124.400000      8.460000   \n",
       "50%       21.110000      1909.000000   -119.200000      8.600000   \n",
       "75%       23.820000      2029.000000   -113.900000      8.670000   \n",
       "max       28.750000      2139.000000    -81.200000      9.080000   \n",
       "\n",
       "       Turbidity (NTU)       ODOSat%    ODO (mg/L)  BGA-Phycocyanin RFU  \n",
       "count     17282.000000  17851.000000  17851.000000         17851.000000  \n",
       "mean         64.962507     86.837617      8.051712             0.944709  \n",
       "std          52.098506     17.599854      1.539109             0.873847  \n",
       "min           1.540000     37.200000      3.000000            -0.300000  \n",
       "25%          21.057500     79.000000      7.100000             0.500000  \n",
       "50%          58.655000     83.100000      8.160000             0.700000  \n",
       "75%          87.990000     90.400000      9.090000             1.100000  \n",
       "max         418.960000    221.400000     17.540000            13.700000  "
      ]
     },
     "execution_count": 5,
     "metadata": {},
     "output_type": "execute_result"
    }
   ],
   "source": [
    "train_dfs[train_index].describe()"
   ]
  },
  {
   "cell_type": "code",
   "execution_count": 6,
   "metadata": {},
   "outputs": [
    {
     "data": {
      "text/html": [
       "<div>\n",
       "<style scoped>\n",
       "    .dataframe tbody tr th:only-of-type {\n",
       "        vertical-align: middle;\n",
       "    }\n",
       "\n",
       "    .dataframe tbody tr th {\n",
       "        vertical-align: top;\n",
       "    }\n",
       "\n",
       "    .dataframe thead th {\n",
       "        text-align: right;\n",
       "    }\n",
       "</style>\n",
       "<table border=\"1\" class=\"dataframe\">\n",
       "  <thead>\n",
       "    <tr style=\"text-align: right;\">\n",
       "      <th></th>\n",
       "      <th>Temp C</th>\n",
       "      <th>Sp Cond (uS/cm)</th>\n",
       "      <th>pH (mV)</th>\n",
       "      <th>pH</th>\n",
       "      <th>Turbidity (NTU)</th>\n",
       "      <th>ODOSat%</th>\n",
       "      <th>ODO (mg/L)</th>\n",
       "      <th>BGA-Phycocyanin RFU</th>\n",
       "    </tr>\n",
       "  </thead>\n",
       "  <tbody>\n",
       "    <tr>\n",
       "      <th>count</th>\n",
       "      <td>19487.000000</td>\n",
       "      <td>19487.000000</td>\n",
       "      <td>19487.000000</td>\n",
       "      <td>19487.000000</td>\n",
       "      <td>19487.000000</td>\n",
       "      <td>19487.000000</td>\n",
       "      <td>19487.000000</td>\n",
       "      <td>19487.000000</td>\n",
       "    </tr>\n",
       "    <tr>\n",
       "      <th>mean</th>\n",
       "      <td>19.131184</td>\n",
       "      <td>1990.294607</td>\n",
       "      <td>-196.624329</td>\n",
       "      <td>8.922357</td>\n",
       "      <td>63.929067</td>\n",
       "      <td>90.057202</td>\n",
       "      <td>8.309566</td>\n",
       "      <td>1.459773</td>\n",
       "    </tr>\n",
       "    <tr>\n",
       "      <th>std</th>\n",
       "      <td>5.045367</td>\n",
       "      <td>230.743946</td>\n",
       "      <td>27.769024</td>\n",
       "      <td>0.357733</td>\n",
       "      <td>70.885989</td>\n",
       "      <td>17.627283</td>\n",
       "      <td>1.486747</td>\n",
       "      <td>1.311960</td>\n",
       "    </tr>\n",
       "    <tr>\n",
       "      <th>min</th>\n",
       "      <td>0.000000</td>\n",
       "      <td>0.000000</td>\n",
       "      <td>-284.000000</td>\n",
       "      <td>0.000000</td>\n",
       "      <td>-0.880000</td>\n",
       "      <td>0.000000</td>\n",
       "      <td>0.000000</td>\n",
       "      <td>-0.400000</td>\n",
       "    </tr>\n",
       "    <tr>\n",
       "      <th>25%</th>\n",
       "      <td>15.480000</td>\n",
       "      <td>1869.000000</td>\n",
       "      <td>-216.950000</td>\n",
       "      <td>8.730000</td>\n",
       "      <td>33.750000</td>\n",
       "      <td>79.100000</td>\n",
       "      <td>7.280000</td>\n",
       "      <td>0.600000</td>\n",
       "    </tr>\n",
       "    <tr>\n",
       "      <th>50%</th>\n",
       "      <td>20.190000</td>\n",
       "      <td>1958.000000</td>\n",
       "      <td>-192.000000</td>\n",
       "      <td>8.920000</td>\n",
       "      <td>48.380000</td>\n",
       "      <td>85.300000</td>\n",
       "      <td>8.010000</td>\n",
       "      <td>1.000000</td>\n",
       "    </tr>\n",
       "    <tr>\n",
       "      <th>75%</th>\n",
       "      <td>23.070000</td>\n",
       "      <td>2149.000000</td>\n",
       "      <td>-179.500000</td>\n",
       "      <td>9.100000</td>\n",
       "      <td>68.275000</td>\n",
       "      <td>95.300000</td>\n",
       "      <td>9.240000</td>\n",
       "      <td>1.700000</td>\n",
       "    </tr>\n",
       "    <tr>\n",
       "      <th>max</th>\n",
       "      <td>28.600000</td>\n",
       "      <td>2417.000000</td>\n",
       "      <td>0.000000</td>\n",
       "      <td>10.100000</td>\n",
       "      <td>1248.920000</td>\n",
       "      <td>245.500000</td>\n",
       "      <td>19.590000</td>\n",
       "      <td>21.100000</td>\n",
       "    </tr>\n",
       "  </tbody>\n",
       "</table>\n",
       "</div>"
      ],
      "text/plain": [
       "             Temp C  Sp Cond (uS/cm)       pH (mV)            pH  \\\n",
       "count  19487.000000     19487.000000  19487.000000  19487.000000   \n",
       "mean      19.131184      1990.294607   -196.624329      8.922357   \n",
       "std        5.045367       230.743946     27.769024      0.357733   \n",
       "min        0.000000         0.000000   -284.000000      0.000000   \n",
       "25%       15.480000      1869.000000   -216.950000      8.730000   \n",
       "50%       20.190000      1958.000000   -192.000000      8.920000   \n",
       "75%       23.070000      2149.000000   -179.500000      9.100000   \n",
       "max       28.600000      2417.000000      0.000000     10.100000   \n",
       "\n",
       "       Turbidity (NTU)       ODOSat%    ODO (mg/L)  BGA-Phycocyanin RFU  \n",
       "count     19487.000000  19487.000000  19487.000000         19487.000000  \n",
       "mean         63.929067     90.057202      8.309566             1.459773  \n",
       "std          70.885989     17.627283      1.486747             1.311960  \n",
       "min          -0.880000      0.000000      0.000000            -0.400000  \n",
       "25%          33.750000     79.100000      7.280000             0.600000  \n",
       "50%          48.380000     85.300000      8.010000             1.000000  \n",
       "75%          68.275000     95.300000      9.240000             1.700000  \n",
       "max        1248.920000    245.500000     19.590000            21.100000  "
      ]
     },
     "execution_count": 6,
     "metadata": {},
     "output_type": "execute_result"
    }
   ],
   "source": [
    "test_dfs[test_index].describe()"
   ]
  },
  {
   "cell_type": "markdown",
   "metadata": {},
   "source": [
    "## Use Datetime Index"
   ]
  },
  {
   "cell_type": "code",
   "execution_count": 7,
   "metadata": {},
   "outputs": [
    {
     "name": "stdout",
     "output_type": "stream",
     "text": [
      "Time America/Boise UTC-06:00     object\n",
      "Temp C                          float64\n",
      "Sp Cond (uS/cm)                   int64\n",
      "pH (mV)                         float64\n",
      "pH                              float64\n",
      "Turbidity (NTU)                 float64\n",
      "ODOSat%                         float64\n",
      "ODO (mg/L)                      float64\n",
      "BGA-Phycocyanin RFU             float64\n",
      "dtype: object\n",
      "Date (mm.dd.yyyy)       object\n",
      "Time 24hr               object\n",
      "Temp C                 float64\n",
      "Sp Cond (uS/cm)          int64\n",
      "pH (mV)                float64\n",
      "pH                     float64\n",
      "Turbidity (NTU)        float64\n",
      "ODOSat%                float64\n",
      "ODO (mg/L)             float64\n",
      "BGA-Phycocyanin RFU    float64\n",
      "dtype: object\n"
     ]
    }
   ],
   "source": [
    "print(test_dfs[test_index].dtypes)\n",
    "print(train_dfs[train_index].dtypes)"
   ]
  },
  {
   "cell_type": "code",
   "execution_count": 8,
   "metadata": {},
   "outputs": [
    {
     "data": {
      "text/html": [
       "<div>\n",
       "<style scoped>\n",
       "    .dataframe tbody tr th:only-of-type {\n",
       "        vertical-align: middle;\n",
       "    }\n",
       "\n",
       "    .dataframe tbody tr th {\n",
       "        vertical-align: top;\n",
       "    }\n",
       "\n",
       "    .dataframe thead th {\n",
       "        text-align: right;\n",
       "    }\n",
       "</style>\n",
       "<table border=\"1\" class=\"dataframe\">\n",
       "  <thead>\n",
       "    <tr style=\"text-align: right;\">\n",
       "      <th></th>\n",
       "      <th>Temp C</th>\n",
       "      <th>Sp Cond (uS/cm)</th>\n",
       "      <th>pH (mV)</th>\n",
       "      <th>pH</th>\n",
       "      <th>Turbidity (NTU)</th>\n",
       "      <th>ODOSat%</th>\n",
       "      <th>ODO (mg/L)</th>\n",
       "      <th>BGA-Phycocyanin RFU</th>\n",
       "      <th>datetime</th>\n",
       "    </tr>\n",
       "    <tr>\n",
       "      <th>timestamp</th>\n",
       "      <th></th>\n",
       "      <th></th>\n",
       "      <th></th>\n",
       "      <th></th>\n",
       "      <th></th>\n",
       "      <th></th>\n",
       "      <th></th>\n",
       "      <th></th>\n",
       "      <th></th>\n",
       "    </tr>\n",
       "  </thead>\n",
       "  <tbody>\n",
       "    <tr>\n",
       "      <th>2017-05-05 00:00:00</th>\n",
       "      <td>15.75</td>\n",
       "      <td>1806</td>\n",
       "      <td>-104.7</td>\n",
       "      <td>8.33</td>\n",
       "      <td>6.41</td>\n",
       "      <td>90.0</td>\n",
       "      <td>8.88</td>\n",
       "      <td>0.2</td>\n",
       "      <td>2017-05-05 00:00:00</td>\n",
       "    </tr>\n",
       "    <tr>\n",
       "      <th>2017-05-05 00:15:00</th>\n",
       "      <td>15.74</td>\n",
       "      <td>1808</td>\n",
       "      <td>-104.6</td>\n",
       "      <td>8.33</td>\n",
       "      <td>2.36</td>\n",
       "      <td>89.8</td>\n",
       "      <td>8.87</td>\n",
       "      <td>0.2</td>\n",
       "      <td>2017-05-05 00:15:00</td>\n",
       "    </tr>\n",
       "    <tr>\n",
       "      <th>2017-05-05 00:30:00</th>\n",
       "      <td>15.69</td>\n",
       "      <td>1810</td>\n",
       "      <td>-104.5</td>\n",
       "      <td>8.33</td>\n",
       "      <td>7.16</td>\n",
       "      <td>89.6</td>\n",
       "      <td>8.85</td>\n",
       "      <td>0.2</td>\n",
       "      <td>2017-05-05 00:30:00</td>\n",
       "    </tr>\n",
       "    <tr>\n",
       "      <th>2017-05-05 00:45:00</th>\n",
       "      <td>15.65</td>\n",
       "      <td>1814</td>\n",
       "      <td>-104.5</td>\n",
       "      <td>8.33</td>\n",
       "      <td>4.96</td>\n",
       "      <td>89.6</td>\n",
       "      <td>8.86</td>\n",
       "      <td>0.3</td>\n",
       "      <td>2017-05-05 00:45:00</td>\n",
       "    </tr>\n",
       "    <tr>\n",
       "      <th>2017-05-05 01:00:00</th>\n",
       "      <td>15.63</td>\n",
       "      <td>1821</td>\n",
       "      <td>-104.5</td>\n",
       "      <td>8.33</td>\n",
       "      <td>6.72</td>\n",
       "      <td>89.5</td>\n",
       "      <td>8.86</td>\n",
       "      <td>0.3</td>\n",
       "      <td>2017-05-05 01:00:00</td>\n",
       "    </tr>\n",
       "  </tbody>\n",
       "</table>\n",
       "</div>"
      ],
      "text/plain": [
       "                     Temp C  Sp Cond (uS/cm)  pH (mV)    pH  Turbidity (NTU)  \\\n",
       "timestamp                                                                      \n",
       "2017-05-05 00:00:00   15.75             1806   -104.7  8.33             6.41   \n",
       "2017-05-05 00:15:00   15.74             1808   -104.6  8.33             2.36   \n",
       "2017-05-05 00:30:00   15.69             1810   -104.5  8.33             7.16   \n",
       "2017-05-05 00:45:00   15.65             1814   -104.5  8.33             4.96   \n",
       "2017-05-05 01:00:00   15.63             1821   -104.5  8.33             6.72   \n",
       "\n",
       "                     ODOSat%  ODO (mg/L)  BGA-Phycocyanin RFU  \\\n",
       "timestamp                                                       \n",
       "2017-05-05 00:00:00     90.0        8.88                  0.2   \n",
       "2017-05-05 00:15:00     89.8        8.87                  0.2   \n",
       "2017-05-05 00:30:00     89.6        8.85                  0.2   \n",
       "2017-05-05 00:45:00     89.6        8.86                  0.3   \n",
       "2017-05-05 01:00:00     89.5        8.86                  0.3   \n",
       "\n",
       "                               datetime  \n",
       "timestamp                                \n",
       "2017-05-05 00:00:00 2017-05-05 00:00:00  \n",
       "2017-05-05 00:15:00 2017-05-05 00:15:00  \n",
       "2017-05-05 00:30:00 2017-05-05 00:30:00  \n",
       "2017-05-05 00:45:00 2017-05-05 00:45:00  \n",
       "2017-05-05 01:00:00 2017-05-05 01:00:00  "
      ]
     },
     "execution_count": 8,
     "metadata": {},
     "output_type": "execute_result"
    }
   ],
   "source": [
    "# We will need to engineer a datetime column for our 2017 data\n",
    "\n",
    "# Create a single datetime column from the strings provided in our csv's\n",
    "for i in range(0, len(train_dfs)):\n",
    "    timestamp = train_dfs[i]['Date (mm.dd.yyyy)'] + ' '+ train_dfs[i]['Time 24hr']\n",
    "    timestamp = pd.to_datetime(timestamp)\n",
    "    train_dfs[i]['timestamp'] = timestamp\n",
    "    train_dfs[i]['datetime'] = timestamp\n",
    "    train_dfs[i] = train_dfs[i].set_index('timestamp')\n",
    "    train_dfs[i] = train_dfs[i].drop(columns=['Date (mm.dd.yyyy)', 'Time 24hr'])\n",
    "train_dfs[train_index].head()"
   ]
  },
  {
   "cell_type": "code",
   "execution_count": 9,
   "metadata": {},
   "outputs": [
    {
     "data": {
      "text/html": [
       "<div>\n",
       "<style scoped>\n",
       "    .dataframe tbody tr th:only-of-type {\n",
       "        vertical-align: middle;\n",
       "    }\n",
       "\n",
       "    .dataframe tbody tr th {\n",
       "        vertical-align: top;\n",
       "    }\n",
       "\n",
       "    .dataframe thead th {\n",
       "        text-align: right;\n",
       "    }\n",
       "</style>\n",
       "<table border=\"1\" class=\"dataframe\">\n",
       "  <thead>\n",
       "    <tr style=\"text-align: right;\">\n",
       "      <th></th>\n",
       "      <th>Temp C</th>\n",
       "      <th>Sp Cond (uS/cm)</th>\n",
       "      <th>pH (mV)</th>\n",
       "      <th>pH</th>\n",
       "      <th>Turbidity (NTU)</th>\n",
       "      <th>ODOSat%</th>\n",
       "      <th>ODO (mg/L)</th>\n",
       "      <th>BGA-Phycocyanin RFU</th>\n",
       "      <th>datetime</th>\n",
       "    </tr>\n",
       "    <tr>\n",
       "      <th>timestamp</th>\n",
       "      <th></th>\n",
       "      <th></th>\n",
       "      <th></th>\n",
       "      <th></th>\n",
       "      <th></th>\n",
       "      <th></th>\n",
       "      <th></th>\n",
       "      <th></th>\n",
       "      <th></th>\n",
       "    </tr>\n",
       "  </thead>\n",
       "  <tbody>\n",
       "    <tr>\n",
       "      <th>2018-04-11 10:30:00</th>\n",
       "      <td>11.88</td>\n",
       "      <td>1782</td>\n",
       "      <td>-146.1</td>\n",
       "      <td>8.20</td>\n",
       "      <td>42.49</td>\n",
       "      <td>89.1</td>\n",
       "      <td>9.58</td>\n",
       "      <td>0.6</td>\n",
       "      <td>2018-04-11 10:30:00</td>\n",
       "    </tr>\n",
       "    <tr>\n",
       "      <th>2018-04-11 10:45:00</th>\n",
       "      <td>11.78</td>\n",
       "      <td>1783</td>\n",
       "      <td>-143.7</td>\n",
       "      <td>8.15</td>\n",
       "      <td>42.89</td>\n",
       "      <td>87.4</td>\n",
       "      <td>9.42</td>\n",
       "      <td>0.6</td>\n",
       "      <td>2018-04-11 10:45:00</td>\n",
       "    </tr>\n",
       "    <tr>\n",
       "      <th>2018-04-11 11:00:00</th>\n",
       "      <td>11.79</td>\n",
       "      <td>1784</td>\n",
       "      <td>-144.3</td>\n",
       "      <td>8.17</td>\n",
       "      <td>41.24</td>\n",
       "      <td>89.0</td>\n",
       "      <td>9.58</td>\n",
       "      <td>0.7</td>\n",
       "      <td>2018-04-11 11:00:00</td>\n",
       "    </tr>\n",
       "    <tr>\n",
       "      <th>2018-04-11 11:15:00</th>\n",
       "      <td>11.66</td>\n",
       "      <td>1783</td>\n",
       "      <td>-143.1</td>\n",
       "      <td>8.14</td>\n",
       "      <td>42.65</td>\n",
       "      <td>87.1</td>\n",
       "      <td>9.41</td>\n",
       "      <td>0.7</td>\n",
       "      <td>2018-04-11 11:15:00</td>\n",
       "    </tr>\n",
       "    <tr>\n",
       "      <th>2018-04-11 11:30:00</th>\n",
       "      <td>11.68</td>\n",
       "      <td>1784</td>\n",
       "      <td>-143.5</td>\n",
       "      <td>8.15</td>\n",
       "      <td>42.06</td>\n",
       "      <td>87.5</td>\n",
       "      <td>9.45</td>\n",
       "      <td>0.7</td>\n",
       "      <td>2018-04-11 11:30:00</td>\n",
       "    </tr>\n",
       "  </tbody>\n",
       "</table>\n",
       "</div>"
      ],
      "text/plain": [
       "                     Temp C  Sp Cond (uS/cm)  pH (mV)    pH  Turbidity (NTU)  \\\n",
       "timestamp                                                                      \n",
       "2018-04-11 10:30:00   11.88             1782   -146.1  8.20            42.49   \n",
       "2018-04-11 10:45:00   11.78             1783   -143.7  8.15            42.89   \n",
       "2018-04-11 11:00:00   11.79             1784   -144.3  8.17            41.24   \n",
       "2018-04-11 11:15:00   11.66             1783   -143.1  8.14            42.65   \n",
       "2018-04-11 11:30:00   11.68             1784   -143.5  8.15            42.06   \n",
       "\n",
       "                     ODOSat%  ODO (mg/L)  BGA-Phycocyanin RFU  \\\n",
       "timestamp                                                       \n",
       "2018-04-11 10:30:00     89.1        9.58                  0.6   \n",
       "2018-04-11 10:45:00     87.4        9.42                  0.6   \n",
       "2018-04-11 11:00:00     89.0        9.58                  0.7   \n",
       "2018-04-11 11:15:00     87.1        9.41                  0.7   \n",
       "2018-04-11 11:30:00     87.5        9.45                  0.7   \n",
       "\n",
       "                               datetime  \n",
       "timestamp                                \n",
       "2018-04-11 10:30:00 2018-04-11 10:30:00  \n",
       "2018-04-11 10:45:00 2018-04-11 10:45:00  \n",
       "2018-04-11 11:00:00 2018-04-11 11:00:00  \n",
       "2018-04-11 11:15:00 2018-04-11 11:15:00  \n",
       "2018-04-11 11:30:00 2018-04-11 11:30:00  "
      ]
     },
     "execution_count": 9,
     "metadata": {},
     "output_type": "execute_result"
    }
   ],
   "source": [
    "# Now to datetime index our 2018 data\n",
    "for i in range(0, len(test_dfs)):\n",
    "    timestamp = pd.to_datetime(test_dfs[i]['Time America/Boise UTC-06:00'])\n",
    "    test_dfs[i]['timestamp'] = timestamp\n",
    "    test_dfs[i]['datetime'] = timestamp\n",
    "    test_dfs[i] = test_dfs[i].set_index('timestamp')\n",
    "    test_dfs[i] = test_dfs[i].drop(columns=['Time America/Boise UTC-06:00'])\n",
    "test_dfs[test_index].head()"
   ]
  },
  {
   "cell_type": "markdown",
   "metadata": {},
   "source": [
    "## BGA RFU Levels"
   ]
  },
  {
   "cell_type": "code",
   "execution_count": 10,
   "metadata": {},
   "outputs": [],
   "source": [
    "presegmented_plot = pd.DataFrame(\n",
    "    {'BGA RFU': train_dfs[train_index][target_column], \n",
    "     'Bloom Threshold': np.full(train_dfs[train_index].count()[0], RFU_THRESHOLD)})"
   ]
  },
  {
   "cell_type": "code",
   "execution_count": 11,
   "metadata": {},
   "outputs": [],
   "source": [
    "def windowize(df, time_column):\n",
    "    print(\"Segmenting...\")\n",
    "    x_windows, y_windows = hf.segment_dataset(df, time_column)\n",
    "    print(\"Extracting feature windows...\")\n",
    "    x_windows = hf.extract_percentile(x_windows, time_column)\n",
    "    print(\"Extracting target windows...\")\n",
    "    y_windows = hf.extract_percentile(y_windows, time_column)\n",
    "    print(\"Combining extractions...\")\n",
    "    x_windows[target_column] = y_windows[target_column].values\n",
    "    return x_windows"
   ]
  },
  {
   "cell_type": "code",
   "execution_count": 12,
   "metadata": {},
   "outputs": [
    {
     "name": "stdout",
     "output_type": "stream",
     "text": [
      "Windowizing 2017 data set: 0\n",
      "Segmenting...\n",
      "Extracting feature windows...\n",
      "Extracting target windows...\n",
      "Combining extractions...\n",
      "Windowizing 2018 data set: 0\n",
      "Segmenting...\n",
      "Extracting feature windows...\n",
      "Extracting target windows...\n",
      "Combining extractions...\n",
      "\n",
      "Windowizing 2017 data set: 1\n",
      "Segmenting...\n",
      "Extracting feature windows...\n",
      "Extracting target windows...\n",
      "Combining extractions...\n",
      "Windowizing 2018 data set: 1\n",
      "Segmenting...\n",
      "Extracting feature windows...\n",
      "Extracting target windows...\n",
      "Combining extractions...\n",
      "\n",
      "Windowizing 2017 data set: 2\n",
      "Segmenting...\n",
      "Extracting feature windows...\n",
      "Extracting target windows...\n",
      "Combining extractions...\n",
      "Windowizing 2018 data set: 2\n",
      "Segmenting...\n",
      "Extracting feature windows...\n",
      "Extracting target windows...\n",
      "Combining extractions...\n",
      "\n"
     ]
    }
   ],
   "source": [
    "# Segment each data frame\n",
    "for i in range(0, len(train_dfs)):\n",
    "    print(\"Windowizing 2017 data set:\", i)\n",
    "    train_dfs[i] = windowize(train_dfs[i], 'datetime')\n",
    "    print(\"Windowizing 2018 data set:\", i)\n",
    "    test_dfs[i] = windowize(test_dfs[i], 'datetime')\n",
    "    print()"
   ]
  },
  {
   "cell_type": "code",
   "execution_count": 13,
   "metadata": {},
   "outputs": [
    {
     "data": {
      "text/plain": [
       "<matplotlib.axes._subplots.AxesSubplot at 0x20f476e0eb8>"
      ]
     },
     "execution_count": 13,
     "metadata": {},
     "output_type": "execute_result"
    },
    {
     "data": {
      "image/png": "[encoded data removed]",
      "text/plain": [
       "<Figure size 432x288 with 1 Axes>"
      ]
     },
     "metadata": {},
     "output_type": "display_data"
    }
   ],
   "source": [
    "presegmented_plot.plot.line()"
   ]
  },
  {
   "cell_type": "code",
   "execution_count": 14,
   "metadata": {},
   "outputs": [
    {
     "data": {
      "text/plain": [
       "<matplotlib.axes._subplots.AxesSubplot at 0x20f49ae1eb8>"
      ]
     },
     "execution_count": 14,
     "metadata": {},
     "output_type": "execute_result"
    },
    {
     "data": {
      "image/png": "[encoded data removed]",
      "text/plain": [
       "<Figure size 432x288 with 1 Axes>"
      ]
     },
     "metadata": {},
     "output_type": "display_data"
    }
   ],
   "source": [
    "pd.DataFrame({'BGA RFU': train_dfs[train_index][target_column], \n",
    "            'Bloom Threshold': np.full(\n",
    "                train_dfs[train_index].count()[0], RFU_THRESHOLD)}).plot.line()"
   ]
  },
  {
   "cell_type": "markdown",
   "metadata": {},
   "source": [
    "## Logistic Regression Model"
   ]
  },
  {
   "cell_type": "code",
   "execution_count": 15,
   "metadata": {},
   "outputs": [],
   "source": [
    "lrf.add_target_column([train_dfs[train_index], test_dfs[test_index]], \n",
    "                      threshold=RFU_THRESHOLD)"
   ]
  },
  {
   "cell_type": "code",
   "execution_count": 16,
   "metadata": {},
   "outputs": [
    {
     "data": {
      "text/plain": [
       "<matplotlib.axes._subplots.AxesSubplot at 0x20f493e9898>"
      ]
     },
     "execution_count": 16,
     "metadata": {},
     "output_type": "execute_result"
    },
    {
     "data": {
      "image/png": "[encoded data removed]",
      "text/plain": [
       "<Figure size 432x288 with 1 Axes>"
      ]
     },
     "metadata": {},
     "output_type": "display_data"
    }
   ],
   "source": [
    "sns.lineplot(data=train_dfs[train_index][[target_column, 'bloom']], hue='bloom')"
   ]
  },
  {
   "cell_type": "code",
   "execution_count": null,
   "metadata": {},
   "outputs": [],
   "source": [
    "# The null model's performance\n",
    "accuracy, recall, precision, cm, _, _, _ = train_model(\n",
    "            model, training_df, testing_df, [column], y_column)"
   ]
  },
  {
   "cell_type": "code",
   "execution_count": 17,
   "metadata": {},
   "outputs": [
    {
     "name": "stdout",
     "output_type": "stream",
     "text": [
      "Training model with: Temp C\n",
      "Accuracy 0.608623203499271\n",
      "Recall: 0.4152907394113424\n",
      "Precision 0.822316986496091\n",
      "Confusion Matrix:\n",
      " [[1765  250]\n",
      " [1629 1157]]\n",
      "\n",
      "Training model with: Sp Cond (uS/cm)\n"
     ]
    },
    {
     "name": "stderr",
     "output_type": "stream",
     "text": [
      "C:\\Users\\mccomackjp\\AppData\\Local\\Continuum\\anaconda3\\lib\\site-packages\\sklearn\\metrics\\classification.py:1143: UndefinedMetricWarning: Precision is ill-defined and being set to 0.0 due to no predicted samples.\n",
      "  'precision', 'predicted', average, warn_for)\n"
     ]
    },
    {
     "name": "stdout",
     "output_type": "stream",
     "text": [
      "Accuracy 0.4197042282857738\n",
      "Recall: 0.0\n",
      "Precision 0.0\n",
      "Confusion Matrix:\n",
      " [[2015    0]\n",
      " [2786    0]]\n",
      "\n",
      "Training model with: pH (mV)\n",
      "Accuracy 0.5802957717142262\n",
      "Recall: 1.0\n",
      "Precision 0.5802957717142262\n",
      "Confusion Matrix:\n",
      " [[   0 2015]\n",
      " [   0 2786]]\n",
      "\n",
      "Training model with: pH\n",
      "Accuracy 0.6765257238075401\n",
      "Recall: 0.91816223977028\n",
      "Precision 0.6587689930466134\n",
      "Confusion Matrix:\n",
      " [[ 690 1325]\n",
      " [ 228 2558]]\n",
      "\n",
      "Training model with: Turbidity (NTU)\n"
     ]
    },
    {
     "name": "stderr",
     "output_type": "stream",
     "text": [
      "C:\\Users\\mccomackjp\\AppData\\Local\\Continuum\\anaconda3\\lib\\site-packages\\sklearn\\metrics\\classification.py:1143: UndefinedMetricWarning: Precision is ill-defined and being set to 0.0 due to no predicted samples.\n",
      "  'precision', 'predicted', average, warn_for)\n"
     ]
    },
    {
     "name": "stdout",
     "output_type": "stream",
     "text": [
      "Accuracy 0.4197042282857738\n",
      "Recall: 0.0\n",
      "Precision 0.0\n",
      "Confusion Matrix:\n",
      " [[2015    0]\n",
      " [2786    0]]\n",
      "\n",
      "Training model with: ODOSat%\n",
      "Accuracy 0.7204749010622787\n",
      "Recall: 0.6256281407035176\n",
      "Precision 0.8535749265426053\n",
      "Confusion Matrix:\n",
      " [[1716  299]\n",
      " [1043 1743]]\n",
      "\n",
      "Training model with: ODO (mg/L)\n",
      "Accuracy 0.7023536763174338\n",
      "Recall: 0.592964824120603\n",
      "Precision 0.8484848484848485\n",
      "Confusion Matrix:\n",
      " [[1720  295]\n",
      " [1134 1652]]\n",
      "\n",
      "ODOSat% metric value: 0.7204749010622787\n",
      "ODO (mg/L) metric value: 0.7023536763174338\n",
      "pH metric value: 0.6765257238075401\n",
      "Temp C metric value: 0.608623203499271\n",
      "pH (mV) metric value: 0.5802957717142262\n",
      "Sp Cond (uS/cm) metric value: 0.4197042282857738\n",
      "Turbidity (NTU) metric value: 0.4197042282857738\n"
     ]
    }
   ],
   "source": [
    "max_iter = 25000\n",
    "loss = \"log\"\n",
    "model = SGDClassifier(max_iter=max_iter, loss=loss)\n",
    "# Sort columns by accuracy\n",
    "sorted_columns = lrf.sort_columns_by_metric(model, train_dfs[train_index], \n",
    "                                            test_dfs[test_index],\n",
    "                                            x_columns,\n",
    "                                            'bloom')"
   ]
  },
  {
   "cell_type": "code",
   "execution_count": 18,
   "metadata": {},
   "outputs": [
    {
     "name": "stderr",
     "output_type": "stream",
     "text": [
      "C:\\Users\\mccomackjp\\AppData\\Local\\Continuum\\anaconda3\\lib\\site-packages\\sklearn\\metrics\\classification.py:1143: UndefinedMetricWarning: Precision is ill-defined and being set to 0.0 due to no predicted samples.\n",
      "  'precision', 'predicted', average, warn_for)\n"
     ]
    },
    {
     "name": "stdout",
     "output_type": "stream",
     "text": [
      "Training model with: ['ODOSat%']\n",
      "Test model accuracy: 0.7204749010622787\n",
      "Test model recall: 0.6256281407035176\n",
      "Test model precision: 0.8535749265426053\n",
      "\n",
      "Updating greedy model\n",
      "\n",
      "Training model with: ['ODOSat%', 'ODO (mg/L)']\n",
      "Test model accuracy: 0.7008956467402624\n",
      "Test model recall: 0.5825556353194544\n",
      "Test model precision: 0.8560126582278481\n",
      "\n",
      "Training model with: ['ODOSat%', 'pH']\n",
      "Test model accuracy: 0.7317225578004583\n",
      "Test model recall: 0.8894472361809045\n",
      "Test model precision: 0.7165991902834008\n",
      "\n",
      "Updating greedy model\n",
      "\n",
      "Training model with: ['ODOSat%', 'pH', 'Temp C']\n",
      "Test model accuracy: 0.7106852739012706\n",
      "Test model recall: 0.881191672648959\n",
      "Test model precision: 0.6988329063478509\n",
      "\n",
      "Training model with: ['ODOSat%', 'pH', 'pH (mV)']\n",
      "Test model accuracy: 0.7519266819412622\n",
      "Test model recall: 0.8104809763101221\n",
      "Test model precision: 0.7730229373502225\n",
      "\n",
      "Updating greedy model\n",
      "\n",
      "Training model with: ['ODOSat%', 'pH', 'pH (mV)', 'Sp Cond (uS/cm)']\n",
      "Test model accuracy: 0.684232451572589\n",
      "Test model recall: 0.9041636755204594\n",
      "Test model precision: 0.6685244161358811\n",
      "\n",
      "Training model with: ['ODOSat%', 'pH', 'pH (mV)', 'Turbidity (NTU)']\n",
      "Test model accuracy: 0.7563007706727765\n",
      "Test model recall: 0.8675520459440057\n",
      "Test model precision: 0.7510876320696085\n",
      "\n",
      "Updating greedy model\n",
      "\n",
      "Final greedy columns: ['ODOSat%', 'pH', 'pH (mV)', 'Turbidity (NTU)']\n",
      "Final greedy accuracy 0.7563007706727765\n",
      "Final greedy recall: 0.8675520459440057\n",
      "Final greedy precision: 0.8675520459440057\n",
      "Final greedy confusion matrix:\n",
      " [[1214  801]\n",
      " [ 369 2417]]\n"
     ]
    }
   ],
   "source": [
    "#create greedy model\n",
    "model = SGDClassifier(max_iter=max_iter, loss=loss)\n",
    "\n",
    "accuracy, recall, precision, cm, predictions, predictions_prob, model = lrf.greedy_model(\n",
    "    model, train_dfs[train_index], test_dfs[test_index], x_columns, \n",
    "                                            'bloom', sorted_columns)\n"
   ]
  },
  {
   "cell_type": "code",
   "execution_count": 19,
   "metadata": {},
   "outputs": [
    {
     "name": "stdout",
     "output_type": "stream",
     "text": [
      "Model AUC: 0.8226\n"
     ]
    },
    {
     "data": {
      "image/png": "[encoded data removed]",
      "text/plain": [
       "<Figure size 432x288 with 1 Axes>"
      ]
     },
     "metadata": {},
     "output_type": "display_data"
    }
   ],
   "source": [
    "# Print the ROC curve.\n",
    "predictions = [x[1] for x in predictions_prob]\n",
    "lrf.roc_plot(test_dfs[test_index][['bloom']].values, predictions)"
   ]
  },
  {
   "cell_type": "markdown",
   "metadata": {},
   "source": [
    "## Random Forest Model"
   ]
  },
  {
   "cell_type": "code",
   "execution_count": 20,
   "metadata": {},
   "outputs": [
    {
     "name": "stdout",
     "output_type": "stream",
     "text": [
      "Accuracy 0.6759008539887523\n",
      "Recall: 0.9475951184493898\n",
      "Precision 0.6518518518518519\n",
      "Confusion Matrix:\n",
      " [[ 605 1410]\n",
      " [ 146 2640]]\n"
     ]
    }
   ],
   "source": [
    "# All Inputs\n",
    "model = RandomForestClassifier(n_estimators=100)\n",
    "accuracy, recall, precision, cm, predictions, predictions_prob, model = lrf.train_model(\n",
    "    model, train_dfs[train_index], test_dfs[test_index], x_columns, 'bloom')\n",
    "print(\"Accuracy\", accuracy)\n",
    "print(\"Recall:\", recall)\n",
    "print(\"Precision\", precision)\n",
    "print(\"Confusion Matrix:\\n\", cm)"
   ]
  },
  {
   "cell_type": "code",
   "execution_count": 21,
   "metadata": {},
   "outputs": [
    {
     "name": "stdout",
     "output_type": "stream",
     "text": [
      "Training model with: ['ODOSat%']\n"
     ]
    },
    {
     "name": "stderr",
     "output_type": "stream",
     "text": [
      "C:\\Users\\mccomackjp\\AppData\\Local\\Continuum\\anaconda3\\lib\\site-packages\\sklearn\\metrics\\classification.py:1143: UndefinedMetricWarning: Precision is ill-defined and being set to 0.0 due to no predicted samples.\n",
      "  'precision', 'predicted', average, warn_for)\n"
     ]
    },
    {
     "name": "stdout",
     "output_type": "stream",
     "text": [
      "Test model accuracy: 0.6913143095188502\n",
      "Test model recall: 0.674802584350323\n",
      "Test model precision: 0.7654723127035831\n",
      "\n",
      "Updating greedy model\n",
      "\n",
      "Training model with: ['ODOSat%', 'ODO (mg/L)']\n",
      "Test model accuracy: 0.6961049781295563\n",
      "Test model recall: 0.7605886575735822\n",
      "Test model precision: 0.7279285468911028\n",
      "\n",
      "Updating greedy model\n",
      "\n",
      "Training model with: ['ODOSat%', 'ODO (mg/L)', 'pH']\n",
      "Test model accuracy: 0.6715267652572381\n",
      "Test model recall: 0.9253409906676239\n",
      "Test model precision: 0.6531542944008107\n",
      "\n",
      "Training model with: ['ODOSat%', 'ODO (mg/L)', 'Temp C']\n",
      "Test model accuracy: 0.7290147885857113\n",
      "Test model recall: 0.739770279971285\n",
      "Test model precision: 0.7815699658703071\n",
      "\n",
      "Updating greedy model\n",
      "\n",
      "Training model with: ['ODOSat%', 'ODO (mg/L)', 'Temp C', 'pH (mV)']\n",
      "Test model accuracy: 0.5525932097479692\n",
      "Test model recall: 0.9267767408470926\n",
      "Test model precision: 0.5704816615112682\n",
      "\n",
      "Training model with: ['ODOSat%', 'ODO (mg/L)', 'Temp C', 'Sp Cond (uS/cm)']\n",
      "Test model accuracy: 0.8123307644240784\n",
      "Test model recall: 0.832735104091888\n",
      "Test model precision: 0.8421052631578947\n",
      "\n",
      "Updating greedy model\n",
      "\n",
      "Training model with: ['ODOSat%', 'ODO (mg/L)', 'Temp C', 'Sp Cond (uS/cm)', 'Turbidity (NTU)']\n",
      "Test model accuracy: 0.8071235159341804\n",
      "Test model recall: 0.8320172290021536\n",
      "Test model precision: 0.8350144092219021\n",
      "\n",
      "Final greedy columns: ['ODOSat%', 'ODO (mg/L)', 'Temp C', 'Sp Cond (uS/cm)']\n",
      "Final greedy accuracy 0.8123307644240784\n",
      "Final greedy recall: 0.832735104091888\n",
      "Final greedy precision: 0.832735104091888\n",
      "Final greedy confusion matrix:\n",
      " [[1580  435]\n",
      " [ 466 2320]]\n"
     ]
    }
   ],
   "source": [
    "# Greedy Model\n",
    "model = RandomForestClassifier(n_estimators=100)\n",
    "accuracy, recall, precision, cm, predictions, predictions_prob, model = lrf.greedy_model(\n",
    "    model, train_dfs[train_index], test_dfs[test_index], x_columns, 'bloom', sorted_columns)"
   ]
  },
  {
   "cell_type": "code",
   "execution_count": 22,
   "metadata": {},
   "outputs": [
    {
     "name": "stdout",
     "output_type": "stream",
     "text": [
      "Model AUC: 0.8727\n"
     ]
    },
    {
     "data": {
      "image/png": "[encoded data removed]",
      "text/plain": [
       "<Figure size 432x288 with 1 Axes>"
      ]
     },
     "metadata": {},
     "output_type": "display_data"
    }
   ],
   "source": [
    "# Print the ROC curve.\n",
    "predictions = [x[1] for x in predictions_prob]\n",
    "lrf.roc_plot(test_dfs[test_index][['bloom']].values, predictions)"
   ]
  },
  {
   "cell_type": "code",
   "execution_count": null,
   "metadata": {},
   "outputs": [],
   "source": []
  }
 ],
 "metadata": {
  "kernelspec": {
   "display_name": "Python 3",
   "language": "python",
   "name": "python3"
  },
  "language_info": {
   "codemirror_mode": {
    "name": "ipython",
    "version": 3
   },
   "file_extension": ".py",
   "mimetype": "text/x-python",
   "name": "python",
   "nbconvert_exporter": "python",
   "pygments_lexer": "ipython3",
   "version": "3.6.4"
  }
 },
 "nbformat": 4,
 "nbformat_minor": 2
}
