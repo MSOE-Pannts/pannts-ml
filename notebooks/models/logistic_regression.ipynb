{
 "cells": [
  {
   "cell_type": "markdown",
   "metadata": {},
   "source": [
    "# Logistic Regression Model"
   ]
  },
  {
   "cell_type": "markdown",
   "metadata": {},
   "source": [
    "## Data Import And Cleaning"
   ]
  },
  {
   "cell_type": "code",
   "execution_count": 9,
   "metadata": {},
   "outputs": [],
   "source": [
    "import pandas as pd\n",
    "import seaborn as sns\n",
    "import matplotlib.pyplot as plt\n",
    "from sklearn.preprocessing import Imputer\n",
    "from sklearn.preprocessing import StandardScaler\n",
    "from sklearn.preprocessing import LabelEncoder\n",
    "from sklearn.linear_model import SGDClassifier\n",
    "from sklearn.metrics import recall_score, precision_score, confusion_matrix\n",
    "from sklearn.metrics import roc_curve, auc"
   ]
  },
  {
   "cell_type": "code",
   "execution_count": 10,
   "metadata": {},
   "outputs": [],
   "source": [
    "# Helper functions\n",
    "\n",
    "def add_target_column(data_frames, target_column='BGA-Phycocyanin RFU', \n",
    "                   new_target_name='bloom', threshold=2):\n",
    "    for df in data_frames:\n",
    "        df[new_target_name] = df[target_column].apply(\n",
    "                                            lambda x: 1 if x > threshold else 0)\n",
    "\n",
    "def import_df_data(files, drop_columns=[]):\n",
    "    data_frames = []\n",
    "    for file in files:\n",
    "        df = pd.read_csv(file)\n",
    "        for column in drop_columns:\n",
    "            if column in df.columns:\n",
    "                df = df.drop(columns=[column])\n",
    "        data_frames.append(df)\n",
    "    return data_frames\n",
    "\n",
    "def train_model(training_df, testing_df, x_columns, y_column, max_iter=25000):\n",
    "    \"\"\"Trains a SGD Classifier model.\n",
    "\n",
    "    training_df: dataframe of training data.\n",
    "    testing_df: dataframe of testing data.\n",
    "    x_columns: list of numerical feature column names.\n",
    "    y_column: target string name.\n",
    "        \n",
    "    returns a tuple of:\n",
    "    The trained model, predicted values, predicted probabilities, model accuracy\n",
    "    \"\"\"\n",
    "    \n",
    "    # Create training and testing numpy arrays\n",
    "    x_train = training_df[x_columns].astype('float64').values\n",
    "    x_test = testing_df[x_columns].astype('float64').values\n",
    "    y_train = training_df[y_column].astype('float64').values\n",
    "    y_test = testing_df[y_column].astype('float64').values\n",
    "    \n",
    "    # Scale the data\n",
    "    scaler = StandardScaler()\n",
    "    x_train = scaler.fit_transform(x_train)\n",
    "    x_test = scaler.transform(x_test)\n",
    "    \n",
    "    # Train the model\n",
    "    model = SGDClassifier(max_iter=max_iter, loss=\"log\")\n",
    "    model.fit(x_train, y_train)\n",
    "    predictions = model.predict(x_test)\n",
    "#     predictions_prob = model.predict_proba(x_test)\n",
    "    recall = recall_score(y_train, predictions)\n",
    "    precision = precision_score(y_train, predictions)\n",
    "    confusion_matrix = confusion_matrix(y_train, predictions)\n",
    "#     accuracy = accuracy_score(y_test, predictions)\n",
    "    return (recall, precision, confusion_matrix)\n",
    "\n",
    "def roc_plot(actual, predictions):\n",
    "    fpr, tpr, thresholds = roc_curve(actual, predictions)\n",
    "    roc_auc = auc(fpr, tpr)\n",
    "    plt.title(\"ROC\")\n",
    "    plt.xlabel(\"False Positive Rate\")\n",
    "    plt.ylabel(\"True Positive Rate\")\n",
    "    plt.plot(fpr, tpr)"
   ]
  },
  {
   "cell_type": "code",
   "execution_count": 11,
   "metadata": {},
   "outputs": [
    {
     "data": {
      "text/html": [
       "<div>\n",
       "<style scoped>\n",
       "    .dataframe tbody tr th:only-of-type {\n",
       "        vertical-align: middle;\n",
       "    }\n",
       "\n",
       "    .dataframe tbody tr th {\n",
       "        vertical-align: top;\n",
       "    }\n",
       "\n",
       "    .dataframe thead th {\n",
       "        text-align: right;\n",
       "    }\n",
       "</style>\n",
       "<table border=\"1\" class=\"dataframe\">\n",
       "  <thead>\n",
       "    <tr style=\"text-align: right;\">\n",
       "      <th></th>\n",
       "      <th>Temp C</th>\n",
       "      <th>Sp Cond (uS/cm)</th>\n",
       "      <th>pH (mV)</th>\n",
       "      <th>pH</th>\n",
       "      <th>Turbidity (NTU)</th>\n",
       "      <th>ODOSat%</th>\n",
       "      <th>ODO (mg/L)</th>\n",
       "      <th>BGA-Phycocyanin RFU</th>\n",
       "    </tr>\n",
       "  </thead>\n",
       "  <tbody>\n",
       "    <tr>\n",
       "      <th>0</th>\n",
       "      <td>15.02</td>\n",
       "      <td>1848</td>\n",
       "      <td>-100.1</td>\n",
       "      <td>8.36</td>\n",
       "      <td>16.84</td>\n",
       "      <td>90.2</td>\n",
       "      <td>9.04</td>\n",
       "      <td>0.4</td>\n",
       "    </tr>\n",
       "    <tr>\n",
       "      <th>1</th>\n",
       "      <td>14.99</td>\n",
       "      <td>1847</td>\n",
       "      <td>-100.1</td>\n",
       "      <td>8.36</td>\n",
       "      <td>16.76</td>\n",
       "      <td>90.2</td>\n",
       "      <td>9.04</td>\n",
       "      <td>0.4</td>\n",
       "    </tr>\n",
       "    <tr>\n",
       "      <th>2</th>\n",
       "      <td>14.96</td>\n",
       "      <td>1847</td>\n",
       "      <td>-100.1</td>\n",
       "      <td>8.36</td>\n",
       "      <td>16.82</td>\n",
       "      <td>90.1</td>\n",
       "      <td>9.04</td>\n",
       "      <td>0.4</td>\n",
       "    </tr>\n",
       "    <tr>\n",
       "      <th>3</th>\n",
       "      <td>14.95</td>\n",
       "      <td>1848</td>\n",
       "      <td>-100.1</td>\n",
       "      <td>8.36</td>\n",
       "      <td>17.19</td>\n",
       "      <td>90.0</td>\n",
       "      <td>9.03</td>\n",
       "      <td>0.4</td>\n",
       "    </tr>\n",
       "    <tr>\n",
       "      <th>4</th>\n",
       "      <td>14.92</td>\n",
       "      <td>1848</td>\n",
       "      <td>-100.0</td>\n",
       "      <td>8.36</td>\n",
       "      <td>16.85</td>\n",
       "      <td>89.8</td>\n",
       "      <td>9.02</td>\n",
       "      <td>0.4</td>\n",
       "    </tr>\n",
       "  </tbody>\n",
       "</table>\n",
       "</div>"
      ],
      "text/plain": [
       "   Temp C  Sp Cond (uS/cm)  pH (mV)    pH  Turbidity (NTU)  ODOSat%  \\\n",
       "0   15.02             1848   -100.1  8.36            16.84     90.2   \n",
       "1   14.99             1847   -100.1  8.36            16.76     90.2   \n",
       "2   14.96             1847   -100.1  8.36            16.82     90.1   \n",
       "3   14.95             1848   -100.1  8.36            17.19     90.0   \n",
       "4   14.92             1848   -100.0  8.36            16.85     89.8   \n",
       "\n",
       "   ODO (mg/L)  BGA-Phycocyanin RFU  \n",
       "0        9.04                  0.4  \n",
       "1        9.04                  0.4  \n",
       "2        9.04                  0.4  \n",
       "3        9.03                  0.4  \n",
       "4        9.02                  0.4  "
      ]
     },
     "execution_count": 11,
     "metadata": {},
     "output_type": "execute_result"
    }
   ],
   "source": [
    "train_files = ['../../data/cleaned/utah_2017_vineyard.csv', \n",
    "               '../../data/cleaned/utah_2017_marina.csv',\n",
    "               '../../data/cleaned/utah_2017_bird.csv']\n",
    "\n",
    "test_files = ['../../data/cleaned/utah_2018_vineyard.csv', \n",
    "               '../../data/cleaned/utah_2018_marina.csv',\n",
    "               '../../data/cleaned/utah_2018_bird.csv']\n",
    "\n",
    "drop_columns = ['Time America/Boise UTC-06:00', 'Chlorophyll ug/L', \n",
    "                'Chlorophyll RFU', 'Wiper Pos V', 'Cable Pwr V', 'Battery V',\n",
    "               'Date (mm.dd.yyyy)', 'Time 24hr', 'Chlorophyll (ug/L)', \n",
    "                'FDOM RFU']\n",
    "x_columns = ['Temp C', 'Sp Cond (uS/cm)', 'pH (mV)', 'pH', 'Turbidity (NTU)',\n",
    "            'ODOSat%', 'ODO (mg/L)']\n",
    "\n",
    "train_dfs = import_df_data(train_files, drop_columns)\n",
    "test_dfs = import_df_data(test_files, drop_columns)\n",
    "\n",
    "train_dfs[0].head()"
   ]
  },
  {
   "cell_type": "code",
   "execution_count": 12,
   "metadata": {},
   "outputs": [
    {
     "name": "stdout",
     "output_type": "stream",
     "text": [
      "Index(['Temp C', 'Sp Cond (uS/cm)', 'pH (mV)', 'pH', 'Turbidity (NTU)',\n",
      "       'ODOSat%', 'ODO (mg/L)', 'BGA-Phycocyanin RFU'],\n",
      "      dtype='object')\n",
      "8\n",
      "Index(['Temp C', 'Sp Cond (uS/cm)', 'pH (mV)', 'pH', 'Turbidity (NTU)',\n",
      "       'ODOSat%', 'ODO (mg/L)', 'BGA-Phycocyanin RFU'],\n",
      "      dtype='object')\n",
      "8\n",
      "Index(['Temp C', 'Sp Cond (uS/cm)', 'pH (mV)', 'pH', 'Turbidity (NTU)',\n",
      "       'ODOSat%', 'ODO (mg/L)', 'BGA-Phycocyanin RFU'],\n",
      "      dtype='object')\n",
      "8\n",
      "Index(['Temperature C', 'Sp Cond uS/cm', 'pH mV', 'pH', 'Turbidity NTU',\n",
      "       'ODOSat %', 'ODO mg/L', 'BGA-Phycocyanin RFU'],\n",
      "      dtype='object')\n",
      "8\n",
      "Index(['Temperature C', 'Sp Cond uS/cm', 'pH mV', 'pH', 'Turbidity NTU',\n",
      "       'ODOSat %', 'ODO mg/L', 'BGA-Phycocyanin RFU'],\n",
      "      dtype='object')\n",
      "8\n",
      "Index(['Temperature C', 'Sp Cond uS/cm', 'pH mV', 'pH', 'Turbidity NTU',\n",
      "       'ODOSat %', 'ODO mg/L', 'BGA-Phycocyanin RFU'],\n",
      "      dtype='object')\n",
      "8\n"
     ]
    }
   ],
   "source": [
    "for df in train_dfs + test_dfs:\n",
    "    print(df.columns)\n",
    "    print(len(df.columns))"
   ]
  },
  {
   "cell_type": "code",
   "execution_count": 13,
   "metadata": {},
   "outputs": [
    {
     "name": "stdout",
     "output_type": "stream",
     "text": [
      "New Columns: Index(['Temp C', 'Sp Cond (uS/cm)', 'pH (mV)', 'pH', 'Turbidity (NTU)',\n",
      "       'ODOSat%', 'ODO (mg/L)', 'BGA-Phycocyanin RFU'],\n",
      "      dtype='object')\n",
      "New Columns: Index(['Temp C', 'Sp Cond (uS/cm)', 'pH (mV)', 'pH', 'Turbidity (NTU)',\n",
      "       'ODOSat%', 'ODO (mg/L)', 'BGA-Phycocyanin RFU'],\n",
      "      dtype='object')\n",
      "New Columns: Index(['Temp C', 'Sp Cond (uS/cm)', 'pH (mV)', 'pH', 'Turbidity (NTU)',\n",
      "       'ODOSat%', 'ODO (mg/L)', 'BGA-Phycocyanin RFU'],\n",
      "      dtype='object')\n",
      "New Columns: Index(['Temp C', 'Sp Cond (uS/cm)', 'pH (mV)', 'pH', 'Turbidity (NTU)',\n",
      "       'ODOSat%', 'ODO (mg/L)', 'BGA-Phycocyanin RFU'],\n",
      "      dtype='object')\n",
      "New Columns: Index(['Temp C', 'Sp Cond (uS/cm)', 'pH (mV)', 'pH', 'Turbidity (NTU)',\n",
      "       'ODOSat%', 'ODO (mg/L)', 'BGA-Phycocyanin RFU'],\n",
      "      dtype='object')\n",
      "New Columns: Index(['Temp C', 'Sp Cond (uS/cm)', 'pH (mV)', 'pH', 'Turbidity (NTU)',\n",
      "       'ODOSat%', 'ODO (mg/L)', 'BGA-Phycocyanin RFU'],\n",
      "      dtype='object')\n"
     ]
    }
   ],
   "source": [
    "# Rename columns to be the same\n",
    "for df in train_dfs + test_dfs:\n",
    "    df.columns = x_columns + ['BGA-Phycocyanin RFU']\n",
    "    print(\"New Columns:\", df.columns)"
   ]
  },
  {
   "cell_type": "code",
   "execution_count": 14,
   "metadata": {},
   "outputs": [],
   "source": [
    "add_target_column(train_dfs + test_dfs)"
   ]
  },
  {
   "cell_type": "markdown",
   "metadata": {},
   "source": [
    "## BGA RFU Levels"
   ]
  },
  {
   "cell_type": "code",
   "execution_count": 15,
   "metadata": {},
   "outputs": [
    {
     "data": {
      "text/plain": [
       "<matplotlib.axes._subplots.AxesSubplot at 0x240a9d53a20>"
      ]
     },
     "execution_count": 15,
     "metadata": {},
     "output_type": "execute_result"
    },
    {
     "data": {
      "image/png": "[encoded data removed]",
      "text/plain": [
       "<Figure size 432x288 with 1 Axes>"
      ]
     },
     "metadata": {},
     "output_type": "display_data"
    }
   ],
   "source": [
    "sns.lineplot(data=train_dfs[0][['BGA-Phycocyanin RFU', 'bloom']])"
   ]
  },
  {
   "cell_type": "markdown",
   "metadata": {},
   "source": [
    "## Model Performance"
   ]
  },
  {
   "cell_type": "code",
   "execution_count": 8,
   "metadata": {},
   "outputs": [
    {
     "ename": "ValueError",
     "evalue": "Found input variables with inconsistent numbers of samples: [18947, 13812]",
     "output_type": "error",
     "traceback": [
      "\u001b[1;31m---------------------------------------------------------------------------\u001b[0m",
      "\u001b[1;31mValueError\u001b[0m                                Traceback (most recent call last)",
      "\u001b[1;32m<ipython-input-8-c21b4455e611>\u001b[0m in \u001b[0;36m<module>\u001b[1;34m()\u001b[0m\n\u001b[0;32m      3\u001b[0m \u001b[1;32mfor\u001b[0m \u001b[0mtrain\u001b[0m \u001b[1;32min\u001b[0m \u001b[0mtrain_dfs\u001b[0m\u001b[1;33m:\u001b[0m\u001b[1;33m\u001b[0m\u001b[0m\n\u001b[0;32m      4\u001b[0m     \u001b[1;32mfor\u001b[0m \u001b[0mtest\u001b[0m \u001b[1;32min\u001b[0m \u001b[0mtest_dfs\u001b[0m\u001b[1;33m:\u001b[0m\u001b[1;33m\u001b[0m\u001b[0m\n\u001b[1;32m----> 5\u001b[1;33m         \u001b[0mrecall\u001b[0m\u001b[1;33m,\u001b[0m \u001b[0mprecision\u001b[0m\u001b[1;33m,\u001b[0m \u001b[0mcm\u001b[0m \u001b[1;33m=\u001b[0m \u001b[0mtrain_model\u001b[0m\u001b[1;33m(\u001b[0m\u001b[0mtrain\u001b[0m\u001b[1;33m,\u001b[0m \u001b[0mtest\u001b[0m\u001b[1;33m,\u001b[0m \u001b[0mx_columns\u001b[0m\u001b[1;33m,\u001b[0m \u001b[1;34m'bloom'\u001b[0m\u001b[1;33m)\u001b[0m\u001b[1;33m\u001b[0m\u001b[0m\n\u001b[0m\u001b[0;32m      6\u001b[0m         \u001b[0mavg_recall\u001b[0m \u001b[1;33m+=\u001b[0m \u001b[0mrecall\u001b[0m\u001b[1;33m\u001b[0m\u001b[0m\n\u001b[0;32m      7\u001b[0m         \u001b[0mavg_precision\u001b[0m \u001b[1;33m+=\u001b[0m \u001b[0mprecision\u001b[0m\u001b[1;33m\u001b[0m\u001b[0m\n",
      "\u001b[1;32m<ipython-input-2-6471927310bb>\u001b[0m in \u001b[0;36mtrain_model\u001b[1;34m(training_df, testing_df, x_columns, y_column, max_iter)\u001b[0m\n\u001b[0;32m     45\u001b[0m     \u001b[0mpredictions\u001b[0m \u001b[1;33m=\u001b[0m \u001b[0mmodel\u001b[0m\u001b[1;33m.\u001b[0m\u001b[0mpredict\u001b[0m\u001b[1;33m(\u001b[0m\u001b[0mx_test\u001b[0m\u001b[1;33m)\u001b[0m\u001b[1;33m\u001b[0m\u001b[0m\n\u001b[0;32m     46\u001b[0m \u001b[1;31m#     predictions_prob = model.predict_proba(x_test)\u001b[0m\u001b[1;33m\u001b[0m\u001b[1;33m\u001b[0m\u001b[0m\n\u001b[1;32m---> 47\u001b[1;33m     \u001b[0mrecall\u001b[0m \u001b[1;33m=\u001b[0m \u001b[0mrecall_score\u001b[0m\u001b[1;33m(\u001b[0m\u001b[0my_train\u001b[0m\u001b[1;33m,\u001b[0m \u001b[0mpredictions\u001b[0m\u001b[1;33m)\u001b[0m\u001b[1;33m\u001b[0m\u001b[0m\n\u001b[0m\u001b[0;32m     48\u001b[0m     \u001b[0mprecision\u001b[0m \u001b[1;33m=\u001b[0m \u001b[0mprecision_score\u001b[0m\u001b[1;33m(\u001b[0m\u001b[0my_train\u001b[0m\u001b[1;33m,\u001b[0m \u001b[0mpredictions\u001b[0m\u001b[1;33m)\u001b[0m\u001b[1;33m\u001b[0m\u001b[0m\n\u001b[0;32m     49\u001b[0m     \u001b[0mconfusion_matrix\u001b[0m \u001b[1;33m=\u001b[0m \u001b[0mconfusion_matrix\u001b[0m\u001b[1;33m(\u001b[0m\u001b[0my_train\u001b[0m\u001b[1;33m,\u001b[0m \u001b[0mpredictions\u001b[0m\u001b[1;33m)\u001b[0m\u001b[1;33m\u001b[0m\u001b[0m\n",
      "\u001b[1;32m~\\AppData\\Local\\Continuum\\anaconda3\\lib\\site-packages\\sklearn\\metrics\\classification.py\u001b[0m in \u001b[0;36mrecall_score\u001b[1;34m(y_true, y_pred, labels, pos_label, average, sample_weight)\u001b[0m\n\u001b[0;32m   1365\u001b[0m                                                  \u001b[0maverage\u001b[0m\u001b[1;33m=\u001b[0m\u001b[0maverage\u001b[0m\u001b[1;33m,\u001b[0m\u001b[1;33m\u001b[0m\u001b[0m\n\u001b[0;32m   1366\u001b[0m                                                  \u001b[0mwarn_for\u001b[0m\u001b[1;33m=\u001b[0m\u001b[1;33m(\u001b[0m\u001b[1;34m'recall'\u001b[0m\u001b[1;33m,\u001b[0m\u001b[1;33m)\u001b[0m\u001b[1;33m,\u001b[0m\u001b[1;33m\u001b[0m\u001b[0m\n\u001b[1;32m-> 1367\u001b[1;33m                                                  sample_weight=sample_weight)\n\u001b[0m\u001b[0;32m   1368\u001b[0m     \u001b[1;32mreturn\u001b[0m \u001b[0mr\u001b[0m\u001b[1;33m\u001b[0m\u001b[0m\n\u001b[0;32m   1369\u001b[0m \u001b[1;33m\u001b[0m\u001b[0m\n",
      "\u001b[1;32m~\\AppData\\Local\\Continuum\\anaconda3\\lib\\site-packages\\sklearn\\metrics\\classification.py\u001b[0m in \u001b[0;36mprecision_recall_fscore_support\u001b[1;34m(y_true, y_pred, beta, labels, pos_label, average, warn_for, sample_weight)\u001b[0m\n\u001b[0;32m   1029\u001b[0m         \u001b[1;32mraise\u001b[0m \u001b[0mValueError\u001b[0m\u001b[1;33m(\u001b[0m\u001b[1;34m\"beta should be >0 in the F-beta score\"\u001b[0m\u001b[1;33m)\u001b[0m\u001b[1;33m\u001b[0m\u001b[0m\n\u001b[0;32m   1030\u001b[0m \u001b[1;33m\u001b[0m\u001b[0m\n\u001b[1;32m-> 1031\u001b[1;33m     \u001b[0my_type\u001b[0m\u001b[1;33m,\u001b[0m \u001b[0my_true\u001b[0m\u001b[1;33m,\u001b[0m \u001b[0my_pred\u001b[0m \u001b[1;33m=\u001b[0m \u001b[0m_check_targets\u001b[0m\u001b[1;33m(\u001b[0m\u001b[0my_true\u001b[0m\u001b[1;33m,\u001b[0m \u001b[0my_pred\u001b[0m\u001b[1;33m)\u001b[0m\u001b[1;33m\u001b[0m\u001b[0m\n\u001b[0m\u001b[0;32m   1032\u001b[0m     \u001b[0mcheck_consistent_length\u001b[0m\u001b[1;33m(\u001b[0m\u001b[0my_true\u001b[0m\u001b[1;33m,\u001b[0m \u001b[0my_pred\u001b[0m\u001b[1;33m,\u001b[0m \u001b[0msample_weight\u001b[0m\u001b[1;33m)\u001b[0m\u001b[1;33m\u001b[0m\u001b[0m\n\u001b[0;32m   1033\u001b[0m     \u001b[0mpresent_labels\u001b[0m \u001b[1;33m=\u001b[0m \u001b[0munique_labels\u001b[0m\u001b[1;33m(\u001b[0m\u001b[0my_true\u001b[0m\u001b[1;33m,\u001b[0m \u001b[0my_pred\u001b[0m\u001b[1;33m)\u001b[0m\u001b[1;33m\u001b[0m\u001b[0m\n",
      "\u001b[1;32m~\\AppData\\Local\\Continuum\\anaconda3\\lib\\site-packages\\sklearn\\metrics\\classification.py\u001b[0m in \u001b[0;36m_check_targets\u001b[1;34m(y_true, y_pred)\u001b[0m\n\u001b[0;32m     69\u001b[0m     \u001b[0my_pred\u001b[0m \u001b[1;33m:\u001b[0m \u001b[0marray\u001b[0m \u001b[1;32mor\u001b[0m \u001b[0mindicator\u001b[0m \u001b[0mmatrix\u001b[0m\u001b[1;33m\u001b[0m\u001b[0m\n\u001b[0;32m     70\u001b[0m     \"\"\"\n\u001b[1;32m---> 71\u001b[1;33m     \u001b[0mcheck_consistent_length\u001b[0m\u001b[1;33m(\u001b[0m\u001b[0my_true\u001b[0m\u001b[1;33m,\u001b[0m \u001b[0my_pred\u001b[0m\u001b[1;33m)\u001b[0m\u001b[1;33m\u001b[0m\u001b[0m\n\u001b[0m\u001b[0;32m     72\u001b[0m     \u001b[0mtype_true\u001b[0m \u001b[1;33m=\u001b[0m \u001b[0mtype_of_target\u001b[0m\u001b[1;33m(\u001b[0m\u001b[0my_true\u001b[0m\u001b[1;33m)\u001b[0m\u001b[1;33m\u001b[0m\u001b[0m\n\u001b[0;32m     73\u001b[0m     \u001b[0mtype_pred\u001b[0m \u001b[1;33m=\u001b[0m \u001b[0mtype_of_target\u001b[0m\u001b[1;33m(\u001b[0m\u001b[0my_pred\u001b[0m\u001b[1;33m)\u001b[0m\u001b[1;33m\u001b[0m\u001b[0m\n",
      "\u001b[1;32m~\\AppData\\Local\\Continuum\\anaconda3\\lib\\site-packages\\sklearn\\utils\\validation.py\u001b[0m in \u001b[0;36mcheck_consistent_length\u001b[1;34m(*arrays)\u001b[0m\n\u001b[0;32m    228\u001b[0m     \u001b[1;32mif\u001b[0m \u001b[0mlen\u001b[0m\u001b[1;33m(\u001b[0m\u001b[0muniques\u001b[0m\u001b[1;33m)\u001b[0m \u001b[1;33m>\u001b[0m \u001b[1;36m1\u001b[0m\u001b[1;33m:\u001b[0m\u001b[1;33m\u001b[0m\u001b[0m\n\u001b[0;32m    229\u001b[0m         raise ValueError(\"Found input variables with inconsistent numbers of\"\n\u001b[1;32m--> 230\u001b[1;33m                          \" samples: %r\" % [int(l) for l in lengths])\n\u001b[0m\u001b[0;32m    231\u001b[0m \u001b[1;33m\u001b[0m\u001b[0m\n\u001b[0;32m    232\u001b[0m \u001b[1;33m\u001b[0m\u001b[0m\n",
      "\u001b[1;31mValueError\u001b[0m: Found input variables with inconsistent numbers of samples: [18947, 13812]"
     ]
    }
   ],
   "source": [
    "avg_recall = 0\n",
    "avg_precision = 0\n",
    "for train in train_dfs:\n",
    "    for test in test_dfs:\n",
    "        recall, precision, cm = train_model(train, test, x_columns, 'bloom')\n",
    "        avg_recall += recall\n",
    "        avg_precision += precision\n",
    "        print(\"Recall:\", recall)\n",
    "        print(\"Precision\", precision)\n",
    "        print(\"Confusion Matrix:\\n\", cm)\n",
    "num_models = len(train_dfs) * len(test_dfs)\n",
    "print(\"Average Recall:\", avg_recall / num_models)\n",
    "print(\"Average Precision:\", avg_precision / num_models)"
   ]
  },
  {
   "cell_type": "code",
   "execution_count": null,
   "metadata": {},
   "outputs": [],
   "source": []
  }
 ],
 "metadata": {
  "kernelspec": {
   "display_name": "Python 3",
   "language": "python",
   "name": "python3"
  },
  "language_info": {
   "codemirror_mode": {
    "name": "ipython",
    "version": 3
   },
   "file_extension": ".py",
   "mimetype": "text/x-python",
   "name": "python",
   "nbconvert_exporter": "python",
   "pygments_lexer": "ipython3",
   "version": "3.6.4"
  }
 },
 "nbformat": 4,
 "nbformat_minor": 2
}
