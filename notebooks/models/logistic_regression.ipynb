{
 "cells": [
  {
   "cell_type": "markdown",
   "metadata": {},
   "source": [
    "# Logistic Regression Model"
   ]
  },
  {
   "cell_type": "markdown",
   "metadata": {},
   "source": [
    "## Data Import And Cleaning"
   ]
  },
  {
   "cell_type": "code",
   "execution_count": 1,
   "metadata": {},
   "outputs": [
    {
     "name": "stderr",
     "output_type": "stream",
     "text": [
      "C:\\Users\\mccomackjp\\AppData\\Local\\Continuum\\anaconda3\\lib\\site-packages\\h5py\\__init__.py:36: FutureWarning: Conversion of the second argument of issubdtype from `float` to `np.floating` is deprecated. In future, it will be treated as `np.float64 == np.dtype(float).type`.\n",
      "  from ._conv import register_converters as _register_converters\n",
      "Using TensorFlow backend.\n"
     ]
    }
   ],
   "source": [
    "import pandas as pd\n",
    "import seaborn as sns\n",
    "import matplotlib.pyplot as plt\n",
    "import numpy as np\n",
    "from sklearn.impute import SimpleImputer\n",
    "from sklearn.preprocessing import StandardScaler\n",
    "from sklearn.preprocessing import LabelEncoder\n",
    "from sklearn.linear_model import SGDClassifier\n",
    "from sklearn.metrics import recall_score, precision_score, confusion_matrix\n",
    "from sklearn.metrics import roc_curve, auc\n",
    "import scripts.logistic_regression_functions as lrf\n",
    "import scripts.helper_functions as hf"
   ]
  },
  {
   "cell_type": "code",
   "execution_count": 2,
   "metadata": {},
   "outputs": [
    {
     "data": {
      "text/html": [
       "<div>\n",
       "<style scoped>\n",
       "    .dataframe tbody tr th:only-of-type {\n",
       "        vertical-align: middle;\n",
       "    }\n",
       "\n",
       "    .dataframe tbody tr th {\n",
       "        vertical-align: top;\n",
       "    }\n",
       "\n",
       "    .dataframe thead th {\n",
       "        text-align: right;\n",
       "    }\n",
       "</style>\n",
       "<table border=\"1\" class=\"dataframe\">\n",
       "  <thead>\n",
       "    <tr style=\"text-align: right;\">\n",
       "      <th></th>\n",
       "      <th>Date (mm.dd.yyyy)</th>\n",
       "      <th>Time 24hr</th>\n",
       "      <th>Temp C</th>\n",
       "      <th>Sp Cond (uS/cm)</th>\n",
       "      <th>pH (mV)</th>\n",
       "      <th>pH</th>\n",
       "      <th>Turbidity (NTU)</th>\n",
       "      <th>ODOSat%</th>\n",
       "      <th>ODO (mg/L)</th>\n",
       "      <th>BGA-Phycocyanin RFU</th>\n",
       "    </tr>\n",
       "  </thead>\n",
       "  <tbody>\n",
       "    <tr>\n",
       "      <th>0</th>\n",
       "      <td>5/5/2017</td>\n",
       "      <td>0:00</td>\n",
       "      <td>15.02</td>\n",
       "      <td>1848</td>\n",
       "      <td>-100.1</td>\n",
       "      <td>8.36</td>\n",
       "      <td>16.84</td>\n",
       "      <td>90.2</td>\n",
       "      <td>9.04</td>\n",
       "      <td>0.4</td>\n",
       "    </tr>\n",
       "    <tr>\n",
       "      <th>1</th>\n",
       "      <td>5/5/2017</td>\n",
       "      <td>0:15</td>\n",
       "      <td>14.99</td>\n",
       "      <td>1847</td>\n",
       "      <td>-100.1</td>\n",
       "      <td>8.36</td>\n",
       "      <td>16.76</td>\n",
       "      <td>90.2</td>\n",
       "      <td>9.04</td>\n",
       "      <td>0.4</td>\n",
       "    </tr>\n",
       "    <tr>\n",
       "      <th>2</th>\n",
       "      <td>5/5/2017</td>\n",
       "      <td>0:30</td>\n",
       "      <td>14.96</td>\n",
       "      <td>1847</td>\n",
       "      <td>-100.1</td>\n",
       "      <td>8.36</td>\n",
       "      <td>16.82</td>\n",
       "      <td>90.1</td>\n",
       "      <td>9.04</td>\n",
       "      <td>0.4</td>\n",
       "    </tr>\n",
       "    <tr>\n",
       "      <th>3</th>\n",
       "      <td>5/5/2017</td>\n",
       "      <td>0:45</td>\n",
       "      <td>14.95</td>\n",
       "      <td>1848</td>\n",
       "      <td>-100.1</td>\n",
       "      <td>8.36</td>\n",
       "      <td>17.19</td>\n",
       "      <td>90.0</td>\n",
       "      <td>9.03</td>\n",
       "      <td>0.4</td>\n",
       "    </tr>\n",
       "    <tr>\n",
       "      <th>4</th>\n",
       "      <td>5/5/2017</td>\n",
       "      <td>1:00</td>\n",
       "      <td>14.92</td>\n",
       "      <td>1848</td>\n",
       "      <td>-100.0</td>\n",
       "      <td>8.36</td>\n",
       "      <td>16.85</td>\n",
       "      <td>89.8</td>\n",
       "      <td>9.02</td>\n",
       "      <td>0.4</td>\n",
       "    </tr>\n",
       "  </tbody>\n",
       "</table>\n",
       "</div>"
      ],
      "text/plain": [
       "  Date (mm.dd.yyyy) Time 24hr  Temp C  Sp Cond (uS/cm)  pH (mV)    pH  \\\n",
       "0          5/5/2017      0:00   15.02             1848   -100.1  8.36   \n",
       "1          5/5/2017      0:15   14.99             1847   -100.1  8.36   \n",
       "2          5/5/2017      0:30   14.96             1847   -100.1  8.36   \n",
       "3          5/5/2017      0:45   14.95             1848   -100.1  8.36   \n",
       "4          5/5/2017      1:00   14.92             1848   -100.0  8.36   \n",
       "\n",
       "   Turbidity (NTU)  ODOSat%  ODO (mg/L)  BGA-Phycocyanin RFU  \n",
       "0            16.84     90.2        9.04                  0.4  \n",
       "1            16.76     90.2        9.04                  0.4  \n",
       "2            16.82     90.1        9.04                  0.4  \n",
       "3            17.19     90.0        9.03                  0.4  \n",
       "4            16.85     89.8        9.02                  0.4  "
      ]
     },
     "execution_count": 2,
     "metadata": {},
     "output_type": "execute_result"
    }
   ],
   "source": [
    "train_files = ['../../data/cleaned/utah_2017_vineyard.csv', \n",
    "               '../../data/cleaned/utah_2017_marina.csv',\n",
    "               '../../data/cleaned/utah_2017_bird.csv']\n",
    "\n",
    "test_files = ['../../data/cleaned/utah_2018_vineyard.csv', \n",
    "               '../../data/cleaned/utah_2018_marina.csv',\n",
    "               '../../data/cleaned/utah_2018_bird.csv']\n",
    "\n",
    "drop_columns = ['Chlorophyll ug/L', 'Chlorophyll RFU', 'Wiper Pos V',\n",
    "                'Cable Pwr V', 'Battery V', 'Chlorophyll (ug/L)', 'FDOM RFU']\n",
    "x_columns = ['Temp C', 'Sp Cond (uS/cm)', 'pH (mV)', 'pH', 'Turbidity (NTU)',\n",
    "            'ODOSat%', 'ODO (mg/L)']\n",
    "\n",
    "target_column = 'BGA-Phycocyanin RFU'\n",
    "\n",
    "RFU_THRESHOLD = 2\n",
    "\n",
    "train_dfs = lrf.import_df_data(train_files, drop_columns)\n",
    "test_dfs = lrf.import_df_data(test_files, drop_columns)\n",
    "\n",
    "train_dfs[0].head()"
   ]
  },
  {
   "cell_type": "code",
   "execution_count": 3,
   "metadata": {},
   "outputs": [
    {
     "data": {
      "text/html": [
       "<div>\n",
       "<style scoped>\n",
       "    .dataframe tbody tr th:only-of-type {\n",
       "        vertical-align: middle;\n",
       "    }\n",
       "\n",
       "    .dataframe tbody tr th {\n",
       "        vertical-align: top;\n",
       "    }\n",
       "\n",
       "    .dataframe thead th {\n",
       "        text-align: right;\n",
       "    }\n",
       "</style>\n",
       "<table border=\"1\" class=\"dataframe\">\n",
       "  <thead>\n",
       "    <tr style=\"text-align: right;\">\n",
       "      <th></th>\n",
       "      <th>Time America/Boise UTC-06:00</th>\n",
       "      <th>Temperature C</th>\n",
       "      <th>Sp Cond uS/cm</th>\n",
       "      <th>pH mV</th>\n",
       "      <th>pH</th>\n",
       "      <th>Turbidity NTU</th>\n",
       "      <th>ODOSat %</th>\n",
       "      <th>ODO mg/L</th>\n",
       "      <th>BGA-Phycocyanin RFU</th>\n",
       "    </tr>\n",
       "  </thead>\n",
       "  <tbody>\n",
       "    <tr>\n",
       "      <th>0</th>\n",
       "      <td>4/11/2018 12:00</td>\n",
       "      <td>10.39</td>\n",
       "      <td>1885</td>\n",
       "      <td>-87.7</td>\n",
       "      <td>8.45</td>\n",
       "      <td>47.62</td>\n",
       "      <td>84.9</td>\n",
       "      <td>9.44</td>\n",
       "      <td>0.6</td>\n",
       "    </tr>\n",
       "    <tr>\n",
       "      <th>1</th>\n",
       "      <td>4/11/2018 12:15</td>\n",
       "      <td>11.67</td>\n",
       "      <td>1887</td>\n",
       "      <td>-89.3</td>\n",
       "      <td>8.48</td>\n",
       "      <td>43.17</td>\n",
       "      <td>90.4</td>\n",
       "      <td>9.75</td>\n",
       "      <td>0.5</td>\n",
       "    </tr>\n",
       "    <tr>\n",
       "      <th>2</th>\n",
       "      <td>4/11/2018 12:30</td>\n",
       "      <td>11.42</td>\n",
       "      <td>1890</td>\n",
       "      <td>-89.4</td>\n",
       "      <td>8.48</td>\n",
       "      <td>43.86</td>\n",
       "      <td>90.0</td>\n",
       "      <td>9.78</td>\n",
       "      <td>0.6</td>\n",
       "    </tr>\n",
       "    <tr>\n",
       "      <th>3</th>\n",
       "      <td>4/11/2018 12:45</td>\n",
       "      <td>11.40</td>\n",
       "      <td>1887</td>\n",
       "      <td>-89.7</td>\n",
       "      <td>8.49</td>\n",
       "      <td>43.42</td>\n",
       "      <td>89.6</td>\n",
       "      <td>9.73</td>\n",
       "      <td>0.6</td>\n",
       "    </tr>\n",
       "    <tr>\n",
       "      <th>4</th>\n",
       "      <td>4/11/2018 13:00</td>\n",
       "      <td>11.08</td>\n",
       "      <td>1885</td>\n",
       "      <td>-89.8</td>\n",
       "      <td>8.49</td>\n",
       "      <td>44.26</td>\n",
       "      <td>88.4</td>\n",
       "      <td>9.67</td>\n",
       "      <td>0.6</td>\n",
       "    </tr>\n",
       "  </tbody>\n",
       "</table>\n",
       "</div>"
      ],
      "text/plain": [
       "  Time America/Boise UTC-06:00  Temperature C  Sp Cond uS/cm  pH mV    pH  \\\n",
       "0              4/11/2018 12:00          10.39           1885  -87.7  8.45   \n",
       "1              4/11/2018 12:15          11.67           1887  -89.3  8.48   \n",
       "2              4/11/2018 12:30          11.42           1890  -89.4  8.48   \n",
       "3              4/11/2018 12:45          11.40           1887  -89.7  8.49   \n",
       "4              4/11/2018 13:00          11.08           1885  -89.8  8.49   \n",
       "\n",
       "   Turbidity NTU  ODOSat %  ODO mg/L  BGA-Phycocyanin RFU  \n",
       "0          47.62      84.9      9.44                  0.6  \n",
       "1          43.17      90.4      9.75                  0.5  \n",
       "2          43.86      90.0      9.78                  0.6  \n",
       "3          43.42      89.6      9.73                  0.6  \n",
       "4          44.26      88.4      9.67                  0.6  "
      ]
     },
     "execution_count": 3,
     "metadata": {},
     "output_type": "execute_result"
    }
   ],
   "source": [
    "test_dfs[0].head()"
   ]
  },
  {
   "cell_type": "markdown",
   "metadata": {},
   "source": [
    "## Use Datetime Index"
   ]
  },
  {
   "cell_type": "code",
   "execution_count": 4,
   "metadata": {},
   "outputs": [
    {
     "name": "stdout",
     "output_type": "stream",
     "text": [
      "Time America/Boise UTC-06:00     object\n",
      "Temperature C                   float64\n",
      "Sp Cond uS/cm                     int64\n",
      "pH mV                           float64\n",
      "pH                              float64\n",
      "Turbidity NTU                   float64\n",
      "ODOSat %                        float64\n",
      "ODO mg/L                        float64\n",
      "BGA-Phycocyanin RFU             float64\n",
      "dtype: object\n",
      "Date (mm.dd.yyyy)       object\n",
      "Time 24hr               object\n",
      "Temp C                 float64\n",
      "Sp Cond (uS/cm)          int64\n",
      "pH (mV)                float64\n",
      "pH                     float64\n",
      "Turbidity (NTU)        float64\n",
      "ODOSat%                float64\n",
      "ODO (mg/L)             float64\n",
      "BGA-Phycocyanin RFU    float64\n",
      "dtype: object\n"
     ]
    }
   ],
   "source": [
    "print(test_dfs[0].dtypes)\n",
    "print(train_dfs[0].dtypes)"
   ]
  },
  {
   "cell_type": "code",
   "execution_count": 5,
   "metadata": {},
   "outputs": [
    {
     "data": {
      "text/html": [
       "<div>\n",
       "<style scoped>\n",
       "    .dataframe tbody tr th:only-of-type {\n",
       "        vertical-align: middle;\n",
       "    }\n",
       "\n",
       "    .dataframe tbody tr th {\n",
       "        vertical-align: top;\n",
       "    }\n",
       "\n",
       "    .dataframe thead th {\n",
       "        text-align: right;\n",
       "    }\n",
       "</style>\n",
       "<table border=\"1\" class=\"dataframe\">\n",
       "  <thead>\n",
       "    <tr style=\"text-align: right;\">\n",
       "      <th></th>\n",
       "      <th>Temp C</th>\n",
       "      <th>Sp Cond (uS/cm)</th>\n",
       "      <th>pH (mV)</th>\n",
       "      <th>pH</th>\n",
       "      <th>Turbidity (NTU)</th>\n",
       "      <th>ODOSat%</th>\n",
       "      <th>ODO (mg/L)</th>\n",
       "      <th>BGA-Phycocyanin RFU</th>\n",
       "      <th>datetime</th>\n",
       "    </tr>\n",
       "    <tr>\n",
       "      <th>timestamp</th>\n",
       "      <th></th>\n",
       "      <th></th>\n",
       "      <th></th>\n",
       "      <th></th>\n",
       "      <th></th>\n",
       "      <th></th>\n",
       "      <th></th>\n",
       "      <th></th>\n",
       "      <th></th>\n",
       "    </tr>\n",
       "  </thead>\n",
       "  <tbody>\n",
       "    <tr>\n",
       "      <th>2017-05-05 00:00:00</th>\n",
       "      <td>15.02</td>\n",
       "      <td>1848</td>\n",
       "      <td>-100.1</td>\n",
       "      <td>8.36</td>\n",
       "      <td>16.84</td>\n",
       "      <td>90.2</td>\n",
       "      <td>9.04</td>\n",
       "      <td>0.4</td>\n",
       "      <td>2017-05-05 00:00:00</td>\n",
       "    </tr>\n",
       "    <tr>\n",
       "      <th>2017-05-05 00:15:00</th>\n",
       "      <td>14.99</td>\n",
       "      <td>1847</td>\n",
       "      <td>-100.1</td>\n",
       "      <td>8.36</td>\n",
       "      <td>16.76</td>\n",
       "      <td>90.2</td>\n",
       "      <td>9.04</td>\n",
       "      <td>0.4</td>\n",
       "      <td>2017-05-05 00:15:00</td>\n",
       "    </tr>\n",
       "    <tr>\n",
       "      <th>2017-05-05 00:30:00</th>\n",
       "      <td>14.96</td>\n",
       "      <td>1847</td>\n",
       "      <td>-100.1</td>\n",
       "      <td>8.36</td>\n",
       "      <td>16.82</td>\n",
       "      <td>90.1</td>\n",
       "      <td>9.04</td>\n",
       "      <td>0.4</td>\n",
       "      <td>2017-05-05 00:30:00</td>\n",
       "    </tr>\n",
       "    <tr>\n",
       "      <th>2017-05-05 00:45:00</th>\n",
       "      <td>14.95</td>\n",
       "      <td>1848</td>\n",
       "      <td>-100.1</td>\n",
       "      <td>8.36</td>\n",
       "      <td>17.19</td>\n",
       "      <td>90.0</td>\n",
       "      <td>9.03</td>\n",
       "      <td>0.4</td>\n",
       "      <td>2017-05-05 00:45:00</td>\n",
       "    </tr>\n",
       "    <tr>\n",
       "      <th>2017-05-05 01:00:00</th>\n",
       "      <td>14.92</td>\n",
       "      <td>1848</td>\n",
       "      <td>-100.0</td>\n",
       "      <td>8.36</td>\n",
       "      <td>16.85</td>\n",
       "      <td>89.8</td>\n",
       "      <td>9.02</td>\n",
       "      <td>0.4</td>\n",
       "      <td>2017-05-05 01:00:00</td>\n",
       "    </tr>\n",
       "  </tbody>\n",
       "</table>\n",
       "</div>"
      ],
      "text/plain": [
       "                     Temp C  Sp Cond (uS/cm)  pH (mV)    pH  Turbidity (NTU)  \\\n",
       "timestamp                                                                      \n",
       "2017-05-05 00:00:00   15.02             1848   -100.1  8.36            16.84   \n",
       "2017-05-05 00:15:00   14.99             1847   -100.1  8.36            16.76   \n",
       "2017-05-05 00:30:00   14.96             1847   -100.1  8.36            16.82   \n",
       "2017-05-05 00:45:00   14.95             1848   -100.1  8.36            17.19   \n",
       "2017-05-05 01:00:00   14.92             1848   -100.0  8.36            16.85   \n",
       "\n",
       "                     ODOSat%  ODO (mg/L)  BGA-Phycocyanin RFU  \\\n",
       "timestamp                                                       \n",
       "2017-05-05 00:00:00     90.2        9.04                  0.4   \n",
       "2017-05-05 00:15:00     90.2        9.04                  0.4   \n",
       "2017-05-05 00:30:00     90.1        9.04                  0.4   \n",
       "2017-05-05 00:45:00     90.0        9.03                  0.4   \n",
       "2017-05-05 01:00:00     89.8        9.02                  0.4   \n",
       "\n",
       "                               datetime  \n",
       "timestamp                                \n",
       "2017-05-05 00:00:00 2017-05-05 00:00:00  \n",
       "2017-05-05 00:15:00 2017-05-05 00:15:00  \n",
       "2017-05-05 00:30:00 2017-05-05 00:30:00  \n",
       "2017-05-05 00:45:00 2017-05-05 00:45:00  \n",
       "2017-05-05 01:00:00 2017-05-05 01:00:00  "
      ]
     },
     "execution_count": 5,
     "metadata": {},
     "output_type": "execute_result"
    }
   ],
   "source": [
    "# We will need to engineer a datetime column for our 2017 data\n",
    "\n",
    "# Create a single datetime column from the strings provided in our csv's\n",
    "for i in range(0, len(train_dfs)):\n",
    "    timestamp = train_dfs[i]['Date (mm.dd.yyyy)'] + ' '+ train_dfs[i]['Time 24hr']\n",
    "    timestamp = pd.to_datetime(timestamp)\n",
    "    train_dfs[i]['timestamp'] = timestamp\n",
    "    train_dfs[i]['datetime'] = timestamp\n",
    "    train_dfs[i] = train_dfs[i].set_index('timestamp')\n",
    "    train_dfs[i] = train_dfs[i].drop(columns=['Date (mm.dd.yyyy)', 'Time 24hr'])\n",
    "train_dfs[0].head()"
   ]
  },
  {
   "cell_type": "code",
   "execution_count": 6,
   "metadata": {},
   "outputs": [
    {
     "data": {
      "text/html": [
       "<div>\n",
       "<style scoped>\n",
       "    .dataframe tbody tr th:only-of-type {\n",
       "        vertical-align: middle;\n",
       "    }\n",
       "\n",
       "    .dataframe tbody tr th {\n",
       "        vertical-align: top;\n",
       "    }\n",
       "\n",
       "    .dataframe thead th {\n",
       "        text-align: right;\n",
       "    }\n",
       "</style>\n",
       "<table border=\"1\" class=\"dataframe\">\n",
       "  <thead>\n",
       "    <tr style=\"text-align: right;\">\n",
       "      <th></th>\n",
       "      <th>Temperature C</th>\n",
       "      <th>Sp Cond uS/cm</th>\n",
       "      <th>pH mV</th>\n",
       "      <th>pH</th>\n",
       "      <th>Turbidity NTU</th>\n",
       "      <th>ODOSat %</th>\n",
       "      <th>ODO mg/L</th>\n",
       "      <th>BGA-Phycocyanin RFU</th>\n",
       "      <th>datetime</th>\n",
       "    </tr>\n",
       "    <tr>\n",
       "      <th>timestamp</th>\n",
       "      <th></th>\n",
       "      <th></th>\n",
       "      <th></th>\n",
       "      <th></th>\n",
       "      <th></th>\n",
       "      <th></th>\n",
       "      <th></th>\n",
       "      <th></th>\n",
       "      <th></th>\n",
       "    </tr>\n",
       "  </thead>\n",
       "  <tbody>\n",
       "    <tr>\n",
       "      <th>2018-04-11 12:00:00</th>\n",
       "      <td>10.39</td>\n",
       "      <td>1885</td>\n",
       "      <td>-87.7</td>\n",
       "      <td>8.45</td>\n",
       "      <td>47.62</td>\n",
       "      <td>84.9</td>\n",
       "      <td>9.44</td>\n",
       "      <td>0.6</td>\n",
       "      <td>2018-04-11 12:00:00</td>\n",
       "    </tr>\n",
       "    <tr>\n",
       "      <th>2018-04-11 12:15:00</th>\n",
       "      <td>11.67</td>\n",
       "      <td>1887</td>\n",
       "      <td>-89.3</td>\n",
       "      <td>8.48</td>\n",
       "      <td>43.17</td>\n",
       "      <td>90.4</td>\n",
       "      <td>9.75</td>\n",
       "      <td>0.5</td>\n",
       "      <td>2018-04-11 12:15:00</td>\n",
       "    </tr>\n",
       "    <tr>\n",
       "      <th>2018-04-11 12:30:00</th>\n",
       "      <td>11.42</td>\n",
       "      <td>1890</td>\n",
       "      <td>-89.4</td>\n",
       "      <td>8.48</td>\n",
       "      <td>43.86</td>\n",
       "      <td>90.0</td>\n",
       "      <td>9.78</td>\n",
       "      <td>0.6</td>\n",
       "      <td>2018-04-11 12:30:00</td>\n",
       "    </tr>\n",
       "    <tr>\n",
       "      <th>2018-04-11 12:45:00</th>\n",
       "      <td>11.40</td>\n",
       "      <td>1887</td>\n",
       "      <td>-89.7</td>\n",
       "      <td>8.49</td>\n",
       "      <td>43.42</td>\n",
       "      <td>89.6</td>\n",
       "      <td>9.73</td>\n",
       "      <td>0.6</td>\n",
       "      <td>2018-04-11 12:45:00</td>\n",
       "    </tr>\n",
       "    <tr>\n",
       "      <th>2018-04-11 13:00:00</th>\n",
       "      <td>11.08</td>\n",
       "      <td>1885</td>\n",
       "      <td>-89.8</td>\n",
       "      <td>8.49</td>\n",
       "      <td>44.26</td>\n",
       "      <td>88.4</td>\n",
       "      <td>9.67</td>\n",
       "      <td>0.6</td>\n",
       "      <td>2018-04-11 13:00:00</td>\n",
       "    </tr>\n",
       "  </tbody>\n",
       "</table>\n",
       "</div>"
      ],
      "text/plain": [
       "                     Temperature C  Sp Cond uS/cm  pH mV    pH  Turbidity NTU  \\\n",
       "timestamp                                                                       \n",
       "2018-04-11 12:00:00          10.39           1885  -87.7  8.45          47.62   \n",
       "2018-04-11 12:15:00          11.67           1887  -89.3  8.48          43.17   \n",
       "2018-04-11 12:30:00          11.42           1890  -89.4  8.48          43.86   \n",
       "2018-04-11 12:45:00          11.40           1887  -89.7  8.49          43.42   \n",
       "2018-04-11 13:00:00          11.08           1885  -89.8  8.49          44.26   \n",
       "\n",
       "                     ODOSat %  ODO mg/L  BGA-Phycocyanin RFU  \\\n",
       "timestamp                                                      \n",
       "2018-04-11 12:00:00      84.9      9.44                  0.6   \n",
       "2018-04-11 12:15:00      90.4      9.75                  0.5   \n",
       "2018-04-11 12:30:00      90.0      9.78                  0.6   \n",
       "2018-04-11 12:45:00      89.6      9.73                  0.6   \n",
       "2018-04-11 13:00:00      88.4      9.67                  0.6   \n",
       "\n",
       "                               datetime  \n",
       "timestamp                                \n",
       "2018-04-11 12:00:00 2018-04-11 12:00:00  \n",
       "2018-04-11 12:15:00 2018-04-11 12:15:00  \n",
       "2018-04-11 12:30:00 2018-04-11 12:30:00  \n",
       "2018-04-11 12:45:00 2018-04-11 12:45:00  \n",
       "2018-04-11 13:00:00 2018-04-11 13:00:00  "
      ]
     },
     "execution_count": 6,
     "metadata": {},
     "output_type": "execute_result"
    }
   ],
   "source": [
    "# Now to datetime index our 2018 data\n",
    "for i in range(0, len(test_dfs)):\n",
    "    timestamp = pd.to_datetime(test_dfs[i]['Time America/Boise UTC-06:00'])\n",
    "    test_dfs[i]['timestamp'] = timestamp\n",
    "    test_dfs[i]['datetime'] = timestamp\n",
    "    test_dfs[i] = test_dfs[i].set_index('timestamp')\n",
    "    test_dfs[i] = test_dfs[i].drop(columns=['Time America/Boise UTC-06:00'])\n",
    "test_dfs[0].head()"
   ]
  },
  {
   "cell_type": "code",
   "execution_count": 7,
   "metadata": {},
   "outputs": [
    {
     "name": "stdout",
     "output_type": "stream",
     "text": [
      "Index(['Temp C', 'Sp Cond (uS/cm)', 'pH (mV)', 'pH', 'Turbidity (NTU)',\n",
      "       'ODOSat%', 'ODO (mg/L)', 'BGA-Phycocyanin RFU', 'datetime'],\n",
      "      dtype='object')\n",
      "9\n",
      "Index(['Temp C', 'Sp Cond (uS/cm)', 'pH (mV)', 'pH', 'Turbidity (NTU)',\n",
      "       'ODOSat%', 'ODO (mg/L)', 'BGA-Phycocyanin RFU', 'datetime'],\n",
      "      dtype='object')\n",
      "9\n",
      "Index(['Temp C', 'Sp Cond (uS/cm)', 'pH (mV)', 'pH', 'Turbidity (NTU)',\n",
      "       'ODOSat%', 'ODO (mg/L)', 'BGA-Phycocyanin RFU', 'datetime'],\n",
      "      dtype='object')\n",
      "9\n",
      "Index(['Temperature C', 'Sp Cond uS/cm', 'pH mV', 'pH', 'Turbidity NTU',\n",
      "       'ODOSat %', 'ODO mg/L', 'BGA-Phycocyanin RFU', 'datetime'],\n",
      "      dtype='object')\n",
      "9\n",
      "Index(['Temperature C', 'Sp Cond uS/cm', 'pH mV', 'pH', 'Turbidity NTU',\n",
      "       'ODOSat %', 'ODO mg/L', 'BGA-Phycocyanin RFU', 'datetime'],\n",
      "      dtype='object')\n",
      "9\n",
      "Index(['Temperature C', 'Sp Cond uS/cm', 'pH mV', 'pH', 'Turbidity NTU',\n",
      "       'ODOSat %', 'ODO mg/L', 'BGA-Phycocyanin RFU', 'datetime'],\n",
      "      dtype='object')\n",
      "9\n"
     ]
    }
   ],
   "source": [
    "for df in train_dfs + test_dfs:\n",
    "    print(df.columns)\n",
    "    print(len(df.columns))"
   ]
  },
  {
   "cell_type": "code",
   "execution_count": 8,
   "metadata": {},
   "outputs": [
    {
     "name": "stdout",
     "output_type": "stream",
     "text": [
      "New Columns: Index(['Temp C', 'Sp Cond (uS/cm)', 'pH (mV)', 'pH', 'Turbidity (NTU)',\n",
      "       'ODOSat%', 'ODO (mg/L)', 'BGA-Phycocyanin RFU', 'datetime'],\n",
      "      dtype='object')\n",
      "New Columns: Index(['Temp C', 'Sp Cond (uS/cm)', 'pH (mV)', 'pH', 'Turbidity (NTU)',\n",
      "       'ODOSat%', 'ODO (mg/L)', 'BGA-Phycocyanin RFU', 'datetime'],\n",
      "      dtype='object')\n",
      "New Columns: Index(['Temp C', 'Sp Cond (uS/cm)', 'pH (mV)', 'pH', 'Turbidity (NTU)',\n",
      "       'ODOSat%', 'ODO (mg/L)', 'BGA-Phycocyanin RFU', 'datetime'],\n",
      "      dtype='object')\n",
      "New Columns: Index(['Temp C', 'Sp Cond (uS/cm)', 'pH (mV)', 'pH', 'Turbidity (NTU)',\n",
      "       'ODOSat%', 'ODO (mg/L)', 'BGA-Phycocyanin RFU', 'datetime'],\n",
      "      dtype='object')\n",
      "New Columns: Index(['Temp C', 'Sp Cond (uS/cm)', 'pH (mV)', 'pH', 'Turbidity (NTU)',\n",
      "       'ODOSat%', 'ODO (mg/L)', 'BGA-Phycocyanin RFU', 'datetime'],\n",
      "      dtype='object')\n",
      "New Columns: Index(['Temp C', 'Sp Cond (uS/cm)', 'pH (mV)', 'pH', 'Turbidity (NTU)',\n",
      "       'ODOSat%', 'ODO (mg/L)', 'BGA-Phycocyanin RFU', 'datetime'],\n",
      "      dtype='object')\n"
     ]
    }
   ],
   "source": [
    "# Rename columns to be the same\n",
    "for df in train_dfs + test_dfs:\n",
    "    df.columns = x_columns + [target_column, 'datetime']\n",
    "    print(\"New Columns:\", df.columns)"
   ]
  },
  {
   "cell_type": "markdown",
   "metadata": {},
   "source": [
    "## BGA RFU Levels"
   ]
  },
  {
   "cell_type": "code",
   "execution_count": 9,
   "metadata": {},
   "outputs": [
    {
     "data": {
      "image/png": "[encoded data removed]",
      "text/plain": [
       "<Figure size 432x288 with 1 Axes>"
      ]
     },
     "metadata": {},
     "output_type": "display_data"
    }
   ],
   "source": [
    "presegmented_plot = sns.lineplot(data=pd.DataFrame({\n",
    "    'BGA RFU': train_dfs[0][target_column].values,\n",
    "    'Bloom Threshold': np.full(train_dfs[0].count()[0], RFU_THRESHOLD)}))"
   ]
  },
  {
   "cell_type": "code",
   "execution_count": 10,
   "metadata": {},
   "outputs": [],
   "source": [
    "def windowize(df, time_column):\n",
    "    print(\"Segmenting...\")\n",
    "    x_windows, y_windows = hf.segment_dataset(df, time_column)\n",
    "    print(\"Extracting feature windows...\")\n",
    "    x_windows = hf.extract_percentile(x_windows, time_column)\n",
    "    print(\"Extracting target windows...\")\n",
    "    y_windows = hf.extract_percentile(y_windows, time_column)\n",
    "    print(\"Combining extractions...\")\n",
    "    x_windows[target_column] = y_windows[target_column].values\n",
    "    return x_windows"
   ]
  },
  {
   "cell_type": "code",
   "execution_count": 11,
   "metadata": {},
   "outputs": [
    {
     "name": "stdout",
     "output_type": "stream",
     "text": [
      "Windowizing 2017 data set: 1\n",
      "Segmenting...\n",
      "Extracting feature windows...\n",
      "Extracting target windows...\n",
      "Combining extractions...\n",
      "Windowizing 2018 data set: 1\n",
      "Segmenting...\n",
      "Extracting feature windows...\n",
      "Extracting target windows...\n",
      "Combining extractions...\n",
      "\n",
      "Windowizing 2017 data set: 2\n",
      "Segmenting...\n",
      "Extracting feature windows...\n",
      "Extracting target windows...\n",
      "Combining extractions...\n",
      "Windowizing 2018 data set: 2\n",
      "Segmenting...\n",
      "Extracting feature windows...\n",
      "Extracting target windows...\n",
      "Combining extractions...\n",
      "\n",
      "Windowizing 2017 data set: 3\n",
      "Segmenting...\n",
      "Extracting feature windows...\n",
      "Extracting target windows...\n",
      "Combining extractions...\n",
      "Windowizing 2018 data set: 3\n",
      "Segmenting...\n",
      "Extracting feature windows...\n",
      "Extracting target windows...\n",
      "Combining extractions...\n",
      "\n"
     ]
    }
   ],
   "source": [
    "# Segment each data frame\n",
    "for i in range(0, len(train_dfs)):\n",
    "    print(\"Windowizing 2017 data set:\", i+1)\n",
    "    train_dfs[i] = windowize(train_dfs[i], 'datetime')\n",
    "    print(\"Windowizing 2018 data set:\", i+1)\n",
    "    test_dfs[i] = windowize(test_dfs[i], 'datetime')\n",
    "    print()"
   ]
  },
  {
   "cell_type": "code",
   "execution_count": 12,
   "metadata": {},
   "outputs": [
    {
     "data": {
      "text/plain": [
       "<matplotlib.axes._subplots.AxesSubplot at 0x1d7d0bf7cf8>"
      ]
     },
     "execution_count": 12,
     "metadata": {},
     "output_type": "execute_result"
    }
   ],
   "source": [
    "presegmented_plot"
   ]
  },
  {
   "cell_type": "code",
   "execution_count": 13,
   "metadata": {},
   "outputs": [
    {
     "data": {
      "text/plain": [
       "<matplotlib.axes._subplots.AxesSubplot at 0x1d7d3bcc240>"
      ]
     },
     "execution_count": 13,
     "metadata": {},
     "output_type": "execute_result"
    },
    {
     "data": {
      "image/png": "[encoded data removed]",
      "text/plain": [
       "<Figure size 432x288 with 1 Axes>"
      ]
     },
     "metadata": {},
     "output_type": "display_data"
    }
   ],
   "source": [
    "sns.lineplot(data=pd.DataFrame({\n",
    "    'BGA RFU': train_dfs[0][target_column].values,\n",
    "    'Bloom Threshold': np.full(train_dfs[0].count()[0], RFU_THRESHOLD)}))"
   ]
  },
  {
   "cell_type": "markdown",
   "metadata": {},
   "source": [
    "## Greedy Model"
   ]
  },
  {
   "cell_type": "code",
   "execution_count": 14,
   "metadata": {},
   "outputs": [],
   "source": [
    "lrf.add_target_column(train_dfs + test_dfs, threshold=RFU_THRESHOLD)"
   ]
  },
  {
   "cell_type": "code",
   "execution_count": 15,
   "metadata": {},
   "outputs": [
    {
     "name": "stdout",
     "output_type": "stream",
     "text": [
      "Training model with: Temp C\n"
     ]
    },
    {
     "name": "stderr",
     "output_type": "stream",
     "text": [
      "C:\\Users\\mccomackjp\\AppData\\Local\\Continuum\\anaconda3\\lib\\site-packages\\sklearn\\metrics\\classification.py:1143: UndefinedMetricWarning: Precision is ill-defined and being set to 0.0 due to no predicted samples.\n",
      "  'precision', 'predicted', average, warn_for)\n"
     ]
    },
    {
     "name": "stdout",
     "output_type": "stream",
     "text": [
      "Recall: 0.0\n",
      "Precision 0.0\n",
      "Confusion Matrix:\n",
      " [[4214    0]\n",
      " [ 585    0]]\n",
      "\n",
      "Training model with: Sp Cond (uS/cm)\n",
      "Recall: 0.005128205128205128\n",
      "Precision 1.0\n",
      "Confusion Matrix:\n",
      " [[4214    0]\n",
      " [ 582    3]]\n",
      "\n",
      "Training model with: pH (mV)\n"
     ]
    },
    {
     "name": "stderr",
     "output_type": "stream",
     "text": [
      "C:\\Users\\mccomackjp\\AppData\\Local\\Continuum\\anaconda3\\lib\\site-packages\\sklearn\\metrics\\classification.py:1143: UndefinedMetricWarning: Precision is ill-defined and being set to 0.0 due to no predicted samples.\n",
      "  'precision', 'predicted', average, warn_for)\n"
     ]
    },
    {
     "name": "stdout",
     "output_type": "stream",
     "text": [
      "Recall: 0.0\n",
      "Precision 0.0\n",
      "Confusion Matrix:\n",
      " [[4214    0]\n",
      " [ 585    0]]\n",
      "\n",
      "Training model with: pH\n"
     ]
    },
    {
     "name": "stderr",
     "output_type": "stream",
     "text": [
      "C:\\Users\\mccomackjp\\AppData\\Local\\Continuum\\anaconda3\\lib\\site-packages\\sklearn\\metrics\\classification.py:1143: UndefinedMetricWarning: Precision is ill-defined and being set to 0.0 due to no predicted samples.\n",
      "  'precision', 'predicted', average, warn_for)\n"
     ]
    },
    {
     "name": "stdout",
     "output_type": "stream",
     "text": [
      "Recall: 0.0\n",
      "Precision 0.0\n",
      "Confusion Matrix:\n",
      " [[4214    0]\n",
      " [ 585    0]]\n",
      "\n",
      "Training model with: Turbidity (NTU)\n"
     ]
    },
    {
     "name": "stderr",
     "output_type": "stream",
     "text": [
      "C:\\Users\\mccomackjp\\AppData\\Local\\Continuum\\anaconda3\\lib\\site-packages\\sklearn\\metrics\\classification.py:1143: UndefinedMetricWarning: Precision is ill-defined and being set to 0.0 due to no predicted samples.\n",
      "  'precision', 'predicted', average, warn_for)\n"
     ]
    },
    {
     "name": "stdout",
     "output_type": "stream",
     "text": [
      "Recall: 0.0\n",
      "Precision 0.0\n",
      "Confusion Matrix:\n",
      " [[4214    0]\n",
      " [ 585    0]]\n",
      "\n",
      "Training model with: ODOSat%\n",
      "Recall: 0.2905982905982906\n",
      "Precision 0.783410138248848\n",
      "Confusion Matrix:\n",
      " [[4167   47]\n",
      " [ 415  170]]\n",
      "\n",
      "Training model with: ODO (mg/L)\n",
      "Recall: 0.2923076923076923\n",
      "Precision 0.7844036697247706\n",
      "Confusion Matrix:\n",
      " [[4167   47]\n",
      " [ 414  171]]\n",
      "\n",
      "ODO (mg/L) recall: 0.2923076923076923\n",
      "ODOSat% recall: 0.2905982905982906\n",
      "Sp Cond (uS/cm) recall: 0.005128205128205128\n",
      "Temp C recall: 0.0\n",
      "pH (mV) recall: 0.0\n",
      "pH recall: 0.0\n",
      "Turbidity (NTU) recall: 0.0\n"
     ]
    }
   ],
   "source": [
    "# Sort columns by recall\n",
    "sorted_columns = lrf.sort_columns_by_recall(train_dfs[0], \n",
    "                                            test_dfs[0],\n",
    "                                            x_columns,\n",
    "                                            'bloom')"
   ]
  },
  {
   "cell_type": "code",
   "execution_count": 16,
   "metadata": {},
   "outputs": [
    {
     "name": "stderr",
     "output_type": "stream",
     "text": [
      "C:\\Users\\mccomackjp\\AppData\\Local\\Continuum\\anaconda3\\lib\\site-packages\\sklearn\\metrics\\classification.py:1143: UndefinedMetricWarning: Precision is ill-defined and being set to 0.0 due to no predicted samples.\n",
      "  'precision', 'predicted', average, warn_for)\n"
     ]
    },
    {
     "name": "stdout",
     "output_type": "stream",
     "text": [
      "Training model with: ['ODO (mg/L)']\n",
      "Test model recall: 0.2923076923076923\n",
      "Test model precision: 0.7844036697247706\n",
      "\n",
      "Updating greedy model\n",
      "\n",
      "Training model with: ['ODO (mg/L)', 'ODOSat%']\n",
      "Test model recall: 0.2905982905982906\n",
      "Test model precision: 0.783410138248848\n",
      "\n",
      "Training model with: ['ODO (mg/L)', 'Sp Cond (uS/cm)']\n",
      "Test model recall: 0.005128205128205128\n",
      "Test model precision: 1.0\n",
      "\n",
      "Training model with: ['ODO (mg/L)', 'Temp C']\n",
      "Test model recall: 0.2905982905982906\n",
      "Test model precision: 0.783410138248848\n",
      "\n",
      "Training model with: ['ODO (mg/L)', 'pH (mV)']\n",
      "Test model recall: 0.3418803418803419\n",
      "Test model precision: 0.2849002849002849\n",
      "\n",
      "Updating greedy model\n",
      "\n",
      "Training model with: ['ODO (mg/L)', 'pH (mV)', 'pH']\n",
      "Test model recall: 0.17435897435897435\n",
      "Test model precision: 0.04737575476079889\n",
      "\n",
      "Training model with: ['ODO (mg/L)', 'pH (mV)', 'Turbidity (NTU)']\n",
      "Test model recall: 0.3418803418803419\n",
      "Test model precision: 0.2849002849002849\n",
      "\n",
      "Final greedy columns: ['ODO (mg/L)', 'pH (mV)']\n",
      "Final greedy recall: 0.3418803418803419\n",
      "Final greedy precision: 0.3418803418803419\n",
      "Final greedy confusion matrix:\n",
      " [[3712  502]\n",
      " [ 385  200]]\n"
     ]
    }
   ],
   "source": [
    "#create greedy model\n",
    "recall, precision, cm, predictions, predictions_prob, model = lrf.greedy_model(\n",
    "    train_dfs[0], test_dfs[0], x_columns, 'bloom', sorted_columns)\n"
   ]
  },
  {
   "cell_type": "code",
   "execution_count": 17,
   "metadata": {},
   "outputs": [
    {
     "name": "stdout",
     "output_type": "stream",
     "text": [
      "Model AUC: 0.6558\n"
     ]
    },
    {
     "data": {
      "image/png": "[encoded data removed]",
      "text/plain": [
       "<Figure size 432x288 with 1 Axes>"
      ]
     },
     "metadata": {},
     "output_type": "display_data"
    }
   ],
   "source": [
    "# Print the ROC curve.\n",
    "predictions = [x[1] for x in predictions_prob]\n",
    "lrf.roc_plot(test_dfs[0][['bloom']].values, predictions)"
   ]
  },
  {
   "cell_type": "markdown",
   "metadata": {},
   "source": [
    "## Cross training sites for comparison"
   ]
  },
  {
   "cell_type": "code",
   "execution_count": 18,
   "metadata": {},
   "outputs": [
    {
     "name": "stdout",
     "output_type": "stream",
     "text": [
      "Training on: ../../data/cleaned/utah_2017_vineyard.csv\n",
      "Testing on: ../../data/cleaned/utah_2018_vineyard.csv\n",
      "Recall: 0.17435897435897435\n",
      "Precision 0.052120592743995914\n",
      "Confusion Matrix:\n",
      " [[2359 1855]\n",
      " [ 483  102]]\n",
      "\n",
      "Training on: ../../data/cleaned/utah_2017_vineyard.csv\n",
      "Testing on: ../../data/cleaned/utah_2018_marina.csv\n"
     ]
    },
    {
     "name": "stderr",
     "output_type": "stream",
     "text": [
      "C:\\Users\\mccomackjp\\AppData\\Local\\Continuum\\anaconda3\\lib\\site-packages\\sklearn\\metrics\\classification.py:1143: UndefinedMetricWarning: Precision is ill-defined and being set to 0.0 due to no predicted samples.\n",
      "  'precision', 'predicted', average, warn_for)\n"
     ]
    },
    {
     "name": "stdout",
     "output_type": "stream",
     "text": [
      "Recall: 0.0\n",
      "Precision 0.0\n",
      "Confusion Matrix:\n",
      " [[3213    0]\n",
      " [1588    0]]\n",
      "\n",
      "Training on: ../../data/cleaned/utah_2017_vineyard.csv\n",
      "Testing on: ../../data/cleaned/utah_2018_bird.csv\n"
     ]
    },
    {
     "name": "stderr",
     "output_type": "stream",
     "text": [
      "C:\\Users\\mccomackjp\\AppData\\Local\\Continuum\\anaconda3\\lib\\site-packages\\sklearn\\metrics\\classification.py:1143: UndefinedMetricWarning: Precision is ill-defined and being set to 0.0 due to no predicted samples.\n",
      "  'precision', 'predicted', average, warn_for)\n"
     ]
    },
    {
     "name": "stdout",
     "output_type": "stream",
     "text": [
      "Recall: 0.0\n",
      "Precision 0.0\n",
      "Confusion Matrix:\n",
      " [[3123    0]\n",
      " [1676    0]]\n",
      "\n",
      "Training on: ../../data/cleaned/utah_2017_marina.csv\n",
      "Testing on: ../../data/cleaned/utah_2018_vineyard.csv\n",
      "Recall: 0.1282051282051282\n",
      "Precision 0.12605042016806722\n",
      "Confusion Matrix:\n",
      " [[3694  520]\n",
      " [ 510   75]]\n",
      "\n",
      "Training on: ../../data/cleaned/utah_2017_marina.csv\n",
      "Testing on: ../../data/cleaned/utah_2018_marina.csv\n"
     ]
    },
    {
     "name": "stderr",
     "output_type": "stream",
     "text": [
      "C:\\Users\\mccomackjp\\AppData\\Local\\Continuum\\anaconda3\\lib\\site-packages\\sklearn\\metrics\\classification.py:1143: UndefinedMetricWarning: Precision is ill-defined and being set to 0.0 due to no predicted samples.\n",
      "  'precision', 'predicted', average, warn_for)\n"
     ]
    },
    {
     "name": "stdout",
     "output_type": "stream",
     "text": [
      "Recall: 0.0\n",
      "Precision 0.0\n",
      "Confusion Matrix:\n",
      " [[3213    0]\n",
      " [1588    0]]\n",
      "\n",
      "Training on: ../../data/cleaned/utah_2017_marina.csv\n",
      "Testing on: ../../data/cleaned/utah_2018_bird.csv\n",
      "Recall: 0.010739856801909307\n",
      "Precision 1.0\n",
      "Confusion Matrix:\n",
      " [[3123    0]\n",
      " [1658   18]]\n",
      "\n",
      "Training on: ../../data/cleaned/utah_2017_bird.csv\n",
      "Testing on: ../../data/cleaned/utah_2018_vineyard.csv\n",
      "Recall: 0.07692307692307693\n",
      "Precision 0.371900826446281\n",
      "Confusion Matrix:\n",
      " [[4138   76]\n",
      " [ 540   45]]\n",
      "\n",
      "Training on: ../../data/cleaned/utah_2017_bird.csv\n",
      "Testing on: ../../data/cleaned/utah_2018_marina.csv\n"
     ]
    },
    {
     "name": "stderr",
     "output_type": "stream",
     "text": [
      "C:\\Users\\mccomackjp\\AppData\\Local\\Continuum\\anaconda3\\lib\\site-packages\\sklearn\\metrics\\classification.py:1143: UndefinedMetricWarning: Precision is ill-defined and being set to 0.0 due to no predicted samples.\n",
      "  'precision', 'predicted', average, warn_for)\n"
     ]
    },
    {
     "name": "stdout",
     "output_type": "stream",
     "text": [
      "Recall: 0.0\n",
      "Precision 0.0\n",
      "Confusion Matrix:\n",
      " [[3213    0]\n",
      " [1588    0]]\n",
      "\n",
      "Training on: ../../data/cleaned/utah_2017_bird.csv\n",
      "Testing on: ../../data/cleaned/utah_2018_bird.csv\n",
      "Recall: 0.0256563245823389\n",
      "Precision 1.0\n",
      "Confusion Matrix:\n",
      " [[3123    0]\n",
      " [1633   43]]\n",
      "\n",
      "Average Recall: 0.04620926231904752\n",
      "Average Precision: 0.28334131548426045\n"
     ]
    }
   ],
   "source": [
    "avg_recall = 0\n",
    "avg_precision = 0\n",
    "train_index = 0\n",
    "test_index = 0\n",
    "for train in train_dfs:\n",
    "    for test in test_dfs:\n",
    "        print(\"Training on:\", train_files[train_index])\n",
    "        print(\"Testing on:\", test_files[test_index])\n",
    "        recall, precision, cm, _, _, _ = lrf.train_model(\n",
    "            train, test, x_columns, 'bloom')\n",
    "        avg_recall += recall\n",
    "        avg_precision += precision\n",
    "        print(\"Recall:\", recall)\n",
    "        print(\"Precision\", precision)\n",
    "        print(\"Confusion Matrix:\\n\", cm)\n",
    "        print()\n",
    "        test_index = (test_index + 1) % len(test_files)\n",
    "    train_index += 1\n",
    "num_models = len(train_dfs) * len(test_dfs)\n",
    "print(\"Average Recall:\", avg_recall / num_models)\n",
    "print(\"Average Precision:\", avg_precision / num_models)"
   ]
  }
 ],
 "metadata": {
  "kernelspec": {
   "display_name": "Python 3",
   "language": "python",
   "name": "python3"
  },
  "language_info": {
   "codemirror_mode": {
    "name": "ipython",
    "version": 3
   },
   "file_extension": ".py",
   "mimetype": "text/x-python",
   "name": "python",
   "nbconvert_exporter": "python",
   "pygments_lexer": "ipython3",
   "version": "3.6.4"
  }
 },
 "nbformat": 4,
 "nbformat_minor": 2
}
