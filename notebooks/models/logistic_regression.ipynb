{
 "cells": [
  {
   "cell_type": "markdown",
   "metadata": {},
   "source": [
    "# Logistic Regression Model"
   ]
  },
  {
   "cell_type": "markdown",
   "metadata": {},
   "source": [
    "## Data Import And Cleaning"
   ]
  },
  {
   "cell_type": "code",
   "execution_count": 23,
   "metadata": {},
   "outputs": [],
   "source": [
    "import pandas as pd\n",
    "import seaborn as sns\n",
    "import matplotlib.pyplot as plt\n",
    "import numpy as np\n",
    "from sklearn.impute import SimpleImputer\n",
    "from sklearn.preprocessing import StandardScaler\n",
    "from sklearn.preprocessing import LabelEncoder\n",
    "from sklearn.linear_model import SGDClassifier\n",
    "from sklearn.metrics import recall_score, precision_score, confusion_matrix\n",
    "from sklearn.metrics import roc_curve, auc\n",
    "import scripts.logistic_regression_functions as lrf"
   ]
  },
  {
   "cell_type": "code",
   "execution_count": 2,
   "metadata": {},
   "outputs": [
    {
     "data": {
      "text/html": [
       "<div>\n",
       "<style scoped>\n",
       "    .dataframe tbody tr th:only-of-type {\n",
       "        vertical-align: middle;\n",
       "    }\n",
       "\n",
       "    .dataframe tbody tr th {\n",
       "        vertical-align: top;\n",
       "    }\n",
       "\n",
       "    .dataframe thead th {\n",
       "        text-align: right;\n",
       "    }\n",
       "</style>\n",
       "<table border=\"1\" class=\"dataframe\">\n",
       "  <thead>\n",
       "    <tr style=\"text-align: right;\">\n",
       "      <th></th>\n",
       "      <th>Temp C</th>\n",
       "      <th>Sp Cond (uS/cm)</th>\n",
       "      <th>pH (mV)</th>\n",
       "      <th>pH</th>\n",
       "      <th>Turbidity (NTU)</th>\n",
       "      <th>ODOSat%</th>\n",
       "      <th>ODO (mg/L)</th>\n",
       "      <th>BGA-Phycocyanin RFU</th>\n",
       "    </tr>\n",
       "  </thead>\n",
       "  <tbody>\n",
       "    <tr>\n",
       "      <th>0</th>\n",
       "      <td>15.02</td>\n",
       "      <td>1848</td>\n",
       "      <td>-100.1</td>\n",
       "      <td>8.36</td>\n",
       "      <td>16.84</td>\n",
       "      <td>90.2</td>\n",
       "      <td>9.04</td>\n",
       "      <td>0.4</td>\n",
       "    </tr>\n",
       "    <tr>\n",
       "      <th>1</th>\n",
       "      <td>14.99</td>\n",
       "      <td>1847</td>\n",
       "      <td>-100.1</td>\n",
       "      <td>8.36</td>\n",
       "      <td>16.76</td>\n",
       "      <td>90.2</td>\n",
       "      <td>9.04</td>\n",
       "      <td>0.4</td>\n",
       "    </tr>\n",
       "    <tr>\n",
       "      <th>2</th>\n",
       "      <td>14.96</td>\n",
       "      <td>1847</td>\n",
       "      <td>-100.1</td>\n",
       "      <td>8.36</td>\n",
       "      <td>16.82</td>\n",
       "      <td>90.1</td>\n",
       "      <td>9.04</td>\n",
       "      <td>0.4</td>\n",
       "    </tr>\n",
       "    <tr>\n",
       "      <th>3</th>\n",
       "      <td>14.95</td>\n",
       "      <td>1848</td>\n",
       "      <td>-100.1</td>\n",
       "      <td>8.36</td>\n",
       "      <td>17.19</td>\n",
       "      <td>90.0</td>\n",
       "      <td>9.03</td>\n",
       "      <td>0.4</td>\n",
       "    </tr>\n",
       "    <tr>\n",
       "      <th>4</th>\n",
       "      <td>14.92</td>\n",
       "      <td>1848</td>\n",
       "      <td>-100.0</td>\n",
       "      <td>8.36</td>\n",
       "      <td>16.85</td>\n",
       "      <td>89.8</td>\n",
       "      <td>9.02</td>\n",
       "      <td>0.4</td>\n",
       "    </tr>\n",
       "  </tbody>\n",
       "</table>\n",
       "</div>"
      ],
      "text/plain": [
       "   Temp C  Sp Cond (uS/cm)  pH (mV)    pH  Turbidity (NTU)  ODOSat%  \\\n",
       "0   15.02             1848   -100.1  8.36            16.84     90.2   \n",
       "1   14.99             1847   -100.1  8.36            16.76     90.2   \n",
       "2   14.96             1847   -100.1  8.36            16.82     90.1   \n",
       "3   14.95             1848   -100.1  8.36            17.19     90.0   \n",
       "4   14.92             1848   -100.0  8.36            16.85     89.8   \n",
       "\n",
       "   ODO (mg/L)  BGA-Phycocyanin RFU  \n",
       "0        9.04                  0.4  \n",
       "1        9.04                  0.4  \n",
       "2        9.04                  0.4  \n",
       "3        9.03                  0.4  \n",
       "4        9.02                  0.4  "
      ]
     },
     "execution_count": 2,
     "metadata": {},
     "output_type": "execute_result"
    }
   ],
   "source": [
    "train_files = ['../../data/cleaned/utah_2017_vineyard.csv', \n",
    "               '../../data/cleaned/utah_2017_marina.csv',\n",
    "               '../../data/cleaned/utah_2017_bird.csv']\n",
    "\n",
    "test_files = ['../../data/cleaned/utah_2018_vineyard.csv', \n",
    "               '../../data/cleaned/utah_2018_marina.csv',\n",
    "               '../../data/cleaned/utah_2018_bird.csv']\n",
    "\n",
    "drop_columns = ['Time America/Boise UTC-06:00', 'Chlorophyll ug/L', \n",
    "                'Chlorophyll RFU', 'Wiper Pos V', 'Cable Pwr V', 'Battery V',\n",
    "               'Date (mm.dd.yyyy)', 'Time 24hr', 'Chlorophyll (ug/L)', \n",
    "                'FDOM RFU']\n",
    "x_columns = ['Temp C', 'Sp Cond (uS/cm)', 'pH (mV)', 'pH', 'Turbidity (NTU)',\n",
    "            'ODOSat%', 'ODO (mg/L)']\n",
    "\n",
    "RFU_THRESHOLD = 2\n",
    "\n",
    "train_dfs = lrf.import_df_data(train_files, drop_columns)\n",
    "test_dfs = lrf.import_df_data(test_files, drop_columns)\n",
    "\n",
    "train_dfs[0].head()"
   ]
  },
  {
   "cell_type": "code",
   "execution_count": 3,
   "metadata": {},
   "outputs": [
    {
     "name": "stdout",
     "output_type": "stream",
     "text": [
      "Index(['Temp C', 'Sp Cond (uS/cm)', 'pH (mV)', 'pH', 'Turbidity (NTU)',\n",
      "       'ODOSat%', 'ODO (mg/L)', 'BGA-Phycocyanin RFU'],\n",
      "      dtype='object')\n",
      "8\n",
      "Index(['Temp C', 'Sp Cond (uS/cm)', 'pH (mV)', 'pH', 'Turbidity (NTU)',\n",
      "       'ODOSat%', 'ODO (mg/L)', 'BGA-Phycocyanin RFU'],\n",
      "      dtype='object')\n",
      "8\n",
      "Index(['Temp C', 'Sp Cond (uS/cm)', 'pH (mV)', 'pH', 'Turbidity (NTU)',\n",
      "       'ODOSat%', 'ODO (mg/L)', 'BGA-Phycocyanin RFU'],\n",
      "      dtype='object')\n",
      "8\n",
      "Index(['Temperature C', 'Sp Cond uS/cm', 'pH mV', 'pH', 'Turbidity NTU',\n",
      "       'ODOSat %', 'ODO mg/L', 'BGA-Phycocyanin RFU'],\n",
      "      dtype='object')\n",
      "8\n",
      "Index(['Temperature C', 'Sp Cond uS/cm', 'pH mV', 'pH', 'Turbidity NTU',\n",
      "       'ODOSat %', 'ODO mg/L', 'BGA-Phycocyanin RFU'],\n",
      "      dtype='object')\n",
      "8\n",
      "Index(['Temperature C', 'Sp Cond uS/cm', 'pH mV', 'pH', 'Turbidity NTU',\n",
      "       'ODOSat %', 'ODO mg/L', 'BGA-Phycocyanin RFU'],\n",
      "      dtype='object')\n",
      "8\n"
     ]
    }
   ],
   "source": [
    "for df in train_dfs + test_dfs:\n",
    "    print(df.columns)\n",
    "    print(len(df.columns))"
   ]
  },
  {
   "cell_type": "code",
   "execution_count": 4,
   "metadata": {},
   "outputs": [
    {
     "name": "stdout",
     "output_type": "stream",
     "text": [
      "New Columns: Index(['Temp C', 'Sp Cond (uS/cm)', 'pH (mV)', 'pH', 'Turbidity (NTU)',\n",
      "       'ODOSat%', 'ODO (mg/L)', 'BGA-Phycocyanin RFU'],\n",
      "      dtype='object')\n",
      "New Columns: Index(['Temp C', 'Sp Cond (uS/cm)', 'pH (mV)', 'pH', 'Turbidity (NTU)',\n",
      "       'ODOSat%', 'ODO (mg/L)', 'BGA-Phycocyanin RFU'],\n",
      "      dtype='object')\n",
      "New Columns: Index(['Temp C', 'Sp Cond (uS/cm)', 'pH (mV)', 'pH', 'Turbidity (NTU)',\n",
      "       'ODOSat%', 'ODO (mg/L)', 'BGA-Phycocyanin RFU'],\n",
      "      dtype='object')\n",
      "New Columns: Index(['Temp C', 'Sp Cond (uS/cm)', 'pH (mV)', 'pH', 'Turbidity (NTU)',\n",
      "       'ODOSat%', 'ODO (mg/L)', 'BGA-Phycocyanin RFU'],\n",
      "      dtype='object')\n",
      "New Columns: Index(['Temp C', 'Sp Cond (uS/cm)', 'pH (mV)', 'pH', 'Turbidity (NTU)',\n",
      "       'ODOSat%', 'ODO (mg/L)', 'BGA-Phycocyanin RFU'],\n",
      "      dtype='object')\n",
      "New Columns: Index(['Temp C', 'Sp Cond (uS/cm)', 'pH (mV)', 'pH', 'Turbidity (NTU)',\n",
      "       'ODOSat%', 'ODO (mg/L)', 'BGA-Phycocyanin RFU'],\n",
      "      dtype='object')\n"
     ]
    }
   ],
   "source": [
    "# Rename columns to be the same\n",
    "for df in train_dfs + test_dfs:\n",
    "    df.columns = x_columns + ['BGA-Phycocyanin RFU']\n",
    "    print(\"New Columns:\", df.columns)"
   ]
  },
  {
   "cell_type": "code",
   "execution_count": 5,
   "metadata": {},
   "outputs": [],
   "source": [
    "lrf.add_target_column(train_dfs + test_dfs, threshold=RFU_THRESHOLD)"
   ]
  },
  {
   "cell_type": "markdown",
   "metadata": {},
   "source": [
    "## BGA RFU Levels"
   ]
  },
  {
   "cell_type": "code",
   "execution_count": 13,
   "metadata": {},
   "outputs": [
    {
     "data": {
      "text/plain": [
       "<matplotlib.axes._subplots.AxesSubplot at 0x2e59182a828>"
      ]
     },
     "execution_count": 13,
     "metadata": {},
     "output_type": "execute_result"
    },
    {
     "data": {
      "image/png": "[encoded data removed]",
      "text/plain": [
       "<Figure size 432x288 with 1 Axes>"
      ]
     },
     "metadata": {},
     "output_type": "display_data"
    }
   ],
   "source": [
    "sns.lineplot(data=pd.DataFrame({\n",
    "    'BGA RFU': train_dfs[0]['BGA-Phycocyanin RFU'].values,\n",
    "    'Bloom Threshold': np.full(train_dfs[0].count()[0], RFU_THRESHOLD)}))"
   ]
  },
  {
   "cell_type": "markdown",
   "metadata": {},
   "source": [
    "## Greedy Model"
   ]
  },
  {
   "cell_type": "code",
   "execution_count": 14,
   "metadata": {},
   "outputs": [
    {
     "name": "stdout",
     "output_type": "stream",
     "text": [
      "Training model with: Temp C\n"
     ]
    },
    {
     "name": "stderr",
     "output_type": "stream",
     "text": [
      "C:\\Users\\mccomackjp\\AppData\\Local\\Continuum\\anaconda3\\lib\\site-packages\\sklearn\\metrics\\classification.py:1143: UndefinedMetricWarning: Precision is ill-defined and being set to 0.0 due to no predicted samples.\n",
      "  'precision', 'predicted', average, warn_for)\n"
     ]
    },
    {
     "name": "stdout",
     "output_type": "stream",
     "text": [
      "Recall: 0.0\n",
      "Precision 0.0\n",
      "Confusion Matrix:\n",
      " [[12153     0]\n",
      " [ 1659     0]]\n",
      "\n",
      "Training model with: Sp Cond (uS/cm)\n",
      "Recall: 0.0\n",
      "Precision 0.0\n",
      "Confusion Matrix:\n",
      " [[12141    12]\n",
      " [ 1659     0]]\n",
      "\n",
      "Training model with: pH (mV)\n"
     ]
    },
    {
     "name": "stderr",
     "output_type": "stream",
     "text": [
      "C:\\Users\\mccomackjp\\AppData\\Local\\Continuum\\anaconda3\\lib\\site-packages\\sklearn\\metrics\\classification.py:1143: UndefinedMetricWarning: Precision is ill-defined and being set to 0.0 due to no predicted samples.\n",
      "  'precision', 'predicted', average, warn_for)\n"
     ]
    },
    {
     "name": "stdout",
     "output_type": "stream",
     "text": [
      "Recall: 0.0\n",
      "Precision 0.0\n",
      "Confusion Matrix:\n",
      " [[12153     0]\n",
      " [ 1659     0]]\n",
      "\n",
      "Training model with: pH\n"
     ]
    },
    {
     "name": "stderr",
     "output_type": "stream",
     "text": [
      "C:\\Users\\mccomackjp\\AppData\\Local\\Continuum\\anaconda3\\lib\\site-packages\\sklearn\\metrics\\classification.py:1143: UndefinedMetricWarning: Precision is ill-defined and being set to 0.0 due to no predicted samples.\n",
      "  'precision', 'predicted', average, warn_for)\n"
     ]
    },
    {
     "name": "stdout",
     "output_type": "stream",
     "text": [
      "Recall: 0.0\n",
      "Precision 0.0\n",
      "Confusion Matrix:\n",
      " [[12153     0]\n",
      " [ 1659     0]]\n",
      "\n",
      "Training model with: Turbidity (NTU)\n",
      "Recall: 0.007233273056057866\n",
      "Precision 1.0\n",
      "Confusion Matrix:\n",
      " [[12153     0]\n",
      " [ 1647    12]]\n",
      "\n",
      "Training model with: ODOSat%\n",
      "Recall: 0.06148282097649186\n",
      "Precision 0.6938775510204082\n",
      "Confusion Matrix:\n",
      " [[12108    45]\n",
      " [ 1557   102]]\n",
      "\n",
      "Training model with: ODO (mg/L)\n",
      "Recall: 0.0\n",
      "Precision 0.0\n",
      "Confusion Matrix:\n",
      " [[12153     0]\n",
      " [ 1659     0]]\n",
      "\n",
      "ODOSat% recall: 0.06148282097649186\n",
      "Turbidity (NTU) recall: 0.007233273056057866\n",
      "Temp C recall: 0.0\n",
      "Sp Cond (uS/cm) recall: 0.0\n",
      "pH (mV) recall: 0.0\n",
      "pH recall: 0.0\n",
      "ODO (mg/L) recall: 0.0\n"
     ]
    },
    {
     "name": "stderr",
     "output_type": "stream",
     "text": [
      "C:\\Users\\mccomackjp\\AppData\\Local\\Continuum\\anaconda3\\lib\\site-packages\\sklearn\\metrics\\classification.py:1143: UndefinedMetricWarning: Precision is ill-defined and being set to 0.0 due to no predicted samples.\n",
      "  'precision', 'predicted', average, warn_for)\n"
     ]
    }
   ],
   "source": [
    "# Sort columns by recall\n",
    "sorted_columns = lrf.sort_columns_by_recall(train_dfs[0], \n",
    "                                            test_dfs[0],\n",
    "                                            x_columns,\n",
    "                                            'bloom')"
   ]
  },
  {
   "cell_type": "code",
   "execution_count": 15,
   "metadata": {},
   "outputs": [
    {
     "name": "stderr",
     "output_type": "stream",
     "text": [
      "C:\\Users\\mccomackjp\\AppData\\Local\\Continuum\\anaconda3\\lib\\site-packages\\sklearn\\metrics\\classification.py:1143: UndefinedMetricWarning: Precision is ill-defined and being set to 0.0 due to no predicted samples.\n",
      "  'precision', 'predicted', average, warn_for)\n"
     ]
    },
    {
     "name": "stdout",
     "output_type": "stream",
     "text": [
      "Training model with: ['ODOSat%']\n",
      "Test model recall: 0.06148282097649186\n",
      "Test model precision: 0.6938775510204082\n",
      "\n",
      "Updating greedy model\n",
      "\n",
      "Training model with: ['ODOSat%', 'Turbidity (NTU)']\n",
      "Test model recall: 0.08921036769138035\n",
      "Test model precision: 0.6820276497695853\n",
      "\n",
      "Updating greedy model\n",
      "\n",
      "Training model with: ['ODOSat%', 'Turbidity (NTU)', 'Temp C']\n",
      "Test model recall: 0.015069318866787222\n",
      "Test model precision: 0.3968253968253968\n",
      "\n",
      "Training model with: ['ODOSat%', 'Turbidity (NTU)', 'Sp Cond (uS/cm)']\n",
      "Test model recall: 0.0379746835443038\n",
      "Test model precision: 0.48091603053435117\n",
      "\n",
      "Training model with: ['ODOSat%', 'Turbidity (NTU)', 'pH (mV)']\n",
      "Test model recall: 0.081374321880651\n",
      "Test model precision: 0.5294117647058824\n",
      "\n",
      "Training model with: ['ODOSat%', 'Turbidity (NTU)', 'pH']\n",
      "Test model recall: 0.07655213984327909\n",
      "Test model precision: 0.635\n",
      "\n",
      "Training model with: ['ODOSat%', 'Turbidity (NTU)', 'ODO (mg/L)']\n",
      "Test model recall: 0.009644364074743821\n",
      "Test model precision: 0.3076923076923077\n",
      "\n",
      "Final greedy columns: ['ODOSat%', 'Turbidity (NTU)']\n",
      "Final greedy recall: 0.08921036769138035\n",
      "Final greedy precision: 0.08921036769138035\n",
      "Final greedy confusion matrix: [[12084    69]\n",
      " [ 1511   148]]\n"
     ]
    }
   ],
   "source": [
    "#create greedy model\n",
    "recall, precision, cm, predictions, predictions_prob, model = lrf.greedy_model(\n",
    "    train_dfs[0], test_dfs[0], x_columns, 'bloom', sorted_columns)\n"
   ]
  },
  {
   "cell_type": "code",
   "execution_count": 24,
   "metadata": {},
   "outputs": [
    {
     "data": {
      "image/png": "[encoded data removed]",
      "text/plain": [
       "<Figure size 432x288 with 1 Axes>"
      ]
     },
     "metadata": {},
     "output_type": "display_data"
    }
   ],
   "source": [
    "# Print the ROC curve.\n",
    "predictions = [x[1] for x in predictions_prob]\n",
    "lrf.roc_plot(test_dfs[0][['bloom']].values, predictions)"
   ]
  },
  {
   "cell_type": "markdown",
   "metadata": {},
   "source": [
    "## Cross training sites for comparison"
   ]
  },
  {
   "cell_type": "code",
   "execution_count": 26,
   "metadata": {},
   "outputs": [
    {
     "name": "stdout",
     "output_type": "stream",
     "text": [
      "Training on: ../../data/cleaned/utah_2017_vineyard.csv\n",
      "Testing on: ../../data/cleaned/utah_2018_vineyard.csv\n",
      "Recall: 0.027124773960216998\n",
      "Precision 0.24324324324324326\n",
      "Confusion Matrix:\n",
      " [[12013   140]\n",
      " [ 1614    45]]\n",
      "\n",
      "Training on: ../../data/cleaned/utah_2017_vineyard.csv\n",
      "Testing on: ../../data/cleaned/utah_2018_marina.csv\n",
      "Recall: 0.0118137595552467\n",
      "Precision 0.9807692307692307\n",
      "Confusion Matrix:\n",
      " [[15169     1]\n",
      " [ 4266    51]]\n",
      "\n",
      "Training on: ../../data/cleaned/utah_2017_vineyard.csv\n",
      "Testing on: ../../data/cleaned/utah_2018_bird.csv\n",
      "Recall: 0.03356528857961523\n",
      "Precision 0.5857142857142857\n",
      "Confusion Matrix:\n",
      " [[14482   116]\n",
      " [ 4722   164]]\n",
      "\n",
      "Training on: ../../data/cleaned/utah_2017_marina.csv\n",
      "Testing on: ../../data/cleaned/utah_2018_vineyard.csv\n",
      "Recall: 0.02531645569620253\n",
      "Precision 0.25766871165644173\n",
      "Confusion Matrix:\n",
      " [[12032   121]\n",
      " [ 1617    42]]\n",
      "\n",
      "Training on: ../../data/cleaned/utah_2017_marina.csv\n",
      "Testing on: ../../data/cleaned/utah_2018_marina.csv\n",
      "Recall: 0.006254343293954135\n",
      "Precision 0.14210526315789473\n",
      "Confusion Matrix:\n",
      " [[15007   163]\n",
      " [ 4290    27]]\n",
      "\n",
      "Training on: ../../data/cleaned/utah_2017_marina.csv\n",
      "Testing on: ../../data/cleaned/utah_2018_bird.csv\n",
      "Recall: 0.016987310683585756\n",
      "Precision 0.4742857142857143\n",
      "Confusion Matrix:\n",
      " [[14506    92]\n",
      " [ 4803    83]]\n",
      "\n",
      "Training on: ../../data/cleaned/utah_2017_bird.csv\n",
      "Testing on: ../../data/cleaned/utah_2018_vineyard.csv\n",
      "Recall: 0.02591922845087402\n",
      "Precision 0.3644067796610169\n",
      "Confusion Matrix:\n",
      " [[12078    75]\n",
      " [ 1616    43]]\n",
      "\n",
      "Training on: ../../data/cleaned/utah_2017_bird.csv\n",
      "Testing on: ../../data/cleaned/utah_2018_marina.csv\n",
      "Recall: 0.18948343757238822\n",
      "Precision 0.47892271662763464\n",
      "Confusion Matrix:\n",
      " [[14280   890]\n",
      " [ 3499   818]]\n",
      "\n",
      "Training on: ../../data/cleaned/utah_2017_bird.csv\n",
      "Testing on: ../../data/cleaned/utah_2018_bird.csv\n",
      "Recall: 0.03868194842406877\n",
      "Precision 0.7777777777777778\n",
      "Confusion Matrix:\n",
      " [[14544    54]\n",
      " [ 4697   189]]\n",
      "\n",
      "Average Recall: 0.041682949579572484\n",
      "Average Precision: 0.4783215247659155\n"
     ]
    }
   ],
   "source": [
    "avg_recall = 0\n",
    "avg_precision = 0\n",
    "train_index = 0\n",
    "test_index = 0\n",
    "for train in train_dfs:\n",
    "    for test in test_dfs:\n",
    "        print(\"Training on:\", train_files[train_index])\n",
    "        print(\"Testing on:\", test_files[test_index])\n",
    "        recall, precision, cm, _, _, _ = lrf.train_model(\n",
    "            train, test, x_columns, 'bloom')\n",
    "        avg_recall += recall\n",
    "        avg_precision += precision\n",
    "        print(\"Recall:\", recall)\n",
    "        print(\"Precision\", precision)\n",
    "        print(\"Confusion Matrix:\\n\", cm)\n",
    "        print()\n",
    "        test_index = (test_index + 1) % len(test_files)\n",
    "    train_index += 1\n",
    "num_models = len(train_dfs) * len(test_dfs)\n",
    "print(\"Average Recall:\", avg_recall / num_models)\n",
    "print(\"Average Precision:\", avg_precision / num_models)"
   ]
  },
  {
   "cell_type": "code",
   "execution_count": null,
   "metadata": {},
   "outputs": [],
   "source": []
  }
 ],
 "metadata": {
  "kernelspec": {
   "display_name": "Python 3",
   "language": "python",
   "name": "python3"
  },
  "language_info": {
   "codemirror_mode": {
    "name": "ipython",
    "version": 3
   },
   "file_extension": ".py",
   "mimetype": "text/x-python",
   "name": "python",
   "nbconvert_exporter": "python",
   "pygments_lexer": "ipython3",
   "version": "3.6.4"
  }
 },
 "nbformat": 4,
 "nbformat_minor": 2
}
