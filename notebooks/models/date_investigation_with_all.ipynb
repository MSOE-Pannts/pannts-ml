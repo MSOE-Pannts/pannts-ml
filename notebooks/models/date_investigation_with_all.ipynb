{
 "cells": [
  {
   "cell_type": "markdown",
   "metadata": {},
   "source": [
    "# Logistic Regression Model"
   ]
  },
  {
   "cell_type": "markdown",
   "metadata": {},
   "source": [
    "## Data Import And Cleaning"
   ]
  },
  {
   "cell_type": "code",
   "execution_count": 1,
   "metadata": {},
   "outputs": [
    {
     "name": "stderr",
     "output_type": "stream",
     "text": [
      "C:\\Users\\mcneelypj\\AppData\\Local\\Continuum\\anaconda3\\lib\\site-packages\\h5py\\__init__.py:36: FutureWarning: Conversion of the second argument of issubdtype from `float` to `np.floating` is deprecated. In future, it will be treated as `np.float64 == np.dtype(float).type`.\n",
      "  from ._conv import register_converters as _register_converters\n",
      "Using TensorFlow backend.\n"
     ]
    }
   ],
   "source": [
    "import pandas as pd\n",
    "import seaborn as sns\n",
    "import matplotlib.pyplot as plt\n",
    "import numpy as np\n",
    "import datetime\n",
    "from math import floor\n",
    "\n",
    "from sklearn.impute import SimpleImputer\n",
    "from sklearn.preprocessing import StandardScaler\n",
    "from sklearn.preprocessing import LabelEncoder\n",
    "from sklearn.linear_model import SGDClassifier\n",
    "from sklearn.ensemble import RandomForestClassifier\n",
    "from sklearn.metrics import recall_score, precision_score, confusion_matrix\n",
    "from sklearn.metrics import roc_curve, auc\n",
    "import scripts.logistic_regression_functions as lrf\n",
    "import scripts.helper_functions as hf\n",
    "import scripts.data_dictionary as dd\n",
    "\n",
    "#reloads the module with the most recent updates\n",
    "%load_ext autoreload\n",
    "%aimport scripts.logistic_regression_functions, scripts.helper_functions, scripts.data_dictionary\n",
    "%autoreload 2"
   ]
  },
  {
   "cell_type": "code",
   "execution_count": 2,
   "metadata": {},
   "outputs": [],
   "source": [
    "train_files = ['../../data/cleaned/utah_2017_vineyard.csv', \n",
    "               '../../data/cleaned/utah_2017_marina.csv',\n",
    "               '../../data/cleaned/utah_2017_bird.csv']\n",
    "\n",
    "test_files = ['../../data/cleaned/utah_2018_vineyard.csv', \n",
    "               '../../data/cleaned/utah_2018_marina.csv',\n",
    "               '../../data/cleaned/utah_2018_bird.csv']\n",
    "\n",
    "drop_columns = ['Chlorophyll ug/L', 'Chlorophyll RFU', 'Wiper Pos V',\n",
    "                'Cable Pwr V', 'Battery V', 'Chlorophyll (ug/L)', 'FDOM RFU']\n",
    "\n",
    "x_columns = ['Temp C', 'Sp Cond (uS/cm)', 'pH (mV)', 'pH', 'Turbidity (NTU)',\n",
    "            'ODOSat%', 'ODO (mg/L)','day','month','week']\n",
    "\n",
    "target_column = 'BGA-Phycocyanin RFU'\n",
    "\n",
    "# TODO Create average off of minor bloom\n",
    "RFU_THRESHOLD = 1.2\n",
    "train_index = 0\n",
    "test_index = 1"
   ]
  },
  {
   "cell_type": "code",
   "execution_count": 3,
   "metadata": {},
   "outputs": [
    {
     "data": {
      "text/html": [
       "<div>\n",
       "<style scoped>\n",
       "    .dataframe tbody tr th:only-of-type {\n",
       "        vertical-align: middle;\n",
       "    }\n",
       "\n",
       "    .dataframe tbody tr th {\n",
       "        vertical-align: top;\n",
       "    }\n",
       "\n",
       "    .dataframe thead th {\n",
       "        text-align: right;\n",
       "    }\n",
       "</style>\n",
       "<table border=\"1\" class=\"dataframe\">\n",
       "  <thead>\n",
       "    <tr style=\"text-align: right;\">\n",
       "      <th></th>\n",
       "      <th>Date (mm.dd.yyyy)</th>\n",
       "      <th>Time 24hr</th>\n",
       "      <th>Temp C</th>\n",
       "      <th>Sp Cond (uS/cm)</th>\n",
       "      <th>pH (mV)</th>\n",
       "      <th>pH</th>\n",
       "      <th>Turbidity (NTU)</th>\n",
       "      <th>ODOSat%</th>\n",
       "      <th>ODO (mg/L)</th>\n",
       "      <th>BGA-Phycocyanin RFU</th>\n",
       "    </tr>\n",
       "  </thead>\n",
       "  <tbody>\n",
       "    <tr>\n",
       "      <th>0</th>\n",
       "      <td>5/5/2017</td>\n",
       "      <td>0:00</td>\n",
       "      <td>15.02</td>\n",
       "      <td>1848</td>\n",
       "      <td>-100.1</td>\n",
       "      <td>8.36</td>\n",
       "      <td>16.84</td>\n",
       "      <td>90.2</td>\n",
       "      <td>9.04</td>\n",
       "      <td>0.4</td>\n",
       "    </tr>\n",
       "    <tr>\n",
       "      <th>1</th>\n",
       "      <td>5/5/2017</td>\n",
       "      <td>0:15</td>\n",
       "      <td>14.99</td>\n",
       "      <td>1847</td>\n",
       "      <td>-100.1</td>\n",
       "      <td>8.36</td>\n",
       "      <td>16.76</td>\n",
       "      <td>90.2</td>\n",
       "      <td>9.04</td>\n",
       "      <td>0.4</td>\n",
       "    </tr>\n",
       "    <tr>\n",
       "      <th>2</th>\n",
       "      <td>5/5/2017</td>\n",
       "      <td>0:30</td>\n",
       "      <td>14.96</td>\n",
       "      <td>1847</td>\n",
       "      <td>-100.1</td>\n",
       "      <td>8.36</td>\n",
       "      <td>16.82</td>\n",
       "      <td>90.1</td>\n",
       "      <td>9.04</td>\n",
       "      <td>0.4</td>\n",
       "    </tr>\n",
       "    <tr>\n",
       "      <th>3</th>\n",
       "      <td>5/5/2017</td>\n",
       "      <td>0:45</td>\n",
       "      <td>14.95</td>\n",
       "      <td>1848</td>\n",
       "      <td>-100.1</td>\n",
       "      <td>8.36</td>\n",
       "      <td>17.19</td>\n",
       "      <td>90.0</td>\n",
       "      <td>9.03</td>\n",
       "      <td>0.4</td>\n",
       "    </tr>\n",
       "    <tr>\n",
       "      <th>4</th>\n",
       "      <td>5/5/2017</td>\n",
       "      <td>1:00</td>\n",
       "      <td>14.92</td>\n",
       "      <td>1848</td>\n",
       "      <td>-100.0</td>\n",
       "      <td>8.36</td>\n",
       "      <td>16.85</td>\n",
       "      <td>89.8</td>\n",
       "      <td>9.02</td>\n",
       "      <td>0.4</td>\n",
       "    </tr>\n",
       "  </tbody>\n",
       "</table>\n",
       "</div>"
      ],
      "text/plain": [
       "  Date (mm.dd.yyyy) Time 24hr  Temp C  Sp Cond (uS/cm)  pH (mV)    pH  \\\n",
       "0          5/5/2017      0:00   15.02             1848   -100.1  8.36   \n",
       "1          5/5/2017      0:15   14.99             1847   -100.1  8.36   \n",
       "2          5/5/2017      0:30   14.96             1847   -100.1  8.36   \n",
       "3          5/5/2017      0:45   14.95             1848   -100.1  8.36   \n",
       "4          5/5/2017      1:00   14.92             1848   -100.0  8.36   \n",
       "\n",
       "   Turbidity (NTU)  ODOSat%  ODO (mg/L)  BGA-Phycocyanin RFU  \n",
       "0            16.84     90.2        9.04                  0.4  \n",
       "1            16.76     90.2        9.04                  0.4  \n",
       "2            16.82     90.1        9.04                  0.4  \n",
       "3            17.19     90.0        9.03                  0.4  \n",
       "4            16.85     89.8        9.02                  0.4  "
      ]
     },
     "execution_count": 3,
     "metadata": {},
     "output_type": "execute_result"
    }
   ],
   "source": [
    "# Load the data\n",
    "train_dfs = lrf.import_df_data(train_files, drop_columns)\n",
    "test_dfs = lrf.import_df_data(test_files, drop_columns)\n",
    "\n",
    "train_dfs[train_index].head()"
   ]
  },
  {
   "cell_type": "code",
   "execution_count": 4,
   "metadata": {},
   "outputs": [
    {
     "data": {
      "text/html": [
       "<div>\n",
       "<style scoped>\n",
       "    .dataframe tbody tr th:only-of-type {\n",
       "        vertical-align: middle;\n",
       "    }\n",
       "\n",
       "    .dataframe tbody tr th {\n",
       "        vertical-align: top;\n",
       "    }\n",
       "\n",
       "    .dataframe thead th {\n",
       "        text-align: right;\n",
       "    }\n",
       "</style>\n",
       "<table border=\"1\" class=\"dataframe\">\n",
       "  <thead>\n",
       "    <tr style=\"text-align: right;\">\n",
       "      <th></th>\n",
       "      <th>Time America/Boise UTC-06:00</th>\n",
       "      <th>Temp C</th>\n",
       "      <th>Sp Cond (uS/cm)</th>\n",
       "      <th>pH (mV)</th>\n",
       "      <th>pH</th>\n",
       "      <th>Turbidity (NTU)</th>\n",
       "      <th>ODOSat%</th>\n",
       "      <th>ODO (mg/L)</th>\n",
       "      <th>BGA-Phycocyanin RFU</th>\n",
       "    </tr>\n",
       "  </thead>\n",
       "  <tbody>\n",
       "    <tr>\n",
       "      <th>0</th>\n",
       "      <td>4/11/2018 10:30</td>\n",
       "      <td>11.88</td>\n",
       "      <td>1782</td>\n",
       "      <td>-146.1</td>\n",
       "      <td>8.20</td>\n",
       "      <td>42.49</td>\n",
       "      <td>89.1</td>\n",
       "      <td>9.58</td>\n",
       "      <td>0.6</td>\n",
       "    </tr>\n",
       "    <tr>\n",
       "      <th>1</th>\n",
       "      <td>4/11/2018 10:45</td>\n",
       "      <td>11.78</td>\n",
       "      <td>1783</td>\n",
       "      <td>-143.7</td>\n",
       "      <td>8.15</td>\n",
       "      <td>42.89</td>\n",
       "      <td>87.4</td>\n",
       "      <td>9.42</td>\n",
       "      <td>0.6</td>\n",
       "    </tr>\n",
       "    <tr>\n",
       "      <th>2</th>\n",
       "      <td>4/11/2018 11:00</td>\n",
       "      <td>11.79</td>\n",
       "      <td>1784</td>\n",
       "      <td>-144.3</td>\n",
       "      <td>8.17</td>\n",
       "      <td>41.24</td>\n",
       "      <td>89.0</td>\n",
       "      <td>9.58</td>\n",
       "      <td>0.7</td>\n",
       "    </tr>\n",
       "    <tr>\n",
       "      <th>3</th>\n",
       "      <td>4/11/2018 11:15</td>\n",
       "      <td>11.66</td>\n",
       "      <td>1783</td>\n",
       "      <td>-143.1</td>\n",
       "      <td>8.14</td>\n",
       "      <td>42.65</td>\n",
       "      <td>87.1</td>\n",
       "      <td>9.41</td>\n",
       "      <td>0.7</td>\n",
       "    </tr>\n",
       "    <tr>\n",
       "      <th>4</th>\n",
       "      <td>4/11/2018 11:30</td>\n",
       "      <td>11.68</td>\n",
       "      <td>1784</td>\n",
       "      <td>-143.5</td>\n",
       "      <td>8.15</td>\n",
       "      <td>42.06</td>\n",
       "      <td>87.5</td>\n",
       "      <td>9.45</td>\n",
       "      <td>0.7</td>\n",
       "    </tr>\n",
       "  </tbody>\n",
       "</table>\n",
       "</div>"
      ],
      "text/plain": [
       "  Time America/Boise UTC-06:00  Temp C  Sp Cond (uS/cm)  pH (mV)    pH  \\\n",
       "0              4/11/2018 10:30   11.88             1782   -146.1  8.20   \n",
       "1              4/11/2018 10:45   11.78             1783   -143.7  8.15   \n",
       "2              4/11/2018 11:00   11.79             1784   -144.3  8.17   \n",
       "3              4/11/2018 11:15   11.66             1783   -143.1  8.14   \n",
       "4              4/11/2018 11:30   11.68             1784   -143.5  8.15   \n",
       "\n",
       "   Turbidity (NTU)  ODOSat%  ODO (mg/L)  BGA-Phycocyanin RFU  \n",
       "0            42.49     89.1        9.58                  0.6  \n",
       "1            42.89     87.4        9.42                  0.6  \n",
       "2            41.24     89.0        9.58                  0.7  \n",
       "3            42.65     87.1        9.41                  0.7  \n",
       "4            42.06     87.5        9.45                  0.7  "
      ]
     },
     "execution_count": 4,
     "metadata": {},
     "output_type": "execute_result"
    }
   ],
   "source": [
    "test_dfs[test_index].head()"
   ]
  },
  {
   "cell_type": "code",
   "execution_count": 5,
   "metadata": {},
   "outputs": [
    {
     "data": {
      "text/html": [
       "<div>\n",
       "<style scoped>\n",
       "    .dataframe tbody tr th:only-of-type {\n",
       "        vertical-align: middle;\n",
       "    }\n",
       "\n",
       "    .dataframe tbody tr th {\n",
       "        vertical-align: top;\n",
       "    }\n",
       "\n",
       "    .dataframe thead th {\n",
       "        text-align: right;\n",
       "    }\n",
       "</style>\n",
       "<table border=\"1\" class=\"dataframe\">\n",
       "  <thead>\n",
       "    <tr style=\"text-align: right;\">\n",
       "      <th></th>\n",
       "      <th>Temp C</th>\n",
       "      <th>Sp Cond (uS/cm)</th>\n",
       "      <th>pH (mV)</th>\n",
       "      <th>pH</th>\n",
       "      <th>Turbidity (NTU)</th>\n",
       "      <th>ODOSat%</th>\n",
       "      <th>ODO (mg/L)</th>\n",
       "      <th>BGA-Phycocyanin RFU</th>\n",
       "    </tr>\n",
       "  </thead>\n",
       "  <tbody>\n",
       "    <tr>\n",
       "      <th>count</th>\n",
       "      <td>18947.000000</td>\n",
       "      <td>18947.000000</td>\n",
       "      <td>18947.000000</td>\n",
       "      <td>18947.000000</td>\n",
       "      <td>18947.000000</td>\n",
       "      <td>18947.000000</td>\n",
       "      <td>18947.000000</td>\n",
       "      <td>18947.000000</td>\n",
       "    </tr>\n",
       "    <tr>\n",
       "      <th>mean</th>\n",
       "      <td>18.488235</td>\n",
       "      <td>1933.564575</td>\n",
       "      <td>-116.806951</td>\n",
       "      <td>8.633415</td>\n",
       "      <td>58.129348</td>\n",
       "      <td>87.056980</td>\n",
       "      <td>8.179008</td>\n",
       "      <td>0.979511</td>\n",
       "    </tr>\n",
       "    <tr>\n",
       "      <th>std</th>\n",
       "      <td>6.134464</td>\n",
       "      <td>151.800551</td>\n",
       "      <td>8.973830</td>\n",
       "      <td>0.147231</td>\n",
       "      <td>54.622278</td>\n",
       "      <td>13.793755</td>\n",
       "      <td>1.278416</td>\n",
       "      <td>0.731423</td>\n",
       "    </tr>\n",
       "    <tr>\n",
       "      <th>min</th>\n",
       "      <td>5.630000</td>\n",
       "      <td>3.000000</td>\n",
       "      <td>-153.700000</td>\n",
       "      <td>7.930000</td>\n",
       "      <td>0.660000</td>\n",
       "      <td>62.800000</td>\n",
       "      <td>5.170000</td>\n",
       "      <td>0.000000</td>\n",
       "    </tr>\n",
       "    <tr>\n",
       "      <th>25%</th>\n",
       "      <td>12.700000</td>\n",
       "      <td>1848.000000</td>\n",
       "      <td>-120.800000</td>\n",
       "      <td>8.530000</td>\n",
       "      <td>29.850000</td>\n",
       "      <td>80.000000</td>\n",
       "      <td>7.260000</td>\n",
       "      <td>0.500000</td>\n",
       "    </tr>\n",
       "    <tr>\n",
       "      <th>50%</th>\n",
       "      <td>20.320000</td>\n",
       "      <td>1939.000000</td>\n",
       "      <td>-115.700000</td>\n",
       "      <td>8.650000</td>\n",
       "      <td>42.140000</td>\n",
       "      <td>83.200000</td>\n",
       "      <td>8.080000</td>\n",
       "      <td>0.900000</td>\n",
       "    </tr>\n",
       "    <tr>\n",
       "      <th>75%</th>\n",
       "      <td>23.630000</td>\n",
       "      <td>2070.000000</td>\n",
       "      <td>-112.100000</td>\n",
       "      <td>8.700000</td>\n",
       "      <td>65.795000</td>\n",
       "      <td>88.900000</td>\n",
       "      <td>9.250000</td>\n",
       "      <td>1.200000</td>\n",
       "    </tr>\n",
       "    <tr>\n",
       "      <th>max</th>\n",
       "      <td>28.570000</td>\n",
       "      <td>2164.000000</td>\n",
       "      <td>-76.500000</td>\n",
       "      <td>9.230000</td>\n",
       "      <td>636.700000</td>\n",
       "      <td>209.700000</td>\n",
       "      <td>16.170000</td>\n",
       "      <td>16.100000</td>\n",
       "    </tr>\n",
       "  </tbody>\n",
       "</table>\n",
       "</div>"
      ],
      "text/plain": [
       "             Temp C  Sp Cond (uS/cm)       pH (mV)            pH  \\\n",
       "count  18947.000000     18947.000000  18947.000000  18947.000000   \n",
       "mean      18.488235      1933.564575   -116.806951      8.633415   \n",
       "std        6.134464       151.800551      8.973830      0.147231   \n",
       "min        5.630000         3.000000   -153.700000      7.930000   \n",
       "25%       12.700000      1848.000000   -120.800000      8.530000   \n",
       "50%       20.320000      1939.000000   -115.700000      8.650000   \n",
       "75%       23.630000      2070.000000   -112.100000      8.700000   \n",
       "max       28.570000      2164.000000    -76.500000      9.230000   \n",
       "\n",
       "       Turbidity (NTU)       ODOSat%    ODO (mg/L)  BGA-Phycocyanin RFU  \n",
       "count     18947.000000  18947.000000  18947.000000         18947.000000  \n",
       "mean         58.129348     87.056980      8.179008             0.979511  \n",
       "std          54.622278     13.793755      1.278416             0.731423  \n",
       "min           0.660000     62.800000      5.170000             0.000000  \n",
       "25%          29.850000     80.000000      7.260000             0.500000  \n",
       "50%          42.140000     83.200000      8.080000             0.900000  \n",
       "75%          65.795000     88.900000      9.250000             1.200000  \n",
       "max         636.700000    209.700000     16.170000            16.100000  "
      ]
     },
     "execution_count": 5,
     "metadata": {},
     "output_type": "execute_result"
    }
   ],
   "source": [
    "train_dfs[train_index].describe()"
   ]
  },
  {
   "cell_type": "code",
   "execution_count": 6,
   "metadata": {},
   "outputs": [
    {
     "data": {
      "text/html": [
       "<div>\n",
       "<style scoped>\n",
       "    .dataframe tbody tr th:only-of-type {\n",
       "        vertical-align: middle;\n",
       "    }\n",
       "\n",
       "    .dataframe tbody tr th {\n",
       "        vertical-align: top;\n",
       "    }\n",
       "\n",
       "    .dataframe thead th {\n",
       "        text-align: right;\n",
       "    }\n",
       "</style>\n",
       "<table border=\"1\" class=\"dataframe\">\n",
       "  <thead>\n",
       "    <tr style=\"text-align: right;\">\n",
       "      <th></th>\n",
       "      <th>Temp C</th>\n",
       "      <th>Sp Cond (uS/cm)</th>\n",
       "      <th>pH (mV)</th>\n",
       "      <th>pH</th>\n",
       "      <th>Turbidity (NTU)</th>\n",
       "      <th>ODOSat%</th>\n",
       "      <th>ODO (mg/L)</th>\n",
       "      <th>BGA-Phycocyanin RFU</th>\n",
       "    </tr>\n",
       "  </thead>\n",
       "  <tbody>\n",
       "    <tr>\n",
       "      <th>count</th>\n",
       "      <td>19487.000000</td>\n",
       "      <td>19487.000000</td>\n",
       "      <td>19487.000000</td>\n",
       "      <td>19487.000000</td>\n",
       "      <td>19487.000000</td>\n",
       "      <td>19487.000000</td>\n",
       "      <td>19487.000000</td>\n",
       "      <td>19487.000000</td>\n",
       "    </tr>\n",
       "    <tr>\n",
       "      <th>mean</th>\n",
       "      <td>19.131184</td>\n",
       "      <td>1990.294607</td>\n",
       "      <td>-196.624329</td>\n",
       "      <td>8.922357</td>\n",
       "      <td>63.929067</td>\n",
       "      <td>90.057202</td>\n",
       "      <td>8.309566</td>\n",
       "      <td>1.459773</td>\n",
       "    </tr>\n",
       "    <tr>\n",
       "      <th>std</th>\n",
       "      <td>5.045367</td>\n",
       "      <td>230.743946</td>\n",
       "      <td>27.769024</td>\n",
       "      <td>0.357733</td>\n",
       "      <td>70.885989</td>\n",
       "      <td>17.627283</td>\n",
       "      <td>1.486747</td>\n",
       "      <td>1.311960</td>\n",
       "    </tr>\n",
       "    <tr>\n",
       "      <th>min</th>\n",
       "      <td>0.000000</td>\n",
       "      <td>0.000000</td>\n",
       "      <td>-284.000000</td>\n",
       "      <td>0.000000</td>\n",
       "      <td>-0.880000</td>\n",
       "      <td>0.000000</td>\n",
       "      <td>0.000000</td>\n",
       "      <td>-0.400000</td>\n",
       "    </tr>\n",
       "    <tr>\n",
       "      <th>25%</th>\n",
       "      <td>15.480000</td>\n",
       "      <td>1869.000000</td>\n",
       "      <td>-216.950000</td>\n",
       "      <td>8.730000</td>\n",
       "      <td>33.750000</td>\n",
       "      <td>79.100000</td>\n",
       "      <td>7.280000</td>\n",
       "      <td>0.600000</td>\n",
       "    </tr>\n",
       "    <tr>\n",
       "      <th>50%</th>\n",
       "      <td>20.190000</td>\n",
       "      <td>1958.000000</td>\n",
       "      <td>-192.000000</td>\n",
       "      <td>8.920000</td>\n",
       "      <td>48.380000</td>\n",
       "      <td>85.300000</td>\n",
       "      <td>8.010000</td>\n",
       "      <td>1.000000</td>\n",
       "    </tr>\n",
       "    <tr>\n",
       "      <th>75%</th>\n",
       "      <td>23.070000</td>\n",
       "      <td>2149.000000</td>\n",
       "      <td>-179.500000</td>\n",
       "      <td>9.100000</td>\n",
       "      <td>68.275000</td>\n",
       "      <td>95.300000</td>\n",
       "      <td>9.240000</td>\n",
       "      <td>1.700000</td>\n",
       "    </tr>\n",
       "    <tr>\n",
       "      <th>max</th>\n",
       "      <td>28.600000</td>\n",
       "      <td>2417.000000</td>\n",
       "      <td>0.000000</td>\n",
       "      <td>10.100000</td>\n",
       "      <td>1248.920000</td>\n",
       "      <td>245.500000</td>\n",
       "      <td>19.590000</td>\n",
       "      <td>21.100000</td>\n",
       "    </tr>\n",
       "  </tbody>\n",
       "</table>\n",
       "</div>"
      ],
      "text/plain": [
       "             Temp C  Sp Cond (uS/cm)       pH (mV)            pH  \\\n",
       "count  19487.000000     19487.000000  19487.000000  19487.000000   \n",
       "mean      19.131184      1990.294607   -196.624329      8.922357   \n",
       "std        5.045367       230.743946     27.769024      0.357733   \n",
       "min        0.000000         0.000000   -284.000000      0.000000   \n",
       "25%       15.480000      1869.000000   -216.950000      8.730000   \n",
       "50%       20.190000      1958.000000   -192.000000      8.920000   \n",
       "75%       23.070000      2149.000000   -179.500000      9.100000   \n",
       "max       28.600000      2417.000000      0.000000     10.100000   \n",
       "\n",
       "       Turbidity (NTU)       ODOSat%    ODO (mg/L)  BGA-Phycocyanin RFU  \n",
       "count     19487.000000  19487.000000  19487.000000         19487.000000  \n",
       "mean         63.929067     90.057202      8.309566             1.459773  \n",
       "std          70.885989     17.627283      1.486747             1.311960  \n",
       "min          -0.880000      0.000000      0.000000            -0.400000  \n",
       "25%          33.750000     79.100000      7.280000             0.600000  \n",
       "50%          48.380000     85.300000      8.010000             1.000000  \n",
       "75%          68.275000     95.300000      9.240000             1.700000  \n",
       "max        1248.920000    245.500000     19.590000            21.100000  "
      ]
     },
     "execution_count": 6,
     "metadata": {},
     "output_type": "execute_result"
    }
   ],
   "source": [
    "test_dfs[test_index].describe()"
   ]
  },
  {
   "cell_type": "markdown",
   "metadata": {},
   "source": [
    "## Use Datetime Index"
   ]
  },
  {
   "cell_type": "code",
   "execution_count": 7,
   "metadata": {},
   "outputs": [
    {
     "name": "stdout",
     "output_type": "stream",
     "text": [
      "Time America/Boise UTC-06:00     object\n",
      "Temp C                          float64\n",
      "Sp Cond (uS/cm)                   int64\n",
      "pH (mV)                         float64\n",
      "pH                              float64\n",
      "Turbidity (NTU)                 float64\n",
      "ODOSat%                         float64\n",
      "ODO (mg/L)                      float64\n",
      "BGA-Phycocyanin RFU             float64\n",
      "dtype: object\n",
      "Date (mm.dd.yyyy)       object\n",
      "Time 24hr               object\n",
      "Temp C                 float64\n",
      "Sp Cond (uS/cm)          int64\n",
      "pH (mV)                float64\n",
      "pH                     float64\n",
      "Turbidity (NTU)        float64\n",
      "ODOSat%                float64\n",
      "ODO (mg/L)             float64\n",
      "BGA-Phycocyanin RFU    float64\n",
      "dtype: object\n"
     ]
    }
   ],
   "source": [
    "print(test_dfs[test_index].dtypes)\n",
    "print(train_dfs[train_index].dtypes)"
   ]
  },
  {
   "cell_type": "code",
   "execution_count": 8,
   "metadata": {
    "scrolled": true
   },
   "outputs": [
    {
     "data": {
      "text/html": [
       "<div>\n",
       "<style scoped>\n",
       "    .dataframe tbody tr th:only-of-type {\n",
       "        vertical-align: middle;\n",
       "    }\n",
       "\n",
       "    .dataframe tbody tr th {\n",
       "        vertical-align: top;\n",
       "    }\n",
       "\n",
       "    .dataframe thead th {\n",
       "        text-align: right;\n",
       "    }\n",
       "</style>\n",
       "<table border=\"1\" class=\"dataframe\">\n",
       "  <thead>\n",
       "    <tr style=\"text-align: right;\">\n",
       "      <th></th>\n",
       "      <th>Temp C</th>\n",
       "      <th>Sp Cond (uS/cm)</th>\n",
       "      <th>pH (mV)</th>\n",
       "      <th>pH</th>\n",
       "      <th>Turbidity (NTU)</th>\n",
       "      <th>ODOSat%</th>\n",
       "      <th>ODO (mg/L)</th>\n",
       "      <th>BGA-Phycocyanin RFU</th>\n",
       "      <th>datetime</th>\n",
       "      <th>month</th>\n",
       "      <th>day</th>\n",
       "      <th>week</th>\n",
       "    </tr>\n",
       "    <tr>\n",
       "      <th>timestamp</th>\n",
       "      <th></th>\n",
       "      <th></th>\n",
       "      <th></th>\n",
       "      <th></th>\n",
       "      <th></th>\n",
       "      <th></th>\n",
       "      <th></th>\n",
       "      <th></th>\n",
       "      <th></th>\n",
       "      <th></th>\n",
       "      <th></th>\n",
       "      <th></th>\n",
       "    </tr>\n",
       "  </thead>\n",
       "  <tbody>\n",
       "    <tr>\n",
       "      <th>2017-05-05 00:00:00</th>\n",
       "      <td>15.02</td>\n",
       "      <td>1848</td>\n",
       "      <td>-100.1</td>\n",
       "      <td>8.36</td>\n",
       "      <td>16.84</td>\n",
       "      <td>90.2</td>\n",
       "      <td>9.04</td>\n",
       "      <td>0.4</td>\n",
       "      <td>2017-05-05 00:00:00</td>\n",
       "      <td>5</td>\n",
       "      <td>124</td>\n",
       "      <td>18</td>\n",
       "    </tr>\n",
       "    <tr>\n",
       "      <th>2017-05-05 00:15:00</th>\n",
       "      <td>14.99</td>\n",
       "      <td>1847</td>\n",
       "      <td>-100.1</td>\n",
       "      <td>8.36</td>\n",
       "      <td>16.76</td>\n",
       "      <td>90.2</td>\n",
       "      <td>9.04</td>\n",
       "      <td>0.4</td>\n",
       "      <td>2017-05-05 00:15:00</td>\n",
       "      <td>5</td>\n",
       "      <td>124</td>\n",
       "      <td>18</td>\n",
       "    </tr>\n",
       "    <tr>\n",
       "      <th>2017-05-05 00:30:00</th>\n",
       "      <td>14.96</td>\n",
       "      <td>1847</td>\n",
       "      <td>-100.1</td>\n",
       "      <td>8.36</td>\n",
       "      <td>16.82</td>\n",
       "      <td>90.1</td>\n",
       "      <td>9.04</td>\n",
       "      <td>0.4</td>\n",
       "      <td>2017-05-05 00:30:00</td>\n",
       "      <td>5</td>\n",
       "      <td>124</td>\n",
       "      <td>18</td>\n",
       "    </tr>\n",
       "    <tr>\n",
       "      <th>2017-05-05 00:45:00</th>\n",
       "      <td>14.95</td>\n",
       "      <td>1848</td>\n",
       "      <td>-100.1</td>\n",
       "      <td>8.36</td>\n",
       "      <td>17.19</td>\n",
       "      <td>90.0</td>\n",
       "      <td>9.03</td>\n",
       "      <td>0.4</td>\n",
       "      <td>2017-05-05 00:45:00</td>\n",
       "      <td>5</td>\n",
       "      <td>124</td>\n",
       "      <td>18</td>\n",
       "    </tr>\n",
       "    <tr>\n",
       "      <th>2017-05-05 01:00:00</th>\n",
       "      <td>14.92</td>\n",
       "      <td>1848</td>\n",
       "      <td>-100.0</td>\n",
       "      <td>8.36</td>\n",
       "      <td>16.85</td>\n",
       "      <td>89.8</td>\n",
       "      <td>9.02</td>\n",
       "      <td>0.4</td>\n",
       "      <td>2017-05-05 01:00:00</td>\n",
       "      <td>5</td>\n",
       "      <td>124</td>\n",
       "      <td>18</td>\n",
       "    </tr>\n",
       "  </tbody>\n",
       "</table>\n",
       "</div>"
      ],
      "text/plain": [
       "                     Temp C  Sp Cond (uS/cm)  pH (mV)    pH  Turbidity (NTU)  \\\n",
       "timestamp                                                                      \n",
       "2017-05-05 00:00:00   15.02             1848   -100.1  8.36            16.84   \n",
       "2017-05-05 00:15:00   14.99             1847   -100.1  8.36            16.76   \n",
       "2017-05-05 00:30:00   14.96             1847   -100.1  8.36            16.82   \n",
       "2017-05-05 00:45:00   14.95             1848   -100.1  8.36            17.19   \n",
       "2017-05-05 01:00:00   14.92             1848   -100.0  8.36            16.85   \n",
       "\n",
       "                     ODOSat%  ODO (mg/L)  BGA-Phycocyanin RFU  \\\n",
       "timestamp                                                       \n",
       "2017-05-05 00:00:00     90.2        9.04                  0.4   \n",
       "2017-05-05 00:15:00     90.2        9.04                  0.4   \n",
       "2017-05-05 00:30:00     90.1        9.04                  0.4   \n",
       "2017-05-05 00:45:00     90.0        9.03                  0.4   \n",
       "2017-05-05 01:00:00     89.8        9.02                  0.4   \n",
       "\n",
       "                               datetime  month  day  week  \n",
       "timestamp                                                  \n",
       "2017-05-05 00:00:00 2017-05-05 00:00:00      5  124    18  \n",
       "2017-05-05 00:15:00 2017-05-05 00:15:00      5  124    18  \n",
       "2017-05-05 00:30:00 2017-05-05 00:30:00      5  124    18  \n",
       "2017-05-05 00:45:00 2017-05-05 00:45:00      5  124    18  \n",
       "2017-05-05 01:00:00 2017-05-05 01:00:00      5  124    18  "
      ]
     },
     "execution_count": 8,
     "metadata": {},
     "output_type": "execute_result"
    }
   ],
   "source": [
    "# We will need to engineer a datetime column for our 2017 data\n",
    "\n",
    "# Create a single datetime column from the strings provided in our csv's\n",
    "for i in range(0, len(train_dfs)):\n",
    "    timestamp = train_dfs[i]['Date (mm.dd.yyyy)'] + ' '+ train_dfs[i]['Time 24hr']\n",
    "    timestamp = pd.to_datetime(timestamp)\n",
    "    train_dfs[i]['timestamp'] = timestamp\n",
    "    train_dfs[i]['datetime'] = timestamp\n",
    "    train_dfs[i]['month'] = timestamp.apply(lambda x : x.month)\n",
    "    #since we dont want to give day of the month the same weight, we are adding day of the year as a category\n",
    "    train_dfs[i]['day'] = timestamp.apply(lambda x: (x - datetime.datetime(x.year, 1,1)).days)\n",
    "    train_dfs[i]['week'] = timestamp.apply(lambda x : floor((x - datetime.datetime(x.year, 1,1)).days/7) + 1)\n",
    "    train_dfs[i] = train_dfs[i].set_index('timestamp')\n",
    "    train_dfs[i] = train_dfs[i].drop(columns=['Date (mm.dd.yyyy)', 'Time 24hr'])\n",
    "train_dfs[train_index].head()"
   ]
  },
  {
   "cell_type": "code",
   "execution_count": 9,
   "metadata": {
    "scrolled": true
   },
   "outputs": [
    {
     "data": {
      "text/html": [
       "<div>\n",
       "<style scoped>\n",
       "    .dataframe tbody tr th:only-of-type {\n",
       "        vertical-align: middle;\n",
       "    }\n",
       "\n",
       "    .dataframe tbody tr th {\n",
       "        vertical-align: top;\n",
       "    }\n",
       "\n",
       "    .dataframe thead th {\n",
       "        text-align: right;\n",
       "    }\n",
       "</style>\n",
       "<table border=\"1\" class=\"dataframe\">\n",
       "  <thead>\n",
       "    <tr style=\"text-align: right;\">\n",
       "      <th></th>\n",
       "      <th>Temp C</th>\n",
       "      <th>Sp Cond (uS/cm)</th>\n",
       "      <th>pH (mV)</th>\n",
       "      <th>pH</th>\n",
       "      <th>Turbidity (NTU)</th>\n",
       "      <th>ODOSat%</th>\n",
       "      <th>ODO (mg/L)</th>\n",
       "      <th>BGA-Phycocyanin RFU</th>\n",
       "      <th>datetime</th>\n",
       "      <th>month</th>\n",
       "      <th>day</th>\n",
       "      <th>week</th>\n",
       "    </tr>\n",
       "    <tr>\n",
       "      <th>timestamp</th>\n",
       "      <th></th>\n",
       "      <th></th>\n",
       "      <th></th>\n",
       "      <th></th>\n",
       "      <th></th>\n",
       "      <th></th>\n",
       "      <th></th>\n",
       "      <th></th>\n",
       "      <th></th>\n",
       "      <th></th>\n",
       "      <th></th>\n",
       "      <th></th>\n",
       "    </tr>\n",
       "  </thead>\n",
       "  <tbody>\n",
       "    <tr>\n",
       "      <th>2018-04-11 10:30:00</th>\n",
       "      <td>11.88</td>\n",
       "      <td>1782</td>\n",
       "      <td>-146.1</td>\n",
       "      <td>8.20</td>\n",
       "      <td>42.49</td>\n",
       "      <td>89.1</td>\n",
       "      <td>9.58</td>\n",
       "      <td>0.6</td>\n",
       "      <td>2018-04-11 10:30:00</td>\n",
       "      <td>4</td>\n",
       "      <td>100</td>\n",
       "      <td>15</td>\n",
       "    </tr>\n",
       "    <tr>\n",
       "      <th>2018-04-11 10:45:00</th>\n",
       "      <td>11.78</td>\n",
       "      <td>1783</td>\n",
       "      <td>-143.7</td>\n",
       "      <td>8.15</td>\n",
       "      <td>42.89</td>\n",
       "      <td>87.4</td>\n",
       "      <td>9.42</td>\n",
       "      <td>0.6</td>\n",
       "      <td>2018-04-11 10:45:00</td>\n",
       "      <td>4</td>\n",
       "      <td>100</td>\n",
       "      <td>15</td>\n",
       "    </tr>\n",
       "    <tr>\n",
       "      <th>2018-04-11 11:00:00</th>\n",
       "      <td>11.79</td>\n",
       "      <td>1784</td>\n",
       "      <td>-144.3</td>\n",
       "      <td>8.17</td>\n",
       "      <td>41.24</td>\n",
       "      <td>89.0</td>\n",
       "      <td>9.58</td>\n",
       "      <td>0.7</td>\n",
       "      <td>2018-04-11 11:00:00</td>\n",
       "      <td>4</td>\n",
       "      <td>100</td>\n",
       "      <td>15</td>\n",
       "    </tr>\n",
       "    <tr>\n",
       "      <th>2018-04-11 11:15:00</th>\n",
       "      <td>11.66</td>\n",
       "      <td>1783</td>\n",
       "      <td>-143.1</td>\n",
       "      <td>8.14</td>\n",
       "      <td>42.65</td>\n",
       "      <td>87.1</td>\n",
       "      <td>9.41</td>\n",
       "      <td>0.7</td>\n",
       "      <td>2018-04-11 11:15:00</td>\n",
       "      <td>4</td>\n",
       "      <td>100</td>\n",
       "      <td>15</td>\n",
       "    </tr>\n",
       "    <tr>\n",
       "      <th>2018-04-11 11:30:00</th>\n",
       "      <td>11.68</td>\n",
       "      <td>1784</td>\n",
       "      <td>-143.5</td>\n",
       "      <td>8.15</td>\n",
       "      <td>42.06</td>\n",
       "      <td>87.5</td>\n",
       "      <td>9.45</td>\n",
       "      <td>0.7</td>\n",
       "      <td>2018-04-11 11:30:00</td>\n",
       "      <td>4</td>\n",
       "      <td>100</td>\n",
       "      <td>15</td>\n",
       "    </tr>\n",
       "  </tbody>\n",
       "</table>\n",
       "</div>"
      ],
      "text/plain": [
       "                     Temp C  Sp Cond (uS/cm)  pH (mV)    pH  Turbidity (NTU)  \\\n",
       "timestamp                                                                      \n",
       "2018-04-11 10:30:00   11.88             1782   -146.1  8.20            42.49   \n",
       "2018-04-11 10:45:00   11.78             1783   -143.7  8.15            42.89   \n",
       "2018-04-11 11:00:00   11.79             1784   -144.3  8.17            41.24   \n",
       "2018-04-11 11:15:00   11.66             1783   -143.1  8.14            42.65   \n",
       "2018-04-11 11:30:00   11.68             1784   -143.5  8.15            42.06   \n",
       "\n",
       "                     ODOSat%  ODO (mg/L)  BGA-Phycocyanin RFU  \\\n",
       "timestamp                                                       \n",
       "2018-04-11 10:30:00     89.1        9.58                  0.6   \n",
       "2018-04-11 10:45:00     87.4        9.42                  0.6   \n",
       "2018-04-11 11:00:00     89.0        9.58                  0.7   \n",
       "2018-04-11 11:15:00     87.1        9.41                  0.7   \n",
       "2018-04-11 11:30:00     87.5        9.45                  0.7   \n",
       "\n",
       "                               datetime  month  day  week  \n",
       "timestamp                                                  \n",
       "2018-04-11 10:30:00 2018-04-11 10:30:00      4  100    15  \n",
       "2018-04-11 10:45:00 2018-04-11 10:45:00      4  100    15  \n",
       "2018-04-11 11:00:00 2018-04-11 11:00:00      4  100    15  \n",
       "2018-04-11 11:15:00 2018-04-11 11:15:00      4  100    15  \n",
       "2018-04-11 11:30:00 2018-04-11 11:30:00      4  100    15  "
      ]
     },
     "execution_count": 9,
     "metadata": {},
     "output_type": "execute_result"
    }
   ],
   "source": [
    "# Now to datetime index our 2018 data\n",
    "for i in range(0, len(test_dfs)):\n",
    "    timestamp = pd.to_datetime(test_dfs[i]['Time America/Boise UTC-06:00'])\n",
    "    test_dfs[i]['timestamp'] = timestamp\n",
    "    test_dfs[i]['datetime'] = timestamp\n",
    "    test_dfs[i]['month'] = timestamp.apply(lambda x : x.month)\n",
    "    #since we dont want to give day of the month the same weight, we are adding day of the year as a category\n",
    "    test_dfs[i]['day'] = timestamp.apply(lambda x: (x - datetime.datetime(x.year, 1,1)).days )\n",
    "    test_dfs[i]['week'] = timestamp.apply(lambda x : floor((x - datetime.datetime(x.year, 1,1)).days/7) + 1)\n",
    "    test_dfs[i] = test_dfs[i].set_index('timestamp')\n",
    "    test_dfs[i] = test_dfs[i].drop(columns=['Time America/Boise UTC-06:00'])\n",
    "test_dfs[test_index].head()"
   ]
  },
  {
   "cell_type": "markdown",
   "metadata": {},
   "source": [
    "## Extract Windows"
   ]
  },
  {
   "cell_type": "code",
   "execution_count": 10,
   "metadata": {},
   "outputs": [],
   "source": [
    "presegmented_plot = pd.DataFrame(\n",
    "    {'BGA RFU': train_dfs[train_index][target_column], \n",
    "     'Bloom Threshold': np.full(train_dfs[train_index].count()[0], RFU_THRESHOLD)})"
   ]
  },
  {
   "cell_type": "code",
   "execution_count": 11,
   "metadata": {},
   "outputs": [
    {
     "data": {
      "text/plain": [
       "<matplotlib.axes._subplots.AxesSubplot at 0x1c300e7b7f0>"
      ]
     },
     "execution_count": 11,
     "metadata": {},
     "output_type": "execute_result"
    },
    {
     "data": {
      "image/png": "[encoded data removed]",
      "text/plain": [
       "<Figure size 432x288 with 1 Axes>"
      ]
     },
     "metadata": {},
     "output_type": "display_data"
    }
   ],
   "source": [
    "presegmented_plot.plot.line()"
   ]
  },
  {
   "cell_type": "code",
   "execution_count": 12,
   "metadata": {},
   "outputs": [
    {
     "data": {
      "text/plain": [
       "<matplotlib.axes._subplots.AxesSubplot at 0x1c3026e8198>"
      ]
     },
     "execution_count": 12,
     "metadata": {},
     "output_type": "execute_result"
    },
    {
     "data": {
      "image/png": "[encoded data removed]",
      "text/plain": [
       "<Figure size 432x288 with 1 Axes>"
      ]
     },
     "metadata": {},
     "output_type": "display_data"
    }
   ],
   "source": [
    "pd.DataFrame({'BGA RFU': train_dfs[train_index][target_column], \n",
    "            'Bloom Threshold': np.full(\n",
    "                train_dfs[train_index].count()[0], RFU_THRESHOLD)}).plot.line()"
   ]
  },
  {
   "cell_type": "code",
   "execution_count": 13,
   "metadata": {},
   "outputs": [
    {
     "name": "stdout",
     "output_type": "stream",
     "text": [
      "Windowizing 2017 data set: 1\n",
      "Segmenting...\n",
      "Extracting feature windows...\n",
      "Extracting target windows...\n",
      "Combining extractions...\n",
      "Windowizing 2018 data set: 1\n",
      "Segmenting...\n",
      "Extracting feature windows...\n",
      "Extracting target windows...\n",
      "Combining extractions...\n",
      "\n",
      "Windowizing 2017 data set: 2\n",
      "Segmenting...\n",
      "Extracting feature windows...\n",
      "Extracting target windows...\n",
      "Combining extractions...\n",
      "Windowizing 2018 data set: 2\n",
      "Segmenting...\n",
      "Extracting feature windows...\n",
      "Extracting target windows...\n",
      "Combining extractions...\n",
      "\n",
      "Windowizing 2017 data set: 3\n",
      "Segmenting...\n",
      "Extracting feature windows...\n",
      "Extracting target windows...\n",
      "Combining extractions...\n",
      "Windowizing 2018 data set: 3\n",
      "Segmenting...\n",
      "Extracting feature windows...\n",
      "Extracting target windows...\n",
      "Combining extractions...\n",
      "\n"
     ]
    }
   ],
   "source": [
    "# Segment each data frame\n",
    "for i in range(0, len(train_dfs)):\n",
    "    print(\"Windowizing 2017 data set:\", i+1)\n",
    "    train_dfs[i] = hf.windowize(train_dfs[i], 'datetime','BGA-Phycocyanin RFU')\n",
    "    print(\"Windowizing 2018 data set:\", i+1)\n",
    "    test_dfs[i]  = hf.windowize(test_dfs[i], 'datetime', 'BGA-Phycocyanin RFU')\n",
    "    print()"
   ]
  },
  {
   "cell_type": "code",
   "execution_count": 14,
   "metadata": {},
   "outputs": [],
   "source": [
    "lrf.add_target_column(train_dfs)\n",
    "lrf.add_target_column(test_dfs)"
   ]
  },
  {
   "cell_type": "code",
   "execution_count": 15,
   "metadata": {},
   "outputs": [],
   "source": [
    "x_columns = ['Temp C', 'Sp Cond (uS/cm)', 'pH (mV)', 'pH', 'Turbidity (NTU)',\n",
    "            'ODOSat%', 'ODO (mg/L)','day','month','week']\n",
    "columns_to_bucket = x_columns \n",
    "x_columns =  x_columns + ['Temp C_bucket', 'Sp Cond (uS/cm)_bucket', 'pH (mV)_bucket', 'pH_bucket', 'Turbidity (NTU)_bucket',\n",
    "                          'ODOSat%_bucket','ODO (mg/L)_bucket','month_bucket','day_bucket','week_bucket']\n",
    "\n",
    "for column in columns_to_bucket:    \n",
    "    hf.bucket_column(test_dfs[test_index], column, dd.all_dict[column])\n",
    "    hf.bucket_column(train_dfs[train_index], column, dd.all_dict[column])      "
   ]
  },
  {
   "cell_type": "code",
   "execution_count": 16,
   "metadata": {},
   "outputs": [
    {
     "data": {
      "text/html": [
       "<div>\n",
       "<style scoped>\n",
       "    .dataframe tbody tr th:only-of-type {\n",
       "        vertical-align: middle;\n",
       "    }\n",
       "\n",
       "    .dataframe tbody tr th {\n",
       "        vertical-align: top;\n",
       "    }\n",
       "\n",
       "    .dataframe thead th {\n",
       "        text-align: right;\n",
       "    }\n",
       "</style>\n",
       "<table border=\"1\" class=\"dataframe\">\n",
       "  <thead>\n",
       "    <tr style=\"text-align: right;\">\n",
       "      <th></th>\n",
       "      <th>BGA-Phycocyanin RFU</th>\n",
       "      <th>ODO (mg/L)</th>\n",
       "      <th>ODOSat%</th>\n",
       "      <th>Sp Cond (uS/cm)</th>\n",
       "      <th>Temp C</th>\n",
       "      <th>Turbidity (NTU)</th>\n",
       "      <th>datetime</th>\n",
       "      <th>day</th>\n",
       "      <th>month</th>\n",
       "      <th>pH</th>\n",
       "      <th>...</th>\n",
       "      <th>Temp C_bucket</th>\n",
       "      <th>Sp Cond (uS/cm)_bucket</th>\n",
       "      <th>pH (mV)_bucket</th>\n",
       "      <th>pH_bucket</th>\n",
       "      <th>Turbidity (NTU)_bucket</th>\n",
       "      <th>ODOSat%_bucket</th>\n",
       "      <th>ODO (mg/L)_bucket</th>\n",
       "      <th>day_bucket</th>\n",
       "      <th>month_bucket</th>\n",
       "      <th>week_bucket</th>\n",
       "    </tr>\n",
       "    <tr>\n",
       "      <th>datetimeIndex</th>\n",
       "      <th></th>\n",
       "      <th></th>\n",
       "      <th></th>\n",
       "      <th></th>\n",
       "      <th></th>\n",
       "      <th></th>\n",
       "      <th></th>\n",
       "      <th></th>\n",
       "      <th></th>\n",
       "      <th></th>\n",
       "      <th></th>\n",
       "      <th></th>\n",
       "      <th></th>\n",
       "      <th></th>\n",
       "      <th></th>\n",
       "      <th></th>\n",
       "      <th></th>\n",
       "      <th></th>\n",
       "      <th></th>\n",
       "      <th></th>\n",
       "      <th></th>\n",
       "    </tr>\n",
       "  </thead>\n",
       "  <tbody>\n",
       "    <tr>\n",
       "      <th>2017-05-31 14:24:00</th>\n",
       "      <td>0.4</td>\n",
       "      <td>8.86</td>\n",
       "      <td>92.00</td>\n",
       "      <td>1964.0</td>\n",
       "      <td>19.880</td>\n",
       "      <td>144.05</td>\n",
       "      <td>2017-05-31 14:24:00</td>\n",
       "      <td>150.0</td>\n",
       "      <td>5.0</td>\n",
       "      <td>8.47</td>\n",
       "      <td>...</td>\n",
       "      <td>Room</td>\n",
       "      <td>Not Sensitive</td>\n",
       "      <td>High</td>\n",
       "      <td>Low</td>\n",
       "      <td>Cloudy</td>\n",
       "      <td>Average</td>\n",
       "      <td>Above Average</td>\n",
       "      <td>150</td>\n",
       "      <td>May</td>\n",
       "      <td>22</td>\n",
       "    </tr>\n",
       "    <tr>\n",
       "      <th>2017-06-01 04:24:00</th>\n",
       "      <td>0.3</td>\n",
       "      <td>8.73</td>\n",
       "      <td>91.76</td>\n",
       "      <td>1964.0</td>\n",
       "      <td>19.986</td>\n",
       "      <td>144.05</td>\n",
       "      <td>2017-06-01 04:24:00</td>\n",
       "      <td>151.0</td>\n",
       "      <td>6.0</td>\n",
       "      <td>8.47</td>\n",
       "      <td>...</td>\n",
       "      <td>Room</td>\n",
       "      <td>Not Sensitive</td>\n",
       "      <td>High</td>\n",
       "      <td>Low</td>\n",
       "      <td>Cloudy</td>\n",
       "      <td>Average</td>\n",
       "      <td>Above Average</td>\n",
       "      <td>151</td>\n",
       "      <td>June</td>\n",
       "      <td>22</td>\n",
       "    </tr>\n",
       "    <tr>\n",
       "      <th>2017-06-01 18:24:00</th>\n",
       "      <td>0.3</td>\n",
       "      <td>8.67</td>\n",
       "      <td>90.30</td>\n",
       "      <td>1964.0</td>\n",
       "      <td>20.200</td>\n",
       "      <td>144.05</td>\n",
       "      <td>2017-06-01 18:24:00</td>\n",
       "      <td>151.0</td>\n",
       "      <td>6.0</td>\n",
       "      <td>8.47</td>\n",
       "      <td>...</td>\n",
       "      <td>Room</td>\n",
       "      <td>Not Sensitive</td>\n",
       "      <td>High</td>\n",
       "      <td>Low</td>\n",
       "      <td>Cloudy</td>\n",
       "      <td>Average</td>\n",
       "      <td>Above Average</td>\n",
       "      <td>151</td>\n",
       "      <td>June</td>\n",
       "      <td>22</td>\n",
       "    </tr>\n",
       "    <tr>\n",
       "      <th>2017-06-02 08:24:00</th>\n",
       "      <td>0.2</td>\n",
       "      <td>8.62</td>\n",
       "      <td>89.70</td>\n",
       "      <td>1964.0</td>\n",
       "      <td>20.380</td>\n",
       "      <td>144.05</td>\n",
       "      <td>2017-06-02 08:24:00</td>\n",
       "      <td>152.0</td>\n",
       "      <td>6.0</td>\n",
       "      <td>8.48</td>\n",
       "      <td>...</td>\n",
       "      <td>Room</td>\n",
       "      <td>Not Sensitive</td>\n",
       "      <td>High</td>\n",
       "      <td>Low</td>\n",
       "      <td>Cloudy</td>\n",
       "      <td>Average</td>\n",
       "      <td>Above Average</td>\n",
       "      <td>152</td>\n",
       "      <td>June</td>\n",
       "      <td>22</td>\n",
       "    </tr>\n",
       "    <tr>\n",
       "      <th>2017-06-02 22:24:00</th>\n",
       "      <td>0.3</td>\n",
       "      <td>8.62</td>\n",
       "      <td>89.90</td>\n",
       "      <td>1964.0</td>\n",
       "      <td>20.826</td>\n",
       "      <td>144.05</td>\n",
       "      <td>2017-06-02 22:24:00</td>\n",
       "      <td>152.0</td>\n",
       "      <td>6.0</td>\n",
       "      <td>8.48</td>\n",
       "      <td>...</td>\n",
       "      <td>Room</td>\n",
       "      <td>Not Sensitive</td>\n",
       "      <td>High</td>\n",
       "      <td>Low</td>\n",
       "      <td>Cloudy</td>\n",
       "      <td>Average</td>\n",
       "      <td>Above Average</td>\n",
       "      <td>152</td>\n",
       "      <td>June</td>\n",
       "      <td>22</td>\n",
       "    </tr>\n",
       "  </tbody>\n",
       "</table>\n",
       "<p>5 rows × 23 columns</p>\n",
       "</div>"
      ],
      "text/plain": [
       "                     BGA-Phycocyanin RFU  ODO (mg/L)  ODOSat%  \\\n",
       "datetimeIndex                                                   \n",
       "2017-05-31 14:24:00                  0.4        8.86    92.00   \n",
       "2017-06-01 04:24:00                  0.3        8.73    91.76   \n",
       "2017-06-01 18:24:00                  0.3        8.67    90.30   \n",
       "2017-06-02 08:24:00                  0.2        8.62    89.70   \n",
       "2017-06-02 22:24:00                  0.3        8.62    89.90   \n",
       "\n",
       "                     Sp Cond (uS/cm)  Temp C  Turbidity (NTU)  \\\n",
       "datetimeIndex                                                   \n",
       "2017-05-31 14:24:00           1964.0  19.880           144.05   \n",
       "2017-06-01 04:24:00           1964.0  19.986           144.05   \n",
       "2017-06-01 18:24:00           1964.0  20.200           144.05   \n",
       "2017-06-02 08:24:00           1964.0  20.380           144.05   \n",
       "2017-06-02 22:24:00           1964.0  20.826           144.05   \n",
       "\n",
       "                               datetime    day  month    pH     ...      \\\n",
       "datetimeIndex                                                   ...       \n",
       "2017-05-31 14:24:00 2017-05-31 14:24:00  150.0    5.0  8.47     ...       \n",
       "2017-06-01 04:24:00 2017-06-01 04:24:00  151.0    6.0  8.47     ...       \n",
       "2017-06-01 18:24:00 2017-06-01 18:24:00  151.0    6.0  8.47     ...       \n",
       "2017-06-02 08:24:00 2017-06-02 08:24:00  152.0    6.0  8.48     ...       \n",
       "2017-06-02 22:24:00 2017-06-02 22:24:00  152.0    6.0  8.48     ...       \n",
       "\n",
       "                     Temp C_bucket  Sp Cond (uS/cm)_bucket  pH (mV)_bucket  \\\n",
       "datetimeIndex                                                                \n",
       "2017-05-31 14:24:00           Room           Not Sensitive            High   \n",
       "2017-06-01 04:24:00           Room           Not Sensitive            High   \n",
       "2017-06-01 18:24:00           Room           Not Sensitive            High   \n",
       "2017-06-02 08:24:00           Room           Not Sensitive            High   \n",
       "2017-06-02 22:24:00           Room           Not Sensitive            High   \n",
       "\n",
       "                    pH_bucket Turbidity (NTU)_bucket ODOSat%_bucket  \\\n",
       "datetimeIndex                                                         \n",
       "2017-05-31 14:24:00       Low                 Cloudy        Average   \n",
       "2017-06-01 04:24:00       Low                 Cloudy        Average   \n",
       "2017-06-01 18:24:00       Low                 Cloudy        Average   \n",
       "2017-06-02 08:24:00       Low                 Cloudy        Average   \n",
       "2017-06-02 22:24:00       Low                 Cloudy        Average   \n",
       "\n",
       "                    ODO (mg/L)_bucket day_bucket month_bucket week_bucket  \n",
       "datetimeIndex                                                              \n",
       "2017-05-31 14:24:00     Above Average        150          May          22  \n",
       "2017-06-01 04:24:00     Above Average        151         June          22  \n",
       "2017-06-01 18:24:00     Above Average        151         June          22  \n",
       "2017-06-02 08:24:00     Above Average        152         June          22  \n",
       "2017-06-02 22:24:00     Above Average        152         June          22  \n",
       "\n",
       "[5 rows x 23 columns]"
      ]
     },
     "execution_count": 16,
     "metadata": {},
     "output_type": "execute_result"
    }
   ],
   "source": [
    "#Check to seee if the buckets worked\n",
    "train_dfs[train_index].head()"
   ]
  },
  {
   "cell_type": "markdown",
   "metadata": {},
   "source": [
    "## Logistic Regression Model"
   ]
  },
  {
   "cell_type": "code",
   "execution_count": 17,
   "metadata": {},
   "outputs": [
    {
     "data": {
      "text/plain": [
       "<matplotlib.axes._subplots.AxesSubplot at 0x1c30262d860>"
      ]
     },
     "execution_count": 17,
     "metadata": {},
     "output_type": "execute_result"
    },
    {
     "data": {
      "image/png": "[encoded data removed]",
      "text/plain": [
       "<Figure size 432x288 with 1 Axes>"
      ]
     },
     "metadata": {},
     "output_type": "display_data"
    }
   ],
   "source": [
    "sns.lineplot(data=train_dfs[train_index][[target_column, 'bloom']], hue='bloom')"
   ]
  },
  {
   "cell_type": "code",
   "execution_count": 18,
   "metadata": {},
   "outputs": [
    {
     "name": "stdout",
     "output_type": "stream",
     "text": [
      "Accuracy 0.5652173913043478\n",
      "Recall: 0.48672566371681414\n",
      "Precision 0.4330708661417323\n",
      "Confusion Matrix:\n",
      " [[114  72]\n",
      " [ 58  55]]\n"
     ]
    }
   ],
   "source": [
    "# Creating a logisic regression model wthat is using everything as a baseline.\n",
    "max_iter = 25000\n",
    "loss = \"log\"\n",
    "model = SGDClassifier(max_iter=max_iter, loss=loss)\n",
    "\n",
    "accuracy, recall, precision, cm, predictions, predictions_prob, model = lrf.train_model(\n",
    "    model, train_dfs[train_index], test_dfs[test_index], x_columns, 'bloom')\n",
    "print(\"Accuracy\", accuracy)\n",
    "print(\"Recall:\", recall)\n",
    "print(\"Precision\", precision)\n",
    "print(\"Confusion Matrix:\\n\", cm)"
   ]
  },
  {
   "cell_type": "code",
   "execution_count": 19,
   "metadata": {},
   "outputs": [
    {
     "name": "stdout",
     "output_type": "stream",
     "text": [
      "Model AUC: 0.5516\n"
     ]
    },
    {
     "data": {
      "image/png": "[encoded data removed]",
      "text/plain": [
       "<Figure size 432x288 with 1 Axes>"
      ]
     },
     "metadata": {},
     "output_type": "display_data"
    }
   ],
   "source": [
    "# Print the ROC curve.\n",
    "predictions = [x[1] for x in predictions_prob]\n",
    "lrf.roc_plot(test_dfs[test_index][['bloom']].values, predictions)"
   ]
  },
  {
   "cell_type": "code",
   "execution_count": 20,
   "metadata": {},
   "outputs": [
    {
     "name": "stdout",
     "output_type": "stream",
     "text": [
      "Training model with: Temp C\n"
     ]
    },
    {
     "name": "stderr",
     "output_type": "stream",
     "text": [
      "C:\\Users\\mcneelypj\\AppData\\Local\\Continuum\\anaconda3\\lib\\site-packages\\sklearn\\metrics\\classification.py:1143: UndefinedMetricWarning: Precision is ill-defined and being set to 0.0 due to no predicted samples.\n",
      "  'precision', 'predicted', average, warn_for)\n"
     ]
    },
    {
     "name": "stdout",
     "output_type": "stream",
     "text": [
      "Accuracy 0.6220735785953178\n",
      "Recall: 0.0\n",
      "Precision 0.0\n",
      "Confusion Matrix:\n",
      " [[186   0]\n",
      " [113   0]]\n",
      "\n",
      "Training model with: Sp Cond (uS/cm)\n"
     ]
    },
    {
     "name": "stderr",
     "output_type": "stream",
     "text": [
      "C:\\Users\\mcneelypj\\AppData\\Local\\Continuum\\anaconda3\\lib\\site-packages\\sklearn\\metrics\\classification.py:1143: UndefinedMetricWarning: Precision is ill-defined and being set to 0.0 due to no predicted samples.\n",
      "  'precision', 'predicted', average, warn_for)\n"
     ]
    },
    {
     "name": "stdout",
     "output_type": "stream",
     "text": [
      "Accuracy 0.6220735785953178\n",
      "Recall: 0.0\n",
      "Precision 0.0\n",
      "Confusion Matrix:\n",
      " [[186   0]\n",
      " [113   0]]\n",
      "\n",
      "Training model with: pH (mV)\n"
     ]
    },
    {
     "name": "stderr",
     "output_type": "stream",
     "text": [
      "C:\\Users\\mcneelypj\\AppData\\Local\\Continuum\\anaconda3\\lib\\site-packages\\sklearn\\metrics\\classification.py:1143: UndefinedMetricWarning: Precision is ill-defined and being set to 0.0 due to no predicted samples.\n",
      "  'precision', 'predicted', average, warn_for)\n"
     ]
    },
    {
     "name": "stdout",
     "output_type": "stream",
     "text": [
      "Accuracy 0.6220735785953178\n",
      "Recall: 0.0\n",
      "Precision 0.0\n",
      "Confusion Matrix:\n",
      " [[186   0]\n",
      " [113   0]]\n",
      "\n",
      "Training model with: pH\n"
     ]
    },
    {
     "name": "stderr",
     "output_type": "stream",
     "text": [
      "C:\\Users\\mcneelypj\\AppData\\Local\\Continuum\\anaconda3\\lib\\site-packages\\sklearn\\metrics\\classification.py:1143: UndefinedMetricWarning: Precision is ill-defined and being set to 0.0 due to no predicted samples.\n",
      "  'precision', 'predicted', average, warn_for)\n"
     ]
    },
    {
     "name": "stdout",
     "output_type": "stream",
     "text": [
      "Accuracy 0.6220735785953178\n",
      "Recall: 0.0\n",
      "Precision 0.0\n",
      "Confusion Matrix:\n",
      " [[186   0]\n",
      " [113   0]]\n",
      "\n",
      "Training model with: Turbidity (NTU)\n"
     ]
    },
    {
     "name": "stderr",
     "output_type": "stream",
     "text": [
      "C:\\Users\\mcneelypj\\AppData\\Local\\Continuum\\anaconda3\\lib\\site-packages\\sklearn\\metrics\\classification.py:1143: UndefinedMetricWarning: Precision is ill-defined and being set to 0.0 due to no predicted samples.\n",
      "  'precision', 'predicted', average, warn_for)\n"
     ]
    },
    {
     "name": "stdout",
     "output_type": "stream",
     "text": [
      "Accuracy 0.6220735785953178\n",
      "Recall: 0.0\n",
      "Precision 0.0\n",
      "Confusion Matrix:\n",
      " [[186   0]\n",
      " [113   0]]\n",
      "\n",
      "Training model with: ODOSat%\n",
      "Accuracy 0.6755852842809364\n",
      "Recall: 0.1415929203539823\n",
      "Precision 1.0\n",
      "Confusion Matrix:\n",
      " [[186   0]\n",
      " [ 97  16]]\n",
      "\n",
      "Training model with: ODO (mg/L)\n"
     ]
    },
    {
     "name": "stderr",
     "output_type": "stream",
     "text": [
      "C:\\Users\\mcneelypj\\AppData\\Local\\Continuum\\anaconda3\\lib\\site-packages\\sklearn\\metrics\\classification.py:1143: UndefinedMetricWarning: Precision is ill-defined and being set to 0.0 due to no predicted samples.\n",
      "  'precision', 'predicted', average, warn_for)\n"
     ]
    },
    {
     "name": "stdout",
     "output_type": "stream",
     "text": [
      "Accuracy 0.6220735785953178\n",
      "Recall: 0.0\n",
      "Precision 0.0\n",
      "Confusion Matrix:\n",
      " [[186   0]\n",
      " [113   0]]\n",
      "\n",
      "Training model with: day\n"
     ]
    },
    {
     "name": "stderr",
     "output_type": "stream",
     "text": [
      "C:\\Users\\mcneelypj\\AppData\\Local\\Continuum\\anaconda3\\lib\\site-packages\\sklearn\\metrics\\classification.py:1143: UndefinedMetricWarning: Precision is ill-defined and being set to 0.0 due to no predicted samples.\n",
      "  'precision', 'predicted', average, warn_for)\n"
     ]
    },
    {
     "name": "stdout",
     "output_type": "stream",
     "text": [
      "Accuracy 0.6220735785953178\n",
      "Recall: 0.0\n",
      "Precision 0.0\n",
      "Confusion Matrix:\n",
      " [[186   0]\n",
      " [113   0]]\n",
      "\n",
      "Training model with: month\n"
     ]
    },
    {
     "name": "stderr",
     "output_type": "stream",
     "text": [
      "C:\\Users\\mcneelypj\\AppData\\Local\\Continuum\\anaconda3\\lib\\site-packages\\sklearn\\metrics\\classification.py:1143: UndefinedMetricWarning: Precision is ill-defined and being set to 0.0 due to no predicted samples.\n",
      "  'precision', 'predicted', average, warn_for)\n"
     ]
    },
    {
     "name": "stdout",
     "output_type": "stream",
     "text": [
      "Accuracy 0.6220735785953178\n",
      "Recall: 0.0\n",
      "Precision 0.0\n",
      "Confusion Matrix:\n",
      " [[186   0]\n",
      " [113   0]]\n",
      "\n",
      "Training model with: week\n"
     ]
    },
    {
     "name": "stderr",
     "output_type": "stream",
     "text": [
      "C:\\Users\\mcneelypj\\AppData\\Local\\Continuum\\anaconda3\\lib\\site-packages\\sklearn\\metrics\\classification.py:1143: UndefinedMetricWarning: Precision is ill-defined and being set to 0.0 due to no predicted samples.\n",
      "  'precision', 'predicted', average, warn_for)\n"
     ]
    },
    {
     "name": "stdout",
     "output_type": "stream",
     "text": [
      "Accuracy 0.6220735785953178\n",
      "Recall: 0.0\n",
      "Precision 0.0\n",
      "Confusion Matrix:\n",
      " [[186   0]\n",
      " [113   0]]\n",
      "\n",
      "Training model with: Temp C_bucket\n"
     ]
    },
    {
     "name": "stderr",
     "output_type": "stream",
     "text": [
      "C:\\Users\\mcneelypj\\AppData\\Local\\Continuum\\anaconda3\\lib\\site-packages\\sklearn\\metrics\\classification.py:1143: UndefinedMetricWarning: Precision is ill-defined and being set to 0.0 due to no predicted samples.\n",
      "  'precision', 'predicted', average, warn_for)\n"
     ]
    },
    {
     "name": "stdout",
     "output_type": "stream",
     "text": [
      "Accuracy 0.6220735785953178\n",
      "Recall: 0.0\n",
      "Precision 0.0\n",
      "Confusion Matrix:\n",
      " [[186   0]\n",
      " [113   0]]\n",
      "\n",
      "Training model with: Sp Cond (uS/cm)_bucket\n"
     ]
    },
    {
     "name": "stderr",
     "output_type": "stream",
     "text": [
      "C:\\Users\\mcneelypj\\AppData\\Local\\Continuum\\anaconda3\\lib\\site-packages\\sklearn\\metrics\\classification.py:1143: UndefinedMetricWarning: Precision is ill-defined and being set to 0.0 due to no predicted samples.\n",
      "  'precision', 'predicted', average, warn_for)\n"
     ]
    },
    {
     "name": "stdout",
     "output_type": "stream",
     "text": [
      "Accuracy 0.6220735785953178\n",
      "Recall: 0.0\n",
      "Precision 0.0\n",
      "Confusion Matrix:\n",
      " [[186   0]\n",
      " [113   0]]\n",
      "\n",
      "Training model with: pH (mV)_bucket\n"
     ]
    },
    {
     "name": "stderr",
     "output_type": "stream",
     "text": [
      "C:\\Users\\mcneelypj\\AppData\\Local\\Continuum\\anaconda3\\lib\\site-packages\\sklearn\\metrics\\classification.py:1143: UndefinedMetricWarning: Precision is ill-defined and being set to 0.0 due to no predicted samples.\n",
      "  'precision', 'predicted', average, warn_for)\n"
     ]
    },
    {
     "name": "stdout",
     "output_type": "stream",
     "text": [
      "Accuracy 0.6220735785953178\n",
      "Recall: 0.0\n",
      "Precision 0.0\n",
      "Confusion Matrix:\n",
      " [[186   0]\n",
      " [113   0]]\n",
      "\n",
      "Training model with: pH_bucket\n"
     ]
    },
    {
     "name": "stderr",
     "output_type": "stream",
     "text": [
      "C:\\Users\\mcneelypj\\AppData\\Local\\Continuum\\anaconda3\\lib\\site-packages\\sklearn\\metrics\\classification.py:1143: UndefinedMetricWarning: Precision is ill-defined and being set to 0.0 due to no predicted samples.\n",
      "  'precision', 'predicted', average, warn_for)\n"
     ]
    },
    {
     "name": "stdout",
     "output_type": "stream",
     "text": [
      "Accuracy 0.6220735785953178\n",
      "Recall: 0.0\n",
      "Precision 0.0\n",
      "Confusion Matrix:\n",
      " [[186   0]\n",
      " [113   0]]\n",
      "\n",
      "Training model with: Turbidity (NTU)_bucket\n"
     ]
    },
    {
     "name": "stderr",
     "output_type": "stream",
     "text": [
      "C:\\Users\\mcneelypj\\AppData\\Local\\Continuum\\anaconda3\\lib\\site-packages\\sklearn\\metrics\\classification.py:1143: UndefinedMetricWarning: Precision is ill-defined and being set to 0.0 due to no predicted samples.\n",
      "  'precision', 'predicted', average, warn_for)\n"
     ]
    },
    {
     "name": "stdout",
     "output_type": "stream",
     "text": [
      "Accuracy 0.6220735785953178\n",
      "Recall: 0.0\n",
      "Precision 0.0\n",
      "Confusion Matrix:\n",
      " [[186   0]\n",
      " [113   0]]\n",
      "\n",
      "Training model with: ODOSat%_bucket\n"
     ]
    },
    {
     "name": "stderr",
     "output_type": "stream",
     "text": [
      "C:\\Users\\mcneelypj\\AppData\\Local\\Continuum\\anaconda3\\lib\\site-packages\\sklearn\\metrics\\classification.py:1143: UndefinedMetricWarning: Precision is ill-defined and being set to 0.0 due to no predicted samples.\n",
      "  'precision', 'predicted', average, warn_for)\n"
     ]
    },
    {
     "name": "stdout",
     "output_type": "stream",
     "text": [
      "Accuracy 0.6220735785953178\n",
      "Recall: 0.0\n",
      "Precision 0.0\n",
      "Confusion Matrix:\n",
      " [[186   0]\n",
      " [113   0]]\n",
      "\n",
      "Training model with: ODO (mg/L)_bucket\n"
     ]
    },
    {
     "name": "stderr",
     "output_type": "stream",
     "text": [
      "C:\\Users\\mcneelypj\\AppData\\Local\\Continuum\\anaconda3\\lib\\site-packages\\sklearn\\metrics\\classification.py:1143: UndefinedMetricWarning: Precision is ill-defined and being set to 0.0 due to no predicted samples.\n",
      "  'precision', 'predicted', average, warn_for)\n"
     ]
    },
    {
     "name": "stdout",
     "output_type": "stream",
     "text": [
      "Accuracy 0.6220735785953178\n",
      "Recall: 0.0\n",
      "Precision 0.0\n",
      "Confusion Matrix:\n",
      " [[186   0]\n",
      " [113   0]]\n",
      "\n",
      "Training model with: month_bucket\n",
      "Accuracy 0.5919732441471572\n",
      "Recall: 0.19469026548672566\n",
      "Precision 0.41509433962264153\n",
      "Confusion Matrix:\n",
      " [[155  31]\n",
      " [ 91  22]]\n",
      "\n",
      "Training model with: day_bucket\n",
      "Accuracy 0.5585284280936454\n",
      "Recall: 0.07964601769911504\n",
      "Precision 0.24324324324324326\n",
      "Confusion Matrix:\n",
      " [[158  28]\n",
      " [104   9]]\n",
      "\n",
      "Training model with: week_bucket\n",
      "Accuracy 0.5016722408026756\n",
      "Recall: 0.0\n",
      "Precision 0.0\n",
      "Confusion Matrix:\n",
      " [[150  36]\n",
      " [113   0]]\n",
      "\n",
      "ODOSat% metric value: 0.6755852842809364\n",
      "Temp C metric value: 0.6220735785953178\n",
      "Sp Cond (uS/cm) metric value: 0.6220735785953178\n",
      "pH (mV) metric value: 0.6220735785953178\n",
      "pH metric value: 0.6220735785953178\n",
      "Turbidity (NTU) metric value: 0.6220735785953178\n",
      "ODO (mg/L) metric value: 0.6220735785953178\n",
      "day metric value: 0.6220735785953178\n",
      "month metric value: 0.6220735785953178\n",
      "week metric value: 0.6220735785953178\n",
      "Temp C_bucket metric value: 0.6220735785953178\n",
      "Sp Cond (uS/cm)_bucket metric value: 0.6220735785953178\n",
      "pH (mV)_bucket metric value: 0.6220735785953178\n",
      "pH_bucket metric value: 0.6220735785953178\n",
      "Turbidity (NTU)_bucket metric value: 0.6220735785953178\n",
      "ODOSat%_bucket metric value: 0.6220735785953178\n",
      "ODO (mg/L)_bucket metric value: 0.6220735785953178\n",
      "month_bucket metric value: 0.5919732441471572\n",
      "day_bucket metric value: 0.5585284280936454\n",
      "week_bucket metric value: 0.5016722408026756\n"
     ]
    }
   ],
   "source": [
    "model = SGDClassifier(max_iter=max_iter, loss=loss)\n",
    "# Sort columns by accuracy\n",
    "sorted_columns = lrf.sort_columns_by_metric(model, train_dfs[train_index], \n",
    "                                            test_dfs[test_index],\n",
    "                                            x_columns,\n",
    "                                            'bloom')"
   ]
  },
  {
   "cell_type": "markdown",
   "metadata": {},
   "source": [
    "## Create Greedy Model"
   ]
  },
  {
   "cell_type": "code",
   "execution_count": 26,
   "metadata": {},
   "outputs": [
    {
     "name": "stderr",
     "output_type": "stream",
     "text": [
      "C:\\Users\\mcneelypj\\AppData\\Local\\Continuum\\anaconda3\\lib\\site-packages\\sklearn\\metrics\\classification.py:1143: UndefinedMetricWarning: Precision is ill-defined and being set to 0.0 due to no predicted samples.\n",
      "  'precision', 'predicted', average, warn_for)\n"
     ]
    },
    {
     "name": "stdout",
     "output_type": "stream",
     "text": [
      "base_columns: []\n",
      "sorted_columns: ['ODOSat%', 'Temp C', 'Sp Cond (uS/cm)', 'pH (mV)', 'pH', 'Turbidity (NTU)', 'ODO (mg/L)', 'day', 'month', 'week', 'Temp C_bucket', 'Sp Cond (uS/cm)_bucket', 'pH (mV)_bucket', 'pH_bucket', 'Turbidity (NTU)_bucket', 'ODOSat%_bucket', 'ODO (mg/L)_bucket', 'month_bucket', 'day_bucket', 'week_bucket']\n",
      "adjusted sorted_columns: ['ODOSat%', 'Temp C', 'Sp Cond (uS/cm)', 'pH (mV)', 'pH', 'Turbidity (NTU)', 'ODO (mg/L)', 'day', 'month', 'week', 'Temp C_bucket', 'Sp Cond (uS/cm)_bucket', 'pH (mV)_bucket', 'pH_bucket', 'Turbidity (NTU)_bucket', 'ODOSat%_bucket', 'ODO (mg/L)_bucket', 'month_bucket', 'day_bucket', 'week_bucket']\n",
      "Training model with: ['ODOSat%']\n",
      "Test model accuracy: 0.6755852842809364\n",
      "Test model recall: 0.1415929203539823\n",
      "Test model precision: 1.0\n",
      "\n",
      "Updating greedy model\n",
      "\n",
      "Training model with: ['ODOSat%', 'Temp C']\n"
     ]
    },
    {
     "name": "stderr",
     "output_type": "stream",
     "text": [
      "C:\\Users\\mcneelypj\\AppData\\Local\\Continuum\\anaconda3\\lib\\site-packages\\sklearn\\metrics\\classification.py:1143: UndefinedMetricWarning: Precision is ill-defined and being set to 0.0 due to no predicted samples.\n",
      "  'precision', 'predicted', average, warn_for)\n"
     ]
    },
    {
     "name": "stdout",
     "output_type": "stream",
     "text": [
      "Test model accuracy: 0.6220735785953178\n",
      "Test model recall: 0.0\n",
      "Test model precision: 0.0\n",
      "\n",
      "Training model with: ['ODOSat%', 'Sp Cond (uS/cm)']\n"
     ]
    },
    {
     "name": "stderr",
     "output_type": "stream",
     "text": [
      "C:\\Users\\mcneelypj\\AppData\\Local\\Continuum\\anaconda3\\lib\\site-packages\\sklearn\\metrics\\classification.py:1143: UndefinedMetricWarning: Precision is ill-defined and being set to 0.0 due to no predicted samples.\n",
      "  'precision', 'predicted', average, warn_for)\n"
     ]
    },
    {
     "name": "stdout",
     "output_type": "stream",
     "text": [
      "Test model accuracy: 0.6220735785953178\n",
      "Test model recall: 0.0\n",
      "Test model precision: 0.0\n",
      "\n",
      "Training model with: ['ODOSat%', 'pH (mV)']\n"
     ]
    },
    {
     "name": "stderr",
     "output_type": "stream",
     "text": [
      "C:\\Users\\mcneelypj\\AppData\\Local\\Continuum\\anaconda3\\lib\\site-packages\\sklearn\\metrics\\classification.py:1143: UndefinedMetricWarning: Precision is ill-defined and being set to 0.0 due to no predicted samples.\n",
      "  'precision', 'predicted', average, warn_for)\n"
     ]
    },
    {
     "name": "stdout",
     "output_type": "stream",
     "text": [
      "Test model accuracy: 0.6220735785953178\n",
      "Test model recall: 0.0\n",
      "Test model precision: 0.0\n",
      "\n",
      "Training model with: ['ODOSat%', 'pH']\n"
     ]
    },
    {
     "name": "stderr",
     "output_type": "stream",
     "text": [
      "C:\\Users\\mcneelypj\\AppData\\Local\\Continuum\\anaconda3\\lib\\site-packages\\sklearn\\metrics\\classification.py:1143: UndefinedMetricWarning: Precision is ill-defined and being set to 0.0 due to no predicted samples.\n",
      "  'precision', 'predicted', average, warn_for)\n"
     ]
    },
    {
     "name": "stdout",
     "output_type": "stream",
     "text": [
      "Test model accuracy: 0.6220735785953178\n",
      "Test model recall: 0.0\n",
      "Test model precision: 0.0\n",
      "\n",
      "Training model with: ['ODOSat%', 'Turbidity (NTU)']\n"
     ]
    },
    {
     "name": "stderr",
     "output_type": "stream",
     "text": [
      "C:\\Users\\mcneelypj\\AppData\\Local\\Continuum\\anaconda3\\lib\\site-packages\\sklearn\\metrics\\classification.py:1143: UndefinedMetricWarning: Precision is ill-defined and being set to 0.0 due to no predicted samples.\n",
      "  'precision', 'predicted', average, warn_for)\n"
     ]
    },
    {
     "name": "stdout",
     "output_type": "stream",
     "text": [
      "Test model accuracy: 0.6220735785953178\n",
      "Test model recall: 0.0\n",
      "Test model precision: 0.0\n",
      "\n",
      "Training model with: ['ODOSat%', 'ODO (mg/L)']\n"
     ]
    },
    {
     "name": "stderr",
     "output_type": "stream",
     "text": [
      "C:\\Users\\mcneelypj\\AppData\\Local\\Continuum\\anaconda3\\lib\\site-packages\\sklearn\\metrics\\classification.py:1143: UndefinedMetricWarning: Precision is ill-defined and being set to 0.0 due to no predicted samples.\n",
      "  'precision', 'predicted', average, warn_for)\n"
     ]
    },
    {
     "name": "stdout",
     "output_type": "stream",
     "text": [
      "Test model accuracy: 0.6220735785953178\n",
      "Test model recall: 0.0\n",
      "Test model precision: 0.0\n",
      "\n",
      "Training model with: ['ODOSat%', 'day']\n",
      "Test model accuracy: 0.7290969899665551\n",
      "Test model recall: 0.3008849557522124\n",
      "Test model precision: 0.9444444444444444\n",
      "\n",
      "Updating greedy model\n",
      "\n",
      "Training model with: ['ODOSat%', 'day', 'month']\n",
      "Test model accuracy: 0.7190635451505016\n",
      "Test model recall: 0.25663716814159293\n",
      "Test model precision: 1.0\n",
      "\n",
      "Training model with: ['ODOSat%', 'day', 'week']\n",
      "Test model accuracy: 0.7424749163879598\n",
      "Test model recall: 0.36283185840707965\n",
      "Test model precision: 0.8913043478260869\n",
      "\n",
      "Updating greedy model\n",
      "\n",
      "Training model with: ['ODOSat%', 'day', 'week', 'Temp C_bucket']\n",
      "Test model accuracy: 0.5919732441471572\n",
      "Test model recall: 0.49557522123893805\n",
      "Test model precision: 0.4628099173553719\n",
      "\n",
      "Training model with: ['ODOSat%', 'day', 'week', 'Sp Cond (uS/cm)_bucket']\n",
      "Test model accuracy: 0.7424749163879598\n",
      "Test model recall: 0.36283185840707965\n",
      "Test model precision: 0.8913043478260869\n",
      "\n",
      "Training model with: ['ODOSat%', 'day', 'week', 'pH (mV)_bucket']\n",
      "Test model accuracy: 0.7090301003344481\n",
      "Test model recall: 0.25663716814159293\n",
      "Test model precision: 0.90625\n",
      "\n",
      "Training model with: ['ODOSat%', 'day', 'week', 'pH_bucket']\n",
      "Test model accuracy: 0.7591973244147158\n",
      "Test model recall: 0.39823008849557523\n",
      "Test model precision: 0.9183673469387755\n",
      "\n",
      "Updating greedy model\n",
      "\n",
      "Training model with: ['ODOSat%', 'day', 'week', 'pH_bucket', 'Turbidity (NTU)_bucket']\n",
      "Test model accuracy: 0.5752508361204013\n",
      "Test model recall: 0.23008849557522124\n",
      "Test model precision: 0.3939393939393939\n",
      "\n",
      "Training model with: ['ODOSat%', 'day', 'week', 'pH_bucket', 'ODOSat%_bucket']\n",
      "Test model accuracy: 0.8561872909698997\n",
      "Test model recall: 0.9380530973451328\n",
      "Test model precision: 0.7464788732394366\n",
      "\n",
      "Updating greedy model\n",
      "\n",
      "Training model with: ['ODOSat%', 'day', 'week', 'pH_bucket', 'ODOSat%_bucket', 'ODO (mg/L)_bucket']\n",
      "Test model accuracy: 0.8361204013377926\n",
      "Test model recall: 0.8761061946902655\n",
      "Test model precision: 0.7388059701492538\n",
      "\n",
      "Training model with: ['ODOSat%', 'day', 'week', 'pH_bucket', 'ODOSat%_bucket', 'month_bucket']\n",
      "Test model accuracy: 0.4816053511705686\n",
      "Test model recall: 0.0\n",
      "Test model precision: 0.0\n",
      "\n",
      "Training model with: ['ODOSat%', 'day', 'week', 'pH_bucket', 'ODOSat%_bucket', 'day_bucket']\n",
      "Test model accuracy: 0.6521739130434783\n",
      "Test model recall: 0.23008849557522124\n",
      "Test model precision: 0.6046511627906976\n",
      "\n",
      "Training model with: ['ODOSat%', 'day', 'week', 'pH_bucket', 'ODOSat%_bucket', 'week_bucket']\n",
      "Test model accuracy: 0.7625418060200669\n",
      "Test model recall: 0.6017699115044248\n",
      "Test model precision: 0.723404255319149\n",
      "\n",
      "Final greedy columns: ['ODOSat%', 'day', 'week', 'pH_bucket', 'ODOSat%_bucket']\n",
      "Final greedy accuracy 0.8561872909698997\n",
      "Final greedy recall: 0.9380530973451328\n",
      "Final greedy precision: 0.7464788732394366\n",
      "Final greedy confusion matrix:\n",
      " [[150  36]\n",
      " [  7 106]]\n"
     ]
    }
   ],
   "source": [
    "model = SGDClassifier(max_iter=max_iter, loss=loss)\n",
    "\n",
    "accuracy, recall, precision, cm, predictions, predictions_prob, model = lrf.greedy_model(\n",
    "    model, train_dfs[train_index], test_dfs[test_index], x_columns, \n",
    "                                            'bloom', sorted_columns)\n"
   ]
  },
  {
   "cell_type": "code",
   "execution_count": 22,
   "metadata": {},
   "outputs": [
    {
     "name": "stdout",
     "output_type": "stream",
     "text": [
      "Model AUC: 0.9378\n"
     ]
    },
    {
     "data": {
      "image/png": "[encoded data removed]",
      "text/plain": [
       "<Figure size 432x288 with 1 Axes>"
      ]
     },
     "metadata": {},
     "output_type": "display_data"
    }
   ],
   "source": [
    "# Print the ROC curve.\n",
    "predictions = [x[1] for x in predictions_prob]\n",
    "lrf.roc_plot(test_dfs[test_index][['bloom']].values, predictions)"
   ]
  },
  {
   "cell_type": "markdown",
   "metadata": {},
   "source": [
    "## Random Forest Model"
   ]
  },
  {
   "cell_type": "code",
   "execution_count": 23,
   "metadata": {},
   "outputs": [
    {
     "name": "stdout",
     "output_type": "stream",
     "text": [
      "Accuracy 0.6187290969899666\n",
      "Recall: 0.0\n",
      "Precision 0.0\n",
      "Confusion Matrix:\n",
      " [[185   1]\n",
      " [113   0]]\n"
     ]
    }
   ],
   "source": [
    "# All Inputs\n",
    "model = RandomForestClassifier(n_estimators=100)\n",
    "accuracy, recall, precision, cm, predictions, predictions_prob, model = lrf.train_model(\n",
    "    model, train_dfs[train_index], test_dfs[test_index], x_columns, 'bloom')\n",
    "print(\"Accuracy\", accuracy)\n",
    "print(\"Recall:\", recall)\n",
    "print(\"Precision\", precision)\n",
    "print(\"Confusion Matrix:\\n\", cm)"
   ]
  },
  {
   "cell_type": "code",
   "execution_count": 24,
   "metadata": {},
   "outputs": [
    {
     "name": "stderr",
     "output_type": "stream",
     "text": [
      "C:\\Users\\mcneelypj\\AppData\\Local\\Continuum\\anaconda3\\lib\\site-packages\\sklearn\\metrics\\classification.py:1143: UndefinedMetricWarning: Precision is ill-defined and being set to 0.0 due to no predicted samples.\n",
      "  'precision', 'predicted', average, warn_for)\n"
     ]
    },
    {
     "name": "stdout",
     "output_type": "stream",
     "text": [
      "base_columns: []\n",
      "sorted_columns: ['ODOSat%', 'Temp C', 'Sp Cond (uS/cm)', 'pH (mV)', 'pH', 'Turbidity (NTU)', 'ODO (mg/L)', 'day', 'month', 'week', 'Temp C_bucket', 'Sp Cond (uS/cm)_bucket', 'pH (mV)_bucket', 'pH_bucket', 'Turbidity (NTU)_bucket', 'ODOSat%_bucket', 'ODO (mg/L)_bucket', 'month_bucket', 'day_bucket', 'week_bucket']\n",
      "adjusted sorted_columns: ['ODOSat%', 'Temp C', 'Sp Cond (uS/cm)', 'pH (mV)', 'pH', 'Turbidity (NTU)', 'ODO (mg/L)', 'day', 'month', 'week', 'Temp C_bucket', 'Sp Cond (uS/cm)_bucket', 'pH (mV)_bucket', 'pH_bucket', 'Turbidity (NTU)_bucket', 'ODOSat%_bucket', 'ODO (mg/L)_bucket', 'month_bucket', 'day_bucket', 'week_bucket']\n",
      "Training model with: ['ODOSat%']\n",
      "Test model accuracy: 0.568561872909699\n",
      "Test model recall: 0.05309734513274336\n",
      "Test model precision: 0.21428571428571427\n",
      "\n",
      "Training model with: ['Temp C']\n",
      "Test model accuracy: 0.705685618729097\n",
      "Test model recall: 0.2831858407079646\n",
      "Test model precision: 0.8205128205128205\n",
      "\n",
      "Updating greedy model\n",
      "\n",
      "Training model with: ['Temp C', 'Sp Cond (uS/cm)']\n",
      "Test model accuracy: 0.6588628762541806\n",
      "Test model recall: 0.1504424778761062\n",
      "Test model precision: 0.7391304347826086\n",
      "\n",
      "Training model with: ['Temp C', 'pH (mV)']\n",
      "Test model accuracy: 0.6220735785953178\n",
      "Test model recall: 0.0\n",
      "Test model precision: 0.0\n",
      "\n",
      "Training model with: ['Temp C', 'pH']\n",
      "Test model accuracy: 0.6220735785953178\n",
      "Test model recall: 0.008849557522123894\n",
      "Test model precision: 0.5\n",
      "\n",
      "Training model with: ['Temp C', 'Turbidity (NTU)']\n"
     ]
    },
    {
     "name": "stderr",
     "output_type": "stream",
     "text": [
      "C:\\Users\\mcneelypj\\AppData\\Local\\Continuum\\anaconda3\\lib\\site-packages\\sklearn\\metrics\\classification.py:1143: UndefinedMetricWarning: Precision is ill-defined and being set to 0.0 due to no predicted samples.\n",
      "  'precision', 'predicted', average, warn_for)\n"
     ]
    },
    {
     "name": "stdout",
     "output_type": "stream",
     "text": [
      "Test model accuracy: 0.6722408026755853\n",
      "Test model recall: 0.25663716814159293\n",
      "Test model precision: 0.6744186046511628\n",
      "\n",
      "Training model with: ['Temp C', 'ODO (mg/L)']\n",
      "Test model accuracy: 0.6254180602006689\n",
      "Test model recall: 0.061946902654867256\n",
      "Test model precision: 0.5384615384615384\n",
      "\n",
      "Training model with: ['Temp C', 'day']\n",
      "Test model accuracy: 0.6187290969899666\n",
      "Test model recall: 0.12389380530973451\n",
      "Test model precision: 0.4827586206896552\n",
      "\n",
      "Training model with: ['Temp C', 'month']\n",
      "Test model accuracy: 0.6454849498327759\n",
      "Test model recall: 0.1415929203539823\n",
      "Test model precision: 0.64\n",
      "\n",
      "Training model with: ['Temp C', 'week']\n",
      "Test model accuracy: 0.6688963210702341\n",
      "Test model recall: 0.26548672566371684\n",
      "Test model precision: 0.6521739130434783\n",
      "\n",
      "Training model with: ['Temp C', 'Temp C_bucket']\n",
      "Test model accuracy: 0.6220735785953178\n",
      "Test model recall: 0.0\n",
      "Test model precision: 0.0\n",
      "\n",
      "Training model with: ['Temp C', 'Sp Cond (uS/cm)_bucket']\n"
     ]
    },
    {
     "name": "stderr",
     "output_type": "stream",
     "text": [
      "C:\\Users\\mcneelypj\\AppData\\Local\\Continuum\\anaconda3\\lib\\site-packages\\sklearn\\metrics\\classification.py:1143: UndefinedMetricWarning: Precision is ill-defined and being set to 0.0 due to no predicted samples.\n",
      "  'precision', 'predicted', average, warn_for)\n"
     ]
    },
    {
     "name": "stdout",
     "output_type": "stream",
     "text": [
      "Test model accuracy: 0.705685618729097\n",
      "Test model recall: 0.2831858407079646\n",
      "Test model precision: 0.8205128205128205\n",
      "\n",
      "Training model with: ['Temp C', 'pH (mV)_bucket']\n",
      "Test model accuracy: 0.7357859531772575\n",
      "Test model recall: 0.3805309734513274\n",
      "Test model precision: 0.8269230769230769\n",
      "\n",
      "Updating greedy model\n",
      "\n",
      "Training model with: ['Temp C', 'pH (mV)_bucket', 'pH_bucket']\n",
      "Test model accuracy: 0.6220735785953178\n",
      "Test model recall: 0.017699115044247787\n",
      "Test model precision: 0.5\n",
      "\n",
      "Training model with: ['Temp C', 'pH (mV)_bucket', 'Turbidity (NTU)_bucket']\n",
      "Test model accuracy: 0.7391304347826086\n",
      "Test model recall: 0.3893805309734513\n",
      "Test model precision: 0.8301886792452831\n",
      "\n",
      "Updating greedy model\n",
      "\n",
      "Training model with: ['Temp C', 'pH (mV)_bucket', 'Turbidity (NTU)_bucket', 'ODOSat%_bucket']\n",
      "Test model accuracy: 0.7290969899665551\n",
      "Test model recall: 0.36283185840707965\n",
      "Test model precision: 0.82\n",
      "\n",
      "Training model with: ['Temp C', 'pH (mV)_bucket', 'Turbidity (NTU)_bucket', 'ODO (mg/L)_bucket']\n",
      "Test model accuracy: 0.7959866220735786\n",
      "Test model recall: 0.5929203539823009\n",
      "Test model precision: 0.8170731707317073\n",
      "\n",
      "Updating greedy model\n",
      "\n",
      "Training model with: ['Temp C', 'pH (mV)_bucket', 'Turbidity (NTU)_bucket', 'ODO (mg/L)_bucket', 'month_bucket']\n",
      "Test model accuracy: 0.451505016722408\n",
      "Test model recall: 0.0\n",
      "Test model precision: 0.0\n",
      "\n",
      "Training model with: ['Temp C', 'pH (mV)_bucket', 'Turbidity (NTU)_bucket', 'ODO (mg/L)_bucket', 'day_bucket']\n",
      "Test model accuracy: 0.7190635451505016\n",
      "Test model recall: 0.2920353982300885\n",
      "Test model precision: 0.8918918918918919\n",
      "\n",
      "Training model with: ['Temp C', 'pH (mV)_bucket', 'Turbidity (NTU)_bucket', 'ODO (mg/L)_bucket', 'week_bucket']\n",
      "Test model accuracy: 0.5585284280936454\n",
      "Test model recall: 0.0\n",
      "Test model precision: 0.0\n",
      "\n",
      "Final greedy columns: ['Temp C', 'pH (mV)_bucket', 'Turbidity (NTU)_bucket', 'ODO (mg/L)_bucket']\n",
      "Final greedy accuracy 0.7959866220735786\n",
      "Final greedy recall: 0.5929203539823009\n",
      "Final greedy precision: 0.8170731707317073\n",
      "Final greedy confusion matrix:\n",
      " [[171  15]\n",
      " [ 46  67]]\n"
     ]
    }
   ],
   "source": [
    "# Greedy Model\n",
    "model = RandomForestClassifier(n_estimators=100)\n",
    "accuracy, recall, precision, cm, predictions, predictions_prob, model = lrf.greedy_model(\n",
    "    model, train_dfs[train_index], test_dfs[test_index], x_columns, 'bloom', sorted_columns)"
   ]
  },
  {
   "cell_type": "code",
   "execution_count": 25,
   "metadata": {},
   "outputs": [
    {
     "name": "stdout",
     "output_type": "stream",
     "text": [
      "Model AUC: 0.8022\n"
     ]
    },
    {
     "data": {
      "image/png": "[encoded data removed]",
      "text/plain": [
       "<Figure size 432x288 with 1 Axes>"
      ]
     },
     "metadata": {},
     "output_type": "display_data"
    }
   ],
   "source": [
    "# Print the ROC curve.\n",
    "predictions = [x[1] for x in predictions_prob]\n",
    "lrf.roc_plot(test_dfs[test_index][['bloom']].values, predictions)"
   ]
  },
  {
   "cell_type": "code",
   "execution_count": null,
   "metadata": {},
   "outputs": [],
   "source": []
  }
 ],
 "metadata": {
  "kernelspec": {
   "display_name": "Python 3",
   "language": "python",
   "name": "python3"
  },
  "language_info": {
   "codemirror_mode": {
    "name": "ipython",
    "version": 3
   },
   "file_extension": ".py",
   "mimetype": "text/x-python",
   "name": "python",
   "nbconvert_exporter": "python",
   "pygments_lexer": "ipython3",
   "version": "3.6.5"
  }
 },
 "nbformat": 4,
 "nbformat_minor": 2
}
