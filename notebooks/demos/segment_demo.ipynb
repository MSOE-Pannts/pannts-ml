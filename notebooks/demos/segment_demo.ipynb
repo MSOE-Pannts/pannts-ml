{
 "cells": [
  {
   "cell_type": "code",
   "execution_count": 21,
   "metadata": {},
   "outputs": [
    {
     "ename": "SyntaxError",
     "evalue": "invalid syntax (<ipython-input-21-28e430fed260>, line 11)",
     "output_type": "error",
     "traceback": [
      "\u001b[1;36m  File \u001b[1;32m\"<ipython-input-21-28e430fed260>\"\u001b[1;36m, line \u001b[1;32m11\u001b[0m\n\u001b[1;33m    imports scripts.logistic_regression_functions as lrf\u001b[0m\n\u001b[1;37m                  ^\u001b[0m\n\u001b[1;31mSyntaxError\u001b[0m\u001b[1;31m:\u001b[0m invalid syntax\n"
     ]
    }
   ],
   "source": [
    "import pandas as pd\n",
    "import tensorflow as tf\n",
    "import keras as ks\n",
    "import numpy as np\n",
    "from sklearn.metrics import recall_score, precision_score, confusion_matrix\n",
    "from sklearn.preprocessing import MinMaxScaler\n",
    "from sklearn.model_selection import train_test_split\n",
    "import datetime\n",
    "import time\n",
    "from math import floor\n",
    "imports scripts.logistic_regression_functions as lrf\n",
    "import scripts.helper_functions as hf\n",
    "from keras.models import Sequential\n",
    "from keras.layers import Dense, Dropout, Conv2D, Flatten, Activation, MaxPooling2D\n",
    "import matplotlib.pylab as plt\n",
    "import seaborn as sns"
   ]
  },
  {
   "cell_type": "code",
   "execution_count": null,
   "metadata": {},
   "outputs": [],
   "source": [
    "# Load the data\n",
    "df = pd.read_csv('../../data/cleaned/site1_vineyard.csv')\n",
    "df.dtypes"
   ]
  },
  {
   "cell_type": "code",
   "execution_count": null,
   "metadata": {},
   "outputs": [],
   "source": [
    "# Create a single datetime column from the strings provided in our csv's\n",
    "# (We're already doing this bit for our models)\n",
    "from datetime import datetime\n",
    "\n",
    "timestamp = df['Date (mm.dd.yyyy)'] + ' '+ df['Time 24hr']\n",
    "timestamp = pd.to_datetime(timestamp)\n",
    "df['timestamp'] = timestamp\n",
    "\n",
    "# I'll drop the other columns for simple demo purposes\n",
    "df = df[['timestamp', 'pH', 'Temp C']]\n",
    "df['temp'] = [x for x in range(0, df.shape[0])]\n",
    "\n",
    "df.dtypes"
   ]
  },
  {
   "cell_type": "code",
   "execution_count": null,
   "metadata": {},
   "outputs": [],
   "source": [
    "# Now we set our datetime to be the index of the df for awesome indexing options\n",
    "# Note, the column is removed, so it might be good to keep a copy by another\n",
    "# name for feature engineering.\n",
    "df['datetime'] = df['timestamp']\n",
    "df = df.set_index('timestamp')\n",
    "df.dtypes\n"
   ]
  },
  {
   "cell_type": "code",
   "execution_count": null,
   "metadata": {},
   "outputs": [],
   "source": [
    "# Index into a range of dates\n",
    "df['2017-05-05 00:15:00':'2017-05-05 00:45:00']"
   ]
  },
  {
   "cell_type": "code",
   "execution_count": null,
   "metadata": {},
   "outputs": [],
   "source": [
    "# Index with an offset\n",
    "start = df['datetime'][0]\n",
    "delta = pd.Timedelta(1, unit='h')\n",
    "print(\"start:\", start)\n",
    "print(delta)\n",
    "offset = pd.Timedelta(1, 'm')\n",
    "# grab a slice over 1 hour\n",
    "df[start:start + delta]"
   ]
  },
  {
   "cell_type": "code",
   "execution_count": null,
   "metadata": {},
   "outputs": [],
   "source": [
    "df[start+delta+offset: start+delta+delta]"
   ]
  },
  {
   "cell_type": "code",
   "execution_count": null,
   "metadata": {},
   "outputs": [],
   "source": [
    "df[start:start + delta].describe()"
   ]
  },
  {
   "cell_type": "code",
   "execution_count": null,
   "metadata": {},
   "outputs": [],
   "source": [
    "df[start:start + delta].quantile(.5, numeric_only=False)['datetime']"
   ]
  },
  {
   "cell_type": "code",
   "execution_count": null,
   "metadata": {},
   "outputs": [],
   "source": [
    "test = df[start:start + delta]['temp']\n",
    "print(\"0%\", test.quantile(0.0))\n",
    "print(\"25%\", test.quantile(0.25))\n",
    "print(\"50%\", test.quantile(0.5))\n",
    "print(\"75%\", test.quantile(0.75))\n",
    "print(\"100%\", test.quantile(1))\n",
    "df[start:start + delta].describe()"
   ]
  },
  {
   "cell_type": "code",
   "execution_count": null,
   "metadata": {},
   "outputs": [],
   "source": [
    "temp = df[start:start + delta]\n",
    "a = temp[0:0]\n",
    "a = a.append(temp.quantile(.5, numeric_only=False))"
   ]
  },
  {
   "cell_type": "code",
   "execution_count": null,
   "metadata": {},
   "outputs": [],
   "source": [
    "dfs = [df[start:start + delta], df[start+delta+offset: start+delta+delta]]\n"
   ]
  },
  {
   "cell_type": "code",
   "execution_count": null,
   "metadata": {},
   "outputs": [],
   "source": [
    "# extracted = dfs[0][0:0] # start with a blank data frame with the same setup\n",
    "extracted = pd.DataFrame()\n",
    "for d in dfs:\n",
    "    extracted = extracted.append(d.quantile(.5, numeric_only=False))\n",
    "extracted['datetimeIndex'] = extracted['datetime']\n",
    "extracted = extracted.set_index('datetimeIndex')"
   ]
  },
  {
   "cell_type": "code",
   "execution_count": null,
   "metadata": {},
   "outputs": [],
   "source": [
    "extracted"
   ]
  },
  {
   "cell_type": "code",
   "execution_count": null,
   "metadata": {},
   "outputs": [],
   "source": [
    "pd.date_range(start='2018-01-01', periods=10, freq='d')"
   ]
  },
  {
   "cell_type": "code",
   "execution_count": null,
   "metadata": {},
   "outputs": [],
   "source": [
    "df['datetime'][len(df['datetime'])-1]"
   ]
  },
  {
   "cell_type": "code",
   "execution_count": null,
   "metadata": {},
   "outputs": [],
   "source": [
    "start = df['datetime'][0]\n",
    "df[start:start + pd.Timedelta(1, 'm')]"
   ]
  },
  {
   "cell_type": "code",
   "execution_count": null,
   "metadata": {},
   "outputs": [],
   "source": [
    "df.describe()"
   ]
  },
  {
   "cell_type": "code",
   "execution_count": null,
   "metadata": {},
   "outputs": [],
   "source": [
    "df.columns"
   ]
  },
  {
   "cell_type": "code",
   "execution_count": null,
   "metadata": {},
   "outputs": [],
   "source": [
    "print(type(df.quantile(.5)))\n",
    "df['datetime'].quantile(.5)"
   ]
  },
  {
   "cell_type": "code",
   "execution_count": null,
   "metadata": {},
   "outputs": [],
   "source": [
    "def segment(df, time_col, x_win, y_win, shift):\n",
    "    segments = []\n",
    "    targets = []\n",
    "    start = df[time_col][0]\n",
    "    end = df[time_col][len(df[time_col])-1]\n",
    "    offset = pd.Timedelta(1, unit='s') # to remove overlap of x and y\n",
    "    while start + x_win + y_win <= end:\n",
    "        segments.append(df[start:start + x_win])\n",
    "        targets.append(df[start  + x_win + offset : start + x_win + y_win])\n",
    "        start += shift\n",
    "    return segments, targets\n",
    "        "
   ]
  },
  {
   "cell_type": "code",
   "execution_count": null,
   "metadata": {},
   "outputs": [],
   "source": [
    "s, t = segment(df, \n",
    "               'datetime', \n",
    "               pd.Timedelta(2, unit='d'), pd.Timedelta(1, unit='d'),\n",
    "        pd.Timedelta(6, unit='h'))"
   ]
  },
  {
   "cell_type": "code",
   "execution_count": null,
   "metadata": {},
   "outputs": [],
   "source": [
    "sum(range(0,10))/10"
   ]
  },
  {
   "cell_type": "code",
   "execution_count": null,
   "metadata": {},
   "outputs": [],
   "source": [
    "[i for i in range(0, 10)]"
   ]
  },
  {
   "cell_type": "markdown",
   "metadata": {},
   "source": [
    "## Segment categories tests"
   ]
  },
  {
   "cell_type": "code",
   "execution_count": null,
   "metadata": {},
   "outputs": [],
   "source": [
    "s, t = "
   ]
  }
 ],
 "metadata": {
  "kernelspec": {
   "display_name": "Python 3",
   "language": "python",
   "name": "python3"
  },
  "language_info": {
   "codemirror_mode": {
    "name": "ipython",
    "version": 3
   },
   "file_extension": ".py",
   "mimetype": "text/x-python",
   "name": "python",
   "nbconvert_exporter": "python",
   "pygments_lexer": "ipython3",
   "version": "3.6.4"
  }
 },
 "nbformat": 4,
 "nbformat_minor": 2
}
