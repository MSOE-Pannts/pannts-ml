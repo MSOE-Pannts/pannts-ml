{
 "cells": [
  {
   "cell_type": "markdown",
   "metadata": {},
   "source": [
    "# Import Data"
   ]
  },
  {
   "cell_type": "code",
   "execution_count": 1,
   "metadata": {
    "collapsed": true
   },
   "outputs": [],
   "source": [
    "import pandas as pd"
   ]
  },
  {
   "cell_type": "code",
   "execution_count": 2,
   "metadata": {
    "collapsed": true
   },
   "outputs": [],
   "source": [
    "utah_vineyard = pd.read_csv('utah_lake_vineyard_minimal.csv')"
   ]
  },
  {
   "cell_type": "code",
   "execution_count": 3,
   "metadata": {},
   "outputs": [
    {
     "data": {
      "text/html": [
       "<div>\n",
       "<style>\n",
       "    .dataframe thead tr:only-child th {\n",
       "        text-align: right;\n",
       "    }\n",
       "\n",
       "    .dataframe thead th {\n",
       "        text-align: left;\n",
       "    }\n",
       "\n",
       "    .dataframe tbody tr th {\n",
       "        vertical-align: top;\n",
       "    }\n",
       "</style>\n",
       "<table border=\"1\" class=\"dataframe\">\n",
       "  <thead>\n",
       "    <tr style=\"text-align: right;\">\n",
       "      <th></th>\n",
       "      <th>Temperature</th>\n",
       "      <th>Conductivity</th>\n",
       "      <th>PH</th>\n",
       "      <th>Turbidity</th>\n",
       "      <th>ODO</th>\n",
       "      <th>BGA</th>\n",
       "    </tr>\n",
       "  </thead>\n",
       "  <tbody>\n",
       "    <tr>\n",
       "      <th>0</th>\n",
       "      <td>15.02</td>\n",
       "      <td>1848</td>\n",
       "      <td>8.36</td>\n",
       "      <td>16.84</td>\n",
       "      <td>9.04</td>\n",
       "      <td>0</td>\n",
       "    </tr>\n",
       "    <tr>\n",
       "      <th>1</th>\n",
       "      <td>14.99</td>\n",
       "      <td>1847</td>\n",
       "      <td>8.36</td>\n",
       "      <td>16.76</td>\n",
       "      <td>9.04</td>\n",
       "      <td>0</td>\n",
       "    </tr>\n",
       "    <tr>\n",
       "      <th>2</th>\n",
       "      <td>14.96</td>\n",
       "      <td>1847</td>\n",
       "      <td>8.36</td>\n",
       "      <td>16.82</td>\n",
       "      <td>9.04</td>\n",
       "      <td>0</td>\n",
       "    </tr>\n",
       "    <tr>\n",
       "      <th>3</th>\n",
       "      <td>14.95</td>\n",
       "      <td>1848</td>\n",
       "      <td>8.36</td>\n",
       "      <td>17.19</td>\n",
       "      <td>9.03</td>\n",
       "      <td>0</td>\n",
       "    </tr>\n",
       "    <tr>\n",
       "      <th>4</th>\n",
       "      <td>14.92</td>\n",
       "      <td>1848</td>\n",
       "      <td>8.36</td>\n",
       "      <td>16.85</td>\n",
       "      <td>9.02</td>\n",
       "      <td>0</td>\n",
       "    </tr>\n",
       "  </tbody>\n",
       "</table>\n",
       "</div>"
      ],
      "text/plain": [
       "   Temperature  Conductivity    PH  Turbidity   ODO  BGA\n",
       "0        15.02          1848  8.36      16.84  9.04    0\n",
       "1        14.99          1847  8.36      16.76  9.04    0\n",
       "2        14.96          1847  8.36      16.82  9.04    0\n",
       "3        14.95          1848  8.36      17.19  9.03    0\n",
       "4        14.92          1848  8.36      16.85  9.02    0"
      ]
     },
     "execution_count": 3,
     "metadata": {},
     "output_type": "execute_result"
    }
   ],
   "source": [
    "utah_vineyard.head()"
   ]
  },
  {
   "cell_type": "code",
   "execution_count": 4,
   "metadata": {
    "collapsed": true
   },
   "outputs": [],
   "source": [
    "utah_bird = pd.read_csv('utah_lake_bird_minimal.csv')"
   ]
  },
  {
   "cell_type": "code",
   "execution_count": 5,
   "metadata": {},
   "outputs": [
    {
     "data": {
      "text/html": [
       "<div>\n",
       "<style>\n",
       "    .dataframe thead tr:only-child th {\n",
       "        text-align: right;\n",
       "    }\n",
       "\n",
       "    .dataframe thead th {\n",
       "        text-align: left;\n",
       "    }\n",
       "\n",
       "    .dataframe tbody tr th {\n",
       "        vertical-align: top;\n",
       "    }\n",
       "</style>\n",
       "<table border=\"1\" class=\"dataframe\">\n",
       "  <thead>\n",
       "    <tr style=\"text-align: right;\">\n",
       "      <th></th>\n",
       "      <th>Temperature</th>\n",
       "      <th>Conductivity</th>\n",
       "      <th>PH</th>\n",
       "      <th>Turbidity</th>\n",
       "      <th>ODO</th>\n",
       "      <th>BGA</th>\n",
       "    </tr>\n",
       "  </thead>\n",
       "  <tbody>\n",
       "    <tr>\n",
       "      <th>0</th>\n",
       "      <td>23.19</td>\n",
       "      <td>2064</td>\n",
       "      <td>8.23</td>\n",
       "      <td>31.00</td>\n",
       "      <td>7.31</td>\n",
       "      <td>0</td>\n",
       "    </tr>\n",
       "    <tr>\n",
       "      <th>1</th>\n",
       "      <td>22.98</td>\n",
       "      <td>2052</td>\n",
       "      <td>8.28</td>\n",
       "      <td>31.06</td>\n",
       "      <td>7.19</td>\n",
       "      <td>0</td>\n",
       "    </tr>\n",
       "    <tr>\n",
       "      <th>2</th>\n",
       "      <td>22.99</td>\n",
       "      <td>2048</td>\n",
       "      <td>8.29</td>\n",
       "      <td>27.66</td>\n",
       "      <td>7.16</td>\n",
       "      <td>0</td>\n",
       "    </tr>\n",
       "    <tr>\n",
       "      <th>3</th>\n",
       "      <td>22.98</td>\n",
       "      <td>2048</td>\n",
       "      <td>8.29</td>\n",
       "      <td>28.36</td>\n",
       "      <td>7.12</td>\n",
       "      <td>0</td>\n",
       "    </tr>\n",
       "    <tr>\n",
       "      <th>4</th>\n",
       "      <td>22.96</td>\n",
       "      <td>2049</td>\n",
       "      <td>8.29</td>\n",
       "      <td>27.69</td>\n",
       "      <td>7.04</td>\n",
       "      <td>0</td>\n",
       "    </tr>\n",
       "  </tbody>\n",
       "</table>\n",
       "</div>"
      ],
      "text/plain": [
       "   Temperature  Conductivity    PH  Turbidity   ODO  BGA\n",
       "0        23.19          2064  8.23      31.00  7.31    0\n",
       "1        22.98          2052  8.28      31.06  7.19    0\n",
       "2        22.99          2048  8.29      27.66  7.16    0\n",
       "3        22.98          2048  8.29      28.36  7.12    0\n",
       "4        22.96          2049  8.29      27.69  7.04    0"
      ]
     },
     "execution_count": 5,
     "metadata": {},
     "output_type": "execute_result"
    }
   ],
   "source": [
    "utah_bird.head()"
   ]
  },
  {
   "cell_type": "markdown",
   "metadata": {},
   "source": [
    "# Normalize Data"
   ]
  },
  {
   "cell_type": "code",
   "execution_count": 6,
   "metadata": {},
   "outputs": [
    {
     "data": {
      "text/plain": [
       "Index(['Temperature', 'Conductivity', 'PH', 'Turbidity', 'ODO', 'BGA'], dtype='object')"
      ]
     },
     "execution_count": 6,
     "metadata": {},
     "output_type": "execute_result"
    }
   ],
   "source": [
    "utah_vineyard.columns"
   ]
  },
  {
   "cell_type": "code",
   "execution_count": 7,
   "metadata": {
    "collapsed": true
   },
   "outputs": [],
   "source": [
    "cols_to_normalize = ['Temperature', 'Conductivity', 'PH', 'Turbidity', 'ODO']"
   ]
  },
  {
   "cell_type": "code",
   "execution_count": 8,
   "metadata": {
    "collapsed": true
   },
   "outputs": [],
   "source": [
    "utah_vineyard[cols_to_normalize] = utah_vineyard[cols_to_normalize].apply(lambda x: (x - x.min()) / \n",
    "                                                                          (x.max() - x.min() ))"
   ]
  },
  {
   "cell_type": "code",
   "execution_count": 9,
   "metadata": {
    "collapsed": true
   },
   "outputs": [],
   "source": [
    "utah_bird[cols_to_normalize] = utah_vineyard[cols_to_normalize].apply(lambda x: (x - x.min()) / \n",
    "                                                                          (x.max() - x.min() ))"
   ]
  },
  {
   "cell_type": "code",
   "execution_count": 10,
   "metadata": {},
   "outputs": [
    {
     "data": {
      "text/html": [
       "<div>\n",
       "<style>\n",
       "    .dataframe thead tr:only-child th {\n",
       "        text-align: right;\n",
       "    }\n",
       "\n",
       "    .dataframe thead th {\n",
       "        text-align: left;\n",
       "    }\n",
       "\n",
       "    .dataframe tbody tr th {\n",
       "        vertical-align: top;\n",
       "    }\n",
       "</style>\n",
       "<table border=\"1\" class=\"dataframe\">\n",
       "  <thead>\n",
       "    <tr style=\"text-align: right;\">\n",
       "      <th></th>\n",
       "      <th>Temperature</th>\n",
       "      <th>Conductivity</th>\n",
       "      <th>PH</th>\n",
       "      <th>Turbidity</th>\n",
       "      <th>ODO</th>\n",
       "      <th>BGA</th>\n",
       "    </tr>\n",
       "  </thead>\n",
       "  <tbody>\n",
       "    <tr>\n",
       "      <th>0</th>\n",
       "      <td>0.409329</td>\n",
       "      <td>0.853771</td>\n",
       "      <td>0.330769</td>\n",
       "      <td>0.025439</td>\n",
       "      <td>0.351818</td>\n",
       "      <td>0</td>\n",
       "    </tr>\n",
       "    <tr>\n",
       "      <th>1</th>\n",
       "      <td>0.408021</td>\n",
       "      <td>0.853309</td>\n",
       "      <td>0.330769</td>\n",
       "      <td>0.025313</td>\n",
       "      <td>0.351818</td>\n",
       "      <td>0</td>\n",
       "    </tr>\n",
       "    <tr>\n",
       "      <th>2</th>\n",
       "      <td>0.406713</td>\n",
       "      <td>0.853309</td>\n",
       "      <td>0.330769</td>\n",
       "      <td>0.025407</td>\n",
       "      <td>0.351818</td>\n",
       "      <td>0</td>\n",
       "    </tr>\n",
       "    <tr>\n",
       "      <th>3</th>\n",
       "      <td>0.406277</td>\n",
       "      <td>0.853771</td>\n",
       "      <td>0.330769</td>\n",
       "      <td>0.025989</td>\n",
       "      <td>0.350909</td>\n",
       "      <td>0</td>\n",
       "    </tr>\n",
       "    <tr>\n",
       "      <th>4</th>\n",
       "      <td>0.404969</td>\n",
       "      <td>0.853771</td>\n",
       "      <td>0.330769</td>\n",
       "      <td>0.025454</td>\n",
       "      <td>0.350000</td>\n",
       "      <td>0</td>\n",
       "    </tr>\n",
       "  </tbody>\n",
       "</table>\n",
       "</div>"
      ],
      "text/plain": [
       "   Temperature  Conductivity        PH  Turbidity       ODO  BGA\n",
       "0     0.409329      0.853771  0.330769   0.025439  0.351818    0\n",
       "1     0.408021      0.853309  0.330769   0.025313  0.351818    0\n",
       "2     0.406713      0.853309  0.330769   0.025407  0.351818    0\n",
       "3     0.406277      0.853771  0.330769   0.025989  0.350909    0\n",
       "4     0.404969      0.853771  0.330769   0.025454  0.350000    0"
      ]
     },
     "execution_count": 10,
     "metadata": {},
     "output_type": "execute_result"
    }
   ],
   "source": [
    "utah_vineyard.head()"
   ]
  },
  {
   "cell_type": "code",
   "execution_count": 11,
   "metadata": {},
   "outputs": [
    {
     "data": {
      "text/html": [
       "<div>\n",
       "<style>\n",
       "    .dataframe thead tr:only-child th {\n",
       "        text-align: right;\n",
       "    }\n",
       "\n",
       "    .dataframe thead th {\n",
       "        text-align: left;\n",
       "    }\n",
       "\n",
       "    .dataframe tbody tr th {\n",
       "        vertical-align: top;\n",
       "    }\n",
       "</style>\n",
       "<table border=\"1\" class=\"dataframe\">\n",
       "  <thead>\n",
       "    <tr style=\"text-align: right;\">\n",
       "      <th></th>\n",
       "      <th>Temperature</th>\n",
       "      <th>Conductivity</th>\n",
       "      <th>PH</th>\n",
       "      <th>Turbidity</th>\n",
       "      <th>ODO</th>\n",
       "      <th>BGA</th>\n",
       "    </tr>\n",
       "  </thead>\n",
       "  <tbody>\n",
       "    <tr>\n",
       "      <th>0</th>\n",
       "      <td>0.409329</td>\n",
       "      <td>0.853771</td>\n",
       "      <td>0.330769</td>\n",
       "      <td>0.025439</td>\n",
       "      <td>0.351818</td>\n",
       "      <td>0</td>\n",
       "    </tr>\n",
       "    <tr>\n",
       "      <th>1</th>\n",
       "      <td>0.408021</td>\n",
       "      <td>0.853309</td>\n",
       "      <td>0.330769</td>\n",
       "      <td>0.025313</td>\n",
       "      <td>0.351818</td>\n",
       "      <td>0</td>\n",
       "    </tr>\n",
       "    <tr>\n",
       "      <th>2</th>\n",
       "      <td>0.406713</td>\n",
       "      <td>0.853309</td>\n",
       "      <td>0.330769</td>\n",
       "      <td>0.025407</td>\n",
       "      <td>0.351818</td>\n",
       "      <td>0</td>\n",
       "    </tr>\n",
       "    <tr>\n",
       "      <th>3</th>\n",
       "      <td>0.406277</td>\n",
       "      <td>0.853771</td>\n",
       "      <td>0.330769</td>\n",
       "      <td>0.025989</td>\n",
       "      <td>0.350909</td>\n",
       "      <td>0</td>\n",
       "    </tr>\n",
       "    <tr>\n",
       "      <th>4</th>\n",
       "      <td>0.404969</td>\n",
       "      <td>0.853771</td>\n",
       "      <td>0.330769</td>\n",
       "      <td>0.025454</td>\n",
       "      <td>0.350000</td>\n",
       "      <td>0</td>\n",
       "    </tr>\n",
       "  </tbody>\n",
       "</table>\n",
       "</div>"
      ],
      "text/plain": [
       "   Temperature  Conductivity        PH  Turbidity       ODO  BGA\n",
       "0     0.409329      0.853771  0.330769   0.025439  0.351818    0\n",
       "1     0.408021      0.853309  0.330769   0.025313  0.351818    0\n",
       "2     0.406713      0.853309  0.330769   0.025407  0.351818    0\n",
       "3     0.406277      0.853771  0.330769   0.025989  0.350909    0\n",
       "4     0.404969      0.853771  0.330769   0.025454  0.350000    0"
      ]
     },
     "execution_count": 11,
     "metadata": {},
     "output_type": "execute_result"
    }
   ],
   "source": [
    "utah_bird.head()"
   ]
  },
  {
   "cell_type": "markdown",
   "metadata": {},
   "source": [
    "# Import Tensorflow and Create Columns"
   ]
  },
  {
   "cell_type": "code",
   "execution_count": 12,
   "metadata": {
    "collapsed": true
   },
   "outputs": [],
   "source": [
    "import tensorflow as tf"
   ]
  },
  {
   "cell_type": "code",
   "execution_count": 17,
   "metadata": {},
   "outputs": [],
   "source": [
    "temperature = tf.feature_column.numeric_column('Temperature')\n",
    "conductivity = tf.feature_column.numeric_column('Conductivity')\n",
    "ph = tf.feature_column.numeric_column('PH')\n",
    "turbidity = tf.feature_column.numeric_column('Turbidity')\n",
    "odo = tf.feature_column.numeric_column('ODO')"
   ]
  },
  {
   "cell_type": "code",
   "execution_count": 20,
   "metadata": {},
   "outputs": [],
   "source": [
    "feat_cols = [temperature, conductivity, ph, turbidity, odo]"
   ]
  },
  {
   "cell_type": "code",
   "execution_count": 22,
   "metadata": {
    "collapsed": true
   },
   "outputs": [],
   "source": [
    "vineyard_x_data = utah_vineyard.drop('BGA', axis=1)"
   ]
  },
  {
   "cell_type": "code",
   "execution_count": 24,
   "metadata": {
    "collapsed": true
   },
   "outputs": [],
   "source": [
    "bird_x_data = utah_bird.drop('BGA', axis=1)"
   ]
  },
  {
   "cell_type": "code",
   "execution_count": 25,
   "metadata": {},
   "outputs": [
    {
     "data": {
      "text/html": [
       "<div>\n",
       "<style>\n",
       "    .dataframe thead tr:only-child th {\n",
       "        text-align: right;\n",
       "    }\n",
       "\n",
       "    .dataframe thead th {\n",
       "        text-align: left;\n",
       "    }\n",
       "\n",
       "    .dataframe tbody tr th {\n",
       "        vertical-align: top;\n",
       "    }\n",
       "</style>\n",
       "<table border=\"1\" class=\"dataframe\">\n",
       "  <thead>\n",
       "    <tr style=\"text-align: right;\">\n",
       "      <th></th>\n",
       "      <th>Temperature</th>\n",
       "      <th>Conductivity</th>\n",
       "      <th>PH</th>\n",
       "      <th>Turbidity</th>\n",
       "      <th>ODO</th>\n",
       "    </tr>\n",
       "  </thead>\n",
       "  <tbody>\n",
       "    <tr>\n",
       "      <th>0</th>\n",
       "      <td>0.409329</td>\n",
       "      <td>0.853771</td>\n",
       "      <td>0.330769</td>\n",
       "      <td>0.025439</td>\n",
       "      <td>0.351818</td>\n",
       "    </tr>\n",
       "    <tr>\n",
       "      <th>1</th>\n",
       "      <td>0.408021</td>\n",
       "      <td>0.853309</td>\n",
       "      <td>0.330769</td>\n",
       "      <td>0.025313</td>\n",
       "      <td>0.351818</td>\n",
       "    </tr>\n",
       "    <tr>\n",
       "      <th>2</th>\n",
       "      <td>0.406713</td>\n",
       "      <td>0.853309</td>\n",
       "      <td>0.330769</td>\n",
       "      <td>0.025407</td>\n",
       "      <td>0.351818</td>\n",
       "    </tr>\n",
       "    <tr>\n",
       "      <th>3</th>\n",
       "      <td>0.406277</td>\n",
       "      <td>0.853771</td>\n",
       "      <td>0.330769</td>\n",
       "      <td>0.025989</td>\n",
       "      <td>0.350909</td>\n",
       "    </tr>\n",
       "    <tr>\n",
       "      <th>4</th>\n",
       "      <td>0.404969</td>\n",
       "      <td>0.853771</td>\n",
       "      <td>0.330769</td>\n",
       "      <td>0.025454</td>\n",
       "      <td>0.350000</td>\n",
       "    </tr>\n",
       "  </tbody>\n",
       "</table>\n",
       "</div>"
      ],
      "text/plain": [
       "   Temperature  Conductivity        PH  Turbidity       ODO\n",
       "0     0.409329      0.853771  0.330769   0.025439  0.351818\n",
       "1     0.408021      0.853309  0.330769   0.025313  0.351818\n",
       "2     0.406713      0.853309  0.330769   0.025407  0.351818\n",
       "3     0.406277      0.853771  0.330769   0.025989  0.350909\n",
       "4     0.404969      0.853771  0.330769   0.025454  0.350000"
      ]
     },
     "execution_count": 25,
     "metadata": {},
     "output_type": "execute_result"
    }
   ],
   "source": [
    "vineyard_x_data.head()"
   ]
  },
  {
   "cell_type": "code",
   "execution_count": 26,
   "metadata": {},
   "outputs": [
    {
     "data": {
      "text/html": [
       "<div>\n",
       "<style>\n",
       "    .dataframe thead tr:only-child th {\n",
       "        text-align: right;\n",
       "    }\n",
       "\n",
       "    .dataframe thead th {\n",
       "        text-align: left;\n",
       "    }\n",
       "\n",
       "    .dataframe tbody tr th {\n",
       "        vertical-align: top;\n",
       "    }\n",
       "</style>\n",
       "<table border=\"1\" class=\"dataframe\">\n",
       "  <thead>\n",
       "    <tr style=\"text-align: right;\">\n",
       "      <th></th>\n",
       "      <th>Temperature</th>\n",
       "      <th>Conductivity</th>\n",
       "      <th>PH</th>\n",
       "      <th>Turbidity</th>\n",
       "      <th>ODO</th>\n",
       "    </tr>\n",
       "  </thead>\n",
       "  <tbody>\n",
       "    <tr>\n",
       "      <th>0</th>\n",
       "      <td>0.409329</td>\n",
       "      <td>0.853771</td>\n",
       "      <td>0.330769</td>\n",
       "      <td>0.025439</td>\n",
       "      <td>0.351818</td>\n",
       "    </tr>\n",
       "    <tr>\n",
       "      <th>1</th>\n",
       "      <td>0.408021</td>\n",
       "      <td>0.853309</td>\n",
       "      <td>0.330769</td>\n",
       "      <td>0.025313</td>\n",
       "      <td>0.351818</td>\n",
       "    </tr>\n",
       "    <tr>\n",
       "      <th>2</th>\n",
       "      <td>0.406713</td>\n",
       "      <td>0.853309</td>\n",
       "      <td>0.330769</td>\n",
       "      <td>0.025407</td>\n",
       "      <td>0.351818</td>\n",
       "    </tr>\n",
       "    <tr>\n",
       "      <th>3</th>\n",
       "      <td>0.406277</td>\n",
       "      <td>0.853771</td>\n",
       "      <td>0.330769</td>\n",
       "      <td>0.025989</td>\n",
       "      <td>0.350909</td>\n",
       "    </tr>\n",
       "    <tr>\n",
       "      <th>4</th>\n",
       "      <td>0.404969</td>\n",
       "      <td>0.853771</td>\n",
       "      <td>0.330769</td>\n",
       "      <td>0.025454</td>\n",
       "      <td>0.350000</td>\n",
       "    </tr>\n",
       "  </tbody>\n",
       "</table>\n",
       "</div>"
      ],
      "text/plain": [
       "   Temperature  Conductivity        PH  Turbidity       ODO\n",
       "0     0.409329      0.853771  0.330769   0.025439  0.351818\n",
       "1     0.408021      0.853309  0.330769   0.025313  0.351818\n",
       "2     0.406713      0.853309  0.330769   0.025407  0.351818\n",
       "3     0.406277      0.853771  0.330769   0.025989  0.350909\n",
       "4     0.404969      0.853771  0.330769   0.025454  0.350000"
      ]
     },
     "execution_count": 26,
     "metadata": {},
     "output_type": "execute_result"
    }
   ],
   "source": [
    "bird_x_data.head()"
   ]
  },
  {
   "cell_type": "code",
   "execution_count": 15,
   "metadata": {
    "collapsed": true
   },
   "outputs": [],
   "source": [
    "labels_vineyard = utah_vineyard['BGA']"
   ]
  },
  {
   "cell_type": "code",
   "execution_count": 16,
   "metadata": {
    "collapsed": true
   },
   "outputs": [],
   "source": [
    "labels_bird = utah_bird['BGA']"
   ]
  },
  {
   "cell_type": "markdown",
   "metadata": {},
   "source": [
    "# Create Test Train Split with SKLEARN"
   ]
  },
  {
   "cell_type": "code",
   "execution_count": null,
   "metadata": {
    "collapsed": true
   },
   "outputs": [],
   "source": []
  }
 ],
 "metadata": {
  "kernelspec": {
   "display_name": "Python 3",
   "language": "python",
   "name": "python3"
  },
  "language_info": {
   "codemirror_mode": {
    "name": "ipython",
    "version": 3
   },
   "file_extension": ".py",
   "mimetype": "text/x-python",
   "name": "python",
   "nbconvert_exporter": "python",
   "pygments_lexer": "ipython3",
   "version": "3.5.4"
  }
 },
 "nbformat": 4,
 "nbformat_minor": 2
}
