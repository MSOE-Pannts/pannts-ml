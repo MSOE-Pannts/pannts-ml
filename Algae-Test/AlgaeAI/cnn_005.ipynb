{
 "cells": [
  {
   "cell_type": "code",
   "execution_count": 1,
   "metadata": {
    "collapsed": true
   },
   "outputs": [],
   "source": [
    "import pandas as pd\n",
    "import numpy as np\n",
    "import matplotlib.pyplot as plt\n",
    "import tensorflow as tf\n",
    "from datetime import datetime\n",
    "from scipy import stats\n",
    "\n",
    "%matplotlib inline\n",
    "# plt.style.use('ggplot')"
   ]
  },
  {
   "cell_type": "markdown",
   "metadata": {},
   "source": [
    "# HELPER FUNCTIONS"
   ]
  },
  {
   "cell_type": "code",
   "execution_count": 2,
   "metadata": {
    "collapsed": true
   },
   "outputs": [],
   "source": [
    "def read_data(file_path, column_names):\n",
    "    \"\"\"Reads the data from the specified file and retrieves the column names\n",
    "    \n",
    "    Args:\n",
    "        file_path: The path of the file as a String\n",
    "        column_names: Array of Strings representing the names of the colunms\n",
    "        \n",
    "    Returns:\n",
    "        A DataFrame of the read in data\n",
    "    \"\"\"\n",
    "    data = pd.read_csv(file_path, header = 0, names = column_names)\n",
    "    return data\n",
    "\n",
    "def feature_normalize(dataset):\n",
    "    \"\"\"Normalizes the data in the DataFrame using the mean and sigma values\n",
    "    \n",
    "    Args:\n",
    "        dataset: The DataFrame to normalize\n",
    "        \n",
    "    Returns:\n",
    "        The normalized data\n",
    "    \"\"\"\n",
    "    mu = np.mean(dataset, axis = 0)\n",
    "    sigma = np.std(dataset, axis = 0)\n",
    "    return (dataset - mu) / sigma\n",
    "\n",
    "def basic_feature_normalize(dataset, cols_to_norm):\n",
    "    \"\"\"A Basic Normalization of the dataset\n",
    "    \n",
    "    Takes the dataset and normalizes it from 0 (min value) to 1 (max value)\n",
    "    \n",
    "    Args:\n",
    "        dataset: The DataFrame to normalize\n",
    "        cols_to_norm: An Array of strings of the columns that need normalization\n",
    "        \n",
    "    Returns:\n",
    "        The normalized dataset with the specified columns normalized between 0 and 1\n",
    "    \"\"\"\n",
    "    dataset[cols_to_norm] = dataset[cols_to_norm].apply(lambda x: (x - x.min()) / (x.max() - x.min()))\n",
    "    return dataset\n",
    "\n",
    "def make_rgbs(dataset, cols_to_rgb):\n",
    "    \"\"\"Takes a dataset and converts specific columns into rgb values\n",
    "    \n",
    "    Args:\n",
    "        dataset: The DataFrame to convert to rgb values\n",
    "        cols_to_rgb: An Arrya of strings of the columns that need to be converted\n",
    "        \n",
    "    Returns:\n",
    "        The dataset with the specified columns converted to rgb values\n",
    "    \"\"\"\n",
    "    dataset[cols_to_rgb] = dataset[cols_to_rgb].apply(lambda x: int(x * 255))\n",
    "    return dataset\n",
    "\n",
    "def convert_timestamp(dataset):\n",
    "    \"\"\"Converts the timestamp to a unix timestamp\n",
    "    \n",
    "    Args:\n",
    "        dataset: The DataFrame with the timestamp column to convert to unix\n",
    "        \n",
    "    Returns:\n",
    "        The dataset with the converted timestamp\n",
    "    \"\"\"\n",
    "    dataset['Timestamp'] = dataset['Timestamp'].apply(lambda x:\n",
    "                                                     datetime.strptime(x, '%m/%d/%y %H:%M').timestamp())\n",
    "    return dataset\n",
    "\n",
    "def convert_BGA_RFU(dataset, threshold):\n",
    "    \"\"\"Converts the BGA_Phycocyanin_RFU column to a true or false value (represented by 1 or 0)\n",
    "       based on the threshold value\n",
    "       \n",
    "    Args:\n",
    "        dataset: The DataFrame with the BGA_Phycocyanin_RFU value to be adjusted\n",
    "        threshold: The minimum value for an algae bloom to be true\n",
    "        \n",
    "    Returns:\n",
    "        The dataset with the converted BGA_RFU value\"\"\"\n",
    "    dataset['BGA_Phycocyanin_RFU'] = dataset['BGA_Phycocyanin_RFU'].apply(lambda x: 1 if x >= threshold else 0)\n",
    "    return dataset"
   ]
  },
  {
   "cell_type": "markdown",
   "metadata": {},
   "source": [
    "# Batch Creation"
   ]
  },
  {
   "cell_type": "code",
   "execution_count": 13,
   "metadata": {
    "collapsed": true
   },
   "outputs": [],
   "source": [
    "# We step 50% down based on window size\n",
    "def windows(data, size):\n",
    "    counter_output = 0\n",
    "    start = 0\n",
    "    while start < data.count():\n",
    "        yield int(start), int(start + size)\n",
    "        start += (size / 12)\n",
    "        counter_output += 1\n",
    "        if counter_output % 10 == 0:\n",
    "            print('Window Segmentation {0:.2f}% done'.format((start / data.count()) * 100))\n",
    "    \n",
    "# 32 chosen for 8 hours of 15 minute intervals\n",
    "# TODO: NEED TO PASS IN COLUMNS AND DETERMINE FROM THAT\n",
    "def segment_signal(dataset, window_size = 90, columns = 5):\n",
    "    segments = np.empty((0, window_size, columns))\n",
    "    labels = np.empty((0))\n",
    "    count = 0;\n",
    "    for (start, end) in windows(dataset[\"Timestamp\"], window_size):\n",
    "        temperature = dataset['Temperature'][start:end]\n",
    "        conductivity = dataset['Sp_Cond'][start:end]\n",
    "        turbidity = dataset['Turbidity'][start:end]\n",
    "#         ph = dataset['pH'][start:end]\n",
    "#         odo = dataset['ODO'][start:end]\n",
    "        if(len(dataset['Timestamp'][start:end]) == window_size):\n",
    "            segments = np.vstack([segments, np.dstack([temperature, conductivity, turbidity])])\n",
    "            labels = np.append(labels, stats.mode(dataset['BGA_Phycocyanin_RFU'][start:end])[0][0])\n",
    "    return segments, labels"
   ]
  },
  {
   "cell_type": "markdown",
   "metadata": {},
   "source": [
    "# Setup the Lake_Dataset"
   ]
  },
  {
   "cell_type": "code",
   "execution_count": 14,
   "metadata": {},
   "outputs": [
    {
     "data": {
      "text/html": [
       "<div>\n",
       "<style>\n",
       "    .dataframe thead tr:only-child th {\n",
       "        text-align: right;\n",
       "    }\n",
       "\n",
       "    .dataframe thead th {\n",
       "        text-align: left;\n",
       "    }\n",
       "\n",
       "    .dataframe tbody tr th {\n",
       "        vertical-align: top;\n",
       "    }\n",
       "</style>\n",
       "<table border=\"1\" class=\"dataframe\">\n",
       "  <thead>\n",
       "    <tr style=\"text-align: right;\">\n",
       "      <th></th>\n",
       "      <th>Timestamp</th>\n",
       "      <th>Temperature</th>\n",
       "      <th>Sp_Cond</th>\n",
       "      <th>pH</th>\n",
       "      <th>Turbidity</th>\n",
       "      <th>ODO</th>\n",
       "      <th>BGA_Phycocyanin_RFU</th>\n",
       "    </tr>\n",
       "  </thead>\n",
       "  <tbody>\n",
       "    <tr>\n",
       "      <th>0</th>\n",
       "      <td>1.493960e+09</td>\n",
       "      <td>15.02</td>\n",
       "      <td>1848</td>\n",
       "      <td>8.36</td>\n",
       "      <td>16.84</td>\n",
       "      <td>9.04</td>\n",
       "      <td>0.4</td>\n",
       "    </tr>\n",
       "    <tr>\n",
       "      <th>1</th>\n",
       "      <td>1.493961e+09</td>\n",
       "      <td>14.99</td>\n",
       "      <td>1847</td>\n",
       "      <td>8.36</td>\n",
       "      <td>16.76</td>\n",
       "      <td>9.04</td>\n",
       "      <td>0.4</td>\n",
       "    </tr>\n",
       "    <tr>\n",
       "      <th>2</th>\n",
       "      <td>1.493962e+09</td>\n",
       "      <td>14.96</td>\n",
       "      <td>1847</td>\n",
       "      <td>8.36</td>\n",
       "      <td>16.82</td>\n",
       "      <td>9.04</td>\n",
       "      <td>0.4</td>\n",
       "    </tr>\n",
       "    <tr>\n",
       "      <th>3</th>\n",
       "      <td>1.493963e+09</td>\n",
       "      <td>14.95</td>\n",
       "      <td>1848</td>\n",
       "      <td>8.36</td>\n",
       "      <td>17.19</td>\n",
       "      <td>9.03</td>\n",
       "      <td>0.4</td>\n",
       "    </tr>\n",
       "    <tr>\n",
       "      <th>4</th>\n",
       "      <td>1.493964e+09</td>\n",
       "      <td>14.92</td>\n",
       "      <td>1848</td>\n",
       "      <td>8.36</td>\n",
       "      <td>16.85</td>\n",
       "      <td>9.02</td>\n",
       "      <td>0.4</td>\n",
       "    </tr>\n",
       "  </tbody>\n",
       "</table>\n",
       "</div>"
      ],
      "text/plain": [
       "      Timestamp  Temperature  Sp_Cond    pH  Turbidity   ODO  \\\n",
       "0  1.493960e+09        15.02     1848  8.36      16.84  9.04   \n",
       "1  1.493961e+09        14.99     1847  8.36      16.76  9.04   \n",
       "2  1.493962e+09        14.96     1847  8.36      16.82  9.04   \n",
       "3  1.493963e+09        14.95     1848  8.36      17.19  9.03   \n",
       "4  1.493964e+09        14.92     1848  8.36      16.85  9.02   \n",
       "\n",
       "   BGA_Phycocyanin_RFU  \n",
       "0                  0.4  \n",
       "1                  0.4  \n",
       "2                  0.4  \n",
       "3                  0.4  \n",
       "4                  0.4  "
      ]
     },
     "execution_count": 14,
     "metadata": {},
     "output_type": "execute_result"
    }
   ],
   "source": [
    "cols = ['Timestamp', 'Temperature', 'Sp_Cond', 'pH_mV', 'pH', 'Turbidity', 'Chlorophyll', 'Chlorophyll_RFU',\n",
    "        'ODOSat', 'ODO', 'BGA_Phycocyanin_RFU']\n",
    "\n",
    "cols_to_keep = []\n",
    "cols_to_keep.append('Timestamp')\n",
    "cols_to_keep.append('Temperature')\n",
    "cols_to_keep.append('Sp_Cond')\n",
    "# cols_to_keep.append('pH_mV')\n",
    "cols_to_keep.append('pH')\n",
    "cols_to_keep.append('Turbidity')\n",
    "# cols_to_keep.append('Chlorophyll')\n",
    "# cols_to_keep.append('Chlorophyll_RFU')\n",
    "# cols_to_keep.append('ODOSat')\n",
    "cols_to_keep.append('ODO')\n",
    "cols_to_keep.append('BGA_Phycocyanin_RFU')\n",
    "\n",
    "lake_dataset = read_data('./data/cleaned/utah_lake_vineyard.csv', cols) \n",
    "\n",
    "for col in cols:\n",
    "    if col not in cols_to_keep:\n",
    "        lake_dataset = lake_dataset.drop(col, axis=1)\n",
    "        \n",
    "lake_dataset = convert_timestamp(lake_dataset)\n",
    "# lake_dataset = convert_BGA_RFU(lake_dataset, 1.0)\n",
    "lake_dataset.head()"
   ]
  },
  {
   "cell_type": "code",
   "execution_count": 27,
   "metadata": {},
   "outputs": [
    {
     "data": {
      "text/plain": [
       "[<matplotlib.lines.Line2D at 0x1363fafeda0>]"
      ]
     },
     "execution_count": 27,
     "metadata": {},
     "output_type": "execute_result"
    },
    {
     "data": {
      "image/png": "[encoded data removed]",
      "text/plain": [
       "<matplotlib.figure.Figure at 0x1363faceef0>"
      ]
     },
     "metadata": {},
     "output_type": "display_data"
    }
   ],
   "source": [
    "plt.plot(lake_dataset['BGA_Phycocyanin_RFU'])\n",
    "# plt.plot(lake_dataset['Temperature'])\n",
    "# plt.plot(lake_dataset['ODO'])\n",
    "# plt.plot(lake_dataset['pH'])"
   ]
  },
  {
   "cell_type": "code",
   "execution_count": 16,
   "metadata": {},
   "outputs": [
    {
     "data": {
      "text/html": [
       "<div>\n",
       "<style>\n",
       "    .dataframe thead tr:only-child th {\n",
       "        text-align: right;\n",
       "    }\n",
       "\n",
       "    .dataframe thead th {\n",
       "        text-align: left;\n",
       "    }\n",
       "\n",
       "    .dataframe tbody tr th {\n",
       "        vertical-align: top;\n",
       "    }\n",
       "</style>\n",
       "<table border=\"1\" class=\"dataframe\">\n",
       "  <thead>\n",
       "    <tr style=\"text-align: right;\">\n",
       "      <th></th>\n",
       "      <th>Timestamp</th>\n",
       "      <th>Temperature</th>\n",
       "      <th>Sp_Cond</th>\n",
       "      <th>pH</th>\n",
       "      <th>Turbidity</th>\n",
       "      <th>ODO</th>\n",
       "      <th>BGA_Phycocyanin_RFU</th>\n",
       "    </tr>\n",
       "  </thead>\n",
       "  <tbody>\n",
       "    <tr>\n",
       "      <th>0</th>\n",
       "      <td>1.493960e+09</td>\n",
       "      <td>0.409329</td>\n",
       "      <td>0.853771</td>\n",
       "      <td>0.330769</td>\n",
       "      <td>0.025439</td>\n",
       "      <td>0.351818</td>\n",
       "      <td>0.4</td>\n",
       "    </tr>\n",
       "    <tr>\n",
       "      <th>1</th>\n",
       "      <td>1.493961e+09</td>\n",
       "      <td>0.408021</td>\n",
       "      <td>0.853309</td>\n",
       "      <td>0.330769</td>\n",
       "      <td>0.025313</td>\n",
       "      <td>0.351818</td>\n",
       "      <td>0.4</td>\n",
       "    </tr>\n",
       "    <tr>\n",
       "      <th>2</th>\n",
       "      <td>1.493962e+09</td>\n",
       "      <td>0.406713</td>\n",
       "      <td>0.853309</td>\n",
       "      <td>0.330769</td>\n",
       "      <td>0.025407</td>\n",
       "      <td>0.351818</td>\n",
       "      <td>0.4</td>\n",
       "    </tr>\n",
       "    <tr>\n",
       "      <th>3</th>\n",
       "      <td>1.493963e+09</td>\n",
       "      <td>0.406277</td>\n",
       "      <td>0.853771</td>\n",
       "      <td>0.330769</td>\n",
       "      <td>0.025989</td>\n",
       "      <td>0.350909</td>\n",
       "      <td>0.4</td>\n",
       "    </tr>\n",
       "    <tr>\n",
       "      <th>4</th>\n",
       "      <td>1.493964e+09</td>\n",
       "      <td>0.404969</td>\n",
       "      <td>0.853771</td>\n",
       "      <td>0.330769</td>\n",
       "      <td>0.025454</td>\n",
       "      <td>0.350000</td>\n",
       "      <td>0.4</td>\n",
       "    </tr>\n",
       "  </tbody>\n",
       "</table>\n",
       "</div>"
      ],
      "text/plain": [
       "      Timestamp  Temperature   Sp_Cond        pH  Turbidity       ODO  \\\n",
       "0  1.493960e+09     0.409329  0.853771  0.330769   0.025439  0.351818   \n",
       "1  1.493961e+09     0.408021  0.853309  0.330769   0.025313  0.351818   \n",
       "2  1.493962e+09     0.406713  0.853309  0.330769   0.025407  0.351818   \n",
       "3  1.493963e+09     0.406277  0.853771  0.330769   0.025989  0.350909   \n",
       "4  1.493964e+09     0.404969  0.853771  0.330769   0.025454  0.350000   \n",
       "\n",
       "   BGA_Phycocyanin_RFU  \n",
       "0                  0.4  \n",
       "1                  0.4  \n",
       "2                  0.4  \n",
       "3                  0.4  \n",
       "4                  0.4  "
      ]
     },
     "execution_count": 16,
     "metadata": {},
     "output_type": "execute_result"
    }
   ],
   "source": [
    "normalized_lake_dataset = basic_feature_normalize(lake_dataset, ['Temperature', 'Sp_Cond', 'Turbidity', 'pH', 'ODO'])\n",
    "normalized_lake_dataset.head()"
   ]
  },
  {
   "cell_type": "code",
   "execution_count": 17,
   "metadata": {},
   "outputs": [
    {
     "data": {
      "text/plain": [
       "1.0"
      ]
     },
     "execution_count": 17,
     "metadata": {},
     "output_type": "execute_result"
    }
   ],
   "source": [
    "normalized_lake_dataset['Temperature'].max()"
   ]
  },
  {
   "cell_type": "code",
   "execution_count": 18,
   "metadata": {},
   "outputs": [
    {
     "data": {
      "text/plain": [
       "0.0"
      ]
     },
     "execution_count": 18,
     "metadata": {},
     "output_type": "execute_result"
    }
   ],
   "source": [
    "normalized_lake_dataset['Temperature'].min()"
   ]
  },
  {
   "cell_type": "code",
   "execution_count": 19,
   "metadata": {},
   "outputs": [
    {
     "data": {
      "text/plain": [
       "(18947, 7)"
      ]
     },
     "execution_count": 19,
     "metadata": {},
     "output_type": "execute_result"
    }
   ],
   "source": [
    "normalized_lake_dataset.shape"
   ]
  },
  {
   "cell_type": "markdown",
   "metadata": {},
   "source": [
    "# Retrieve the segments and labels"
   ]
  },
  {
   "cell_type": "code",
   "execution_count": 20,
   "metadata": {},
   "outputs": [
    {
     "name": "stdout",
     "output_type": "stream",
     "text": [
      "Window Segmentation 0.16% done\n",
      "Window Segmentation 0.32% done\n",
      "Window Segmentation 0.48% done\n",
      "Window Segmentation 0.63% done\n",
      "Window Segmentation 0.79% done\n",
      "Window Segmentation 0.95% done\n",
      "Window Segmentation 1.11% done\n",
      "Window Segmentation 1.27% done\n",
      "Window Segmentation 1.43% done\n",
      "Window Segmentation 1.58% done\n",
      "Window Segmentation 1.74% done\n",
      "Window Segmentation 1.90% done\n",
      "Window Segmentation 2.06% done\n",
      "Window Segmentation 2.22% done\n",
      "Window Segmentation 2.38% done\n",
      "Window Segmentation 2.53% done\n",
      "Window Segmentation 2.69% done\n",
      "Window Segmentation 2.85% done\n",
      "Window Segmentation 3.01% done\n",
      "Window Segmentation 3.17% done\n",
      "Window Segmentation 3.33% done\n",
      "Window Segmentation 3.48% done\n",
      "Window Segmentation 3.64% done\n",
      "Window Segmentation 3.80% done\n",
      "Window Segmentation 3.96% done\n",
      "Window Segmentation 4.12% done\n",
      "Window Segmentation 4.28% done\n",
      "Window Segmentation 4.43% done\n",
      "Window Segmentation 4.59% done\n",
      "Window Segmentation 4.75% done\n",
      "Window Segmentation 4.91% done\n",
      "Window Segmentation 5.07% done\n",
      "Window Segmentation 5.23% done\n",
      "Window Segmentation 5.38% done\n",
      "Window Segmentation 5.54% done\n",
      "Window Segmentation 5.70% done\n",
      "Window Segmentation 5.86% done\n",
      "Window Segmentation 6.02% done\n",
      "Window Segmentation 6.18% done\n",
      "Window Segmentation 6.33% done\n",
      "Window Segmentation 6.49% done\n",
      "Window Segmentation 6.65% done\n",
      "Window Segmentation 6.81% done\n",
      "Window Segmentation 6.97% done\n",
      "Window Segmentation 7.13% done\n",
      "Window Segmentation 7.28% done\n",
      "Window Segmentation 7.44% done\n",
      "Window Segmentation 7.60% done\n",
      "Window Segmentation 7.76% done\n",
      "Window Segmentation 7.92% done\n",
      "Window Segmentation 8.08% done\n",
      "Window Segmentation 8.23% done\n",
      "Window Segmentation 8.39% done\n",
      "Window Segmentation 8.55% done\n",
      "Window Segmentation 8.71% done\n",
      "Window Segmentation 8.87% done\n",
      "Window Segmentation 9.03% done\n",
      "Window Segmentation 9.18% done\n",
      "Window Segmentation 9.34% done\n",
      "Window Segmentation 9.50% done\n",
      "Window Segmentation 9.66% done\n",
      "Window Segmentation 9.82% done\n",
      "Window Segmentation 9.98% done\n",
      "Window Segmentation 10.13% done\n",
      "Window Segmentation 10.29% done\n",
      "Window Segmentation 10.45% done\n",
      "Window Segmentation 10.61% done\n",
      "Window Segmentation 10.77% done\n",
      "Window Segmentation 10.93% done\n",
      "Window Segmentation 11.08% done\n",
      "Window Segmentation 11.24% done\n",
      "Window Segmentation 11.40% done\n",
      "Window Segmentation 11.56% done\n",
      "Window Segmentation 11.72% done\n",
      "Window Segmentation 11.88% done\n",
      "Window Segmentation 12.03% done\n",
      "Window Segmentation 12.19% done\n",
      "Window Segmentation 12.35% done\n",
      "Window Segmentation 12.51% done\n",
      "Window Segmentation 12.67% done\n",
      "Window Segmentation 12.83% done\n",
      "Window Segmentation 12.98% done\n",
      "Window Segmentation 13.14% done\n",
      "Window Segmentation 13.30% done\n",
      "Window Segmentation 13.46% done\n",
      "Window Segmentation 13.62% done\n",
      "Window Segmentation 13.78% done\n",
      "Window Segmentation 13.93% done\n",
      "Window Segmentation 14.09% done\n",
      "Window Segmentation 14.25% done\n",
      "Window Segmentation 14.41% done\n",
      "Window Segmentation 14.57% done\n",
      "Window Segmentation 14.73% done\n",
      "Window Segmentation 14.88% done\n",
      "Window Segmentation 15.04% done\n",
      "Window Segmentation 15.20% done\n",
      "Window Segmentation 15.36% done\n",
      "Window Segmentation 15.52% done\n",
      "Window Segmentation 15.68% done\n",
      "Window Segmentation 15.83% done\n",
      "Window Segmentation 15.99% done\n",
      "Window Segmentation 16.15% done\n",
      "Window Segmentation 16.31% done\n",
      "Window Segmentation 16.47% done\n",
      "Window Segmentation 16.63% done\n",
      "Window Segmentation 16.78% done\n",
      "Window Segmentation 16.94% done\n",
      "Window Segmentation 17.10% done\n",
      "Window Segmentation 17.26% done\n",
      "Window Segmentation 17.42% done\n",
      "Window Segmentation 17.58% done\n",
      "Window Segmentation 17.73% done\n",
      "Window Segmentation 17.89% done\n",
      "Window Segmentation 18.05% done\n",
      "Window Segmentation 18.21% done\n",
      "Window Segmentation 18.37% done\n",
      "Window Segmentation 18.53% done\n",
      "Window Segmentation 18.68% done\n",
      "Window Segmentation 18.84% done\n",
      "Window Segmentation 19.00% done\n",
      "Window Segmentation 19.16% done\n",
      "Window Segmentation 19.32% done\n",
      "Window Segmentation 19.48% done\n",
      "Window Segmentation 19.63% done\n",
      "Window Segmentation 19.79% done\n",
      "Window Segmentation 19.95% done\n",
      "Window Segmentation 20.11% done\n",
      "Window Segmentation 20.27% done\n",
      "Window Segmentation 20.43% done\n",
      "Window Segmentation 20.58% done\n",
      "Window Segmentation 20.74% done\n",
      "Window Segmentation 20.90% done\n",
      "Window Segmentation 21.06% done\n",
      "Window Segmentation 21.22% done\n",
      "Window Segmentation 21.38% done\n",
      "Window Segmentation 21.53% done\n",
      "Window Segmentation 21.69% done\n",
      "Window Segmentation 21.85% done\n",
      "Window Segmentation 22.01% done\n",
      "Window Segmentation 22.17% done\n",
      "Window Segmentation 22.33% done\n",
      "Window Segmentation 22.48% done\n",
      "Window Segmentation 22.64% done\n",
      "Window Segmentation 22.80% done\n",
      "Window Segmentation 22.96% done\n",
      "Window Segmentation 23.12% done\n",
      "Window Segmentation 23.28% done\n",
      "Window Segmentation 23.43% done\n",
      "Window Segmentation 23.59% done\n",
      "Window Segmentation 23.75% done\n",
      "Window Segmentation 23.91% done\n",
      "Window Segmentation 24.07% done\n",
      "Window Segmentation 24.23% done\n",
      "Window Segmentation 24.38% done\n",
      "Window Segmentation 24.54% done\n",
      "Window Segmentation 24.70% done\n",
      "Window Segmentation 24.86% done\n",
      "Window Segmentation 25.02% done\n",
      "Window Segmentation 25.18% done\n",
      "Window Segmentation 25.33% done\n",
      "Window Segmentation 25.49% done\n",
      "Window Segmentation 25.65% done\n",
      "Window Segmentation 25.81% done\n",
      "Window Segmentation 25.97% done\n",
      "Window Segmentation 26.13% done\n",
      "Window Segmentation 26.28% done\n",
      "Window Segmentation 26.44% done\n",
      "Window Segmentation 26.60% done\n",
      "Window Segmentation 26.76% done\n",
      "Window Segmentation 26.92% done\n",
      "Window Segmentation 27.08% done\n",
      "Window Segmentation 27.23% done\n",
      "Window Segmentation 27.39% done\n",
      "Window Segmentation 27.55% done\n",
      "Window Segmentation 27.71% done\n",
      "Window Segmentation 27.87% done\n",
      "Window Segmentation 28.03% done\n",
      "Window Segmentation 28.18% done\n",
      "Window Segmentation 28.34% done\n",
      "Window Segmentation 28.50% done\n",
      "Window Segmentation 28.66% done\n",
      "Window Segmentation 28.82% done\n",
      "Window Segmentation 28.98% done\n",
      "Window Segmentation 29.13% done\n",
      "Window Segmentation 29.29% done\n",
      "Window Segmentation 29.45% done\n",
      "Window Segmentation 29.61% done\n",
      "Window Segmentation 29.77% done\n",
      "Window Segmentation 29.93% done\n",
      "Window Segmentation 30.08% done\n",
      "Window Segmentation 30.24% done\n",
      "Window Segmentation 30.40% done\n",
      "Window Segmentation 30.56% done\n",
      "Window Segmentation 30.72% done\n",
      "Window Segmentation 30.88% done\n",
      "Window Segmentation 31.03% done\n",
      "Window Segmentation 31.19% done\n",
      "Window Segmentation 31.35% done\n",
      "Window Segmentation 31.51% done\n",
      "Window Segmentation 31.67% done\n",
      "Window Segmentation 31.83% done\n",
      "Window Segmentation 31.98% done\n",
      "Window Segmentation 32.14% done\n",
      "Window Segmentation 32.30% done\n",
      "Window Segmentation 32.46% done\n",
      "Window Segmentation 32.62% done\n",
      "Window Segmentation 32.78% done\n",
      "Window Segmentation 32.93% done\n",
      "Window Segmentation 33.09% done\n",
      "Window Segmentation 33.25% done\n",
      "Window Segmentation 33.41% done\n",
      "Window Segmentation 33.57% done\n",
      "Window Segmentation 33.73% done\n",
      "Window Segmentation 33.88% done\n",
      "Window Segmentation 34.04% done\n",
      "Window Segmentation 34.20% done\n",
      "Window Segmentation 34.36% done\n",
      "Window Segmentation 34.52% done\n",
      "Window Segmentation 34.68% done\n",
      "Window Segmentation 34.83% done\n",
      "Window Segmentation 34.99% done\n",
      "Window Segmentation 35.15% done\n",
      "Window Segmentation 35.31% done\n",
      "Window Segmentation 35.47% done\n",
      "Window Segmentation 35.63% done\n",
      "Window Segmentation 35.78% done\n",
      "Window Segmentation 35.94% done\n",
      "Window Segmentation 36.10% done\n",
      "Window Segmentation 36.26% done\n",
      "Window Segmentation 36.42% done\n",
      "Window Segmentation 36.58% done\n",
      "Window Segmentation 36.73% done\n",
      "Window Segmentation 36.89% done\n",
      "Window Segmentation 37.05% done\n",
      "Window Segmentation 37.21% done\n",
      "Window Segmentation 37.37% done\n",
      "Window Segmentation 37.53% done\n",
      "Window Segmentation 37.68% done\n",
      "Window Segmentation 37.84% done\n",
      "Window Segmentation 38.00% done\n",
      "Window Segmentation 38.16% done\n",
      "Window Segmentation 38.32% done\n",
      "Window Segmentation 38.48% done\n",
      "Window Segmentation 38.63% done\n",
      "Window Segmentation 38.79% done\n",
      "Window Segmentation 38.95% done\n",
      "Window Segmentation 39.11% done\n",
      "Window Segmentation 39.27% done\n",
      "Window Segmentation 39.43% done\n",
      "Window Segmentation 39.58% done\n",
      "Window Segmentation 39.74% done\n",
      "Window Segmentation 39.90% done\n",
      "Window Segmentation 40.06% done\n",
      "Window Segmentation 40.22% done\n",
      "Window Segmentation 40.38% done\n",
      "Window Segmentation 40.53% done\n",
      "Window Segmentation 40.69% done\n",
      "Window Segmentation 40.85% done\n",
      "Window Segmentation 41.01% done\n"
     ]
    },
    {
     "name": "stdout",
     "output_type": "stream",
     "text": [
      "Window Segmentation 41.17% done\n",
      "Window Segmentation 41.33% done\n",
      "Window Segmentation 41.48% done\n",
      "Window Segmentation 41.64% done\n",
      "Window Segmentation 41.80% done\n",
      "Window Segmentation 41.96% done\n",
      "Window Segmentation 42.12% done\n",
      "Window Segmentation 42.28% done\n",
      "Window Segmentation 42.43% done\n",
      "Window Segmentation 42.59% done\n",
      "Window Segmentation 42.75% done\n",
      "Window Segmentation 42.91% done\n",
      "Window Segmentation 43.07% done\n",
      "Window Segmentation 43.23% done\n",
      "Window Segmentation 43.38% done\n",
      "Window Segmentation 43.54% done\n",
      "Window Segmentation 43.70% done\n",
      "Window Segmentation 43.86% done\n",
      "Window Segmentation 44.02% done\n",
      "Window Segmentation 44.18% done\n",
      "Window Segmentation 44.33% done\n",
      "Window Segmentation 44.49% done\n",
      "Window Segmentation 44.65% done\n",
      "Window Segmentation 44.81% done\n",
      "Window Segmentation 44.97% done\n",
      "Window Segmentation 45.13% done\n",
      "Window Segmentation 45.28% done\n",
      "Window Segmentation 45.44% done\n",
      "Window Segmentation 45.60% done\n",
      "Window Segmentation 45.76% done\n",
      "Window Segmentation 45.92% done\n",
      "Window Segmentation 46.08% done\n",
      "Window Segmentation 46.23% done\n",
      "Window Segmentation 46.39% done\n",
      "Window Segmentation 46.55% done\n",
      "Window Segmentation 46.71% done\n",
      "Window Segmentation 46.87% done\n",
      "Window Segmentation 47.03% done\n",
      "Window Segmentation 47.18% done\n",
      "Window Segmentation 47.34% done\n",
      "Window Segmentation 47.50% done\n",
      "Window Segmentation 47.66% done\n",
      "Window Segmentation 47.82% done\n",
      "Window Segmentation 47.98% done\n",
      "Window Segmentation 48.13% done\n",
      "Window Segmentation 48.29% done\n",
      "Window Segmentation 48.45% done\n",
      "Window Segmentation 48.61% done\n",
      "Window Segmentation 48.77% done\n",
      "Window Segmentation 48.93% done\n",
      "Window Segmentation 49.08% done\n",
      "Window Segmentation 49.24% done\n",
      "Window Segmentation 49.40% done\n",
      "Window Segmentation 49.56% done\n",
      "Window Segmentation 49.72% done\n",
      "Window Segmentation 49.88% done\n",
      "Window Segmentation 50.03% done\n",
      "Window Segmentation 50.19% done\n",
      "Window Segmentation 50.35% done\n",
      "Window Segmentation 50.51% done\n",
      "Window Segmentation 50.67% done\n",
      "Window Segmentation 50.83% done\n",
      "Window Segmentation 50.98% done\n",
      "Window Segmentation 51.14% done\n",
      "Window Segmentation 51.30% done\n",
      "Window Segmentation 51.46% done\n",
      "Window Segmentation 51.62% done\n",
      "Window Segmentation 51.78% done\n",
      "Window Segmentation 51.93% done\n",
      "Window Segmentation 52.09% done\n",
      "Window Segmentation 52.25% done\n",
      "Window Segmentation 52.41% done\n",
      "Window Segmentation 52.57% done\n",
      "Window Segmentation 52.73% done\n",
      "Window Segmentation 52.88% done\n",
      "Window Segmentation 53.04% done\n",
      "Window Segmentation 53.20% done\n",
      "Window Segmentation 53.36% done\n",
      "Window Segmentation 53.52% done\n",
      "Window Segmentation 53.68% done\n",
      "Window Segmentation 53.83% done\n",
      "Window Segmentation 53.99% done\n",
      "Window Segmentation 54.15% done\n",
      "Window Segmentation 54.31% done\n",
      "Window Segmentation 54.47% done\n",
      "Window Segmentation 54.63% done\n",
      "Window Segmentation 54.78% done\n",
      "Window Segmentation 54.94% done\n",
      "Window Segmentation 55.10% done\n",
      "Window Segmentation 55.26% done\n",
      "Window Segmentation 55.42% done\n",
      "Window Segmentation 55.58% done\n",
      "Window Segmentation 55.73% done\n",
      "Window Segmentation 55.89% done\n",
      "Window Segmentation 56.05% done\n",
      "Window Segmentation 56.21% done\n",
      "Window Segmentation 56.37% done\n",
      "Window Segmentation 56.53% done\n",
      "Window Segmentation 56.68% done\n",
      "Window Segmentation 56.84% done\n",
      "Window Segmentation 57.00% done\n",
      "Window Segmentation 57.16% done\n",
      "Window Segmentation 57.32% done\n",
      "Window Segmentation 57.48% done\n",
      "Window Segmentation 57.63% done\n",
      "Window Segmentation 57.79% done\n",
      "Window Segmentation 57.95% done\n",
      "Window Segmentation 58.11% done\n",
      "Window Segmentation 58.27% done\n",
      "Window Segmentation 58.43% done\n",
      "Window Segmentation 58.58% done\n",
      "Window Segmentation 58.74% done\n",
      "Window Segmentation 58.90% done\n",
      "Window Segmentation 59.06% done\n",
      "Window Segmentation 59.22% done\n",
      "Window Segmentation 59.38% done\n",
      "Window Segmentation 59.53% done\n",
      "Window Segmentation 59.69% done\n",
      "Window Segmentation 59.85% done\n",
      "Window Segmentation 60.01% done\n",
      "Window Segmentation 60.17% done\n",
      "Window Segmentation 60.33% done\n",
      "Window Segmentation 60.48% done\n",
      "Window Segmentation 60.64% done\n",
      "Window Segmentation 60.80% done\n",
      "Window Segmentation 60.96% done\n",
      "Window Segmentation 61.12% done\n",
      "Window Segmentation 61.28% done\n",
      "Window Segmentation 61.43% done\n",
      "Window Segmentation 61.59% done\n",
      "Window Segmentation 61.75% done\n",
      "Window Segmentation 61.91% done\n",
      "Window Segmentation 62.07% done\n",
      "Window Segmentation 62.23% done\n",
      "Window Segmentation 62.38% done\n",
      "Window Segmentation 62.54% done\n",
      "Window Segmentation 62.70% done\n",
      "Window Segmentation 62.86% done\n",
      "Window Segmentation 63.02% done\n",
      "Window Segmentation 63.18% done\n",
      "Window Segmentation 63.33% done\n",
      "Window Segmentation 63.49% done\n",
      "Window Segmentation 63.65% done\n",
      "Window Segmentation 63.81% done\n",
      "Window Segmentation 63.97% done\n",
      "Window Segmentation 64.13% done\n",
      "Window Segmentation 64.28% done\n",
      "Window Segmentation 64.44% done\n",
      "Window Segmentation 64.60% done\n",
      "Window Segmentation 64.76% done\n",
      "Window Segmentation 64.92% done\n",
      "Window Segmentation 65.08% done\n",
      "Window Segmentation 65.23% done\n",
      "Window Segmentation 65.39% done\n",
      "Window Segmentation 65.55% done\n",
      "Window Segmentation 65.71% done\n",
      "Window Segmentation 65.87% done\n",
      "Window Segmentation 66.03% done\n",
      "Window Segmentation 66.18% done\n",
      "Window Segmentation 66.34% done\n",
      "Window Segmentation 66.50% done\n",
      "Window Segmentation 66.66% done\n",
      "Window Segmentation 66.82% done\n",
      "Window Segmentation 66.98% done\n",
      "Window Segmentation 67.13% done\n",
      "Window Segmentation 67.29% done\n",
      "Window Segmentation 67.45% done\n",
      "Window Segmentation 67.61% done\n",
      "Window Segmentation 67.77% done\n",
      "Window Segmentation 67.93% done\n",
      "Window Segmentation 68.08% done\n",
      "Window Segmentation 68.24% done\n",
      "Window Segmentation 68.40% done\n",
      "Window Segmentation 68.56% done\n",
      "Window Segmentation 68.72% done\n",
      "Window Segmentation 68.88% done\n",
      "Window Segmentation 69.03% done\n",
      "Window Segmentation 69.19% done\n",
      "Window Segmentation 69.35% done\n",
      "Window Segmentation 69.51% done\n",
      "Window Segmentation 69.67% done\n",
      "Window Segmentation 69.83% done\n",
      "Window Segmentation 69.98% done\n",
      "Window Segmentation 70.14% done\n",
      "Window Segmentation 70.30% done\n",
      "Window Segmentation 70.46% done\n",
      "Window Segmentation 70.62% done\n",
      "Window Segmentation 70.78% done\n",
      "Window Segmentation 70.93% done\n",
      "Window Segmentation 71.09% done\n",
      "Window Segmentation 71.25% done\n",
      "Window Segmentation 71.41% done\n",
      "Window Segmentation 71.57% done\n",
      "Window Segmentation 71.73% done\n",
      "Window Segmentation 71.88% done\n",
      "Window Segmentation 72.04% done\n",
      "Window Segmentation 72.20% done\n",
      "Window Segmentation 72.36% done\n",
      "Window Segmentation 72.52% done\n",
      "Window Segmentation 72.68% done\n",
      "Window Segmentation 72.83% done\n",
      "Window Segmentation 72.99% done\n",
      "Window Segmentation 73.15% done\n",
      "Window Segmentation 73.31% done\n",
      "Window Segmentation 73.47% done\n",
      "Window Segmentation 73.63% done\n",
      "Window Segmentation 73.78% done\n",
      "Window Segmentation 73.94% done\n",
      "Window Segmentation 74.10% done\n",
      "Window Segmentation 74.26% done\n",
      "Window Segmentation 74.42% done\n",
      "Window Segmentation 74.58% done\n",
      "Window Segmentation 74.73% done\n",
      "Window Segmentation 74.89% done\n",
      "Window Segmentation 75.05% done\n",
      "Window Segmentation 75.21% done\n",
      "Window Segmentation 75.37% done\n",
      "Window Segmentation 75.53% done\n",
      "Window Segmentation 75.68% done\n",
      "Window Segmentation 75.84% done\n",
      "Window Segmentation 76.00% done\n",
      "Window Segmentation 76.16% done\n",
      "Window Segmentation 76.32% done\n",
      "Window Segmentation 76.48% done\n",
      "Window Segmentation 76.63% done\n",
      "Window Segmentation 76.79% done\n",
      "Window Segmentation 76.95% done\n",
      "Window Segmentation 77.11% done\n",
      "Window Segmentation 77.27% done\n",
      "Window Segmentation 77.43% done\n",
      "Window Segmentation 77.58% done\n",
      "Window Segmentation 77.74% done\n",
      "Window Segmentation 77.90% done\n",
      "Window Segmentation 78.06% done\n",
      "Window Segmentation 78.22% done\n",
      "Window Segmentation 78.38% done\n",
      "Window Segmentation 78.53% done\n",
      "Window Segmentation 78.69% done\n",
      "Window Segmentation 78.85% done\n",
      "Window Segmentation 79.01% done\n",
      "Window Segmentation 79.17% done\n",
      "Window Segmentation 79.33% done\n",
      "Window Segmentation 79.48% done\n",
      "Window Segmentation 79.64% done\n",
      "Window Segmentation 79.80% done\n",
      "Window Segmentation 79.96% done\n",
      "Window Segmentation 80.12% done\n",
      "Window Segmentation 80.28% done\n",
      "Window Segmentation 80.43% done\n",
      "Window Segmentation 80.59% done\n",
      "Window Segmentation 80.75% done\n",
      "Window Segmentation 80.91% done\n",
      "Window Segmentation 81.07% done\n",
      "Window Segmentation 81.23% done\n",
      "Window Segmentation 81.38% done\n",
      "Window Segmentation 81.54% done\n",
      "Window Segmentation 81.70% done\n"
     ]
    },
    {
     "name": "stdout",
     "output_type": "stream",
     "text": [
      "Window Segmentation 81.86% done\n",
      "Window Segmentation 82.02% done\n",
      "Window Segmentation 82.18% done\n",
      "Window Segmentation 82.33% done\n",
      "Window Segmentation 82.49% done\n",
      "Window Segmentation 82.65% done\n",
      "Window Segmentation 82.81% done\n",
      "Window Segmentation 82.97% done\n",
      "Window Segmentation 83.13% done\n",
      "Window Segmentation 83.28% done\n",
      "Window Segmentation 83.44% done\n",
      "Window Segmentation 83.60% done\n",
      "Window Segmentation 83.76% done\n",
      "Window Segmentation 83.92% done\n",
      "Window Segmentation 84.08% done\n",
      "Window Segmentation 84.23% done\n",
      "Window Segmentation 84.39% done\n",
      "Window Segmentation 84.55% done\n",
      "Window Segmentation 84.71% done\n",
      "Window Segmentation 84.87% done\n",
      "Window Segmentation 85.03% done\n",
      "Window Segmentation 85.18% done\n",
      "Window Segmentation 85.34% done\n",
      "Window Segmentation 85.50% done\n",
      "Window Segmentation 85.66% done\n",
      "Window Segmentation 85.82% done\n",
      "Window Segmentation 85.98% done\n",
      "Window Segmentation 86.14% done\n",
      "Window Segmentation 86.29% done\n",
      "Window Segmentation 86.45% done\n",
      "Window Segmentation 86.61% done\n",
      "Window Segmentation 86.77% done\n",
      "Window Segmentation 86.93% done\n",
      "Window Segmentation 87.09% done\n",
      "Window Segmentation 87.24% done\n",
      "Window Segmentation 87.40% done\n",
      "Window Segmentation 87.56% done\n",
      "Window Segmentation 87.72% done\n",
      "Window Segmentation 87.88% done\n",
      "Window Segmentation 88.04% done\n",
      "Window Segmentation 88.19% done\n",
      "Window Segmentation 88.35% done\n",
      "Window Segmentation 88.51% done\n",
      "Window Segmentation 88.67% done\n",
      "Window Segmentation 88.83% done\n",
      "Window Segmentation 88.99% done\n",
      "Window Segmentation 89.14% done\n",
      "Window Segmentation 89.30% done\n",
      "Window Segmentation 89.46% done\n",
      "Window Segmentation 89.62% done\n",
      "Window Segmentation 89.78% done\n",
      "Window Segmentation 89.94% done\n",
      "Window Segmentation 90.09% done\n",
      "Window Segmentation 90.25% done\n",
      "Window Segmentation 90.41% done\n",
      "Window Segmentation 90.57% done\n",
      "Window Segmentation 90.73% done\n",
      "Window Segmentation 90.89% done\n",
      "Window Segmentation 91.04% done\n",
      "Window Segmentation 91.20% done\n",
      "Window Segmentation 91.36% done\n",
      "Window Segmentation 91.52% done\n",
      "Window Segmentation 91.68% done\n",
      "Window Segmentation 91.84% done\n",
      "Window Segmentation 91.99% done\n",
      "Window Segmentation 92.15% done\n",
      "Window Segmentation 92.31% done\n",
      "Window Segmentation 92.47% done\n",
      "Window Segmentation 92.63% done\n",
      "Window Segmentation 92.79% done\n",
      "Window Segmentation 92.94% done\n",
      "Window Segmentation 93.10% done\n",
      "Window Segmentation 93.26% done\n",
      "Window Segmentation 93.42% done\n",
      "Window Segmentation 93.58% done\n",
      "Window Segmentation 93.74% done\n",
      "Window Segmentation 93.89% done\n",
      "Window Segmentation 94.05% done\n",
      "Window Segmentation 94.21% done\n",
      "Window Segmentation 94.37% done\n",
      "Window Segmentation 94.53% done\n",
      "Window Segmentation 94.69% done\n",
      "Window Segmentation 94.84% done\n",
      "Window Segmentation 95.00% done\n",
      "Window Segmentation 95.16% done\n",
      "Window Segmentation 95.32% done\n",
      "Window Segmentation 95.48% done\n",
      "Window Segmentation 95.64% done\n",
      "Window Segmentation 95.79% done\n",
      "Window Segmentation 95.95% done\n",
      "Window Segmentation 96.11% done\n",
      "Window Segmentation 96.27% done\n",
      "Window Segmentation 96.43% done\n",
      "Window Segmentation 96.59% done\n",
      "Window Segmentation 96.74% done\n",
      "Window Segmentation 96.90% done\n",
      "Window Segmentation 97.06% done\n",
      "Window Segmentation 97.22% done\n",
      "Window Segmentation 97.38% done\n",
      "Window Segmentation 97.54% done\n",
      "Window Segmentation 97.69% done\n",
      "Window Segmentation 97.85% done\n",
      "Window Segmentation 98.01% done\n",
      "Window Segmentation 98.17% done\n",
      "Window Segmentation 98.33% done\n",
      "Window Segmentation 98.49% done\n",
      "Window Segmentation 98.64% done\n",
      "Window Segmentation 98.80% done\n",
      "Window Segmentation 98.96% done\n",
      "Window Segmentation 99.12% done\n",
      "Window Segmentation 99.28% done\n",
      "Window Segmentation 99.44% done\n",
      "Window Segmentation 99.59% done\n",
      "Window Segmentation 99.75% done\n",
      "Window Segmentation 99.91% done\n"
     ]
    }
   ],
   "source": [
    "segments, labels = segment_signal(normalized_lake_dataset, 36, 3)"
   ]
  },
  {
   "cell_type": "code",
   "execution_count": 21,
   "metadata": {},
   "outputs": [
    {
     "data": {
      "text/plain": [
       "(6304, 36, 3)"
      ]
     },
     "execution_count": 21,
     "metadata": {},
     "output_type": "execute_result"
    }
   ],
   "source": [
    "segments.shape"
   ]
  },
  {
   "cell_type": "code",
   "execution_count": 22,
   "metadata": {},
   "outputs": [
    {
     "data": {
      "text/plain": [
       "(6304, 1, 36, 3)"
      ]
     },
     "execution_count": 22,
     "metadata": {},
     "output_type": "execute_result"
    }
   ],
   "source": [
    "reshaped_segments = segments.reshape(len(segments), 1, 36, 3)\n",
    "reshaped_segments.shape"
   ]
  },
  {
   "cell_type": "code",
   "execution_count": 23,
   "metadata": {},
   "outputs": [
    {
     "data": {
      "text/plain": [
       "<matplotlib.image.AxesImage at 0x1363fa73d68>"
      ]
     },
     "execution_count": 23,
     "metadata": {},
     "output_type": "execute_result"
    },
    {
     "data": {
      "image/png": "[encoded data removed]",
      "text/plain": [
       "<matplotlib.figure.Figure at 0x1363ea2dd30>"
      ]
     },
     "metadata": {},
     "output_type": "display_data"
    }
   ],
   "source": [
    "plt.imshow(reshaped_segments[0] * 255)"
   ]
  },
  {
   "cell_type": "code",
   "execution_count": 24,
   "metadata": {
    "collapsed": true
   },
   "outputs": [],
   "source": [
    "reshaped_segments_as_image = segments.reshape(len(segments), 6, 6, 3)"
   ]
  },
  {
   "cell_type": "code",
   "execution_count": 25,
   "metadata": {},
   "outputs": [
    {
     "data": {
      "text/plain": [
       "<matplotlib.image.AxesImage at 0x1363fab6898>"
      ]
     },
     "execution_count": 25,
     "metadata": {},
     "output_type": "execute_result"
    },
    {
     "data": {
      "image/png": "[encoded data removed]",
      "text/plain": [
       "<matplotlib.figure.Figure at 0x1363fa88c50>"
      ]
     },
     "metadata": {},
     "output_type": "display_data"
    }
   ],
   "source": [
    "plt.imshow(reshaped_segments_as_image[0] * 255)"
   ]
  },
  {
   "cell_type": "code",
   "execution_count": null,
   "metadata": {},
   "outputs": [],
   "source": [
    "labels[2000]"
   ]
  },
  {
   "cell_type": "code",
   "execution_count": null,
   "metadata": {},
   "outputs": [],
   "source": [
    "plt.imshow(reshaped_segments_as_image[2000] * 255)"
   ]
  },
  {
   "cell_type": "code",
   "execution_count": null,
   "metadata": {},
   "outputs": [],
   "source": [
    "labels[2010]"
   ]
  },
  {
   "cell_type": "code",
   "execution_count": null,
   "metadata": {},
   "outputs": [],
   "source": [
    "plt.imshow(reshaped_segments_as_image[2010] * 255)"
   ]
  },
  {
   "cell_type": "code",
   "execution_count": null,
   "metadata": {},
   "outputs": [],
   "source": [
    "labels[2020]"
   ]
  },
  {
   "cell_type": "code",
   "execution_count": null,
   "metadata": {},
   "outputs": [],
   "source": [
    "plt.imshow(reshaped_segments_as_image[2020] * 255)"
   ]
  },
  {
   "cell_type": "code",
   "execution_count": null,
   "metadata": {},
   "outputs": [],
   "source": [
    "labels[2030]"
   ]
  },
  {
   "cell_type": "code",
   "execution_count": null,
   "metadata": {},
   "outputs": [],
   "source": [
    "plt.imshow(reshaped_segments_as_image[2030] * 255)"
   ]
  },
  {
   "cell_type": "code",
   "execution_count": null,
   "metadata": {},
   "outputs": [],
   "source": [
    "segments.shape"
   ]
  },
  {
   "cell_type": "code",
   "execution_count": 26,
   "metadata": {},
   "outputs": [
    {
     "data": {
      "text/plain": [
       "(6304, 6, 6, 3)"
      ]
     },
     "execution_count": 26,
     "metadata": {},
     "output_type": "execute_result"
    }
   ],
   "source": [
    "reshaped_segments_as_image.shape"
   ]
  },
  {
   "cell_type": "code",
   "execution_count": null,
   "metadata": {},
   "outputs": [],
   "source": [
    "labels.shape"
   ]
  },
  {
   "cell_type": "code",
   "execution_count": null,
   "metadata": {
    "collapsed": true
   },
   "outputs": [],
   "source": [
    "labels = labels.reshape(len(labels), 1)"
   ]
  },
  {
   "cell_type": "code",
   "execution_count": null,
   "metadata": {},
   "outputs": [],
   "source": [
    "labels.shape"
   ]
  },
  {
   "cell_type": "code",
   "execution_count": null,
   "metadata": {
    "collapsed": true
   },
   "outputs": [],
   "source": [
    "new_labels = np.zeros((len(labels), 2))"
   ]
  },
  {
   "cell_type": "code",
   "execution_count": null,
   "metadata": {},
   "outputs": [],
   "source": [
    "new_labels.shape"
   ]
  },
  {
   "cell_type": "code",
   "execution_count": null,
   "metadata": {},
   "outputs": [],
   "source": [
    "new_labels[0][0]"
   ]
  },
  {
   "cell_type": "code",
   "execution_count": null,
   "metadata": {
    "collapsed": true
   },
   "outputs": [],
   "source": [
    "iter = 0\n",
    "while(iter < len(labels)):\n",
    "    new_labels[iter][int(labels[iter])] = 1\n",
    "    iter = iter + 1"
   ]
  },
  {
   "cell_type": "code",
   "execution_count": null,
   "metadata": {},
   "outputs": [],
   "source": [
    "new_labels[2000:2050]"
   ]
  },
  {
   "cell_type": "code",
   "execution_count": null,
   "metadata": {
    "collapsed": true
   },
   "outputs": [],
   "source": [
    "labels = new_labels"
   ]
  },
  {
   "cell_type": "markdown",
   "metadata": {},
   "source": [
    "# Break apart the training and test data"
   ]
  },
  {
   "cell_type": "code",
   "execution_count": null,
   "metadata": {
    "collapsed": true
   },
   "outputs": [],
   "source": [
    "from sklearn.model_selection import train_test_split\n",
    "\n",
    "class CNNHelper():\n",
    "    \n",
    "    def __init__(self):\n",
    "        self.iterator = 0\n",
    "        self.X_train, self.X_test, self.y_train, self.y_test = train_test_split(reshaped_segments_as_image, labels, test_size=0.3, random_state=101)\n",
    "\n",
    "    def next_batch(self, batch_size):\n",
    "        x = self.X_train[self.iterator:self.iterator + batch_size]\n",
    "        y = self.y_train[self.iterator:self.iterator + batch_size]\n",
    "        self.iterator = (self.iterator + batch_size) % len(self.X_train)\n",
    "        return x, y"
   ]
  },
  {
   "cell_type": "markdown",
   "metadata": {},
   "source": [
    "# CREATE THE MODEL"
   ]
  },
  {
   "cell_type": "code",
   "execution_count": null,
   "metadata": {
    "collapsed": true
   },
   "outputs": [],
   "source": [
    "x = tf.placeholder(tf.float32, shape=[None, 6, 6, 3])\n",
    "y_true = tf.placeholder(tf.float32, shape=[None, 2])"
   ]
  },
  {
   "cell_type": "code",
   "execution_count": null,
   "metadata": {
    "collapsed": true
   },
   "outputs": [],
   "source": [
    "hold_prob = tf.placeholder(tf.float32)"
   ]
  },
  {
   "cell_type": "code",
   "execution_count": null,
   "metadata": {
    "collapsed": true
   },
   "outputs": [],
   "source": [
    "def init_weights(shape):\n",
    "    init_random_dist = tf.truncated_normal(shape, stddev=0.1)\n",
    "    return tf.Variable(init_random_dist)\n",
    "\n",
    "def init_bias(shape):\n",
    "    init_bias_vals = tf.constant(0.1, shape=shape)\n",
    "    return tf.Variable(init_bias_vals)\n",
    "\n",
    "def conv2d(x, W):\n",
    "    return tf.nn.conv2d(x, W, strides=[1, 1, 1, 1], padding='SAME')\n",
    "\n",
    "def max_pool_2by2(x):\n",
    "    return tf.nn.max_pool(x, ksize=[1, 2, 2, 1],\n",
    "                          strides=[1, 2, 2, 1], padding='SAME')\n",
    "\n",
    "def convolutional_layer(input_x, shape):\n",
    "    W = init_weights(shape)\n",
    "    b = init_bias([shape[3]])\n",
    "    return tf.nn.relu(conv2d(input_x, W) + b)\n",
    "\n",
    "def normal_full_layer(input_layer, size):\n",
    "    input_size = int(input_layer.get_shape()[1])\n",
    "    W = init_weights([input_size, size])\n",
    "    b = init_bias([size])\n",
    "    return tf.matmul(input_layer, W) + b"
   ]
  },
  {
   "cell_type": "code",
   "execution_count": null,
   "metadata": {
    "collapsed": true
   },
   "outputs": [],
   "source": [
    "convo_1 = convolutional_layer(x,shape=[2,2,3,6])\n",
    "convo_1_pooling = max_pool_2by2(convo_1)"
   ]
  },
  {
   "cell_type": "code",
   "execution_count": null,
   "metadata": {
    "collapsed": true
   },
   "outputs": [],
   "source": [
    "convo_2 = convolutional_layer(convo_1_pooling,shape=[2,2,6,12])\n",
    "convo_2_pooling = max_pool_2by2(convo_2)"
   ]
  },
  {
   "cell_type": "code",
   "execution_count": null,
   "metadata": {
    "collapsed": true
   },
   "outputs": [],
   "source": [
    "convo_2_flat = tf.reshape(convo_2_pooling, [-1, 4*12])"
   ]
  },
  {
   "cell_type": "code",
   "execution_count": null,
   "metadata": {
    "collapsed": true
   },
   "outputs": [],
   "source": [
    "full_layer_one = tf.nn.relu(normal_full_layer(convo_2_flat,64))"
   ]
  },
  {
   "cell_type": "code",
   "execution_count": null,
   "metadata": {
    "collapsed": true
   },
   "outputs": [],
   "source": [
    "full_one_dropout = tf.nn.dropout(full_layer_one,keep_prob=hold_prob)"
   ]
  },
  {
   "cell_type": "code",
   "execution_count": null,
   "metadata": {},
   "outputs": [],
   "source": [
    "full_one_dropout.shape"
   ]
  },
  {
   "cell_type": "code",
   "execution_count": null,
   "metadata": {},
   "outputs": [],
   "source": [
    "y_pred = normal_full_layer(full_one_dropout,2)\n",
    "y_pred.shape"
   ]
  },
  {
   "cell_type": "markdown",
   "metadata": {},
   "source": [
    "## Loss Function"
   ]
  },
  {
   "cell_type": "code",
   "execution_count": null,
   "metadata": {
    "collapsed": true
   },
   "outputs": [],
   "source": [
    "cross_entropy = tf.reduce_mean(tf.nn.softmax_cross_entropy_with_logits(labels=y_true,logits=y_pred))"
   ]
  },
  {
   "cell_type": "code",
   "execution_count": null,
   "metadata": {
    "collapsed": true
   },
   "outputs": [],
   "source": [
    "optimizer = tf.train.AdamOptimizer(learning_rate=0.001)\n",
    "train = optimizer.minimize(cross_entropy)"
   ]
  },
  {
   "cell_type": "code",
   "execution_count": null,
   "metadata": {
    "collapsed": true
   },
   "outputs": [],
   "source": [
    "init = tf.global_variables_initializer()\n",
    "cnn_helper = CNNHelper()"
   ]
  },
  {
   "cell_type": "code",
   "execution_count": null,
   "metadata": {},
   "outputs": [],
   "source": [
    "cnn_helper.X_test.shape"
   ]
  },
  {
   "cell_type": "code",
   "execution_count": null,
   "metadata": {},
   "outputs": [],
   "source": [
    "cnn_helper.X_test[0]"
   ]
  },
  {
   "cell_type": "code",
   "execution_count": null,
   "metadata": {
    "collapsed": true
   },
   "outputs": [],
   "source": [
    "# cnn_helper.X_test = np.zeros((1892, 6, 6, 3))\n",
    "# cnn_helper.X_test[0]"
   ]
  },
  {
   "cell_type": "code",
   "execution_count": null,
   "metadata": {},
   "outputs": [],
   "source": [
    "with tf.Session() as sess:\n",
    "    sess.run(tf.global_variables_initializer())\n",
    "\n",
    "    for i in range(4000):\n",
    "        batch = cnn_helper.next_batch(100)\n",
    "        sess.run(train, feed_dict={x: batch[0], y_true: batch[1], hold_prob: 0.5})\n",
    "        \n",
    "        # PRINT OUT A MESSAGE EVERY 100 STEPS\n",
    "        if i%100 == 0:\n",
    "            \n",
    "            print('Currently on step {}'.format(i))\n",
    "            print('Accuracy is:')\n",
    "            # Test the Train Model\n",
    "            matches = tf.equal(tf.argmax(y_pred,1),tf.argmax(y_true,1))\n",
    "\n",
    "            acc = tf.reduce_mean(tf.cast(matches,tf.float32))\n",
    "\n",
    "            print(sess.run(acc,feed_dict={x:cnn_helper.X_test,y_true:cnn_helper.y_test,hold_prob:1.0}))\n",
    "            print('\\n')"
   ]
  },
  {
   "cell_type": "code",
   "execution_count": null,
   "metadata": {},
   "outputs": [],
   "source": [
    "print(_)"
   ]
  },
  {
   "cell_type": "code",
   "execution_count": null,
   "metadata": {
    "collapsed": true
   },
   "outputs": [],
   "source": []
  },
  {
   "cell_type": "code",
   "execution_count": null,
   "metadata": {
    "collapsed": true
   },
   "outputs": [],
   "source": []
  }
 ],
 "metadata": {
  "kernelspec": {
   "display_name": "Python 3",
   "language": "python",
   "name": "python3"
  },
  "language_info": {
   "codemirror_mode": {
    "name": "ipython",
    "version": 3
   },
   "file_extension": ".py",
   "mimetype": "text/x-python",
   "name": "python",
   "nbconvert_exporter": "python",
   "pygments_lexer": "ipython3",
   "version": "3.5.4"
  }
 },
 "nbformat": 4,
 "nbformat_minor": 2
}
